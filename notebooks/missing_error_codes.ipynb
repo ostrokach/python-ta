{
 "cells": [
  {
   "cell_type": "code",
   "execution_count": 17,
   "metadata": {
    "collapsed": true
   },
   "outputs": [],
   "source": [
    "import re\n",
    "import subprocess"
   ]
  },
  {
   "cell_type": "markdown",
   "metadata": {},
   "source": [
    "## Pylint messages"
   ]
  },
  {
   "cell_type": "code",
   "execution_count": 18,
   "metadata": {},
   "outputs": [
    {
     "name": "stdout",
     "output_type": "stream",
     "text": [
      "pylint 1.7.1, \n",
      "astroid 1.5.3\n",
      "Python 3.6.2 | packaged by conda-forge | (default, Jul 23 2017, 22:59:30) \n",
      "[GCC 4.8.2 20140120 (Red Hat 4.8.2-15)]\n",
      "\n"
     ]
    }
   ],
   "source": [
    "print(subprocess.check_output(['pylint', '--version']).decode())"
   ]
  },
  {
   "cell_type": "code",
   "execution_count": 19,
   "metadata": {
    "collapsed": true
   },
   "outputs": [],
   "source": [
    "output = subprocess.check_output(\n",
    "    \"pylint --list-msgs | grep '^:' | awk '{print $2}' | cut -c 2-6\", \n",
    "    shell=True, universal_newlines=True)\n",
    "pylint_messages = output.split()"
   ]
  },
  {
   "cell_type": "code",
   "execution_count": 20,
   "metadata": {},
   "outputs": [
    {
     "data": {
      "text/plain": [
       "221"
      ]
     },
     "execution_count": 20,
     "metadata": {},
     "output_type": "execute_result"
    }
   ],
   "source": [
    "len(pylint_messages)"
   ]
  },
  {
   "cell_type": "markdown",
   "metadata": {},
   "source": [
    "## Ignored (.pylinrc) messages"
   ]
  },
  {
   "cell_type": "code",
   "execution_count": 21,
   "metadata": {
    "collapsed": true
   },
   "outputs": [],
   "source": [
    "import configparser\n",
    "config = configparser.ConfigParser()\n",
    "config.read('../pyta/python_ta/.pylintrc')\n",
    "pylintrc_messages = [m.strip(\",\") for m in config['MESSAGES CONTROL']['disable'].split()]"
   ]
  },
  {
   "cell_type": "code",
   "execution_count": 22,
   "metadata": {},
   "outputs": [
    {
     "data": {
      "text/plain": [
       "121"
      ]
     },
     "execution_count": 22,
     "metadata": {},
     "output_type": "execute_result"
    }
   ],
   "source": [
    "len(pylintrc_messages)"
   ]
  },
  {
   "cell_type": "markdown",
   "metadata": {},
   "source": [
    "## Undocumented messages"
   ]
  },
  {
   "cell_type": "code",
   "execution_count": 33,
   "metadata": {
    "collapsed": true
   },
   "outputs": [],
   "source": [
    "undocumented_messages = {\n",
    "    'F0001',\n",
    "    'I0001',\n",
    "    'F0010',\n",
    "    'F0002',\n",
    "    'F0202',\n",
    "}"
   ]
  },
  {
   "cell_type": "markdown",
   "metadata": {},
   "source": [
    "## Covered messages"
   ]
  },
  {
   "cell_type": "code",
   "execution_count": 23,
   "metadata": {
    "collapsed": true
   },
   "outputs": [],
   "source": [
    "LINK_RE = re.compile('###.*\\{#([A-Z][0-9]+)\\}.*')  # looks for '{#E0601}'\n",
    "HEADER_RE = re.compile('###.*\\(([A-Z][0-9]+)\\).*')  # looks for '### E0601'"
   ]
  },
  {
   "cell_type": "code",
   "execution_count": 24,
   "metadata": {
    "collapsed": true
   },
   "outputs": [],
   "source": [
    "link_messages = []\n",
    "header_messages = []\n",
    "\n",
    "with open('../website/index.md') as ifh:\n",
    "    for line in ifh:\n",
    "        link_messages += LINK_RE.findall(line)\n",
    "        header_messages += HEADER_RE.findall(line)"
   ]
  },
  {
   "cell_type": "code",
   "execution_count": 25,
   "metadata": {
    "collapsed": true
   },
   "outputs": [],
   "source": [
    "assert link_messages == header_messages"
   ]
  },
  {
   "cell_type": "code",
   "execution_count": 26,
   "metadata": {
    "collapsed": true
   },
   "outputs": [],
   "source": [
    "covered_messages = link_messages"
   ]
  },
  {
   "cell_type": "code",
   "execution_count": 27,
   "metadata": {},
   "outputs": [
    {
     "data": {
      "text/plain": [
       "93"
      ]
     },
     "execution_count": 27,
     "metadata": {},
     "output_type": "execute_result"
    }
   ],
   "source": [
    "len(covered_messages)"
   ]
  },
  {
   "cell_type": "markdown",
   "metadata": {},
   "source": [
    "## Missing messages"
   ]
  },
  {
   "cell_type": "code",
   "execution_count": 35,
   "metadata": {},
   "outputs": [
    {
     "data": {
      "text/plain": [
       "{'E0002', 'E9991', 'E9996', 'E9998', 'E9999', 'R0101', 'R0102'}"
      ]
     },
     "execution_count": 35,
     "metadata": {},
     "output_type": "execute_result"
    }
   ],
   "source": [
    "# Messages in index.md but not in pylint\n",
    "set(covered_messages) - set(pylint_messages)"
   ]
  },
  {
   "cell_type": "code",
   "execution_count": 36,
   "metadata": {},
   "outputs": [
    {
     "data": {
      "text/plain": [
       "{'E0202', 'E0241', 'E0704', 'W0211'}"
      ]
     },
     "execution_count": 36,
     "metadata": {},
     "output_type": "execute_result"
    }
   ],
   "source": [
    "# Messages in index.md and in .pylintrc\n",
    "set(covered_messages) & set(pylintrc_messages)"
   ]
  },
  {
   "cell_type": "code",
   "execution_count": 37,
   "metadata": {
    "collapsed": true
   },
   "outputs": [],
   "source": [
    "# Messages produced by pylint that are not covered by .pylintrc or index.md\n",
    "missing_messages = set(pylint_messages) - set(pylintrc_messages) - set(covered_messages) - undocumented_messages"
   ]
  },
  {
   "cell_type": "code",
   "execution_count": 38,
   "metadata": {},
   "outputs": [
    {
     "data": {
      "text/plain": [
       "25"
      ]
     },
     "execution_count": 38,
     "metadata": {},
     "output_type": "execute_result"
    }
   ],
   "source": [
    "len(missing_messages)"
   ]
  },
  {
   "cell_type": "code",
   "execution_count": 39,
   "metadata": {
    "scrolled": false
   },
   "outputs": [
    {
     "name": "stdout",
     "output_type": "stream",
     "text": [
      "C0201\n",
      "C0325\n",
      "R0123\n",
      "E0303\n",
      "R1707\n",
      "C0326\n",
      "W0312\n",
      "E1137\n",
      "W0223\n",
      "W0106\n",
      "R1704\n",
      "R1702\n",
      "W0311\n",
      "W0221\n",
      "C0321\n",
      "W0301\n",
      "C0304\n",
      "C0305\n",
      "C0330\n",
      "E0107\n",
      "E0118\n",
      "E1133\n",
      "E1123\n",
      "C0301\n",
      "E1138\n"
     ]
    }
   ],
   "source": [
    "missing_message_text = {}\n",
    "\n",
    "for code in missing_messages:\n",
    "    print(code)\n",
    "    message = subprocess.check_output(\"pylint --help-msg={}\".format(code), universal_newlines=True, shell=True)\n",
    "    missing_message_text[code] = message.strip() "
   ]
  },
  {
   "cell_type": "code",
   "execution_count": null,
   "metadata": {
    "collapsed": true
   },
   "outputs": [],
   "source": [
    "RE_MESSAGE_NAME = re.compile(\":([a-zA-Z\\-]+) \\(([A-Z0-9]+)\\):\")"
   ]
  },
  {
   "cell_type": "code",
   "execution_count": 51,
   "metadata": {
    "code_folding": [],
    "scrolled": false
   },
   "outputs": [
    {
     "name": "stdout",
     "output_type": "stream",
     "text": [
      "\n",
      "## New errors {#new}\n",
      "\n",
      "### Consider iterating dictionary (C0201) {#C0201}\n",
      "\n",
      ":consider-iterating-dictionary (C0201): *Consider iterating the dictionary directly instead of calling .keys()*\n",
      "  Emitted when the keys of a dictionary are iterated through the .keys() method.\n",
      "  It is enough to just iterate through the dictionary itself, as in \"for key in\n",
      "  dictionary\". This message belongs to the refactoring checker.\n",
      "\n",
      "~~~~ {include=\"C0201_consider_iterating_dictionary\"}\n",
      "~~~~\n",
      "\n",
      "### Superfluous parens (C0325) {#C0325}\n",
      "\n",
      ":superfluous-parens (C0325): *Unnecessary parens after %r keyword*\n",
      "  Used when a single item in parentheses follows an if, for, or other keyword.\n",
      "  This message belongs to the format checker.\n",
      "\n",
      "~~~~ {include=\"C0325_superfluous_parens\"}\n",
      "~~~~\n",
      "\n",
      "### Literal comparison (R0123) {#R0123}\n",
      "\n",
      ":literal-comparison (R0123): *Comparison to literal*\n",
      "  Used when comparing an object to a literal, which is usually what you do not\n",
      "  want to do, since you can compare to a different literal than what was\n",
      "  expected altogether. This message belongs to the basic checker.\n",
      "\n",
      "~~~~ {include=\"R0123_literal_comparison\"}\n",
      "~~~~\n",
      "\n",
      "### Invalid length returned (E0303) {#E0303}\n",
      "\n",
      ":invalid-length-returned (E0303): *__len__ does not return non-negative integer*\n",
      "  Used when an __len__ method returns something which is not a non-negative\n",
      "  integer This message belongs to the classes checker.\n",
      "\n",
      "~~~~ {include=\"E0303_invalid_length_returned\"}\n",
      "~~~~\n",
      "\n",
      "### Trailing comma tuple (R1707) {#R1707}\n",
      "\n",
      ":trailing-comma-tuple (R1707): *Disallow trailing comma tuple*\n",
      "  In Python, a tuple is actually created by the comma symbol, not by the\n",
      "  parentheses. Unfortunately, one can actually create a tuple by misplacing a\n",
      "  trailing comma, which can lead to potential weird bugs in your code. You\n",
      "  should always use parentheses explicitly for creating a tuple. This message\n",
      "  belongs to the refactoring checker. It can't be emitted when using Python <\n",
      "  3.0.\n",
      "\n",
      "~~~~ {include=\"R1707_trailing_comma_tuple\"}\n",
      "~~~~\n",
      "\n",
      "### Bad whitespace (C0326) {#C0326}\n",
      "\n",
      ":bad-whitespace (C0326): *%s space %s %s %s*\n",
      "  Used when a wrong number of spaces is used around an operator, bracket or\n",
      "  block opener. This message belongs to the format checker.\n",
      "\n",
      "~~~~ {include=\"C0326_bad_whitespace\"}\n",
      "~~~~\n",
      "\n",
      "### Mixed indentation (W0312) {#W0312}\n",
      "\n",
      ":mixed-indentation (W0312): *Found indentation with %ss instead of %ss*\n",
      "  Used when there are some mixed tabs and spaces in a module. This message\n",
      "  belongs to the format checker.\n",
      "\n",
      "~~~~ {include=\"W0312_mixed_indentation\"}\n",
      "~~~~\n",
      "\n",
      "### Unsupported assignment operation (E1137) {#E1137}\n",
      "\n",
      ":unsupported-assignment-operation (E1137): *%r does not support item assignment*\n",
      "  Emitted when an object does not support item assignment (i.e. doesn't define\n",
      "  __setitem__ method) This message belongs to the typecheck checker.\n",
      "\n",
      "~~~~ {include=\"E1137_unsupported_assignment_operation\"}\n",
      "~~~~\n",
      "\n",
      "### Abstract method (W0223) {#W0223}\n",
      "\n",
      ":abstract-method (W0223): *Method %r is abstract in class %r but is not overridden*\n",
      "  Used when an abstract method (i.e. raise NotImplementedError) is not\n",
      "  overridden in concrete class. This message belongs to the classes checker.\n",
      "\n",
      "~~~~ {include=\"W0223_abstract_method\"}\n",
      "~~~~\n",
      "\n",
      "### Expression not assigned (W0106) {#W0106}\n",
      "\n",
      ":expression-not-assigned (W0106): *Expression \"%s\" is assigned to nothing*\n",
      "  Used when an expression that is not a function call is assigned to nothing.\n",
      "  Probably something else was intended. This message belongs to the basic\n",
      "  checker.\n",
      "\n",
      "~~~~ {include=\"W0106_expression_not_assigned\"}\n",
      "~~~~\n",
      "\n",
      "### Redefined argument from local (R1704) {#R1704}\n",
      "\n",
      ":redefined-argument-from-local (R1704): *Redefining argument with the local name %r*\n",
      "  Used when a local name is redefining an argument, which might suggest a\n",
      "  potential error. This is taken in account only for a handful of name binding\n",
      "  operations, such as for iteration, with statement assignment and exception\n",
      "  handler assignment. This message belongs to the refactoring checker.\n",
      "\n",
      "~~~~ {include=\"R1704_redefined_argument_from_local\"}\n",
      "~~~~\n",
      "\n",
      "### Too many nested blocks (R1702) {#R1702}\n",
      "\n",
      ":too-many-nested-blocks (R1702): *Too many nested blocks (%s/%s)*\n",
      "  Used when a function or a method has too many nested blocks. This makes the\n",
      "  code less understandable and maintainable. This message belongs to the\n",
      "  refactoring checker.\n",
      "\n",
      "~~~~ {include=\"R1702_too_many_nested_blocks\"}\n",
      "~~~~\n",
      "\n",
      "### Bad indentation (W0311) {#W0311}\n",
      "\n",
      ":bad-indentation (W0311): *Bad indentation. Found %s %s, expected %s*\n",
      "  Used when an unexpected number of indentation's tabulations or spaces has been\n",
      "  found. This message belongs to the format checker.\n",
      "\n",
      "~~~~ {include=\"W0311_bad_indentation\"}\n",
      "~~~~\n",
      "\n",
      "### Arguments differ (W0221) {#W0221}\n",
      "\n",
      ":arguments-differ (W0221): *Parameters differ from %s %r method*\n",
      "  Used when a method has a different number of arguments than in the implemented\n",
      "  interface or in an overridden method. This message belongs to the classes\n",
      "  checker.\n",
      "\n",
      "~~~~ {include=\"W0221_arguments_differ\"}\n",
      "~~~~\n",
      "\n",
      "### Multiple statements (C0321) {#C0321}\n",
      "\n",
      ":multiple-statements (C0321): *More than one statement on a single line*\n",
      "  Used when more than on statement are found on the same line. This message\n",
      "  belongs to the format checker.\n",
      "\n",
      "~~~~ {include=\"C0321_multiple_statements\"}\n",
      "~~~~\n",
      "\n",
      "### Unnecessary semicolon (W0301) {#W0301}\n",
      "\n",
      ":unnecessary-semicolon (W0301): *Unnecessary semicolon*\n",
      "  Used when a statement is ended by a semi-colon (\";\"), which isn't necessary\n",
      "  (that's python, not C ;). This message belongs to the format checker.\n",
      "\n",
      "~~~~ {include=\"W0301_unnecessary_semicolon\"}\n",
      "~~~~\n",
      "\n",
      "### Missing final newline (C0304) {#C0304}\n",
      "\n",
      ":missing-final-newline (C0304): *Final newline missing*\n",
      "  Used when the last line in a file is missing a newline. This message belongs\n",
      "  to the format checker.\n",
      "\n",
      "~~~~ {include=\"C0304_missing_final_newline\"}\n",
      "~~~~\n",
      "\n",
      "### Trailing newlines (C0305) {#C0305}\n",
      "\n",
      ":trailing-newlines (C0305): *Trailing newlines*\n",
      "  Used when there are trailing blank lines in a file. This message belongs to\n",
      "  the format checker.\n",
      "\n",
      "~~~~ {include=\"C0305_trailing_newlines\"}\n",
      "~~~~\n",
      "\n",
      "### Bad continuation (C0330) {#C0330}\n",
      "\n",
      ":bad-continuation (C0330): *Wrong %s indentation%s%s.*\n",
      "  TODO This message belongs to the format checker.\n",
      "\n",
      "~~~~ {include=\"C0330_bad_continuation\"}\n",
      "~~~~\n",
      "\n",
      "### Nonexistent operator (E0107) {#E0107}\n",
      "\n",
      ":nonexistent-operator (E0107): *Use of the non-existent %s operator*\n",
      "  Used when you attempt to use the C-style pre-increment orpre-decrement\n",
      "  operator -- and ++, which doesn't exist in Python. This message belongs to the\n",
      "  basic checker.\n",
      "\n",
      "~~~~ {include=\"E0107_nonexistent_operator\"}\n",
      "~~~~\n",
      "\n",
      "### Used prior global declaration (E0118) {#E0118}\n",
      "\n",
      ":used-prior-global-declaration (E0118): *Name %r is used prior to global declaration*\n",
      "  Emitted when a name is used prior a global declaration, which results in an\n",
      "  error since Python 3.6. This message belongs to the basic checker. It can't be\n",
      "  emitted when using Python < 3.6.\n",
      "\n",
      "~~~~ {include=\"E0118_used_prior_global_declaration\"}\n",
      "~~~~\n",
      "\n",
      "### Not an iterable (E1133) {#E1133}\n",
      "\n",
      ":not-an-iterable (E1133): *Non-iterable value %s is used in an iterating context*\n",
      "  Used when a non-iterable value is used in place where iterable is expected\n",
      "  This message belongs to the iterable_check checker.\n",
      "\n",
      "~~~~ {include=\"E1133_not_an_iterable\"}\n",
      "~~~~\n",
      "\n",
      "### Unexpected keyword arg (E1123) {#E1123}\n",
      "\n",
      ":unexpected-keyword-arg (E1123): *Unexpected keyword argument %r in %s call*\n",
      "  Used when a function call passes a keyword argument that doesn't correspond to\n",
      "  one of the function's parameter names. This message belongs to the typecheck\n",
      "  checker.\n",
      "\n",
      "~~~~ {include=\"E1123_unexpected_keyword_arg\"}\n",
      "~~~~\n",
      "\n",
      "### Line too long (C0301) {#C0301}\n",
      "\n",
      ":line-too-long (C0301): *Line too long (%s/%s)*\n",
      "  Used when a line is longer than a given number of characters. This message\n",
      "  belongs to the format checker.\n",
      "\n",
      "~~~~ {include=\"C0301_line_too_long\"}\n",
      "~~~~\n",
      "\n",
      "### Unsupported delete operation (E1138) {#E1138}\n",
      "\n",
      ":unsupported-delete-operation (E1138): *%r does not support item deletion*\n",
      "  Emitted when an object does not support item deletion (i.e. doesn't define\n",
      "  __delitem__ method) This message belongs to the typecheck checker.\n",
      "\n",
      "~~~~ {include=\"E1138_unsupported_delete_operation\"}\n",
      "~~~~\n",
      "\n",
      "\n"
     ]
    }
   ],
   "source": [
    "new_errors_text = \"\"\"\n",
    "## New errors {#new}\n",
    "\n",
    "\"\"\"\n",
    "\n",
    "for code, text in missing_message_text.items():\n",
    "    match = RE_MESSAGE_NAME.findall(text)\n",
    "    assert len(match) == 1\n",
    "    name, code_ = match[0]\n",
    "    assert code == code_\n",
    "    text = \"\"\"\\\n",
    "### {1} ({0}) {{#{0}}}\n",
    "\n",
    "{3}\n",
    "\n",
    "~~~~ {{include=\"{0}_{2}\"}}\n",
    "~~~~\n",
    "\n",
    "\"\"\".format(code, name.replace('-', ' ').capitalize(), name.replace('-', '_'), text)\n",
    "    new_errors_text += text\n",
    "\n",
    "print(new_errors_text)"
   ]
  },
  {
   "cell_type": "markdown",
   "metadata": {},
   "source": [
    "\n"
   ]
  },
  {
   "cell_type": "code",
   "execution_count": 43,
   "metadata": {},
   "outputs": [
    {
     "data": {
      "text/plain": [
       "[('superfluous-parens', 'C0325')]"
      ]
     },
     "execution_count": 43,
     "metadata": {},
     "output_type": "execute_result"
    }
   ],
   "source": [
    "RE_MESSAGE_NAME.findall(\":superfluous-parens (C0325): *Unnecessary parens after %r keyword*\")"
   ]
  },
  {
   "cell_type": "code",
   "execution_count": null,
   "metadata": {
    "collapsed": true
   },
   "outputs": [],
   "source": []
  },
  {
   "cell_type": "code",
   "execution_count": null,
   "metadata": {
    "collapsed": true
   },
   "outputs": [],
   "source": []
  }
 ],
 "metadata": {
  "anaconda-cloud": {},
  "kernelspec": {
   "display_name": "Python [default]",
   "language": "python",
   "name": "python3"
  },
  "language_info": {
   "codemirror_mode": {
    "name": "ipython",
    "version": 3
   },
   "file_extension": ".py",
   "mimetype": "text/x-python",
   "name": "python",
   "nbconvert_exporter": "python",
   "pygments_lexer": "ipython3",
   "version": "3.6.2"
  },
  "toc": {
   "colors": {
    "hover_highlight": "#DAA520",
    "navigate_num": "#000000",
    "navigate_text": "#333333",
    "running_highlight": "#FF0000",
    "selected_highlight": "#FFD700",
    "sidebar_border": "#EEEEEE",
    "wrapper_background": "#FFFFFF"
   },
   "moveMenuLeft": true,
   "nav_menu": {
    "height": "84px",
    "width": "252px"
   },
   "navigate_menu": true,
   "number_sections": false,
   "sideBar": false,
   "threshold": 4,
   "toc_cell": false,
   "toc_position": {
    "height": "222px",
    "left": "1728.18px",
    "right": "20px",
    "top": "135.972px",
    "width": "227px"
   },
   "toc_section_display": "block",
   "toc_window_display": true,
   "widenNotebook": false
  }
 },
 "nbformat": 4,
 "nbformat_minor": 2
}
