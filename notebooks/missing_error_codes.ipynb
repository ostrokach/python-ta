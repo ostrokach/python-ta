{
 "cells": [
  {
   "cell_type": "code",
   "execution_count": 21,
   "metadata": {
    "collapsed": true
   },
   "outputs": [],
   "source": [
    "import re\n",
    "import subprocess"
   ]
  },
  {
   "cell_type": "markdown",
   "metadata": {},
   "source": [
    "## Pylint messages"
   ]
  },
  {
   "cell_type": "code",
   "execution_count": 22,
   "metadata": {},
   "outputs": [
    {
     "name": "stdout",
     "output_type": "stream",
     "text": [
      "pylint 1.7.2, \n",
      "astroid 1.5.3\n",
      "Python 3.6.2 | packaged by conda-forge | (default, Jul 23 2017, 22:59:30) \n",
      "[GCC 4.8.2 20140120 (Red Hat 4.8.2-15)]\n",
      "\n"
     ]
    }
   ],
   "source": [
    "print(subprocess.check_output(['pylint', '--version']).decode())"
   ]
  },
  {
   "cell_type": "code",
   "execution_count": 23,
   "metadata": {
    "collapsed": true
   },
   "outputs": [],
   "source": [
    "output = subprocess.check_output(\n",
    "    \"pylint --list-msgs | grep '^:' | awk '{print $2}' | cut -c 2-6\", \n",
    "    shell=True, universal_newlines=True)\n",
    "pylint_messages = output.split()"
   ]
  },
  {
   "cell_type": "code",
   "execution_count": 24,
   "metadata": {},
   "outputs": [
    {
     "data": {
      "text/plain": [
       "221"
      ]
     },
     "execution_count": 24,
     "metadata": {},
     "output_type": "execute_result"
    }
   ],
   "source": [
    "len(pylint_messages)"
   ]
  },
  {
   "cell_type": "markdown",
   "metadata": {},
   "source": [
    "## Ignored (.pylinrc) messages"
   ]
  },
  {
   "cell_type": "code",
   "execution_count": 25,
   "metadata": {
    "collapsed": true
   },
   "outputs": [],
   "source": [
    "import configparser\n",
    "config = configparser.ConfigParser()\n",
    "config.read('../pyta/python_ta/.pylintrc')\n",
    "pylintrc_messages = [m.strip(\",\") for m in config['MESSAGES CONTROL']['disable'].split()]"
   ]
  },
  {
   "cell_type": "code",
   "execution_count": 26,
   "metadata": {},
   "outputs": [
    {
     "data": {
      "text/plain": [
       "117"
      ]
     },
     "execution_count": 26,
     "metadata": {},
     "output_type": "execute_result"
    }
   ],
   "source": [
    "len(pylintrc_messages)"
   ]
  },
  {
   "cell_type": "markdown",
   "metadata": {},
   "source": [
    "## Undocumented messages"
   ]
  },
  {
   "cell_type": "code",
   "execution_count": 27,
   "metadata": {
    "collapsed": true
   },
   "outputs": [],
   "source": [
    "undocumented_messages = {\n",
    "    'F0001',\n",
    "    'I0001',\n",
    "    'F0010',\n",
    "    'F0002',\n",
    "    'F0202',\n",
    "}"
   ]
  },
  {
   "cell_type": "markdown",
   "metadata": {},
   "source": [
    "## Covered messages"
   ]
  },
  {
   "cell_type": "code",
   "execution_count": 28,
   "metadata": {
    "collapsed": true
   },
   "outputs": [],
   "source": [
    "LINK_RE = re.compile('###.*\\{#([A-Z][0-9]+)\\}.*')  # looks for '{#E0601}'\n",
    "HEADER_RE = re.compile('###.*\\(([A-Z][0-9]+)\\).*')  # looks for '### E0601'"
   ]
  },
  {
   "cell_type": "code",
   "execution_count": 29,
   "metadata": {
    "collapsed": true
   },
   "outputs": [],
   "source": [
    "link_messages = []\n",
    "header_messages = []\n",
    "\n",
    "with open('../website/index.md') as ifh:\n",
    "    for line in ifh:\n",
    "        link_messages += LINK_RE.findall(line)\n",
    "        header_messages += HEADER_RE.findall(line)"
   ]
  },
  {
   "cell_type": "code",
   "execution_count": 30,
   "metadata": {
    "collapsed": true
   },
   "outputs": [],
   "source": [
    "assert link_messages == header_messages"
   ]
  },
  {
   "cell_type": "code",
   "execution_count": 31,
   "metadata": {
    "collapsed": true
   },
   "outputs": [],
   "source": [
    "covered_messages = link_messages"
   ]
  },
  {
   "cell_type": "code",
   "execution_count": 32,
   "metadata": {},
   "outputs": [
    {
     "data": {
      "text/plain": [
       "115"
      ]
     },
     "execution_count": 32,
     "metadata": {},
     "output_type": "execute_result"
    }
   ],
   "source": [
    "len(covered_messages)"
   ]
  },
  {
   "cell_type": "markdown",
   "metadata": {},
   "source": [
    "## Missing messages"
   ]
  },
  {
   "cell_type": "code",
   "execution_count": 33,
   "metadata": {},
   "outputs": [
    {
     "data": {
      "text/plain": [
       "{'E9991', 'E9996', 'E9998', 'E9999'}"
      ]
     },
     "execution_count": 33,
     "metadata": {},
     "output_type": "execute_result"
    }
   ],
   "source": [
    "# Messages in index.md but not in pylint\n",
    "set(covered_messages) - set(pylint_messages)"
   ]
  },
  {
   "cell_type": "code",
   "execution_count": 34,
   "metadata": {},
   "outputs": [
    {
     "data": {
      "text/plain": [
       "set()"
      ]
     },
     "execution_count": 34,
     "metadata": {},
     "output_type": "execute_result"
    }
   ],
   "source": [
    "# Messages in index.md and in .pylintrc\n",
    "set(covered_messages) & set(pylintrc_messages)"
   ]
  },
  {
   "cell_type": "code",
   "execution_count": 35,
   "metadata": {
    "collapsed": true
   },
   "outputs": [],
   "source": [
    "# Messages produced by pylint that are not covered by .pylintrc or index.md\n",
    "missing_messages = set(pylint_messages) - set(pylintrc_messages) - set(covered_messages) - undocumented_messages"
   ]
  },
  {
   "cell_type": "code",
   "execution_count": 36,
   "metadata": {},
   "outputs": [
    {
     "data": {
      "text/plain": [
       "0"
      ]
     },
     "execution_count": 36,
     "metadata": {},
     "output_type": "execute_result"
    }
   ],
   "source": [
    "len(missing_messages)"
   ]
  },
  {
   "cell_type": "code",
   "execution_count": 37,
   "metadata": {
    "scrolled": false
   },
   "outputs": [],
   "source": [
    "missing_message_text = {}\n",
    "\n",
    "for code in missing_messages:\n",
    "    print(code)\n",
    "    message = subprocess.check_output(\"pylint --help-msg={}\".format(code), universal_newlines=True, shell=True)\n",
    "    missing_message_text[code] = message.strip() "
   ]
  },
  {
   "cell_type": "code",
   "execution_count": 38,
   "metadata": {
    "collapsed": true
   },
   "outputs": [],
   "source": [
    "RE_MESSAGE_NAME = re.compile(\":([a-zA-Z\\-]+) \\(([A-Z0-9]+)\\):\")"
   ]
  },
  {
   "cell_type": "code",
   "execution_count": 39,
   "metadata": {
    "code_folding": [],
    "scrolled": false
   },
   "outputs": [
    {
     "name": "stdout",
     "output_type": "stream",
     "text": [
      "\n",
      "## New errors {#new}\n",
      "\n",
      "\n"
     ]
    }
   ],
   "source": [
    "new_errors_text = \"\"\"\n",
    "## New errors {#new}\n",
    "\n",
    "\"\"\"\n",
    "\n",
    "for code, text in missing_message_text.items():\n",
    "    match = RE_MESSAGE_NAME.findall(text)\n",
    "    assert len(match) == 1\n",
    "    name, code_ = match[0]\n",
    "    assert code == code_\n",
    "    text = \"\"\"\\\n",
    "### {1} ({0}) {{#{0}}}\n",
    "\n",
    "{3}\n",
    "\n",
    "~~~~ {{include=\"{0}_{2}\"}}\n",
    "~~~~\n",
    "\n",
    "\"\"\".format(code, name.replace('-', ' ').capitalize(), name.replace('-', '_'), text)\n",
    "    new_errors_text += text\n",
    "\n",
    "print(new_errors_text)"
   ]
  },
  {
   "cell_type": "markdown",
   "metadata": {},
   "source": [
    "\n"
   ]
  },
  {
   "cell_type": "code",
   "execution_count": 40,
   "metadata": {},
   "outputs": [
    {
     "data": {
      "text/plain": [
       "[('superfluous-parens', 'C0325')]"
      ]
     },
     "execution_count": 40,
     "metadata": {},
     "output_type": "execute_result"
    }
   ],
   "source": [
    "RE_MESSAGE_NAME.findall(\":superfluous-parens (C0325): *Unnecessary parens after %r keyword*\")"
   ]
  },
  {
   "cell_type": "code",
   "execution_count": null,
   "metadata": {
    "collapsed": true
   },
   "outputs": [],
   "source": []
  },
  {
   "cell_type": "code",
   "execution_count": null,
   "metadata": {
    "collapsed": true
   },
   "outputs": [],
   "source": []
  }
 ],
 "metadata": {
  "anaconda-cloud": {},
  "kernelspec": {
   "display_name": "Python 3",
   "language": "python",
   "name": "python3"
  },
  "language_info": {
   "codemirror_mode": {
    "name": "ipython",
    "version": 3
   },
   "file_extension": ".py",
   "mimetype": "text/x-python",
   "name": "python",
   "nbconvert_exporter": "python",
   "pygments_lexer": "ipython3",
   "version": "3.6.2"
  },
  "toc": {
   "colors": {
    "hover_highlight": "#DAA520",
    "navigate_num": "#000000",
    "navigate_text": "#333333",
    "running_highlight": "#FF0000",
    "selected_highlight": "#FFD700",
    "sidebar_border": "#EEEEEE",
    "wrapper_background": "#FFFFFF"
   },
   "moveMenuLeft": true,
   "nav_menu": {
    "height": "84px",
    "width": "252px"
   },
   "navigate_menu": true,
   "number_sections": false,
   "sideBar": false,
   "threshold": 4,
   "toc_cell": false,
   "toc_position": {
    "height": "222px",
    "left": "1728.18px",
    "right": "20px",
    "top": "135.972px",
    "width": "227px"
   },
   "toc_section_display": "block",
   "toc_window_display": true,
   "widenNotebook": false
  }
 },
 "nbformat": 4,
 "nbformat_minor": 2
}
