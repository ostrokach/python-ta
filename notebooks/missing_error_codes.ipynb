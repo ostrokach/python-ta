{
 "cells": [
  {
   "cell_type": "code",
   "execution_count": 1,
   "metadata": {
    "collapsed": true
   },
   "outputs": [],
   "source": [
    "import re\n",
    "import subprocess"
   ]
  },
  {
   "cell_type": "markdown",
   "metadata": {},
   "source": [
    "## Pylint messages"
   ]
  },
  {
   "cell_type": "code",
   "execution_count": 5,
   "metadata": {},
   "outputs": [
    {
     "name": "stdout",
     "output_type": "stream",
     "text": [
      "pylint 1.7.2, \n",
      "astroid 1.5.3\n",
      "Python 3.6.2 | packaged by conda-forge | (default, Jul 23 2017, 22:59:30) \n",
      "[GCC 4.8.2 20140120 (Red Hat 4.8.2-15)]\n",
      "\n"
     ]
    }
   ],
   "source": [
    "print(subprocess.check_output(['pylint', '--version']).decode())"
   ]
  },
  {
   "cell_type": "code",
   "execution_count": 6,
   "metadata": {
    "collapsed": true
   },
   "outputs": [],
   "source": [
    "output = subprocess.check_output(\n",
    "    \"pylint --list-msgs | grep '^:' | awk '{print $2}' | cut -c 2-6\", \n",
    "    shell=True, universal_newlines=True)\n",
    "pylint_messages = output.split()"
   ]
  },
  {
   "cell_type": "code",
   "execution_count": 7,
   "metadata": {},
   "outputs": [
    {
     "data": {
      "text/plain": [
       "221"
      ]
     },
     "execution_count": 7,
     "metadata": {},
     "output_type": "execute_result"
    }
   ],
   "source": [
    "len(pylint_messages)"
   ]
  },
  {
   "cell_type": "markdown",
   "metadata": {},
   "source": [
    "## Ignored (.pylinrc) messages"
   ]
  },
  {
   "cell_type": "code",
   "execution_count": 8,
   "metadata": {
    "collapsed": true
   },
   "outputs": [],
   "source": [
    "import configparser\n",
    "config = configparser.ConfigParser()\n",
    "config.read('../pyta/python_ta/.pylintrc')\n",
    "pylintrc_messages = [m.strip(\",\") for m in config['MESSAGES CONTROL']['disable'].split()]"
   ]
  },
  {
   "cell_type": "code",
   "execution_count": 9,
   "metadata": {},
   "outputs": [
    {
     "data": {
      "text/plain": [
       "113"
      ]
     },
     "execution_count": 9,
     "metadata": {},
     "output_type": "execute_result"
    }
   ],
   "source": [
    "len(pylintrc_messages)"
   ]
  },
  {
   "cell_type": "markdown",
   "metadata": {},
   "source": [
    "## Covered messages"
   ]
  },
  {
   "cell_type": "code",
   "execution_count": 30,
   "metadata": {
    "collapsed": true
   },
   "outputs": [],
   "source": [
    "LINK_RE = re.compile('###.*\\{#([A-Z][0-9]+)\\}.*')  # looks for '{#E0601}'\n",
    "HEADER_RE = re.compile('###.*\\(([A-Z][0-9]+)\\).*')  # looks for '### E0601'"
   ]
  },
  {
   "cell_type": "code",
   "execution_count": 31,
   "metadata": {
    "collapsed": true
   },
   "outputs": [],
   "source": [
    "link_messages = []\n",
    "header_messages = []\n",
    "\n",
    "with open('../website/index.md') as ifh:\n",
    "    for line in ifh:\n",
    "        link_messages += LINK_RE.findall(line)\n",
    "        header_messages += HEADER_RE.findall(line)"
   ]
  },
  {
   "cell_type": "code",
   "execution_count": 32,
   "metadata": {},
   "outputs": [],
   "source": [
    "assert link_messages == header_messages"
   ]
  },
  {
   "cell_type": "code",
   "execution_count": 33,
   "metadata": {
    "collapsed": true
   },
   "outputs": [],
   "source": [
    "covered_messages = link_messages"
   ]
  },
  {
   "cell_type": "code",
   "execution_count": 34,
   "metadata": {},
   "outputs": [
    {
     "data": {
      "text/plain": [
       "93"
      ]
     },
     "execution_count": 34,
     "metadata": {},
     "output_type": "execute_result"
    }
   ],
   "source": [
    "len(covered_messages)"
   ]
  },
  {
   "cell_type": "markdown",
   "metadata": {},
   "source": [
    "## Missing messages"
   ]
  },
  {
   "cell_type": "code",
   "execution_count": 25,
   "metadata": {},
   "outputs": [
    {
     "data": {
      "text/plain": [
       "{'E0002', 'E9991', 'E9996', 'E9998', 'E9999', 'R0101', 'R0102'}"
      ]
     },
     "execution_count": 25,
     "metadata": {},
     "output_type": "execute_result"
    }
   ],
   "source": [
    "# Messages in index.md but not in pylint\n",
    "set(covered_messages) - set(pylint_messages)"
   ]
  },
  {
   "cell_type": "code",
   "execution_count": 26,
   "metadata": {},
   "outputs": [
    {
     "data": {
      "text/plain": [
       "{'E0202', 'E0241', 'E0704', 'W0211'}"
      ]
     },
     "execution_count": 26,
     "metadata": {},
     "output_type": "execute_result"
    }
   ],
   "source": [
    "# Messages in index.md and in .pylintrc\n",
    "set(covered_messages) & set(pylintrc_messages)"
   ]
  },
  {
   "cell_type": "code",
   "execution_count": 27,
   "metadata": {
    "collapsed": true
   },
   "outputs": [],
   "source": [
    "# Messages produced by pylint that are not covered by .pylintrc or index.md\n",
    "missing_messages = set(pylint_messages) - set(pylintrc_messages) - set(covered_messages)"
   ]
  },
  {
   "cell_type": "code",
   "execution_count": 28,
   "metadata": {},
   "outputs": [
    {
     "data": {
      "text/plain": [
       "38"
      ]
     },
     "execution_count": 28,
     "metadata": {},
     "output_type": "execute_result"
    }
   ],
   "source": [
    "len(missing_messages)"
   ]
  },
  {
   "cell_type": "code",
   "execution_count": 29,
   "metadata": {
    "scrolled": false
   },
   "outputs": [
    {
     "name": "stdout",
     "output_type": "stream",
     "text": [
      "R1707\n",
      ":trailing-comma-tuple (R1707): *Disallow trailing comma tuple*\n",
      "  In Python, a tuple is actually created by the comma symbol, not by the\n",
      "  parentheses. Unfortunately, one can actually create a tuple by misplacing a\n",
      "  trailing comma, which can lead to potential weird bugs in your code. You\n",
      "  should always use parentheses explicitly for creating a tuple. This message\n",
      "  belongs to the refactoring checker. It can't be emitted when using Python <\n",
      "  3.0.\n",
      "\n",
      "\n",
      "C0325\n",
      ":superfluous-parens (C0325): *Unnecessary parens after %r keyword*\n",
      "  Used when a single item in parentheses follows an if, for, or other keyword.\n",
      "  This message belongs to the format checker.\n",
      "\n",
      "\n",
      "C0205\n",
      ":single-string-used-for-slots (C0205): *Class __slots__ should be a non-string iterable*\n",
      "  Used when a class __slots__ is a simple string, rather than an iterable. This\n",
      "  message belongs to the classes checker.\n",
      "\n",
      "\n",
      "C0330\n",
      ":bad-continuation (C0330): *Wrong %s indentation%s%s.*\n",
      "  TODO This message belongs to the format checker.\n",
      "\n",
      "\n",
      "E0107\n",
      ":nonexistent-operator (E0107): *Use of the non-existent %s operator*\n",
      "  Used when you attempt to use the C-style pre-increment orpre-decrement\n",
      "  operator -- and ++, which doesn't exist in Python. This message belongs to the\n",
      "  basic checker.\n",
      "\n",
      "\n",
      "R1701\n",
      ":consider-merging-isinstance (R1701): *Consider merging these isinstance calls to isinstance(%s, (%s))*\n",
      "  Used when multiple consecutive isinstance calls can be merged into one. This\n",
      "  message belongs to the refactoring checker.\n",
      "\n",
      "\n",
      "W0223\n",
      ":abstract-method (W0223): *Method %r is abstract in class %r but is not overridden*\n",
      "  Used when an abstract method (i.e. raise NotImplementedError) is not\n",
      "  overridden in concrete class. This message belongs to the classes checker.\n",
      "\n",
      "\n",
      "C0321\n",
      ":multiple-statements (C0321): *More than one statement on a single line*\n",
      "  Used when more than on statement are found on the same line. This message\n",
      "  belongs to the format checker.\n",
      "\n",
      "\n",
      "R0123\n",
      ":literal-comparison (R0123): *Comparison to literal*\n",
      "  Used when comparing an object to a literal, which is usually what you do not\n",
      "  want to do, since you can compare to a different literal than what was\n",
      "  expected altogether. This message belongs to the basic checker.\n",
      "\n",
      "\n",
      "I0001\n",
      ":raw-checker-failed (I0001): *Unable to run raw checkers on built-in module %s*\n",
      "  Used to inform that a built-in module has not been checked using the raw\n",
      "  checkers. This message belongs to the master checker.\n",
      "\n",
      "\n",
      "F0010\n",
      ":parse-error (F0010): *error while code parsing: %s*\n",
      "  Used when an exception occurred while building the Astroid representation\n",
      "  which could be handled by astroid. This message belongs to the master checker.\n",
      "\n",
      "\n",
      "C0326\n",
      ":bad-whitespace (C0326): *%s space %s %s %s*\n",
      "  Used when a wrong number of spaces is used around an operator, bracket or\n",
      "  block opener. This message belongs to the format checker.\n",
      "\n",
      "\n",
      "E0402\n",
      ":relative-beyond-top-level (E0402): *Attempted relative import beyond top-level package*\n",
      "  Used when a relative import tries to access too many levels in the current\n",
      "  package. This message belongs to the imports checker.\n",
      "\n",
      "\n",
      "E1138\n",
      ":unsupported-delete-operation (E1138): *%r does not support item deletion*\n",
      "  Emitted when an object does not support item deletion (i.e. doesn't define\n",
      "  __delitem__ method) This message belongs to the typecheck checker.\n",
      "\n",
      "\n",
      "R1706\n",
      ":consider-using-ternary (R1706): *Consider using ternary (%s if %s else %s)*\n",
      "  Used when one of known pre-python 2.5 ternary syntax is used. This message\n",
      "  belongs to the refactoring checker.\n",
      "\n",
      "\n",
      "C0301\n",
      ":line-too-long (C0301): *Line too long (%s/%s)*\n",
      "  Used when a line is longer than a given number of characters. This message\n",
      "  belongs to the format checker.\n",
      "\n",
      "\n",
      "W0235\n",
      ":useless-super-delegation (W0235): *Useless super delegation in method %r*\n",
      "  Used whenever we can detect that an overridden method is useless, relying on\n",
      "  super() delegation to do the same thing as another method from the MRO. This\n",
      "  message belongs to the classes checker.\n",
      "\n",
      "\n",
      "W0111\n",
      ":assign-to-new-keyword (W0111): *Name %s will become a keyword in Python %s*\n",
      "  Used when assignment will become invalid in future Python release due to\n",
      "  introducing new keyword This message belongs to the basic checker.\n",
      "\n",
      "\n",
      "F0002\n",
      ":astroid-error (F0002): *%s: %s*\n",
      "  Used when an unexpected error occurred while building the Astroid\n",
      "  representation. This is usually accompanied by a traceback. Please report such\n",
      "  errors ! This message belongs to the master checker.\n",
      "\n",
      "\n",
      "W0106\n",
      ":expression-not-assigned (W0106): *Expression \"%s\" is assigned to nothing*\n",
      "  Used when an expression that is not a function call is assigned to nothing.\n",
      "  Probably something else was intended. This message belongs to the basic\n",
      "  checker.\n",
      "\n",
      "\n",
      "W0312\n",
      ":mixed-indentation (W0312): *Found indentation with %ss instead of %ss*\n",
      "  Used when there are some mixed tabs and spaces in a module. This message\n",
      "  belongs to the format checker.\n",
      "\n",
      "\n",
      "C0304\n",
      ":missing-final-newline (C0304): *Final newline missing*\n",
      "  Used when the last line in a file is missing a newline. This message belongs\n",
      "  to the format checker.\n",
      "\n",
      "\n",
      "R1702\n",
      ":too-many-nested-blocks (R1702): *Too many nested blocks (%s/%s)*\n",
      "  Used when a function or a method has too many nested blocks. This makes the\n",
      "  code less understandable and maintainable. This message belongs to the\n",
      "  refactoring checker.\n",
      "\n",
      "\n",
      "E1123\n",
      ":unexpected-keyword-arg (E1123): *Unexpected keyword argument %r in %s call*\n",
      "  Used when a function call passes a keyword argument that doesn't correspond to\n",
      "  one of the function's parameter names. This message belongs to the typecheck\n",
      "  checker.\n",
      "\n",
      "\n",
      "E0118\n",
      ":used-prior-global-declaration (E0118): *Name %r is used prior to global declaration*\n",
      "  Emitted when a name is used prior a global declaration, which results in an\n",
      "  error since Python 3.6. This message belongs to the basic checker. It can't be\n",
      "  emitted when using Python < 3.6.\n",
      "\n",
      "\n",
      "C0201\n",
      ":consider-iterating-dictionary (C0201): *Consider iterating the dictionary directly instead of calling .keys()*\n",
      "  Emitted when the keys of a dictionary are iterated through the .keys() method.\n",
      "  It is enough to just iterate through the dictionary itself, as in \"for key in\n",
      "  dictionary\". This message belongs to the refactoring checker.\n",
      "\n",
      "\n",
      "E1139\n",
      ":invalid-metaclass (E1139): *Invalid metaclass %r used*\n",
      "  Emitted whenever we can detect that a class is using, as a metaclass,\n",
      "  something which might be invalid for using as a metaclass. This message\n",
      "  belongs to the typecheck checker.\n",
      "\n",
      "\n",
      "R1704\n",
      ":redefined-argument-from-local (R1704): *Redefining argument with the local name %r*\n",
      "  Used when a local name is redefining an argument, which might suggest a\n",
      "  potential error. This is taken in account only for a handful of name binding\n",
      "  operations, such as for iteration, with statement assignment and exception\n",
      "  handler assignment. This message belongs to the refactoring checker.\n",
      "\n",
      "\n",
      "E1137\n",
      ":unsupported-assignment-operation (E1137): *%r does not support item assignment*\n",
      "  Emitted when an object does not support item assignment (i.e. doesn't define\n",
      "  __setitem__ method) This message belongs to the typecheck checker.\n",
      "\n",
      "\n",
      "W0221\n",
      ":arguments-differ (W0221): *Parameters differ from %s %r method*\n",
      "  Used when a method has a different number of arguments than in the implemented\n",
      "  interface or in an overridden method. This message belongs to the classes\n",
      "  checker.\n",
      "\n",
      "\n",
      "F0202\n",
      ":method-check-failed (F0202): *Unable to check methods signature (%s / %s)*\n",
      "  Used when Pylint has been unable to check methods signature compatibility for\n",
      "  an unexpected reason. Please report this kind if you don't make sense of it.\n",
      "  This message belongs to the classes checker.\n",
      "\n",
      "\n",
      "R1703\n",
      ":simplifiable-if-statement (R1703): *The if statement can be replaced with %s*\n",
      "  Used when an if statement can be replaced with 'bool(test)'. This message\n",
      "  belongs to the refactoring checker.\n",
      "\n",
      "\n",
      "E1133\n",
      ":not-an-iterable (E1133): *Non-iterable value %s is used in an iterating context*\n",
      "  Used when a non-iterable value is used in place where iterable is expected\n",
      "  This message belongs to the iterable_check checker.\n",
      "\n",
      "\n",
      "C0305\n",
      ":trailing-newlines (C0305): *Trailing newlines*\n",
      "  Used when there are trailing blank lines in a file. This message belongs to\n",
      "  the format checker.\n",
      "\n",
      "\n",
      "W0311\n",
      ":bad-indentation (W0311): *Bad indentation. Found %s %s, expected %s*\n",
      "  Used when an unexpected number of indentation's tabulations or spaces has been\n",
      "  found. This message belongs to the format checker.\n",
      "\n",
      "\n",
      "F0001\n"
     ]
    },
    {
     "name": "stdout",
     "output_type": "stream",
     "text": [
      ":fatal (F0001):\n",
      "  Used when an error occurred preventing the analysis of a module (unable to\n",
      "  find it for instance). This message belongs to the master checker.\n",
      "\n",
      "\n",
      "W0301\n",
      ":unnecessary-semicolon (W0301): *Unnecessary semicolon*\n",
      "  Used when a statement is ended by a semi-colon (\";\"), which isn't necessary\n",
      "  (that's python, not C ;). This message belongs to the format checker.\n",
      "\n",
      "\n",
      "E0303\n",
      ":invalid-length-returned (E0303): *__len__ does not return non-negative integer*\n",
      "  Used when an __len__ method returns something which is not a non-negative\n",
      "  integer This message belongs to the classes checker.\n",
      "\n",
      "\n"
     ]
    }
   ],
   "source": [
    "for code in missing_messages:\n",
    "    print(code)\n",
    "    print(subprocess.check_output(\"pylint --help-msg={}\".format(code), universal_newlines=True, shell=True))"
   ]
  },
  {
   "cell_type": "code",
   "execution_count": null,
   "metadata": {
    "collapsed": true
   },
   "outputs": [],
   "source": []
  }
 ],
 "metadata": {
  "kernelspec": {
   "display_name": "Python 3",
   "language": "python",
   "name": "python3"
  },
  "language_info": {
   "codemirror_mode": {
    "name": "ipython",
    "version": 3
   },
   "file_extension": ".py",
   "mimetype": "text/x-python",
   "name": "python",
   "nbconvert_exporter": "python",
   "pygments_lexer": "ipython3",
   "version": "3.6.2"
  },
  "toc": {
   "colors": {
    "hover_highlight": "#DAA520",
    "navigate_num": "#000000",
    "navigate_text": "#333333",
    "running_highlight": "#FF0000",
    "selected_highlight": "#FFD700",
    "sidebar_border": "#EEEEEE",
    "wrapper_background": "#FFFFFF"
   },
   "moveMenuLeft": true,
   "nav_menu": {
    "height": "84px",
    "width": "252px"
   },
   "navigate_menu": true,
   "number_sections": false,
   "sideBar": false,
   "threshold": 4,
   "toc_cell": false,
   "toc_position": {
    "height": "222px",
    "left": "1728.18px",
    "right": "20px",
    "top": "135.972px",
    "width": "227px"
   },
   "toc_section_display": "block",
   "toc_window_display": true,
   "widenNotebook": false
  }
 },
 "nbformat": 4,
 "nbformat_minor": 2
}
