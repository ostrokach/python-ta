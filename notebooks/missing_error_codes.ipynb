{
 "cells": [
  {
   "cell_type": "code",
   "execution_count": 1,
   "metadata": {
    "collapsed": true
   },
   "outputs": [],
   "source": [
    "import re\n",
    "import subprocess"
   ]
  },
  {
   "cell_type": "markdown",
   "metadata": {},
   "source": [
    "## Pylint messages"
   ]
  },
  {
   "cell_type": "code",
   "execution_count": 2,
   "metadata": {
    "collapsed": true
   },
   "outputs": [],
   "source": [
    "output = subprocess.check_output(\n",
    "    \"pylint --list-msgs | grep '^:' | awk '{print $2}' | cut -c 2-6\", \n",
    "    shell=True, universal_newlines=True)\n",
    "pylint_messages = output.split()"
   ]
  },
  {
   "cell_type": "code",
   "execution_count": 3,
   "metadata": {},
   "outputs": [
    {
     "data": {
      "text/plain": [
       "207"
      ]
     },
     "execution_count": 3,
     "metadata": {},
     "output_type": "execute_result"
    }
   ],
   "source": [
    "len(pylint_messages)"
   ]
  },
  {
   "cell_type": "markdown",
   "metadata": {},
   "source": [
    "## Ignored (.pylinrc) messages"
   ]
  },
  {
   "cell_type": "code",
   "execution_count": 4,
   "metadata": {},
   "outputs": [],
   "source": [
    "import configparser\n",
    "config = configparser.ConfigParser()\n",
    "config.read('../pyta/python_ta/.pylintrc')\n",
    "pylintrc_messages = [m.strip(\",\") for m in config['MESSAGES CONTROL']['disable'].split()]"
   ]
  },
  {
   "cell_type": "code",
   "execution_count": 5,
   "metadata": {},
   "outputs": [
    {
     "data": {
      "text/plain": [
       "85"
      ]
     },
     "execution_count": 5,
     "metadata": {},
     "output_type": "execute_result"
    }
   ],
   "source": [
    "len(pylintrc_messages)"
   ]
  },
  {
   "cell_type": "markdown",
   "metadata": {},
   "source": [
    "## Covered messages"
   ]
  },
  {
   "cell_type": "code",
   "execution_count": 6,
   "metadata": {
    "collapsed": true
   },
   "outputs": [],
   "source": [
    "LINK_RE = re.compile('.*\\{#([A-Z][0-9]+)\\}.*')  # looks for '{#E0601}'\n",
    "HEADER_RE = re.compile('### ([A-Z][0-9]+):.*')  # looks for '### E0601'"
   ]
  },
  {
   "cell_type": "code",
   "execution_count": 7,
   "metadata": {},
   "outputs": [],
   "source": [
    "link_messages = []\n",
    "header_messages = []\n",
    "\n",
    "with open('../website/index.md') as ifh:\n",
    "    for line in ifh:\n",
    "        link_messages += LINK_RE.findall(line)\n",
    "        header_messages += HEADER_RE.findall(line)"
   ]
  },
  {
   "cell_type": "code",
   "execution_count": 8,
   "metadata": {},
   "outputs": [],
   "source": [
    "assert link_messages == header_messages"
   ]
  },
  {
   "cell_type": "code",
   "execution_count": 9,
   "metadata": {
    "collapsed": true
   },
   "outputs": [],
   "source": [
    "covered_messages = link_messages"
   ]
  },
  {
   "cell_type": "code",
   "execution_count": 10,
   "metadata": {},
   "outputs": [
    {
     "data": {
      "text/plain": [
       "92"
      ]
     },
     "execution_count": 10,
     "metadata": {},
     "output_type": "execute_result"
    }
   ],
   "source": [
    "len(covered_messages)"
   ]
  },
  {
   "cell_type": "markdown",
   "metadata": {},
   "source": [
    "## Missing messages"
   ]
  },
  {
   "cell_type": "code",
   "execution_count": 16,
   "metadata": {},
   "outputs": [
    {
     "data": {
      "text/plain": [
       "{'E9991', 'E9996', 'E9998', 'E9999'}"
      ]
     },
     "execution_count": 16,
     "metadata": {},
     "output_type": "execute_result"
    }
   ],
   "source": [
    "# Messages in index.md but not in pylint\n",
    "set(covered_messages) - set(pylint_messages)"
   ]
  },
  {
   "cell_type": "code",
   "execution_count": 17,
   "metadata": {},
   "outputs": [
    {
     "data": {
      "text/plain": [
       "{'E0202', 'E0241', 'E0704', 'W0211'}"
      ]
     },
     "execution_count": 17,
     "metadata": {},
     "output_type": "execute_result"
    }
   ],
   "source": [
    "# Messages in index.md and in .pylintrc\n",
    "set(covered_messages) & set(pylintrc_messages)"
   ]
  },
  {
   "cell_type": "code",
   "execution_count": 19,
   "metadata": {},
   "outputs": [],
   "source": [
    "# Messages produced by pylint that are not covered by .pylintrc or index.md\n",
    "missing_messages = set(pylint_messages) - set(pylintrc_messages) - set(covered_messages)"
   ]
  },
  {
   "cell_type": "code",
   "execution_count": 22,
   "metadata": {},
   "outputs": [
    {
     "data": {
      "text/plain": [
       "49"
      ]
     },
     "execution_count": 22,
     "metadata": {},
     "output_type": "execute_result"
    }
   ],
   "source": [
    "len(missing_messages)"
   ]
  },
  {
   "cell_type": "code",
   "execution_count": 21,
   "metadata": {
    "scrolled": false
   },
   "outputs": [
    {
     "name": "stdout",
     "output_type": "stream",
     "text": [
      "C0325\n",
      ":superfluous-parens (C0325): *Unnecessary parens after %r keyword*\n",
      "  Used when a single item in parentheses follows an if, for, or other keyword.\n",
      "  This message belongs to the format checker.\n",
      "\n",
      "\n",
      "W1202\n",
      ":logging-format-interpolation (W1202): *Use % formatting in logging functions and pass the % parameters as arguments*\n",
      "  Used when a logging statement has a call form of \"logging.<logging\n",
      "  method>(format_string.format(format_args...))\". Such calls should use %\n",
      "  formatting instead, but leave interpolation to the logging function by passing\n",
      "  the parameters as arguments. This message belongs to the logging checker.\n",
      "\n",
      "\n",
      "E0237\n",
      ":assigning-non-slot (E0237): *Assigning to attribute %r not defined in class slots*\n",
      "  Used when assigning to an attribute not defined in the class slots. This\n",
      "  message belongs to the classes checker.\n",
      "\n",
      "\n",
      "E0301\n",
      ":non-iterator-returned (E0301): *__iter__ returns non-iterator*\n",
      "  Used when an __iter__ method returns something which is not an iterable (i.e.\n",
      "  has no `__next__` method) This message belongs to the classes checker.\n",
      "\n",
      "\n",
      "W0221\n",
      ":arguments-differ (W0221): *Arguments number differs from %s %r method*\n",
      "  Used when a method has a different number of arguments than in the implemented\n",
      "  interface or in an overridden method. This message belongs to the classes\n",
      "  checker.\n",
      "\n",
      "\n",
      "E0238\n",
      ":invalid-slots (E0238): *Invalid __slots__ object*\n",
      "  Used when an invalid __slots__ is found in class. Only a string, an iterable\n",
      "  or a sequence is permitted. This message belongs to the classes checker.\n",
      "\n",
      "\n",
      "W0301\n",
      ":unnecessary-semicolon (W0301): *Unnecessary semicolon*\n",
      "  Used when a statement is ended by a semi-colon (\";\"), which isn't necessary\n",
      "  (that's python, not C ;). This message belongs to the format checker.\n",
      "\n",
      "\n",
      "C0321\n",
      ":multiple-statements (C0321): *More than one statement on a single line*\n",
      "  Used when more than on statement are found on the same line. This message\n",
      "  belongs to the format checker.\n",
      "\n",
      "\n",
      "E0703\n",
      ":bad-exception-context (E0703): *Exception context set to something which is not an exception, nor None*\n",
      "  Used when using the syntax \"raise ... from ...\", where the exception context\n",
      "  is not an exception, nor None. This message belongs to the exceptions checker.\n",
      "  It can't be emitted when using Python < 3.0.\n",
      "\n",
      "\n",
      "F0010\n",
      ":parse-error (F0010): *error while code parsing: %s*\n",
      "  Used when an exception occured while building the Astroid representation which\n",
      "  could be handled by astroid. This message belongs to the master checker.\n",
      "\n",
      "\n",
      "C0301\n",
      ":line-too-long (C0301): *Line too long (%s/%s)*\n",
      "  Used when a line is longer than a given number of characters. This message\n",
      "  belongs to the format checker.\n",
      "\n",
      "\n",
      "E1134\n",
      ":not-a-mapping (E1134): *Non-mapping value %s is used in a mapping context*\n",
      "  Used when a non-mapping value is used in place wheremapping is expected This\n",
      "  message belongs to the iterable_check checker.\n",
      "\n",
      "\n",
      "F0202\n",
      ":method-check-failed (F0202): *Unable to check methods signature (%s / %s)*\n",
      "  Used when Pylint has been unable to check methods signature compatibility for\n",
      "  an unexpected reason. Please report this kind if you don't make sense of it.\n",
      "  This message belongs to the classes checker.\n",
      "\n",
      "\n",
      "E0236\n",
      ":invalid-slots-object (E0236): *Invalid object %r in __slots__, must contain only non empty strings*\n",
      "  Used when an invalid (non-string) object occurs in __slots__. This message\n",
      "  belongs to the classes checker.\n",
      "\n",
      "\n",
      "C0330\n",
      ":bad-continuation (C0330): *Wrong %s indentation%s%s.*\n",
      "  TODO This message belongs to the format checker.\n",
      "\n",
      "\n",
      "C0203\n",
      ":bad-mcs-method-argument (C0203): *Metaclass method %s should have %s as first argument*\n",
      "  Used when a metaclass method has a first agument named differently than the\n",
      "  value specified in valid-classmethod-first-arg option (default to \"cls\"),\n",
      "  recommended to easily differentiate them from regular instance methods. This\n",
      "  message belongs to the classes checker.\n",
      "\n",
      "\n",
      "C0204\n",
      ":bad-mcs-classmethod-argument (C0204): *Metaclass class method %s should have %s as first argument*\n",
      "  Used when a metaclass class method has a first argument named differently than\n",
      "  the value specified in valid-metaclass-classmethod-first-arg option (default\n",
      "  to \"mcs\"), recommended to easily differentiate them from regular instance\n",
      "  methods. This message belongs to the classes checker.\n",
      "\n",
      "\n",
      "R0202\n",
      ":no-classmethod-decorator (R0202): *Consider using a decorator instead of calling classmethod*\n",
      "  Used when a class method is defined without using the decorator syntax. This\n",
      "  message belongs to the classes checker.\n",
      "\n",
      "\n",
      "W0312\n",
      ":mixed-indentation (W0312): *Found indentation with %ss instead of %ss*\n",
      "  Used when there are some mixed tabs and spaces in a module. This message\n",
      "  belongs to the format checker.\n",
      "\n",
      "\n",
      "W0106\n",
      ":expression-not-assigned (W0106): *Expression \"%s\" is assigned to nothing*\n",
      "  Used when an expression that is not a function call is assigned to nothing.\n",
      "  Probably something else was intended. This message belongs to the basic\n",
      "  checker.\n",
      "\n",
      "\n",
      "I0001\n",
      ":raw-checker-failed (I0001): *Unable to run raw checkers on built-in module %s*\n",
      "  Used to inform that a built-in module has not been checked using the raw\n",
      "  checkers. This message belongs to the master checker.\n",
      "\n",
      "\n",
      "I0022\n",
      ":deprecated-pragma (I0022): *Pragma \"%s\" is deprecated, use \"%s\" instead*\n",
      "  Some inline pylint options have been renamed or reworked, only the most recent\n",
      "  form should be used. NOTE:skip-all is only available with pylint >= 0.26 This\n",
      "  message belongs to the master checker.\n",
      "\n",
      "\n",
      "E0012\n",
      ":bad-option-value (E0012): *Bad option value %r*\n",
      "  Used when a bad value for an inline option is encountered. This message\n",
      "  belongs to the master checker.\n",
      "\n",
      "\n",
      "R0203\n",
      ":no-staticmethod-decorator (R0203): *Consider using a decorator instead of calling staticmethod*\n",
      "  Used when a static method is defined without using the decorator syntax. This\n",
      "  message belongs to the classes checker.\n",
      "\n",
      "\n",
      "E0110\n",
      ":abstract-class-instantiated (E0110): *Abstract class %r with abstract methods instantiated*\n",
      "  Used when an abstract class with `abc.ABCMeta` as metaclass has abstract\n",
      "  methods and is instantiated. This message belongs to the basic checker.\n",
      "\n",
      "\n",
      "E0107\n",
      ":nonexistent-operator (E0107): *Use of the non-existent %s operator*\n",
      "  Used when you attempt to use the C-style pre-increment orpre-decrement\n",
      "  operator -- and ++, which doesn't exist in Python. This message belongs to the\n",
      "  basic checker.\n",
      "\n",
      "\n",
      "C0202\n",
      ":bad-classmethod-argument (C0202): *Class method %s should have %s as first argument*\n",
      "  Used when a class method has a first argument named differently than the value\n",
      "  specified in valid-classmethod-first-arg option (default to \"cls\"),\n",
      "  recommended to easily differentiate them from regular instance methods. This\n",
      "  message belongs to the classes checker.\n",
      "\n",
      "\n",
      "C0201\n",
      ":consider-iterating-dictionary (C0201): *Consider iterating the dictionary directly instead of calling .keys()*\n",
      "  Emitted when the keys of a dictionary are iterated through the .keys() method.\n",
      "  It is enough to just iterate through the dictionary itself, as in \"for key in\n",
      "  dictionary\". This message belongs to the basic checker.\n",
      "\n",
      "\n",
      "I0013\n",
      ":file-ignored (I0013): *Ignoring entire file*\n",
      "  Used to inform that the file will not be checked This message belongs to the\n",
      "  master checker.\n",
      "\n",
      "\n",
      "C0302\n",
      ":too-many-lines (C0302): *Too many lines in module (%s/%s)*\n",
      "  Used when a module has too much lines, reducing its readability. This message\n",
      "  belongs to the format checker.\n",
      "\n",
      "\n",
      "I0010\n",
      ":bad-inline-option (I0010): *Unable to consider inline option %r*\n",
      "  Used when an inline option is either badly formatted or can't be used inside\n",
      "  modules. This message belongs to the master checker.\n",
      "\n",
      "\n",
      "F0001\n",
      ":fatal (F0001):\n",
      "  Used when an error occurred preventing the analysis of a module (unable to\n",
      "  find it for instance). This message belongs to the master checker.\n",
      "\n",
      "\n",
      "E0011\n",
      ":unrecognized-inline-option (E0011): *Unrecognized file option %r*\n",
      "  Used when an unknown inline option is encountered. This message belongs to the\n",
      "  master checker.\n",
      "\n",
      "\n",
      "E1133\n",
      ":not-an-iterable (E1133): *Non-iterable value %s is used in an iterating context*\n",
      "  Used when a non-iterable value is used in place whereiterable is expected This\n",
      "  message belongs to the iterable_check checker.\n",
      "\n",
      "\n",
      "F0002\n",
      ":astroid-error (F0002): *%s: %s*\n",
      "  Used when an unexpected error occurred while building the Astroid\n",
      "  representation. This is usually accompanied by a traceback. Please report such\n",
      "  errors ! This message belongs to the master checker.\n",
      "\n",
      "\n",
      "C0304\n"
     ]
    },
    {
     "name": "stdout",
     "output_type": "stream",
     "text": [
      ":missing-final-newline (C0304): *Final newline missing*\n",
      "  Used when the last line in a file is missing a newline. This message belongs\n",
      "  to the format checker.\n",
      "\n",
      "\n",
      "E1003\n",
      ":bad-super-call (E1003): *Bad first argument %r given to super()*\n",
      "  Used when another argument than the current class is given as first argument\n",
      "  of the super builtin. This message belongs to the newstyle checker.\n",
      "\n",
      "\n",
      "C0326\n",
      ":bad-whitespace (C0326): *%s space %s %s %s*\n",
      "  Used when a wrong number of spaces is used around an operator, bracket or\n",
      "  block opener. This message belongs to the format checker.\n",
      "\n",
      "\n",
      "R0801\n",
      ":duplicate-code (R0801): *Similar lines in %s files*\n",
      "  Indicates that a set of similar lines has been detected among multiple file.\n",
      "  This usually means that the code should be refactored to avoid this\n",
      "  duplication. This message belongs to the similarities checker.\n",
      "\n",
      "\n",
      "E0240\n",
      ":inconsistent-mro (E0240): *Inconsistent method resolution order for class %r*\n",
      "  Used when a class has an inconsistent method resolutin order. This message\n",
      "  belongs to the classes checker.\n",
      "\n",
      "\n",
      "I0021\n",
      ":useless-suppression (I0021): *Useless suppression of %s*\n",
      "  Reported when a message is explicitly disabled for a line or a block of code,\n",
      "  but never triggered. This message belongs to the master checker.\n",
      "\n",
      "\n",
      "I0020\n",
      ":suppressed-message (I0020): *Suppressed %s (from line %d)*\n",
      "  A message was triggered on a line, but suppressed explicitly by a disable=\n",
      "  comment in the file. This message is not generated for messages that are\n",
      "  ignored due to configuration settings. This message belongs to the master\n",
      "  checker.\n",
      "\n",
      "\n",
      "W0311\n",
      ":bad-indentation (W0311): *Bad indentation. Found %s %s, expected %s*\n",
      "  Used when an unexpected number of indentation's tabulations or spaces has been\n",
      "  found. This message belongs to the format checker.\n",
      "\n",
      "\n",
      "I0011\n",
      ":locally-disabled (I0011): *Locally disabling %s (%s)*\n",
      "  Used when an inline option disables a message or a messages category. This\n",
      "  message belongs to the master checker.\n",
      "\n",
      "\n",
      "C0305\n",
      ":trailing-newlines (C0305): *Trailing newlines*\n",
      "  Used when there are trailing blank lines in a file. This message belongs to\n",
      "  the format checker.\n",
      "\n",
      "\n",
      "W0223\n",
      ":abstract-method (W0223): *Method %r is abstract in class %r but is not overridden*\n",
      "  Used when an abstract method (i.e. raise NotImplementedError) is not\n",
      "  overridden in concrete class. This message belongs to the classes checker.\n",
      "\n",
      "\n",
      "E1123\n",
      ":unexpected-keyword-arg (E1123): *Unexpected keyword argument %r in %s call*\n",
      "  Used when a function call passes a keyword argument that doesn't correspond to\n",
      "  one of the function's parameter names. This message belongs to the typecheck\n",
      "  checker.\n",
      "\n",
      "\n",
      "I0012\n",
      ":locally-enabled (I0012): *Locally enabling %s (%s)*\n",
      "  Used when an inline option enables a message or a messages category. This\n",
      "  message belongs to the master checker.\n",
      "\n",
      "\n",
      "E0303\n",
      ":invalid-length-returned (E0303): *__len__ does not return non-negative integer*\n",
      "  Used when an __len__ method returns something which is not a non-negative\n",
      "  integer This message belongs to the classes checker.\n",
      "\n",
      "\n"
     ]
    }
   ],
   "source": [
    "for code in missing_messages:\n",
    "    print(code)\n",
    "    print(subprocess.check_output(\"pylint --help-msg={}\".format(code), universal_newlines=True, shell=True))"
   ]
  }
 ],
 "metadata": {
  "kernelspec": {
   "display_name": "Python [conda env:pyta]",
   "language": "python",
   "name": "conda-env-pyta-py"
  },
  "language_info": {
   "codemirror_mode": {
    "name": "ipython",
    "version": 3
   },
   "file_extension": ".py",
   "mimetype": "text/x-python",
   "name": "python",
   "nbconvert_exporter": "python",
   "pygments_lexer": "ipython3",
   "version": "3.6.1"
  },
  "toc": {
   "colors": {
    "hover_highlight": "#DAA520",
    "navigate_num": "#000000",
    "navigate_text": "#333333",
    "running_highlight": "#FF0000",
    "selected_highlight": "#FFD700",
    "sidebar_border": "#EEEEEE",
    "wrapper_background": "#FFFFFF"
   },
   "moveMenuLeft": true,
   "nav_menu": {
    "height": "84px",
    "width": "252px"
   },
   "navigate_menu": true,
   "number_sections": true,
   "sideBar": false,
   "threshold": 4,
   "toc_cell": false,
   "toc_section_display": "block",
   "toc_window_display": false,
   "widenNotebook": false
  }
 },
 "nbformat": 4,
 "nbformat_minor": 2
}
