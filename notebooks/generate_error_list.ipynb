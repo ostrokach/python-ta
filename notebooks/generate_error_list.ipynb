{
 "cells": [
  {
   "cell_type": "code",
   "execution_count": 1,
   "metadata": {
    "collapsed": true
   },
   "outputs": [],
   "source": [
    "import re\n",
    "import subprocess"
   ]
  },
  {
   "cell_type": "markdown",
   "metadata": {},
   "source": [
    "## Pylint messages"
   ]
  },
  {
   "cell_type": "code",
   "execution_count": 2,
   "metadata": {
    "collapsed": true
   },
   "outputs": [],
   "source": [
    "output = subprocess.check_output(\n",
    "    \"pylint --list-msgs | grep '^:' | awk '{print $2}' | cut -c 2-6\", \n",
    "    shell=True, universal_newlines=True)\n",
    "pylint_messages = output.split()"
   ]
  },
  {
   "cell_type": "code",
   "execution_count": 3,
   "metadata": {},
   "outputs": [
    {
     "data": {
      "text/plain": [
       "207"
      ]
     },
     "execution_count": 3,
     "metadata": {},
     "output_type": "execute_result"
    }
   ],
   "source": [
    "len(pylint_messages)"
   ]
  },
  {
   "cell_type": "markdown",
   "metadata": {},
   "source": [
    "## Ignored (.pylinrc) messages"
   ]
  },
  {
   "cell_type": "code",
   "execution_count": 4,
   "metadata": {
    "collapsed": true
   },
   "outputs": [],
   "source": [
    "import configparser\n",
    "config = configparser.ConfigParser()\n",
    "config.read('../pyta/python_ta/.pylintrc')\n",
    "pylintrc_messages = [m.strip(\",\") for m in config['MESSAGES CONTROL']['disable'].split()]"
   ]
  },
  {
   "cell_type": "code",
   "execution_count": 5,
   "metadata": {},
   "outputs": [
    {
     "data": {
      "text/plain": [
       "85"
      ]
     },
     "execution_count": 5,
     "metadata": {},
     "output_type": "execute_result"
    }
   ],
   "source": [
    "len(pylintrc_messages)"
   ]
  },
  {
   "cell_type": "markdown",
   "metadata": {},
   "source": [
    "## Covered messages"
   ]
  },
  {
   "cell_type": "code",
   "execution_count": 6,
   "metadata": {
    "collapsed": true
   },
   "outputs": [],
   "source": [
    "LINK_RE = re.compile('.*\\{#([A-Z][0-9]+)\\}.*')  # looks for '{#E0601}'\n",
    "HEADER_RE = re.compile('### ([A-Z][0-9]+):.*')  # looks for '### E0601'"
   ]
  },
  {
   "cell_type": "code",
   "execution_count": 7,
   "metadata": {
    "collapsed": true
   },
   "outputs": [],
   "source": [
    "link_messages = []\n",
    "header_messages = []\n",
    "\n",
    "with open('../website/index.md') as ifh:\n",
    "    for line in ifh:\n",
    "        link_messages += LINK_RE.findall(line)\n",
    "        header_messages += HEADER_RE.findall(line)"
   ]
  },
  {
   "cell_type": "code",
   "execution_count": 8,
   "metadata": {
    "collapsed": true
   },
   "outputs": [],
   "source": [
    "assert link_messages == header_messages"
   ]
  },
  {
   "cell_type": "code",
   "execution_count": 9,
   "metadata": {
    "collapsed": true
   },
   "outputs": [],
   "source": [
    "covered_messages = link_messages"
   ]
  },
  {
   "cell_type": "code",
   "execution_count": 10,
   "metadata": {},
   "outputs": [
    {
     "data": {
      "text/plain": [
       "92"
      ]
     },
     "execution_count": 10,
     "metadata": {},
     "output_type": "execute_result"
    }
   ],
   "source": [
    "len(covered_messages)"
   ]
  },
  {
   "cell_type": "markdown",
   "metadata": {},
   "source": [
    "## Missing messages"
   ]
  },
  {
   "cell_type": "code",
   "execution_count": 11,
   "metadata": {},
   "outputs": [],
   "source": [
    "# Messages produced by pylint that are not covered by .pylintrc or index.md\n",
    "missing_messages = set(pylint_messages) - set(pylintrc_messages) - set(covered_messages)"
   ]
  },
  {
   "cell_type": "markdown",
   "metadata": {},
   "source": [
    "## Sanity checks"
   ]
  },
  {
   "cell_type": "code",
   "execution_count": 12,
   "metadata": {},
   "outputs": [
    {
     "data": {
      "text/plain": [
       "{'E9991', 'E9996', 'E9998', 'E9999'}"
      ]
     },
     "execution_count": 12,
     "metadata": {},
     "output_type": "execute_result"
    }
   ],
   "source": [
    "# Messages in index.md but not in pylint\n",
    "set(covered_messages) - set(pylint_messages)"
   ]
  },
  {
   "cell_type": "code",
   "execution_count": 13,
   "metadata": {},
   "outputs": [
    {
     "data": {
      "text/plain": [
       "{'E0202', 'E0241', 'E0704', 'W0211'}"
      ]
     },
     "execution_count": 13,
     "metadata": {},
     "output_type": "execute_result"
    }
   ],
   "source": [
    "# Messages in index.md and in .pylintrc\n",
    "set(covered_messages) & set(pylintrc_messages)"
   ]
  },
  {
   "cell_type": "markdown",
   "metadata": {},
   "source": [
    "## Generate CSV file for existing errors"
   ]
  },
  {
   "cell_type": "code",
   "execution_count": 14,
   "metadata": {
    "collapsed": true
   },
   "outputs": [],
   "source": [
    "HEADER_RE = re.compile('### ([A-Z][0-9]+): ([a-zA-Z0-9 \\-\\_\\`]+) \\{')"
   ]
  },
  {
   "cell_type": "code",
   "execution_count": 15,
   "metadata": {},
   "outputs": [
    {
     "data": {
      "text/plain": [
       "[('E0601', 'Used before assignment')]"
      ]
     },
     "execution_count": 15,
     "metadata": {},
     "output_type": "execute_result"
    }
   ],
   "source": [
    "HEADER_RE.findall(\"### E0601: Used before assignment {#E0601}\")"
   ]
  },
  {
   "cell_type": "code",
   "execution_count": 16,
   "metadata": {
    "collapsed": true
   },
   "outputs": [],
   "source": [
    "csv_data = [(\"error_code\", \"error_summary\", \"error_description\")]\n",
    "\n",
    "with open('../website/index.md') as ifh:\n",
    "    for line in ifh:\n",
    "        if line.startswith('## '):\n",
    "            csv_data.append((line[3:].strip(), None, None,))\n",
    "        elif line.startswith('### '):\n",
    "            csv_data.append(tuple(HEADER_RE.findall(line)[0]) + (None, ))"
   ]
  },
  {
   "cell_type": "code",
   "execution_count": 17,
   "metadata": {},
   "outputs": [
    {
     "data": {
      "text/plain": [
       "[('error_code', 'error_summary', 'error_description'),\n",
       " ('Improper Python usage', None, None),\n",
       " ('E0601', 'Used before assignment', None),\n",
       " ('E0602', 'Undefined variable', None),\n",
       " ('W0631', 'Undefined loop variable', None),\n",
       " ('E0103', 'Not in loop', None),\n",
       " ('E0104', 'Return outside function', None),\n",
       " ('W0101', 'Unreachable', None),\n",
       " ('W0109', 'Duplicate key', None),\n",
       " ('Type errors', None, None)]"
      ]
     },
     "execution_count": 17,
     "metadata": {},
     "output_type": "execute_result"
    }
   ],
   "source": [
    "csv_data[:10]"
   ]
  },
  {
   "cell_type": "markdown",
   "metadata": {},
   "source": [
    "## Generate CSV file for missing errors"
   ]
  },
  {
   "cell_type": "code",
   "execution_count": 18,
   "metadata": {},
   "outputs": [],
   "source": [
    "def parse_help_msg(help_msg):\n",
    "    data = help_msg.split('\\n')\n",
    "    name = data[0].strip()\n",
    "    description = ' '.join(l.strip() for l in data[1:]).strip()\n",
    "    return name, description"
   ]
  },
  {
   "cell_type": "code",
   "execution_count": 19,
   "metadata": {},
   "outputs": [
    {
     "data": {
      "text/plain": [
       "(':method-check-failed (F0202): *Unable to check methods signature (%s / %s)*',\n",
       " \"Used when Pylint has been unable to check methods signature compatibility for an unexpected reason. Please report this kind if you don't make sense of it. This message belongs to the classes checker.\")"
      ]
     },
     "execution_count": 19,
     "metadata": {},
     "output_type": "execute_result"
    }
   ],
   "source": [
    "parse_help_msg(\"\"\"\\\n",
    ":method-check-failed (F0202): *Unable to check methods signature (%s / %s)*\n",
    "  Used when Pylint has been unable to check methods signature compatibility for\n",
    "  an unexpected reason. Please report this kind if you don't make sense of it.\n",
    "  This message belongs to the classes checker.\n",
    "\n",
    "\"\"\")"
   ]
  },
  {
   "cell_type": "code",
   "execution_count": 20,
   "metadata": {
    "scrolled": true
   },
   "outputs": [
    {
     "name": "stdout",
     "output_type": "stream",
     "text": [
      "C0305\n",
      "F0001\n",
      "I0001\n",
      "W0106\n",
      "W0301\n",
      "E0236\n",
      "I0021\n",
      "E0110\n",
      "F0010\n",
      "E0238\n",
      "C0201\n",
      "E0107\n",
      "W0221\n",
      "C0204\n",
      "E0303\n",
      "C0321\n",
      "C0301\n",
      "E0703\n",
      "R0801\n",
      "C0203\n",
      "C0326\n",
      "E1133\n",
      "I0013\n",
      "R0203\n",
      "W0223\n",
      "E1134\n",
      "R0202\n",
      "W1202\n",
      "I0012\n",
      "I0022\n",
      "C0302\n",
      "C0304\n",
      "I0011\n",
      "F0002\n",
      "C0202\n",
      "I0010\n",
      "E0012\n",
      "I0020\n",
      "C0325\n",
      "F0202\n",
      "E0237\n",
      "W0312\n",
      "W0311\n",
      "E0301\n",
      "E0011\n",
      "E0240\n",
      "E1003\n",
      "C0330\n",
      "E1123\n"
     ]
    }
   ],
   "source": [
    "csv_data_for_missing = [(\"Missing\", None, None)]\n",
    "\n",
    "for code in missing_messages:\n",
    "    print(code)\n",
    "    stdout = subprocess.check_output(\"pylint --help-msg={}\".format(code), universal_newlines=True, shell=True)\n",
    "    csv_data_for_missing.append((code, ) + parse_help_msg(stdout))"
   ]
  },
  {
   "cell_type": "code",
   "execution_count": 21,
   "metadata": {},
   "outputs": [],
   "source": [
    "assert len(csv_data_for_missing) == (len(missing_messages) + 1)"
   ]
  },
  {
   "cell_type": "markdown",
   "metadata": {},
   "source": [
    "## Write CSV file"
   ]
  },
  {
   "cell_type": "code",
   "execution_count": 22,
   "metadata": {
    "collapsed": true
   },
   "outputs": [],
   "source": [
    "import pandas as pd"
   ]
  },
  {
   "cell_type": "code",
   "execution_count": 23,
   "metadata": {},
   "outputs": [],
   "source": [
    "df = pd.DataFrame(csv_data[1:] + csv_data_for_missing, columns=csv_data[0])"
   ]
  },
  {
   "cell_type": "code",
   "execution_count": 25,
   "metadata": {},
   "outputs": [
    {
     "data": {
      "text/html": [
       "<div>\n",
       "<style>\n",
       "    .dataframe thead tr:only-child th {\n",
       "        text-align: right;\n",
       "    }\n",
       "\n",
       "    .dataframe thead th {\n",
       "        text-align: left;\n",
       "    }\n",
       "\n",
       "    .dataframe tbody tr th {\n",
       "        vertical-align: top;\n",
       "    }\n",
       "</style>\n",
       "<table border=\"1\" class=\"dataframe\">\n",
       "  <thead>\n",
       "    <tr style=\"text-align: right;\">\n",
       "      <th></th>\n",
       "      <th>error_code</th>\n",
       "      <th>error_summary</th>\n",
       "      <th>error_description</th>\n",
       "    </tr>\n",
       "  </thead>\n",
       "  <tbody>\n",
       "    <tr>\n",
       "      <th>147</th>\n",
       "      <td>E0011</td>\n",
       "      <td>:unrecognized-inline-option (E0011): *Unrecogn...</td>\n",
       "      <td>Used when an unknown inline option is encounte...</td>\n",
       "    </tr>\n",
       "    <tr>\n",
       "      <th>148</th>\n",
       "      <td>E0240</td>\n",
       "      <td>:inconsistent-mro (E0240): *Inconsistent metho...</td>\n",
       "      <td>Used when a class has an inconsistent method r...</td>\n",
       "    </tr>\n",
       "    <tr>\n",
       "      <th>149</th>\n",
       "      <td>E1003</td>\n",
       "      <td>:bad-super-call (E1003): *Bad first argument %...</td>\n",
       "      <td>Used when another argument than the current cl...</td>\n",
       "    </tr>\n",
       "    <tr>\n",
       "      <th>150</th>\n",
       "      <td>C0330</td>\n",
       "      <td>:bad-continuation (C0330): *Wrong %s indentati...</td>\n",
       "      <td>TODO This message belongs to the format checker.</td>\n",
       "    </tr>\n",
       "    <tr>\n",
       "      <th>151</th>\n",
       "      <td>E1123</td>\n",
       "      <td>:unexpected-keyword-arg (E1123): *Unexpected k...</td>\n",
       "      <td>Used when a function call passes a keyword arg...</td>\n",
       "    </tr>\n",
       "  </tbody>\n",
       "</table>\n",
       "</div>"
      ],
      "text/plain": [
       "    error_code                                      error_summary  \\\n",
       "147      E0011  :unrecognized-inline-option (E0011): *Unrecogn...   \n",
       "148      E0240  :inconsistent-mro (E0240): *Inconsistent metho...   \n",
       "149      E1003  :bad-super-call (E1003): *Bad first argument %...   \n",
       "150      C0330  :bad-continuation (C0330): *Wrong %s indentati...   \n",
       "151      E1123  :unexpected-keyword-arg (E1123): *Unexpected k...   \n",
       "\n",
       "                                     error_description  \n",
       "147  Used when an unknown inline option is encounte...  \n",
       "148  Used when a class has an inconsistent method r...  \n",
       "149  Used when another argument than the current cl...  \n",
       "150   TODO This message belongs to the format checker.  \n",
       "151  Used when a function call passes a keyword arg...  "
      ]
     },
     "execution_count": 25,
     "metadata": {},
     "output_type": "execute_result"
    }
   ],
   "source": [
    "df.tail()"
   ]
  },
  {
   "cell_type": "code",
   "execution_count": 26,
   "metadata": {
    "collapsed": true
   },
   "outputs": [],
   "source": [
    "df.to_csv('error_list.csv', index=False)"
   ]
  }
 ],
 "metadata": {
  "kernelspec": {
   "display_name": "Python [conda env:pyta]",
   "language": "python",
   "name": "conda-env-pyta-py"
  },
  "language_info": {
   "codemirror_mode": {
    "name": "ipython",
    "version": 3
   },
   "file_extension": ".py",
   "mimetype": "text/x-python",
   "name": "python",
   "nbconvert_exporter": "python",
   "pygments_lexer": "ipython3",
   "version": "3.6.1"
  },
  "toc": {
   "colors": {
    "hover_highlight": "#DAA520",
    "navigate_num": "#000000",
    "navigate_text": "#333333",
    "running_highlight": "#FF0000",
    "selected_highlight": "#FFD700",
    "sidebar_border": "#EEEEEE",
    "wrapper_background": "#FFFFFF"
   },
   "moveMenuLeft": true,
   "nav_menu": {
    "height": "84px",
    "width": "252px"
   },
   "navigate_menu": true,
   "number_sections": true,
   "sideBar": false,
   "threshold": 4,
   "toc_cell": false,
   "toc_position": {
    "height": "262px",
    "left": "1003.19px",
    "right": "20px",
    "top": "120px",
    "width": "257px"
   },
   "toc_section_display": "block",
   "toc_window_display": false,
   "widenNotebook": false
  }
 },
 "nbformat": 4,
 "nbformat_minor": 2
}
