{
 "cells": [
  {
   "cell_type": "code",
   "execution_count": 1,
   "metadata": {
    "collapsed": true
   },
   "outputs": [],
   "source": [
    "import re\n",
    "import subprocess"
   ]
  },
  {
   "cell_type": "markdown",
   "metadata": {},
   "source": [
    "## Pylint messages"
   ]
  },
  {
   "cell_type": "code",
   "execution_count": 2,
   "metadata": {},
   "outputs": [
    {
     "name": "stdout",
     "output_type": "stream",
     "text": [
      "pylint 1.7.2, \n",
      "astroid 1.5.3\n",
      "Python 3.6.2 | packaged by conda-forge | (default, Jul 23 2017, 22:59:30) \n",
      "[GCC 4.8.2 20140120 (Red Hat 4.8.2-15)]\n",
      "\n"
     ]
    }
   ],
   "source": [
    "print(subprocess.check_output(['pylint', '--version']).decode())"
   ]
  },
  {
   "cell_type": "code",
   "execution_count": 3,
   "metadata": {
    "collapsed": true
   },
   "outputs": [],
   "source": [
    "output = subprocess.check_output(\n",
    "    \"pylint --list-msgs | grep '^:' | awk '{print $2}' | cut -c 2-6\", \n",
    "    shell=True, universal_newlines=True)\n",
    "pylint_messages = output.split()"
   ]
  },
  {
   "cell_type": "code",
   "execution_count": 4,
   "metadata": {},
   "outputs": [
    {
     "data": {
      "text/plain": [
       "221"
      ]
     },
     "execution_count": 4,
     "metadata": {},
     "output_type": "execute_result"
    }
   ],
   "source": [
    "len(pylint_messages)"
   ]
  },
  {
   "cell_type": "markdown",
   "metadata": {},
   "source": [
    "## Ignored (.pylinrc) messages"
   ]
  },
  {
   "cell_type": "code",
   "execution_count": 5,
   "metadata": {
    "collapsed": true
   },
   "outputs": [],
   "source": [
    "import configparser\n",
    "config = configparser.ConfigParser()\n",
    "config.read('../pyta/python_ta/.pylintrc')\n",
    "pylintrc_messages = [m.strip(\",\") for m in config['MESSAGES CONTROL']['disable'].split()]"
   ]
  },
  {
   "cell_type": "code",
   "execution_count": 6,
   "metadata": {},
   "outputs": [
    {
     "data": {
      "text/plain": [
       "113"
      ]
     },
     "execution_count": 6,
     "metadata": {},
     "output_type": "execute_result"
    }
   ],
   "source": [
    "len(pylintrc_messages)"
   ]
  },
  {
   "cell_type": "markdown",
   "metadata": {},
   "source": [
    "## Covered messages"
   ]
  },
  {
   "cell_type": "code",
   "execution_count": 18,
   "metadata": {
    "collapsed": true
   },
   "outputs": [],
   "source": [
    "LINK_RE = re.compile('###.*\\{#([A-Z][0-9]+)\\}.*')  # looks for '{#E0601}'\n",
    "HEADER_RE = re.compile('###.*\\(([A-Z][0-9]+)\\).*')  # looks for '### E0601'"
   ]
  },
  {
   "cell_type": "code",
   "execution_count": 8,
   "metadata": {
    "collapsed": true
   },
   "outputs": [],
   "source": [
    "link_messages = []\n",
    "header_messages = []\n",
    "\n",
    "with open('../website/index.md') as ifh:\n",
    "    for line in ifh:\n",
    "        link_messages += LINK_RE.findall(line)\n",
    "        header_messages += HEADER_RE.findall(line)"
   ]
  },
  {
   "cell_type": "code",
   "execution_count": 9,
   "metadata": {
    "collapsed": true
   },
   "outputs": [],
   "source": [
    "assert link_messages == header_messages"
   ]
  },
  {
   "cell_type": "code",
   "execution_count": 10,
   "metadata": {
    "collapsed": true
   },
   "outputs": [],
   "source": [
    "covered_messages = link_messages"
   ]
  },
  {
   "cell_type": "code",
   "execution_count": 11,
   "metadata": {},
   "outputs": [
    {
     "data": {
      "text/plain": [
       "93"
      ]
     },
     "execution_count": 11,
     "metadata": {},
     "output_type": "execute_result"
    }
   ],
   "source": [
    "len(covered_messages)"
   ]
  },
  {
   "cell_type": "markdown",
   "metadata": {},
   "source": [
    "## Missing messages"
   ]
  },
  {
   "cell_type": "code",
   "execution_count": 12,
   "metadata": {
    "collapsed": true
   },
   "outputs": [],
   "source": [
    "# Messages produced by pylint that are not covered by .pylintrc or index.md\n",
    "missing_messages = set(pylint_messages) - set(pylintrc_messages) - set(covered_messages)"
   ]
  },
  {
   "cell_type": "code",
   "execution_count": 35,
   "metadata": {},
   "outputs": [
    {
     "data": {
      "text/plain": [
       "38"
      ]
     },
     "execution_count": 35,
     "metadata": {},
     "output_type": "execute_result"
    }
   ],
   "source": [
    "len(missing_messages)"
   ]
  },
  {
   "cell_type": "markdown",
   "metadata": {},
   "source": [
    "## Sanity checks"
   ]
  },
  {
   "cell_type": "code",
   "execution_count": 13,
   "metadata": {},
   "outputs": [
    {
     "data": {
      "text/plain": [
       "{'E0002', 'E9991', 'E9996', 'E9998', 'E9999', 'R0101', 'R0102'}"
      ]
     },
     "execution_count": 13,
     "metadata": {},
     "output_type": "execute_result"
    }
   ],
   "source": [
    "# Messages in index.md but not in pylint\n",
    "set(covered_messages) - set(pylint_messages)"
   ]
  },
  {
   "cell_type": "code",
   "execution_count": 14,
   "metadata": {},
   "outputs": [
    {
     "data": {
      "text/plain": [
       "{'E0202', 'E0241', 'E0704', 'W0211'}"
      ]
     },
     "execution_count": 14,
     "metadata": {},
     "output_type": "execute_result"
    }
   ],
   "source": [
    "# Messages in index.md and in .pylintrc\n",
    "set(covered_messages) & set(pylintrc_messages)"
   ]
  },
  {
   "cell_type": "markdown",
   "metadata": {},
   "source": [
    "## Generate CSV file for existing errors"
   ]
  },
  {
   "cell_type": "code",
   "execution_count": 25,
   "metadata": {
    "collapsed": true
   },
   "outputs": [],
   "source": [
    "ENTIRE_HEADER_RE = re.compile('### (.*) \\(([A-Z][0-9]+)\\).*')  # looks for '### E0601'"
   ]
  },
  {
   "cell_type": "code",
   "execution_count": 27,
   "metadata": {},
   "outputs": [
    {
     "data": {
      "text/plain": [
       "[('Used before assignment', 'E0601')]"
      ]
     },
     "execution_count": 27,
     "metadata": {},
     "output_type": "execute_result"
    }
   ],
   "source": [
    "ENTIRE_HEADER_RE.findall(\"### Used before assignment (E0601) {#E0601}\")"
   ]
  },
  {
   "cell_type": "code",
   "execution_count": 30,
   "metadata": {},
   "outputs": [],
   "source": [
    "csv_data = [(\"error_code\", \"error_summary\", \"error_description\")]\n",
    "\n",
    "with open('../website/index.md') as ifh:\n",
    "    for line in ifh:\n",
    "        if line.startswith('## '):\n",
    "            csv_data.append((line[3:].strip(), None, None,))\n",
    "        elif line.startswith('### '):\n",
    "            error_summary, error_code = ENTIRE_HEADER_RE.findall(line)[0]\n",
    "            csv_data.append((error_code, error_summary, None))"
   ]
  },
  {
   "cell_type": "code",
   "execution_count": 31,
   "metadata": {},
   "outputs": [
    {
     "data": {
      "text/plain": [
       "[('error_code', 'error_summary', 'error_description'),\n",
       " ('Improper Python usage', None, None),\n",
       " ('E0601', 'Used before assignment', None),\n",
       " ('E0602', 'Undefined variable', None),\n",
       " ('W0631', 'Undefined loop variable', None),\n",
       " ('E0103', 'Not in loop', None),\n",
       " ('E0104', 'Return outside function', None),\n",
       " ('W0101', 'Unreachable', None),\n",
       " ('W0109', 'Duplicate key', None),\n",
       " ('Type errors', None, None)]"
      ]
     },
     "execution_count": 31,
     "metadata": {},
     "output_type": "execute_result"
    }
   ],
   "source": [
    "csv_data[:10]"
   ]
  },
  {
   "cell_type": "markdown",
   "metadata": {},
   "source": [
    "## Generate CSV file for missing errors"
   ]
  },
  {
   "cell_type": "code",
   "execution_count": 32,
   "metadata": {
    "collapsed": true
   },
   "outputs": [],
   "source": [
    "def parse_help_msg(help_msg):\n",
    "    data = help_msg.split('\\n')\n",
    "    name = data[0].strip()\n",
    "    description = ' '.join(l.strip() for l in data[1:]).strip()\n",
    "    return name, description"
   ]
  },
  {
   "cell_type": "code",
   "execution_count": 33,
   "metadata": {},
   "outputs": [
    {
     "data": {
      "text/plain": [
       "(':method-check-failed (F0202): *Unable to check methods signature (%s / %s)*',\n",
       " \"Used when Pylint has been unable to check methods signature compatibility for an unexpected reason. Please report this kind if you don't make sense of it. This message belongs to the classes checker.\")"
      ]
     },
     "execution_count": 33,
     "metadata": {},
     "output_type": "execute_result"
    }
   ],
   "source": [
    "parse_help_msg(\"\"\"\\\n",
    ":method-check-failed (F0202): *Unable to check methods signature (%s / %s)*\n",
    "  Used when Pylint has been unable to check methods signature compatibility for\n",
    "  an unexpected reason. Please report this kind if you don't make sense of it.\n",
    "  This message belongs to the classes checker.\n",
    "\n",
    "\"\"\")"
   ]
  },
  {
   "cell_type": "code",
   "execution_count": 45,
   "metadata": {
    "scrolled": true
   },
   "outputs": [
    {
     "name": "stdout",
     "output_type": "stream",
     "text": [
      "E1137\n",
      "R1703\n",
      "R1704\n",
      "R1707\n",
      "R1702\n",
      "R0123\n",
      "R1701\n",
      "E1138\n",
      "W0235\n",
      "R1706\n",
      "E1139\n",
      "E0118\n",
      "C0205\n",
      "W0111\n",
      "E0402\n"
     ]
    }
   ],
   "source": [
    "csv_data_for_missing = [(\"Missing\", None, None)]\n",
    "\n",
    "whitelisted_messages = {\n",
    "    # Keep and document\n",
    "    'C0305', 'W0301', 'C0201', 'E0107', 'W0221', 'E0303', 'C0321', 'C0301', 'C0326', 'W0312', 'W0311', \n",
    "    'C0330', 'E1133', 'W0223', 'C0304', 'C0325', 'E1123',\n",
    "    # Keep, don't document\n",
    "    'F0001', 'I0001', 'F0010', 'F0002', 'F0202',\n",
    "    # Investigate further\n",
    "    'W0106',\n",
    "}\n",
    "\n",
    "for code in missing_messages - whitelisted_messages:\n",
    "    print(code)\n",
    "    stdout = subprocess.check_output(\"pylint --help-msg={}\".format(code), universal_newlines=True, shell=True)\n",
    "    csv_data_for_missing.append((code, ) + parse_help_msg(stdout))"
   ]
  },
  {
   "cell_type": "code",
   "execution_count": 47,
   "metadata": {},
   "outputs": [],
   "source": [
    "assert len(csv_data_for_missing) == (len(missing_messages - whitelisted_messages) + 1)"
   ]
  },
  {
   "cell_type": "markdown",
   "metadata": {},
   "source": [
    "## Write CSV file"
   ]
  },
  {
   "cell_type": "code",
   "execution_count": 48,
   "metadata": {
    "collapsed": true
   },
   "outputs": [],
   "source": [
    "import pandas as pd"
   ]
  },
  {
   "cell_type": "code",
   "execution_count": 49,
   "metadata": {
    "collapsed": true
   },
   "outputs": [],
   "source": [
    "df = pd.DataFrame(csv_data[1:] + csv_data_for_missing, columns=csv_data[0])"
   ]
  },
  {
   "cell_type": "code",
   "execution_count": 50,
   "metadata": {},
   "outputs": [
    {
     "data": {
      "text/html": [
       "<div>\n",
       "<style>\n",
       "    .dataframe thead tr:only-child th {\n",
       "        text-align: right;\n",
       "    }\n",
       "\n",
       "    .dataframe thead th {\n",
       "        text-align: left;\n",
       "    }\n",
       "\n",
       "    .dataframe tbody tr th {\n",
       "        vertical-align: top;\n",
       "    }\n",
       "</style>\n",
       "<table border=\"1\" class=\"dataframe\">\n",
       "  <thead>\n",
       "    <tr style=\"text-align: right;\">\n",
       "      <th></th>\n",
       "      <th>error_code</th>\n",
       "      <th>error_summary</th>\n",
       "      <th>error_description</th>\n",
       "    </tr>\n",
       "  </thead>\n",
       "  <tbody>\n",
       "    <tr>\n",
       "      <th>114</th>\n",
       "      <td>E1139</td>\n",
       "      <td>:invalid-metaclass (E1139): *Invalid metaclass...</td>\n",
       "      <td>Emitted whenever we can detect that a class is...</td>\n",
       "    </tr>\n",
       "    <tr>\n",
       "      <th>115</th>\n",
       "      <td>E0118</td>\n",
       "      <td>:used-prior-global-declaration (E0118): *Name ...</td>\n",
       "      <td>Emitted when a name is used prior a global dec...</td>\n",
       "    </tr>\n",
       "    <tr>\n",
       "      <th>116</th>\n",
       "      <td>C0205</td>\n",
       "      <td>:single-string-used-for-slots (C0205): *Class ...</td>\n",
       "      <td>Used when a class __slots__ is a simple string...</td>\n",
       "    </tr>\n",
       "    <tr>\n",
       "      <th>117</th>\n",
       "      <td>W0111</td>\n",
       "      <td>:assign-to-new-keyword (W0111): *Name %s will ...</td>\n",
       "      <td>Used when assignment will become invalid in fu...</td>\n",
       "    </tr>\n",
       "    <tr>\n",
       "      <th>118</th>\n",
       "      <td>E0402</td>\n",
       "      <td>:relative-beyond-top-level (E0402): *Attempted...</td>\n",
       "      <td>Used when a relative import tries to access to...</td>\n",
       "    </tr>\n",
       "  </tbody>\n",
       "</table>\n",
       "</div>"
      ],
      "text/plain": [
       "    error_code                                      error_summary  \\\n",
       "114      E1139  :invalid-metaclass (E1139): *Invalid metaclass...   \n",
       "115      E0118  :used-prior-global-declaration (E0118): *Name ...   \n",
       "116      C0205  :single-string-used-for-slots (C0205): *Class ...   \n",
       "117      W0111  :assign-to-new-keyword (W0111): *Name %s will ...   \n",
       "118      E0402  :relative-beyond-top-level (E0402): *Attempted...   \n",
       "\n",
       "                                     error_description  \n",
       "114  Emitted whenever we can detect that a class is...  \n",
       "115  Emitted when a name is used prior a global dec...  \n",
       "116  Used when a class __slots__ is a simple string...  \n",
       "117  Used when assignment will become invalid in fu...  \n",
       "118  Used when a relative import tries to access to...  "
      ]
     },
     "execution_count": 50,
     "metadata": {},
     "output_type": "execute_result"
    }
   ],
   "source": [
    "df.tail()"
   ]
  },
  {
   "cell_type": "code",
   "execution_count": 51,
   "metadata": {
    "collapsed": true
   },
   "outputs": [],
   "source": [
    "df.to_csv('error_list.csv', index=False)"
   ]
  },
  {
   "cell_type": "code",
   "execution_count": null,
   "metadata": {
    "collapsed": true
   },
   "outputs": [],
   "source": []
  }
 ],
 "metadata": {
  "kernelspec": {
   "display_name": "Python 3",
   "language": "python",
   "name": "python3"
  },
  "language_info": {
   "codemirror_mode": {
    "name": "ipython",
    "version": 3
   },
   "file_extension": ".py",
   "mimetype": "text/x-python",
   "name": "python",
   "nbconvert_exporter": "python",
   "pygments_lexer": "ipython3",
   "version": "3.6.2"
  },
  "toc": {
   "colors": {
    "hover_highlight": "#DAA520",
    "navigate_num": "#000000",
    "navigate_text": "#333333",
    "running_highlight": "#FF0000",
    "selected_highlight": "#FFD700",
    "sidebar_border": "#EEEEEE",
    "wrapper_background": "#FFFFFF"
   },
   "moveMenuLeft": true,
   "nav_menu": {
    "height": "84px",
    "width": "252px"
   },
   "navigate_menu": true,
   "number_sections": false,
   "sideBar": false,
   "threshold": 4,
   "toc_cell": false,
   "toc_position": {
    "height": "262px",
    "left": "1648.16px",
    "right": "20px",
    "top": "115.997px",
    "width": "258px"
   },
   "toc_section_display": "block",
   "toc_window_display": true,
   "widenNotebook": false
  }
 },
 "nbformat": 4,
 "nbformat_minor": 2
}
