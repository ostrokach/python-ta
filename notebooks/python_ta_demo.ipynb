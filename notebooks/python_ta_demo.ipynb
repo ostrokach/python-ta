{
 "cells": [
  {
   "cell_type": "markdown",
   "metadata": {},
   "source": [
    "# Summary\n",
    "\n",
    "Here I print `python_ta` output for all examples in the `pyta/examples` directory, for easy inspection.\n",
    "\n",
    "#### TODO:\n",
    "- I need to disable `C0111 (missing-docstring)`, `E9997 (forbidden-global-variables)`, and a few other errors, so that they don't pollute output."
   ]
  },
  {
   "cell_type": "markdown",
   "metadata": {},
   "source": [
    "# Imports"
   ]
  },
  {
   "cell_type": "code",
   "execution_count": 1,
   "metadata": {
    "collapsed": true
   },
   "outputs": [],
   "source": [
    "import os\n",
    "import os.path as op\n",
    "\n",
    "from IPython.display import display, HTML\n",
    "\n",
    "import python_ta"
   ]
  },
  {
   "cell_type": "markdown",
   "metadata": {},
   "source": [
    "## PyTA examples"
   ]
  },
  {
   "cell_type": "code",
   "execution_count": 2,
   "metadata": {
    "scrolled": false
   },
   "outputs": [
    {
     "data": {
      "text/html": [
       "<h2><center>invalid_range_index_example.py</center></h2>"
      ],
      "text/plain": [
       "<IPython.core.display.HTML object>"
      ]
     },
     "metadata": {},
     "output_type": "display_data"
    },
    {
     "name": "stdout",
     "output_type": "stream",
     "text": [
      "### Loaded configuration file: /home/kimlab1/strokach/documents/teaching/python-ta/pyta/python_ta/.pylintrc\n",
      "### Loaded configuration file: /home/kimlab1/strokach/documents/teaching/python-ta/pyta/python_ta/.pylintrc\n",
      "*************** File: /home/kimlab1/strokach/documents/teaching/python-ta/pyta/examples/invalid_range_index_example.py\n",
      "\u001b[31m\u001b[1m=== Code errors/forbidden usage (fix: high priority) ===\n",
      "\u001b[0mNone!\n",
      "\n",
      "\u001b[34m\u001b[1m=== Style/convention errors (fix: before submission) ===\n",
      "\u001b[0m\u001b[34m\u001b[1mC0111\u001b[0m \u001b[1m(missing-docstring)  \u001b[0mNumber of occurrences: 1.\n",
      "  \u001b[1m[Line 1] Missing module docstring\u001b[0m\n",
      "     \u001b[30m\u001b[0m  \u001b[1m\u001b[30m\u001b[46m\"\"\"YOUR DOCSTRING HERE\"\"\"\u001b[0m\n",
      "    \u001b[90m1\u001b[0m  \u001b[90mfor i in range(0):\u001b[0m\n",
      "    \u001b[90m2\u001b[0m      \u001b[90mi += 1\u001b[0m\n",
      "\n",
      "\u001b[34m\u001b[1mE9997\u001b[0m \u001b[1m(forbidden-global-variables)  \u001b[0mNumber of occurrences: 5.\n",
      "  \u001b[1m[Line 1] Global variables should not be used in CSC108/CSC148 - a global variable 'range' is declared on line 1\u001b[0m\n",
      "    \u001b[90m0\u001b[0m  \u001b[90m\u001b[0m\n",
      "    \u001b[1m\u001b[90m1\u001b[0m  \u001b[30mfor i in \u001b[0m\u001b[1m\u001b[30m\u001b[46mrange\u001b[0m\u001b[30m(0):\u001b[0m\n",
      "    \u001b[90m2\u001b[0m      \u001b[90mi += 1\u001b[0m\n",
      "    \u001b[90m3\u001b[0m  \u001b[90m\u001b[0m\n",
      "\n",
      "  \u001b[1m[Line 4] Global variables should not be used in CSC108/CSC148 - a global variable 'range' is declared on line 4\u001b[0m\n",
      "    \u001b[90m2\u001b[0m      \u001b[90mi += 1\u001b[0m\n",
      "    \u001b[90m3\u001b[0m  \u001b[90m\u001b[0m\n",
      "    \u001b[1m\u001b[90m4\u001b[0m  \u001b[30mfor j in \u001b[0m\u001b[1m\u001b[30m\u001b[46mrange\u001b[0m\u001b[30m(0, 1, 3):\u001b[0m\n",
      "    \u001b[90m5\u001b[0m      \u001b[90mj += 1\u001b[0m\n",
      "    \u001b[90m6\u001b[0m  \u001b[90m\u001b[0m\n",
      "\n",
      "  \u001b[1m[Line 7] Global variables should not be used in CSC108/CSC148 - a global variable 'range' is declared on line 7\u001b[0m\n",
      "    \u001b[90m5\u001b[0m      \u001b[90mj += 1\u001b[0m\n",
      "    \u001b[90m6\u001b[0m  \u001b[90m\u001b[0m\n",
      "    \u001b[1m\u001b[90m7\u001b[0m  \u001b[30mfor k in \u001b[0m\u001b[1m\u001b[30m\u001b[46mrange\u001b[0m\u001b[30m(9, 1, -9):\u001b[0m\n",
      "    \u001b[90m8\u001b[0m      \u001b[90mk += 1\u001b[0m\n",
      "    \u001b[90m9\u001b[0m  \u001b[90m\u001b[0m\n",
      "\n",
      "  \u001b[1m[Line 10] Global variables should not be used in CSC108/CSC148 - a global variable 'range' is declared on line 10\u001b[0m\n",
      "    \u001b[90m8\u001b[0m      \u001b[90mk += 1\u001b[0m\n",
      "    \u001b[90m9\u001b[0m  \u001b[90m\u001b[0m\n",
      "   \u001b[1m\u001b[90m10\u001b[0m  \u001b[30mfor n in \u001b[0m\u001b[1m\u001b[30m\u001b[46mrange\u001b[0m\u001b[30m(0, 1.1):\u001b[0m\n",
      "   \u001b[90m11\u001b[0m      \u001b[90mn += 1\u001b[0m\n",
      "   \u001b[90m12\u001b[0m  \u001b[90m\u001b[0m\n",
      "\n",
      "  \u001b[1m[Line 13] Global variables should not be used in CSC108/CSC148 - a global variable 'range' is declared on line 13\u001b[0m\n",
      "   \u001b[90m11\u001b[0m      \u001b[90mn += 1\u001b[0m\n",
      "   \u001b[90m12\u001b[0m  \u001b[90m\u001b[0m\n",
      "   \u001b[1m\u001b[90m13\u001b[0m  \u001b[30mfor m in \u001b[0m\u001b[1m\u001b[30m\u001b[46mrange\u001b[0m\u001b[30m(4, 5):\u001b[0m\n",
      "   \u001b[90m14\u001b[0m      \u001b[90mm += 1\u001b[0m\n",
      "   \u001b[90m15\u001b[0m  \u001b[90m\u001b[0m\n",
      "\n",
      "\n",
      "None\n"
     ]
    },
    {
     "data": {
      "text/html": [
       "<h2><center>E9998_forbidden_io_function.py</center></h2>"
      ],
      "text/plain": [
       "<IPython.core.display.HTML object>"
      ]
     },
     "metadata": {},
     "output_type": "display_data"
    },
    {
     "name": "stdout",
     "output_type": "stream",
     "text": [
      "### Loaded configuration file: /home/kimlab1/strokach/documents/teaching/python-ta/pyta/python_ta/.pylintrc\n",
      "### Loaded configuration file: /home/kimlab1/strokach/documents/teaching/python-ta/pyta/python_ta/.pylintrc\n",
      "*************** File: /home/kimlab1/strokach/documents/teaching/python-ta/pyta/examples/E9998_forbidden_io_function.py\n",
      "\u001b[31m\u001b[1m=== Code errors/forbidden usage (fix: high priority) ===\n",
      "\u001b[0mNone!\n",
      "\n",
      "\u001b[34m\u001b[1m=== Style/convention errors (fix: before submission) ===\n",
      "\u001b[0m\u001b[34m\u001b[1mC0103\u001b[0m \u001b[1m(invalid-name)  \u001b[0mNumber of occurrences: 1.\n",
      "  \u001b[1m[Line 1] Invalid module name \"E9998_forbidden_io_function\"\u001b[0m\n",
      "\n",
      "\u001b[34m\u001b[1mC0111\u001b[0m \u001b[1m(missing-docstring)  \u001b[0mNumber of occurrences: 1.\n",
      "  \u001b[1m[Line 1] Missing module docstring\u001b[0m\n",
      "     \u001b[30m\u001b[0m  \u001b[1m\u001b[30m\u001b[46m\"\"\"YOUR DOCSTRING HERE\"\"\"\u001b[0m\n",
      "    \u001b[90m1\u001b[0m  \u001b[90m\u001b[0m\n",
      "    \u001b[90m2\u001b[0m  \u001b[90mdef hello():\u001b[0m\n",
      "\n",
      "\u001b[34m\u001b[1mE9998\u001b[0m \u001b[1m(IO-function-not-allowed)  \u001b[0mNumber of occurrences: 2.\n",
      "  \u001b[1m[Line 6] Used IO function input\u001b[0m\n",
      "    \u001b[90m4\u001b[0m  \u001b[90m\u001b[0m\n",
      "    \u001b[90m5\u001b[0m      \u001b[90m# You should not use input action in some assignments\u001b[0m\n",
      "    \u001b[1m\u001b[90m6\u001b[0m      \u001b[30mname = \u001b[0m\u001b[1m\u001b[30m\u001b[46minput(\"What is your name?\")\u001b[0m  \u001b[30m# Error on this line\u001b[0m\n",
      "    \u001b[90m7\u001b[0m  \u001b[90m\u001b[0m\n",
      "    \u001b[90m8\u001b[0m      \u001b[90m# You should not use print action in some assignments\u001b[0m\n",
      "\n",
      "  \u001b[1m[Line 9] Used IO function print\u001b[0m\n",
      "    \u001b[90m7\u001b[0m  \u001b[90m\u001b[0m\n",
      "    \u001b[90m8\u001b[0m      \u001b[90m# You should not use print action in some assignments\u001b[0m\n",
      "    \u001b[1m\u001b[90m9\u001b[0m      \u001b[30m\u001b[0m\u001b[1m\u001b[30m\u001b[46mprint('hello, ' + name)\u001b[0m  \u001b[30m# Error on this line\u001b[0m\n",
      "   \u001b[90m10\u001b[0m  \u001b[90m\u001b[0m\n",
      "   \u001b[90m11\u001b[0m  \u001b[90mif __name__ == '__main__':\u001b[0m\n",
      "\n",
      "\n",
      "None\n"
     ]
    },
    {
     "data": {
      "text/html": [
       "<h2><center>forbidden_import_example.py</center></h2>"
      ],
      "text/plain": [
       "<IPython.core.display.HTML object>"
      ]
     },
     "metadata": {},
     "output_type": "display_data"
    },
    {
     "name": "stdout",
     "output_type": "stream",
     "text": [
      "### Loaded configuration file: /home/kimlab1/strokach/documents/teaching/python-ta/pyta/python_ta/.pylintrc\n",
      "### Loaded configuration file: /home/kimlab1/strokach/documents/teaching/python-ta/pyta/python_ta/.pylintrc\n",
      "*************** File: /home/kimlab1/strokach/documents/teaching/python-ta/pyta/examples/forbidden_import_example.py\n",
      "\u001b[31m\u001b[1m=== Code errors/forbidden usage (fix: high priority) ===\n",
      "\u001b[0m\u001b[31m\u001b[1mE9999\u001b[0m \u001b[1m(forbidden-import)  \u001b[0mNumber of occurrences: 1.\n",
      "  \u001b[1m[Line 1] You may not import any modules - you imported re on line 1.\u001b[0m\n",
      "    \u001b[90m0\u001b[0m  \u001b[90m\u001b[0m\n",
      "    \u001b[1m\u001b[90m1\u001b[0m  \u001b[30m\u001b[0m\u001b[1m\u001b[30m\u001b[46mimport re\u001b[0m\u001b[30m\u001b[0m\n",
      "    \u001b[90m2\u001b[0m  \u001b[90m__import__(\"python_ta\")\u001b[0m\n",
      "    \u001b[90m3\u001b[0m  \u001b[90m\u001b[0m\n",
      "\n",
      "\u001b[34m\u001b[1m=== Style/convention errors (fix: before submission) ===\n",
      "\u001b[0m\u001b[34m\u001b[1mC0305\u001b[0m \u001b[1m(trailing-newlines)  \u001b[0mNumber of occurrences: 1.\n",
      "  \u001b[1m[Line 15] Trailing newlines\u001b[0m\n",
      "   \u001b[90m12\u001b[0m  \u001b[90m\u001b[0m\n",
      "   \u001b[90m13\u001b[0m  \u001b[90mif __name__ == '__main__':\u001b[0m\n",
      "   \u001b[90m14\u001b[0m      greet('david')\n",
      "   \u001b[90m15\u001b[0m  \n",
      "\n",
      "\u001b[34m\u001b[1mC0111\u001b[0m \u001b[1m(missing-docstring)  \u001b[0mNumber of occurrences: 1.\n",
      "  \u001b[1m[Line 1] Missing module docstring\u001b[0m\n",
      "     \u001b[30m\u001b[0m  \u001b[1m\u001b[30m\u001b[46m\"\"\"YOUR DOCSTRING HERE\"\"\"\u001b[0m\n",
      "    \u001b[90m1\u001b[0m  \u001b[90mimport re\u001b[0m\n",
      "    \u001b[90m2\u001b[0m  \u001b[90m__import__(\"python_ta\")\u001b[0m\n",
      "\n",
      "\u001b[34m\u001b[1mE9998\u001b[0m \u001b[1m(IO-function-not-allowed)  \u001b[0mNumber of occurrences: 2.\n",
      "  \u001b[1m[Line 8] Used IO function print\u001b[0m\n",
      "    \u001b[90m6\u001b[0m      \u001b[90m\"\"\"Print a message to the user.\"\"\"\u001b[0m\n",
      "    \u001b[90m7\u001b[0m      \u001b[90mif re.search('[a-zA-Z]{5}', name) is None:\u001b[0m\n",
      "    \u001b[1m\u001b[90m8\u001b[0m          \u001b[30m\u001b[0m\u001b[1m\u001b[30m\u001b[46mprint('Invalid name')\u001b[0m\u001b[30m\u001b[0m\n",
      "    \u001b[90m9\u001b[0m      \u001b[90melse:\u001b[0m\n",
      "   \u001b[90m10\u001b[0m          \u001b[90mprint('hello, ' + name)\u001b[0m\n",
      "\n",
      "  \u001b[1m[Line 10] Used IO function print\u001b[0m\n",
      "    \u001b[90m8\u001b[0m          \u001b[90mprint('Invalid name')\u001b[0m\n",
      "    \u001b[90m9\u001b[0m      \u001b[90melse:\u001b[0m\n",
      "   \u001b[1m\u001b[90m10\u001b[0m          \u001b[30m\u001b[0m\u001b[1m\u001b[30m\u001b[46mprint('hello, ' + name)\u001b[0m\u001b[30m\u001b[0m\n",
      "   \u001b[90m11\u001b[0m  \u001b[90m\u001b[0m\n",
      "   \u001b[90m12\u001b[0m  \u001b[90m\u001b[0m\n",
      "\n",
      "\n",
      "None\n"
     ]
    },
    {
     "data": {
      "text/html": [
       "<h2><center>assigning_to_self_example.py</center></h2>"
      ],
      "text/plain": [
       "<IPython.core.display.HTML object>"
      ]
     },
     "metadata": {},
     "output_type": "display_data"
    },
    {
     "name": "stdout",
     "output_type": "stream",
     "text": [
      "### Loaded configuration file: /home/kimlab1/strokach/documents/teaching/python-ta/pyta/python_ta/.pylintrc\n",
      "### Loaded configuration file: /home/kimlab1/strokach/documents/teaching/python-ta/pyta/python_ta/.pylintrc\n",
      "*************** File: /home/kimlab1/strokach/documents/teaching/python-ta/pyta/examples/assigning_to_self_example.py\n",
      "\u001b[31m\u001b[1m=== Code errors/forbidden usage (fix: high priority) ===\n",
      "\u001b[0mNone!\n",
      "\n",
      "\u001b[34m\u001b[1m=== Style/convention errors (fix: before submission) ===\n",
      "\u001b[0m\u001b[34m\u001b[1mC0111\u001b[0m \u001b[1m(missing-docstring)  \u001b[0mNumber of occurrences: 3.\n",
      "  \u001b[1m[Line 1] Missing module docstring\u001b[0m\n",
      "     \u001b[30m\u001b[0m  \u001b[1m\u001b[30m\u001b[46m\"\"\"YOUR DOCSTRING HERE\"\"\"\u001b[0m\n",
      "    \u001b[90m1\u001b[0m  \u001b[90mclass Assigning():\u001b[0m\n",
      "    \u001b[90m2\u001b[0m      \u001b[90mdef __init__(self, value, name):\u001b[0m\n",
      "\n",
      "  \u001b[1m[Line 1] Missing class docstring\u001b[0m\n",
      "    \u001b[90m1\u001b[0m  \u001b[90mclass Assigning():\u001b[0m\n",
      "     \u001b[30m\u001b[0m      \u001b[1m\u001b[30m\u001b[46m\"\"\"YOUR DOCSTRING HERE\"\"\"\u001b[0m\n",
      "    \u001b[90m2\u001b[0m      \u001b[90mdef __init__(self, value, name):\u001b[0m\n",
      "    \u001b[90m3\u001b[0m          \u001b[90mself.value = value\u001b[0m\n",
      "\n",
      "  \u001b[1m[Line 6] Missing method docstring\u001b[0m\n",
      "    \u001b[90m6\u001b[0m      \u001b[90mdef new_attr(self, newvalue, newname):\u001b[0m\n",
      "     \u001b[30m\u001b[0m          \u001b[1m\u001b[30m\u001b[46m\"\"\"YOUR DOCSTRING HERE\"\"\"\u001b[0m\n",
      "    \u001b[90m7\u001b[0m          \u001b[90m# wrong approach\u001b[0m\n",
      "    \u001b[90m8\u001b[0m          \u001b[90mself = newvalue  # Error on this line\u001b[0m\n",
      "\n",
      "\u001b[34m\u001b[1mE9990\u001b[0m \u001b[1m(assigning-to-self)  \u001b[0mNumber of occurrences: 1.\n",
      "  \u001b[1m[Line 8] Assigning value to self on line 8\u001b[0m\n",
      "    \u001b[90m6\u001b[0m      \u001b[90mdef new_attr(self, newvalue, newname):\u001b[0m\n",
      "    \u001b[90m7\u001b[0m          \u001b[90m# wrong approach\u001b[0m\n",
      "    \u001b[1m\u001b[90m8\u001b[0m          \u001b[30m\u001b[0m\u001b[1m\u001b[30m\u001b[46mself = newvalue\u001b[0m  \u001b[30m# Error on this line\u001b[0m\n",
      "    \u001b[90m9\u001b[0m          \u001b[90m# correct approach\u001b[0m\n",
      "\n",
      "\n",
      "None\n"
     ]
    },
    {
     "data": {
      "text/html": [
       "<h2><center>pycodestyle_example.py</center></h2>"
      ],
      "text/plain": [
       "<IPython.core.display.HTML object>"
      ]
     },
     "metadata": {},
     "output_type": "display_data"
    },
    {
     "name": "stdout",
     "output_type": "stream",
     "text": [
      "### Loaded configuration file: /home/kimlab1/strokach/documents/teaching/python-ta/pyta/python_ta/.pylintrc\n",
      "### Loaded configuration file: /home/kimlab1/strokach/documents/teaching/python-ta/pyta/python_ta/.pylintrc\n",
      "*************** File: /home/kimlab1/strokach/documents/teaching/python-ta/pyta/examples/pycodestyle_example.py\n",
      "\u001b[31m\u001b[1m=== Code errors/forbidden usage (fix: high priority) ===\n",
      "\u001b[0mNone!\n",
      "\n",
      "\u001b[34m\u001b[1m=== Style/convention errors (fix: before submission) ===\n",
      "\u001b[0m\u001b[34m\u001b[1mC0301\u001b[0m \u001b[1m(line-too-long)  \u001b[0mNumber of occurrences: 2.\n",
      "  \u001b[1m[Line 1] Line too long (82/80)\u001b[0m\n",
      "\n",
      "  \u001b[1m[Line 2] Line too long (82/80)\u001b[0m\n",
      "\n",
      "\u001b[34m\u001b[1mC0326\u001b[0m \u001b[1m(bad-whitespace)  \u001b[0mNumber of occurrences: 2.\n",
      "  \u001b[1m[Line 4] No space allowed before bracket\u001b[0m\n",
      "\n",
      "  \u001b[1m[Line 8] Exactly one space required before assignment\u001b[0m\n",
      "\n",
      "\u001b[34m\u001b[1mC0111\u001b[0m \u001b[1m(missing-docstring)  \u001b[0mNumber of occurrences: 1.\n",
      "  \u001b[1m[Line 1] Missing module docstring\u001b[0m\n",
      "     \u001b[30m\u001b[0m  \u001b[1m\u001b[30m\u001b[46m\"\"\"YOUR DOCSTRING HERE\"\"\"\u001b[0m\n",
      "    \u001b[90m1\u001b[0m  \u001b[90mtemp = \"nwsnnnnnnnnwjjj                   jjjjjjjjjjjjjj                         \"\u001b[0m\n",
      "    \u001b[90m2\u001b[0m  \u001b[90mtemp = \"nwsnnnnnnnnwjjj                   jjjjjjjjjjjjjj                         \"\u001b[0m\n",
      "\n",
      "\u001b[34m\u001b[1mE9997\u001b[0m \u001b[1m(forbidden-global-variables)  \u001b[0mNumber of occurrences: 2.\n",
      "  \u001b[1m[Line 1] Global variables should not be used in CSC108/CSC148 - a global variable 'temp' is declared on line 1\u001b[0m\n",
      "    \u001b[90m0\u001b[0m      \u001b[90mvalue           = 100\u001b[0m\n",
      "    \u001b[1m\u001b[90m1\u001b[0m  \u001b[30m\u001b[0m\u001b[1m\u001b[30m\u001b[46mtemp\u001b[0m \u001b[30m= \"nwsnnnnnnnnwjjj                   jjjjjjjjjjjjjj                         \"\u001b[0m\n",
      "    \u001b[90m2\u001b[0m  \u001b[90mtemp = \"nwsnnnnnnnnwjjj                   jjjjjjjjjjjjjj                         \"\u001b[0m\n",
      "    \u001b[90m3\u001b[0m  \u001b[90m\u001b[0m\n",
      "\n",
      "  \u001b[1m[Line 2] Global variables should not be used in CSC108/CSC148 - a global variable 'temp' is declared on line 2\u001b[0m\n",
      "    \u001b[90m0\u001b[0m      \u001b[90mvalue           = 100\u001b[0m\n",
      "    \u001b[90m1\u001b[0m  \u001b[90mtemp = \"nwsnnnnnnnnwjjj                   jjjjjjjjjjjjjj                         \"\u001b[0m\n",
      "    \u001b[1m\u001b[90m2\u001b[0m  \u001b[30m\u001b[0m\u001b[1m\u001b[30m\u001b[46mtemp\u001b[0m \u001b[30m= \"nwsnnnnnnnnwjjj                   jjjjjjjjjjjjjj                         \"\u001b[0m\n",
      "    \u001b[90m3\u001b[0m  \u001b[90m\u001b[0m\n",
      "    \u001b[90m4\u001b[0m  \u001b[90mdef function1 ():\u001b[0m\n",
      "\n",
      "\u001b[34m\u001b[1mC0103\u001b[0m \u001b[1m(invalid-name)  \u001b[0mNumber of occurrences: 2.\n",
      "  \u001b[1m[Line 1] Invalid constant name \"temp\"\u001b[0m\n",
      "    \u001b[90m0\u001b[0m      \u001b[90mvalue           = 100\u001b[0m\n",
      "    \u001b[1m\u001b[90m1\u001b[0m  \u001b[30m\u001b[0m\u001b[1m\u001b[30m\u001b[46mtemp\u001b[0m \u001b[30m= \"nwsnnnnnnnnwjjj                   jjjjjjjjjjjjjj                         \"\u001b[0m\n",
      "    \u001b[90m2\u001b[0m  \u001b[90mtemp = \"nwsnnnnnnnnwjjj                   jjjjjjjjjjjjjj                         \"\u001b[0m\n",
      "    \u001b[90m3\u001b[0m  \u001b[90m\u001b[0m\n",
      "\n",
      "  \u001b[1m[Line 2] Invalid constant name \"temp\"\u001b[0m\n",
      "    \u001b[90m0\u001b[0m      \u001b[90mvalue           = 100\u001b[0m\n",
      "    \u001b[90m1\u001b[0m  \u001b[90mtemp = \"nwsnnnnnnnnwjjj                   jjjjjjjjjjjjjj                         \"\u001b[0m\n",
      "    \u001b[1m\u001b[90m2\u001b[0m  \u001b[30m\u001b[0m\u001b[1m\u001b[30m\u001b[46mtemp\u001b[0m \u001b[30m= \"nwsnnnnnnnnwjjj                   jjjjjjjjjjjjjj                         \"\u001b[0m\n",
      "    \u001b[90m3\u001b[0m  \u001b[90m\u001b[0m\n",
      "    \u001b[90m4\u001b[0m  \u001b[90mdef function1 ():\u001b[0m\n",
      "\n",
      "\u001b[34m\u001b[1mW0612\u001b[0m \u001b[1m(unused-variable)  \u001b[0mNumber of occurrences: 1.\n",
      "  \u001b[1m[Line 8] Unused variable 'value'\u001b[0m\n",
      "    \u001b[90m6\u001b[0m      \u001b[90m@rtype: None\u001b[0m\n",
      "    \u001b[90m7\u001b[0m      \u001b[90m\"\"\"\u001b[0m\n",
      "    \u001b[1m\u001b[90m8\u001b[0m      \u001b[30m\u001b[0m\u001b[1m\u001b[30m\u001b[46mvalue\u001b[0m           \u001b[30m= 100\u001b[0m\n",
      "\n",
      "\n",
      "None\n"
     ]
    },
    {
     "data": {
      "text/html": [
       "<h2><center>always_returning_example.py</center></h2>"
      ],
      "text/plain": [
       "<IPython.core.display.HTML object>"
      ]
     },
     "metadata": {},
     "output_type": "display_data"
    },
    {
     "name": "stdout",
     "output_type": "stream",
     "text": [
      "### Loaded configuration file: /home/kimlab1/strokach/documents/teaching/python-ta/pyta/python_ta/.pylintrc\n",
      "### Loaded configuration file: /home/kimlab1/strokach/documents/teaching/python-ta/pyta/python_ta/.pylintrc\n",
      "*************** File: /home/kimlab1/strokach/documents/teaching/python-ta/pyta/examples/always_returning_example.py\n",
      "\u001b[31m\u001b[1m=== Code errors/forbidden usage (fix: high priority) ===\n",
      "\u001b[0m\u001b[31m\u001b[1mE9996\u001b[0m \u001b[1m(always-returning-in-a-loop)  \u001b[0mNumber of occurrences: 4.\n",
      "  \u001b[1m[Line 2] Always returning an object or none in the loop at this line\u001b[0m\n",
      "\n",
      "  \u001b[1m[Line 5] Always returning an object or none in the loop at this line\u001b[0m\n",
      "\n",
      "  \u001b[1m[Line 7] Always returning an object or none in the loop at this line\u001b[0m\n",
      "\n",
      "  \u001b[1m[Line 18] Always returning an object or none in the loop at this line\u001b[0m\n",
      "\n",
      "\u001b[34m\u001b[1m=== Style/convention errors (fix: before submission) ===\n",
      "\u001b[0m\u001b[34m\u001b[1mC0111\u001b[0m \u001b[1m(missing-docstring)  \u001b[0mNumber of occurrences: 2.\n",
      "  \u001b[1m[Line 1] Missing module docstring\u001b[0m\n",
      "     \u001b[30m\u001b[0m  \u001b[1m\u001b[30m\u001b[46m\"\"\"YOUR DOCSTRING HERE\"\"\"\u001b[0m\n",
      "    \u001b[90m1\u001b[0m  \u001b[90mdef loop():\u001b[0m\n",
      "    \u001b[90m2\u001b[0m      \u001b[90mfor j in range(0, 10):\u001b[0m\n",
      "\n",
      "  \u001b[1m[Line 1] Missing function docstring\u001b[0m\n",
      "    \u001b[90m1\u001b[0m  \u001b[90mdef loop():\u001b[0m\n",
      "     \u001b[30m\u001b[0m      \u001b[1m\u001b[30m\u001b[46m\"\"\"YOUR DOCSTRING HERE\"\"\"\u001b[0m\n",
      "    \u001b[90m2\u001b[0m      \u001b[90mfor j in range(0, 10):\u001b[0m\n",
      "    \u001b[90m3\u001b[0m          \u001b[90mif j < 2:\u001b[0m\n",
      "\n",
      "\u001b[34m\u001b[1mR1705\u001b[0m \u001b[1m(no-else-return)  \u001b[0mNumber of occurrences: 1.\n",
      "  \u001b[1m[Line 6] Unnecessary \"else\" after \"return\"\u001b[0m\n",
      "    \u001b[90m4\u001b[0m              \u001b[90mj += 1\u001b[0m\n",
      "    \u001b[90m5\u001b[0m              \u001b[90mfor k in range(0, 2):\u001b[0m\n",
      "    \u001b[1m\u001b[90m6\u001b[0m                  \u001b[30m\u001b[0m\u001b[1m\u001b[30m\u001b[46mif k > 2:\u001b[0m\u001b[30m\u001b[0m\n",
      "    \u001b[1m\u001b[90m6\u001b[0m  \u001b[30m\u001b[0m                \u001b[1m\u001b[30m\u001b[46mif k > 2:\u001b[0m\u001b[30m\u001b[0m\n",
      "    \u001b[1m\u001b[90m7\u001b[0m  \u001b[30m\u001b[0m                    \u001b[1m\u001b[30m\u001b[46mfor i in range(0, 5):\u001b[0m\u001b[30m\u001b[0m\n",
      "    \u001b[1m\u001b[90m8\u001b[0m  \u001b[30m\u001b[0m                        \u001b[1m\u001b[30m\u001b[46mreturn 2\u001b[0m\u001b[30m\u001b[0m\n",
      "    \u001b[1m\u001b[90m9\u001b[0m  \u001b[30m\u001b[0m                    \u001b[1m\u001b[30m\u001b[46mreturn 1\u001b[0m\u001b[30m\u001b[0m\n",
      "   \u001b[1m\u001b[90m10\u001b[0m  \u001b[30m\u001b[0m                \u001b[1m\u001b[30m\u001b[46melse:\u001b[0m\u001b[30m\u001b[0m\n",
      "   \u001b[1m\u001b[90m11\u001b[0m  \u001b[30m\u001b[0m                    \u001b[1m\u001b[30m\u001b[46mreturn 1\u001b[0m\u001b[30m\u001b[0m\n",
      "   \u001b[1m\u001b[90m12\u001b[0m  \u001b[30m\u001b[0m        \u001b[1m\u001b[30m\u001b[46melif j > 1:\u001b[0m\u001b[30m\u001b[0m\n",
      "   \u001b[1m\u001b[90m13\u001b[0m  \u001b[30m\u001b[0m            \u001b[1m\u001b[30m\u001b[46mreturn 1\u001b[0m\u001b[30m\u001b[0m\n",
      "   \u001b[1m\u001b[90m14\u001b[0m  \u001b[30m\u001b[0m        \u001b[1m\u001b[30m\u001b[46melse:\u001b[0m\u001b[30m\u001b[0m\n",
      "   \u001b[1m\u001b[90m15\u001b[0m  \u001b[30m\u001b[0m            \u001b[1m\u001b[30m\u001b[46mj += 1\u001b[0m\u001b[30m\u001b[0m\n",
      "   \u001b[1m\u001b[90m11\u001b[0m  \u001b[30m\u001b[0m                    \u001b[1m\u001b[30m\u001b[46mreturn 1\u001b[0m\u001b[30m\u001b[0m\n",
      "   \u001b[90m12\u001b[0m          \u001b[90melif j > 1:\u001b[0m\n",
      "   \u001b[90m13\u001b[0m              \u001b[90mreturn 1\u001b[0m\n",
      "\n",
      "\u001b[34m\u001b[1mR1702\u001b[0m \u001b[1m(too-many-nested-blocks)  \u001b[0mNumber of occurrences: 1.\n",
      "  \u001b[1m[Line 2] Too many nested blocks (5/3)\u001b[0m\n",
      "\n",
      "\n",
      "None\n"
     ]
    },
    {
     "data": {
      "text/html": [
       "<h2><center>dynamic_execution_example.py</center></h2>"
      ],
      "text/plain": [
       "<IPython.core.display.HTML object>"
      ]
     },
     "metadata": {},
     "output_type": "display_data"
    },
    {
     "name": "stdout",
     "output_type": "stream",
     "text": [
      "### Loaded configuration file: /home/kimlab1/strokach/documents/teaching/python-ta/pyta/python_ta/.pylintrc\n",
      "### Loaded configuration file: /home/kimlab1/strokach/documents/teaching/python-ta/pyta/python_ta/.pylintrc\n",
      "*************** File: /home/kimlab1/strokach/documents/teaching/python-ta/pyta/examples/dynamic_execution_example.py\n",
      "\u001b[31m\u001b[1m=== Code errors/forbidden usage (fix: high priority) ===\n",
      "\u001b[0m\u001b[31m\u001b[1mE9991\u001b[0m \u001b[1m(dynamic-execution-not-allowed)  \u001b[0mNumber of occurrences: 1.\n",
      "  \u001b[1m[Line 3] Dynamic execution is not allowed, you used bad built-in function eval on line 3\u001b[0m\n",
      "    \u001b[90m1\u001b[0m  \u001b[90mdef dynamic_execution(name):\u001b[0m\n",
      "    \u001b[90m2\u001b[0m      \u001b[90m\"\"\"Append in front of string 'name'\"\"\"\u001b[0m\n",
      "    \u001b[1m\u001b[90m3\u001b[0m      \u001b[30m\u001b[0m\u001b[1m\u001b[30m\u001b[46meval('hello, my name is ' + name)\u001b[0m\u001b[30m\u001b[0m\n",
      "    \u001b[90m4\u001b[0m  \u001b[90m\u001b[0m\n",
      "    \u001b[90m5\u001b[0m  \u001b[90mif __name__ == '__main__':\u001b[0m\n",
      "\n",
      "\u001b[34m\u001b[1m=== Style/convention errors (fix: before submission) ===\n",
      "\u001b[0m\u001b[34m\u001b[1mC0305\u001b[0m \u001b[1m(trailing-newlines)  \u001b[0mNumber of occurrences: 1.\n",
      "  \u001b[1m[Line 7] Trailing newlines\u001b[0m\n",
      "    \u001b[90m4\u001b[0m  \u001b[90m\u001b[0m\n",
      "    \u001b[90m5\u001b[0m  \u001b[90mif __name__ == '__main__':\u001b[0m\n",
      "    \u001b[90m6\u001b[0m      dynamic_execution('hayley')\n",
      "    \u001b[90m7\u001b[0m  \n",
      "\n",
      "\u001b[34m\u001b[1mC0111\u001b[0m \u001b[1m(missing-docstring)  \u001b[0mNumber of occurrences: 1.\n",
      "  \u001b[1m[Line 1] Missing module docstring\u001b[0m\n",
      "     \u001b[30m\u001b[0m  \u001b[1m\u001b[30m\u001b[46m\"\"\"YOUR DOCSTRING HERE\"\"\"\u001b[0m\n",
      "    \u001b[90m1\u001b[0m  \u001b[90mdef dynamic_execution(name):\u001b[0m\n",
      "    \u001b[90m2\u001b[0m      \u001b[90m\"\"\"Append in front of string 'name'\"\"\"\u001b[0m\n",
      "\n",
      "\u001b[34m\u001b[1mE9900\u001b[0m \u001b[1m(type-error)  \u001b[0mNumber of occurrences: 1.\n",
      "  \u001b[1m[Line 3] Type error \"Method <class 'str'>.__add__(~_T294) not found\" inferred\u001b[0m\n",
      "    \u001b[90m1\u001b[0m  \u001b[90mdef dynamic_execution(name):\u001b[0m\n",
      "    \u001b[90m2\u001b[0m      \u001b[90m\"\"\"Append in front of string 'name'\"\"\"\u001b[0m\n",
      "    \u001b[1m\u001b[90m3\u001b[0m      \u001b[30meval(\u001b[0m\u001b[1m\u001b[30m\u001b[46m'hello, my name is ' + name\u001b[0m\u001b[30m)\u001b[0m\n",
      "    \u001b[90m4\u001b[0m  \u001b[90m\u001b[0m\n",
      "    \u001b[90m5\u001b[0m  \u001b[90mif __name__ == '__main__':\u001b[0m\n",
      "\n",
      "\n",
      "None\n"
     ]
    },
    {
     "data": {
      "text/html": [
       "<h2><center>global_variables_example.py</center></h2>"
      ],
      "text/plain": [
       "<IPython.core.display.HTML object>"
      ]
     },
     "metadata": {},
     "output_type": "display_data"
    },
    {
     "name": "stdout",
     "output_type": "stream",
     "text": [
      "### Loaded configuration file: /home/kimlab1/strokach/documents/teaching/python-ta/pyta/python_ta/.pylintrc\n",
      "### Loaded configuration file: /home/kimlab1/strokach/documents/teaching/python-ta/pyta/python_ta/.pylintrc\n",
      "*************** File: /home/kimlab1/strokach/documents/teaching/python-ta/pyta/examples/global_variables_example.py\n",
      "\u001b[31m\u001b[1m=== Code errors/forbidden usage (fix: high priority) ===\n",
      "\u001b[0mNone!\n",
      "\n",
      "\u001b[34m\u001b[1m=== Style/convention errors (fix: before submission) ===\n",
      "\u001b[0m\u001b[34m\u001b[1mC0111\u001b[0m \u001b[1m(missing-docstring)  \u001b[0mNumber of occurrences: 1.\n",
      "  \u001b[1m[Line 1] Missing module docstring\u001b[0m\n",
      "     \u001b[30m\u001b[0m  \u001b[1m\u001b[30m\u001b[46m\"\"\"YOUR DOCSTRING HERE\"\"\"\u001b[0m\n",
      "    \u001b[90m1\u001b[0m  \u001b[90mdef function():\u001b[0m\n",
      "    \u001b[90m2\u001b[0m      \u001b[90m\"\"\" A test for the global variables checker\u001b[0m\n",
      "\n",
      "\u001b[34m\u001b[1mE9997\u001b[0m \u001b[1m(forbidden-global-variables)  \u001b[0mNumber of occurrences: 7.\n",
      " First 5 shown.  \u001b[1m[Line 7] Global variables should not be used in CSC108/CSC148 - the keyword 'global' is used on line 7\u001b[0m\n",
      "    \u001b[90m5\u001b[0m      \u001b[90m# Change \"value\" to mean the global variable.\u001b[0m\n",
      "    \u001b[90m6\u001b[0m      \u001b[90m# ... The assignment will be local without \"global.\"\u001b[0m\n",
      "    \u001b[1m\u001b[90m7\u001b[0m      \u001b[30m\u001b[0m\u001b[1m\u001b[30m\u001b[46mglobal VALUE\u001b[0m\u001b[30m\u001b[0m\n",
      "    \u001b[90m8\u001b[0m      \u001b[90mVALUE = 100\u001b[0m\n",
      "    \u001b[90m9\u001b[0m  \u001b[90m\u001b[0m\n",
      "\n",
      "  \u001b[1m[Line 11] Global variables should not be used in CSC108/CSC148 - a global variable 'function' is declared on line 11\u001b[0m\n",
      "    \u001b[90m9\u001b[0m  \u001b[90m\u001b[0m\n",
      "   \u001b[90m10\u001b[0m  \u001b[90mVALUE = 0\u001b[0m\n",
      "   \u001b[1m\u001b[90m11\u001b[0m  \u001b[30m\u001b[0m\u001b[1m\u001b[30m\u001b[46mfunction\u001b[0m\u001b[30m()\u001b[0m\n",
      "   \u001b[90m12\u001b[0m  \u001b[90mprint(VALUE)\u001b[0m\n",
      "   \u001b[90m13\u001b[0m  \u001b[90mex = 1\u001b[0m\n",
      "\n",
      "  \u001b[1m[Line 12] Global variables should not be used in CSC108/CSC148 - a global variable 'print' is declared on line 12\u001b[0m\n",
      "   \u001b[90m10\u001b[0m  \u001b[90mVALUE = 0\u001b[0m\n",
      "   \u001b[90m11\u001b[0m  \u001b[90mfunction()\u001b[0m\n",
      "   \u001b[1m\u001b[90m12\u001b[0m  \u001b[30m\u001b[0m\u001b[1m\u001b[30m\u001b[46mprint\u001b[0m\u001b[30m(VALUE)\u001b[0m\n",
      "   \u001b[90m13\u001b[0m  \u001b[90mex = 1\u001b[0m\n",
      "   \u001b[90m14\u001b[0m  \u001b[90mprint(ex)\u001b[0m\n",
      "\n",
      "  \u001b[1m[Line 13] Global variables should not be used in CSC108/CSC148 - a global variable 'ex' is declared on line 13\u001b[0m\n",
      "   \u001b[90m11\u001b[0m  \u001b[90mfunction()\u001b[0m\n",
      "   \u001b[90m12\u001b[0m  \u001b[90mprint(VALUE)\u001b[0m\n",
      "   \u001b[1m\u001b[90m13\u001b[0m  \u001b[30m\u001b[0m\u001b[1m\u001b[30m\u001b[46mex\u001b[0m \u001b[30m= 1\u001b[0m\n",
      "   \u001b[90m14\u001b[0m  \u001b[90mprint(ex)\u001b[0m\n",
      "   \u001b[90m15\u001b[0m  \u001b[90m\u001b[0m\n",
      "\n",
      "  \u001b[1m[Line 14] Global variables should not be used in CSC108/CSC148 - a global variable 'print' is declared on line 14\u001b[0m\n",
      "   \u001b[90m12\u001b[0m  \u001b[90mprint(VALUE)\u001b[0m\n",
      "   \u001b[90m13\u001b[0m  \u001b[90mex = 1\u001b[0m\n",
      "   \u001b[1m\u001b[90m14\u001b[0m  \u001b[30m\u001b[0m\u001b[1m\u001b[30m\u001b[46mprint\u001b[0m\u001b[30m(ex)\u001b[0m\n",
      "   \u001b[90m15\u001b[0m  \u001b[90m\u001b[0m\n",
      "   \u001b[90m16\u001b[0m  \u001b[90m\u001b[0m\n",
      "\n",
      "\u001b[34m\u001b[1mE9998\u001b[0m \u001b[1m(IO-function-not-allowed)  \u001b[0mNumber of occurrences: 1.\n",
      "  \u001b[1m[Line 35] Used IO function print\u001b[0m\n",
      "   \u001b[90m33\u001b[0m  \u001b[90m\u001b[0m\n",
      "   \u001b[90m34\u001b[0m      \u001b[90m# Local variable reflects nonlocal change.\u001b[0m\n",
      "   \u001b[1m\u001b[90m35\u001b[0m      \u001b[30m\u001b[0m\u001b[1m\u001b[30m\u001b[46mprint(value)\u001b[0m\u001b[30m\u001b[0m\n",
      "   \u001b[90m36\u001b[0m  \u001b[90m\u001b[0m\n",
      "   \u001b[90m37\u001b[0m  \u001b[90m\u001b[0m\n",
      "\n",
      "\n",
      "None\n"
     ]
    }
   ],
   "source": [
    "basedir = '../pyta/examples/'\n",
    "for file in os.listdir(basedir):\n",
    "    if op.isfile(op.join(basedir, file)) and file.endswith('.py'):\n",
    "        display(HTML(\"<h2><center>\" + file + \"</center></h2>\"))\n",
    "        print(python_ta.check_all('examples.{}'.format(op.splitext(file)[0])))"
   ]
  },
  {
   "cell_type": "code",
   "execution_count": null,
   "metadata": {
    "collapsed": true
   },
   "outputs": [],
   "source": []
  },
  {
   "cell_type": "code",
   "execution_count": null,
   "metadata": {
    "collapsed": true
   },
   "outputs": [],
   "source": []
  },
  {
   "cell_type": "code",
   "execution_count": null,
   "metadata": {
    "collapsed": true
   },
   "outputs": [],
   "source": []
  },
  {
   "cell_type": "code",
   "execution_count": null,
   "metadata": {
    "collapsed": true
   },
   "outputs": [],
   "source": []
  },
  {
   "cell_type": "code",
   "execution_count": null,
   "metadata": {
    "collapsed": true
   },
   "outputs": [],
   "source": []
  },
  {
   "cell_type": "markdown",
   "metadata": {},
   "source": [
    "## Pylint examples"
   ]
  },
  {
   "cell_type": "code",
   "execution_count": 25,
   "metadata": {
    "scrolled": false
   },
   "outputs": [
    {
     "data": {
      "text/html": [
       "<h2><center>W0622_redefined_builtin.py</center></h2>"
      ],
      "text/plain": [
       "<IPython.core.display.HTML object>"
      ]
     },
     "metadata": {},
     "output_type": "display_data"
    },
    {
     "name": "stdout",
     "output_type": "stream",
     "text": [
      "### Loaded configuration file: /home/kimlab1/strokach/documents/teaching/python-ta/pyta/python_ta/.pylintrc\n",
      "### Loaded configuration file: /home/kimlab1/strokach/documents/teaching/python-ta/pyta/python_ta/.pylintrc\n",
      "*************** File: /home/kimlab1/strokach/documents/teaching/python-ta/pyta/examples/pylint/W0622_redefined_builtin.py\n",
      "\u001b[31m\u001b[1m=== Code errors/forbidden usage (fix: high priority) ===\n",
      "\u001b[0m\u001b[31m\u001b[1mE9999\u001b[0m \u001b[1m(forbidden-import)  \u001b[0mNumber of occurrences: 2.\n",
      "  \u001b[1m[Line 1] You may not import any modules - you imported __future__ on line 1.\u001b[0m\n",
      "    \u001b[90m0\u001b[0m  \u001b[90mprint = new_print  # Overrides print function.\u001b[0m\n",
      "    \u001b[1m\u001b[90m1\u001b[0m  \u001b[30m\u001b[0m\u001b[1m\u001b[30m\u001b[46mfrom __future__ import print_function\u001b[0m\u001b[30m\u001b[0m\n",
      "    \u001b[90m2\u001b[0m  \u001b[90mimport builtins\u001b[0m\n",
      "    \u001b[90m3\u001b[0m  \u001b[90m\u001b[0m\n",
      "\n",
      "  \u001b[1m[Line 2] You may not import any modules - you imported builtins on line 2.\u001b[0m\n",
      "    \u001b[90m0\u001b[0m  \u001b[90mprint = new_print  # Overrides print function.\u001b[0m\n",
      "    \u001b[90m1\u001b[0m  \u001b[90mfrom __future__ import print_function\u001b[0m\n",
      "    \u001b[1m\u001b[90m2\u001b[0m  \u001b[30m\u001b[0m\u001b[1m\u001b[30m\u001b[46mimport builtins\u001b[0m\u001b[30m\u001b[0m\n",
      "    \u001b[90m3\u001b[0m  \u001b[90m\u001b[0m\n",
      "    \u001b[90m4\u001b[0m  \u001b[90m\u001b[0m\n",
      "\n",
      "\u001b[34m\u001b[1m=== Style/convention errors (fix: before submission) ===\n",
      "\u001b[0m\u001b[34m\u001b[1mC0103\u001b[0m \u001b[1m(invalid-name)  \u001b[0mNumber of occurrences: 2.\n",
      "  \u001b[1m[Line 1] Invalid module name \"W0622_redefined_builtin\"\u001b[0m\n",
      "\n",
      "  \u001b[1m[Line 8] Invalid constant name \"print\"\u001b[0m\n",
      "    \u001b[90m6\u001b[0m      \u001b[90mbuiltins.print('New print statement!')\u001b[0m\n",
      "    \u001b[90m7\u001b[0m  \u001b[90m\u001b[0m\n",
      "    \u001b[1m\u001b[90m8\u001b[0m  \u001b[30m\u001b[0m\u001b[1m\u001b[30m\u001b[46mprint\u001b[0m \u001b[30m= new_print  # Overrides print function.\u001b[0m\n",
      "\n",
      "\u001b[34m\u001b[1mC0111\u001b[0m \u001b[1m(missing-docstring)  \u001b[0mNumber of occurrences: 2.\n",
      "  \u001b[1m[Line 1] Missing module docstring\u001b[0m\n",
      "     \u001b[30m\u001b[0m  \u001b[1m\u001b[30m\u001b[46m\"\"\"YOUR DOCSTRING HERE\"\"\"\u001b[0m\n",
      "    \u001b[90m1\u001b[0m  \u001b[90mfrom __future__ import print_function\u001b[0m\n",
      "    \u001b[90m2\u001b[0m  \u001b[90mimport builtins\u001b[0m\n",
      "\n",
      "  \u001b[1m[Line 5] Missing function docstring\u001b[0m\n",
      "    \u001b[90m5\u001b[0m  \u001b[90mdef new_print(var):\u001b[0m\n",
      "     \u001b[30m\u001b[0m      \u001b[1m\u001b[30m\u001b[46m\"\"\"YOUR DOCSTRING HERE\"\"\"\u001b[0m\n",
      "    \u001b[90m6\u001b[0m      \u001b[90mbuiltins.print('New print statement!')\u001b[0m\n",
      "    \u001b[90m7\u001b[0m  \u001b[90m\u001b[0m\n",
      "\n",
      "\u001b[34m\u001b[1mW0622\u001b[0m \u001b[1m(redefined-builtin)  \u001b[0mNumber of occurrences: 1.\n",
      "  \u001b[1m[Line 8] Redefining built-in 'print'\u001b[0m\n",
      "    \u001b[90m6\u001b[0m      \u001b[90mbuiltins.print('New print statement!')\u001b[0m\n",
      "    \u001b[90m7\u001b[0m  \u001b[90m\u001b[0m\n",
      "    \u001b[1m\u001b[90m8\u001b[0m  \u001b[30m\u001b[0m\u001b[1m\u001b[30m\u001b[46mprint\u001b[0m \u001b[30m= new_print  # Overrides print function.\u001b[0m\n",
      "\n",
      "\u001b[34m\u001b[1mW0613\u001b[0m \u001b[1m(unused-argument)  \u001b[0mNumber of occurrences: 1.\n",
      "  \u001b[1m[Line 5] Unused argument 'var'\u001b[0m\n",
      "    \u001b[90m3\u001b[0m  \u001b[90m\u001b[0m\n",
      "    \u001b[90m4\u001b[0m  \u001b[90m\u001b[0m\n",
      "    \u001b[1m\u001b[90m5\u001b[0m  \u001b[30mdef new_print(\u001b[0m\u001b[1m\u001b[30m\u001b[46mvar\u001b[0m\u001b[30m):\u001b[0m\n",
      "    \u001b[90m6\u001b[0m      \u001b[90mbuiltins.print('New print statement!')\u001b[0m\n",
      "    \u001b[90m7\u001b[0m  \u001b[90m\u001b[0m\n",
      "\n",
      "\u001b[34m\u001b[1mE9997\u001b[0m \u001b[1m(forbidden-global-variables)  \u001b[0mNumber of occurrences: 3.\n",
      "  \u001b[1m[Line 8] Global variables should not be used in CSC108/CSC148 - a global variable 'print' is declared on line 8\u001b[0m\n",
      "    \u001b[90m6\u001b[0m      \u001b[90mbuiltins.print('New print statement!')\u001b[0m\n",
      "    \u001b[90m7\u001b[0m  \u001b[90m\u001b[0m\n",
      "    \u001b[1m\u001b[90m8\u001b[0m  \u001b[30m\u001b[0m\u001b[1m\u001b[30m\u001b[46mprint\u001b[0m \u001b[30m= new_print  # Overrides print function.\u001b[0m\n",
      "\n",
      "  \u001b[1m[Line 8] Global variables should not be used in CSC108/CSC148 - a global variable 'new_print' is declared on line 8\u001b[0m\n",
      "    \u001b[90m6\u001b[0m      \u001b[90mbuiltins.print('New print statement!')\u001b[0m\n",
      "    \u001b[90m7\u001b[0m  \u001b[90m\u001b[0m\n",
      "    \u001b[1m\u001b[90m8\u001b[0m  \u001b[30mprint = \u001b[0m\u001b[1m\u001b[30m\u001b[46mnew_print\u001b[0m  \u001b[30m# Overrides print function.\u001b[0m\n",
      "\n",
      "  \u001b[1m[Line 8] Global variables should not be used in CSC108/CSC148 - a global variable 'new_print' is declared on line 8\u001b[0m\n",
      "    \u001b[90m6\u001b[0m      \u001b[90mbuiltins.print('New print statement!')\u001b[0m\n",
      "    \u001b[90m7\u001b[0m  \u001b[90m\u001b[0m\n",
      "    \u001b[1m\u001b[90m8\u001b[0m  \u001b[30mprint = \u001b[0m\u001b[1m\u001b[30m\u001b[46mnew_print\u001b[0m  \u001b[30m# Overrides print function.\u001b[0m\n",
      "\n",
      "\n",
      "None\n"
     ]
    },
    {
     "data": {
      "text/html": [
       "<h2><center>E1121_too_many_function_args.py</center></h2>"
      ],
      "text/plain": [
       "<IPython.core.display.HTML object>"
      ]
     },
     "metadata": {},
     "output_type": "display_data"
    },
    {
     "name": "stdout",
     "output_type": "stream",
     "text": [
      "### Loaded configuration file: /home/kimlab1/strokach/documents/teaching/python-ta/pyta/python_ta/.pylintrc\n",
      "### Loaded configuration file: /home/kimlab1/strokach/documents/teaching/python-ta/pyta/python_ta/.pylintrc\n",
      "*************** File: /home/kimlab1/strokach/documents/teaching/python-ta/pyta/examples/pylint/E1121_too_many_function_args.py\n",
      "\u001b[31m\u001b[1m=== Code errors/forbidden usage (fix: high priority) ===\n",
      "\u001b[0m\u001b[31m\u001b[1mE1121\u001b[0m \u001b[1m(too-many-function-args)  \u001b[0mNumber of occurrences: 1.\n",
      "  \u001b[1m[Line 11] Too many positional arguments for function call\u001b[0m\n",
      "    \u001b[90m9\u001b[0m      \u001b[90mreturn x + y\u001b[0m\n",
      "   \u001b[90m10\u001b[0m  \u001b[90m\u001b[0m\n",
      "   \u001b[1m\u001b[90m11\u001b[0m  \u001b[30m\u001b[0m\u001b[1m\u001b[30m\u001b[46mget_sum(1, 2, 3)\u001b[0m  \u001b[30m# Error on this line\u001b[0m\n",
      "\n",
      "\u001b[34m\u001b[1m=== Style/convention errors (fix: before submission) ===\n",
      "\u001b[0m\u001b[34m\u001b[1mC0103\u001b[0m \u001b[1m(invalid-name)  \u001b[0mNumber of occurrences: 1.\n",
      "  \u001b[1m[Line 1] Invalid module name \"E1121_too_many_function_args\"\u001b[0m\n",
      "\n",
      "\u001b[34m\u001b[1mC0111\u001b[0m \u001b[1m(missing-docstring)  \u001b[0mNumber of occurrences: 1.\n",
      "  \u001b[1m[Line 1] Missing module docstring\u001b[0m\n",
      "     \u001b[30m\u001b[0m  \u001b[1m\u001b[30m\u001b[46m\"\"\"YOUR DOCSTRING HERE\"\"\"\u001b[0m\n",
      "    \u001b[90m1\u001b[0m  \u001b[90mdef get_sum(x, y):\u001b[0m\n",
      "    \u001b[90m2\u001b[0m      \u001b[90m\"\"\"\u001b[0m\n",
      "\n",
      "\u001b[34m\u001b[1mE9900\u001b[0m \u001b[1m(type-error)  \u001b[0mNumber of occurrences: 1.\n",
      "  \u001b[1m[Line 9] Type error \"Method ~_T59766.__add__ not found\" inferred\u001b[0m\n",
      "    \u001b[90m7\u001b[0m      \u001b[90m@rtype: int\u001b[0m\n",
      "    \u001b[90m8\u001b[0m      \u001b[90m\"\"\"\u001b[0m\n",
      "    \u001b[1m\u001b[90m9\u001b[0m      \u001b[30mreturn \u001b[0m\u001b[1m\u001b[30m\u001b[46mx + y\u001b[0m\u001b[30m\u001b[0m\n",
      "   \u001b[90m10\u001b[0m  \u001b[90m\u001b[0m\n",
      "\n",
      "\u001b[34m\u001b[1mE9997\u001b[0m \u001b[1m(forbidden-global-variables)  \u001b[0mNumber of occurrences: 1.\n",
      "  \u001b[1m[Line 11] Global variables should not be used in CSC108/CSC148 - a global variable 'get_sum' is declared on line 11\u001b[0m\n",
      "    \u001b[90m9\u001b[0m      \u001b[90mreturn x + y\u001b[0m\n",
      "   \u001b[90m10\u001b[0m  \u001b[90m\u001b[0m\n",
      "   \u001b[1m\u001b[90m11\u001b[0m  \u001b[30m\u001b[0m\u001b[1m\u001b[30m\u001b[46mget_sum\u001b[0m\u001b[30m(1, 2, 3)  # Error on this line\u001b[0m\n",
      "\n",
      "\n",
      "None\n"
     ]
    },
    {
     "data": {
      "text/html": [
       "<h2><center>W0401_wildcard_import.py</center></h2>"
      ],
      "text/plain": [
       "<IPython.core.display.HTML object>"
      ]
     },
     "metadata": {},
     "output_type": "display_data"
    },
    {
     "name": "stdout",
     "output_type": "stream",
     "text": [
      "### Loaded configuration file: /home/kimlab1/strokach/documents/teaching/python-ta/pyta/python_ta/.pylintrc\n",
      "### Loaded configuration file: /home/kimlab1/strokach/documents/teaching/python-ta/pyta/python_ta/.pylintrc\n",
      "*************** File: /home/kimlab1/strokach/documents/teaching/python-ta/pyta/examples/pylint/W0401_wildcard_import.py\n",
      "\u001b[31m\u001b[1m=== Code errors/forbidden usage (fix: high priority) ===\n",
      "\u001b[0m\u001b[31m\u001b[1mE9999\u001b[0m \u001b[1m(forbidden-import)  \u001b[0mNumber of occurrences: 1.\n",
      "  \u001b[1m[Line 1] You may not import any modules - you imported valid_module on line 1.\u001b[0m\n",
      "    \u001b[90m0\u001b[0m  \u001b[90mfrom valid_module import *\u001b[0m\n",
      "    \u001b[1m\u001b[90m1\u001b[0m  \u001b[30m\u001b[0m\u001b[1m\u001b[30m\u001b[46mfrom valid_module import *\u001b[0m\u001b[30m\u001b[0m\n",
      "\n",
      "\u001b[31m\u001b[1mE0401\u001b[0m \u001b[1m(import-error)  \u001b[0mNumber of occurrences: 1.\n",
      "  \u001b[1m[Line 1] Unable to import 'valid_module'\u001b[0m\n",
      "    \u001b[90m0\u001b[0m  \u001b[90mfrom valid_module import *\u001b[0m\n",
      "    \u001b[1m\u001b[90m1\u001b[0m  \u001b[30m\u001b[0m\u001b[1m\u001b[30m\u001b[46mfrom valid_module import *\u001b[0m\u001b[30m\u001b[0m\n",
      "\n",
      "\u001b[34m\u001b[1m=== Style/convention errors (fix: before submission) ===\n",
      "\u001b[0m\u001b[34m\u001b[1mC0103\u001b[0m \u001b[1m(invalid-name)  \u001b[0mNumber of occurrences: 1.\n",
      "  \u001b[1m[Line 1] Invalid module name \"W0401_wildcard_import\"\u001b[0m\n",
      "\n",
      "\u001b[34m\u001b[1mC0111\u001b[0m \u001b[1m(missing-docstring)  \u001b[0mNumber of occurrences: 1.\n",
      "  \u001b[1m[Line 1] Missing module docstring\u001b[0m\n",
      "     \u001b[30m\u001b[0m  \u001b[1m\u001b[30m\u001b[46m\"\"\"YOUR DOCSTRING HERE\"\"\"\u001b[0m\n",
      "\n",
      "\u001b[34m\u001b[1mW0401\u001b[0m \u001b[1m(wildcard-import)  \u001b[0mNumber of occurrences: 1.\n",
      "  \u001b[1m[Line 1] Wildcard import valid_module\u001b[0m\n",
      "    \u001b[90m0\u001b[0m  \u001b[90mfrom valid_module import *\u001b[0m\n",
      "    \u001b[1m\u001b[90m1\u001b[0m  \u001b[30m\u001b[0m\u001b[1m\u001b[30m\u001b[46mfrom valid_module import *\u001b[0m\u001b[30m\u001b[0m\n",
      "\n",
      "\n",
      "None\n"
     ]
    },
    {
     "data": {
      "text/html": [
       "<h2><center>W1303_missing_format_argument_key.py</center></h2>"
      ],
      "text/plain": [
       "<IPython.core.display.HTML object>"
      ]
     },
     "metadata": {},
     "output_type": "display_data"
    },
    {
     "name": "stdout",
     "output_type": "stream",
     "text": [
      "### Loaded configuration file: /home/kimlab1/strokach/documents/teaching/python-ta/pyta/python_ta/.pylintrc\n",
      "### Loaded configuration file: /home/kimlab1/strokach/documents/teaching/python-ta/pyta/python_ta/.pylintrc\n",
      "*************** File: /home/kimlab1/strokach/documents/teaching/python-ta/pyta/examples/pylint/W1303_missing_format_argument_key.py\n",
      "\u001b[31m\u001b[1m=== Code errors/forbidden usage (fix: high priority) ===\n",
      "\u001b[0mNone!\n",
      "\n",
      "\u001b[34m\u001b[1m=== Style/convention errors (fix: before submission) ===\n",
      "\u001b[0m\u001b[34m\u001b[1mC0103\u001b[0m \u001b[1m(invalid-name)  \u001b[0mNumber of occurrences: 2.\n",
      "  \u001b[1m[Line 1] Invalid module name \"W1303_missing_format_argument_key\"\u001b[0m\n",
      "\n",
      "  \u001b[1m[Line 2] Invalid constant name \"action\"\u001b[0m\n",
      "    \u001b[90m0\u001b[0m  \u001b[90maction = '{bond}, {james} {act}'.format(bond='bond', james='james')\u001b[0m\n",
      "    \u001b[90m1\u001b[0m  \u001b[90m# Error on the following line:\u001b[0m\n",
      "    \u001b[1m\u001b[90m2\u001b[0m  \u001b[30m\u001b[0m\u001b[1m\u001b[30m\u001b[46maction\u001b[0m \u001b[30m= '{bond}, {james} {act}'.format(bond='bond', james='james')\u001b[0m\n",
      "\n",
      "\u001b[34m\u001b[1mC0111\u001b[0m \u001b[1m(missing-docstring)  \u001b[0mNumber of occurrences: 1.\n",
      "  \u001b[1m[Line 1] Missing module docstring\u001b[0m\n",
      "     \u001b[30m\u001b[0m  \u001b[1m\u001b[30m\u001b[46m\"\"\"YOUR DOCSTRING HERE\"\"\"\u001b[0m\n",
      "    \u001b[90m1\u001b[0m  \u001b[90m# Error on the following line:\u001b[0m\n",
      "\n",
      "\u001b[34m\u001b[1mE9997\u001b[0m \u001b[1m(forbidden-global-variables)  \u001b[0mNumber of occurrences: 1.\n",
      "  \u001b[1m[Line 2] Global variables should not be used in CSC108/CSC148 - a global variable 'action' is declared on line 2\u001b[0m\n",
      "    \u001b[90m0\u001b[0m  \u001b[90maction = '{bond}, {james} {act}'.format(bond='bond', james='james')\u001b[0m\n",
      "    \u001b[90m1\u001b[0m  \u001b[90m# Error on the following line:\u001b[0m\n",
      "    \u001b[1m\u001b[90m2\u001b[0m  \u001b[30m\u001b[0m\u001b[1m\u001b[30m\u001b[46maction\u001b[0m \u001b[30m= '{bond}, {james} {act}'.format(bond='bond', james='james')\u001b[0m\n",
      "\n",
      "\u001b[34m\u001b[1mW1303\u001b[0m \u001b[1m(missing-format-argument-key)  \u001b[0mNumber of occurrences: 1.\n",
      "  \u001b[1m[Line 2] Missing keyword argument 'act' for format string\u001b[0m\n",
      "    \u001b[90m0\u001b[0m  \u001b[90maction = '{bond}, {james} {act}'.format(bond='bond', james='james')\u001b[0m\n",
      "    \u001b[90m1\u001b[0m  \u001b[90m# Error on the following line:\u001b[0m\n",
      "    \u001b[1m\u001b[90m2\u001b[0m  \u001b[30maction = \u001b[0m\u001b[1m\u001b[30m\u001b[46m'{bond}, {james} {act}'.format(bond='bond', james='james')\u001b[0m\u001b[30m\u001b[0m\n",
      "\n",
      "\n",
      "None\n"
     ]
    },
    {
     "data": {
      "text/html": [
       "<h2><center>E0211_no_method_argument.py</center></h2>"
      ],
      "text/plain": [
       "<IPython.core.display.HTML object>"
      ]
     },
     "metadata": {},
     "output_type": "display_data"
    },
    {
     "name": "stdout",
     "output_type": "stream",
     "text": [
      "### Loaded configuration file: /home/kimlab1/strokach/documents/teaching/python-ta/pyta/python_ta/.pylintrc\n",
      "### Loaded configuration file: /home/kimlab1/strokach/documents/teaching/python-ta/pyta/python_ta/.pylintrc\n",
      "*************** File: /home/kimlab1/strokach/documents/teaching/python-ta/pyta/examples/pylint/E0211_no_method_argument.py\n",
      "\u001b[31m\u001b[1m=== Code errors/forbidden usage (fix: high priority) ===\n",
      "\u001b[0mNone!\n",
      "\n",
      "\u001b[34m\u001b[1m=== Style/convention errors (fix: before submission) ===\n",
      "\u001b[0m\u001b[34m\u001b[1mC0103\u001b[0m \u001b[1m(invalid-name)  \u001b[0mNumber of occurrences: 1.\n",
      "  \u001b[1m[Line 1] Invalid module name \"E0211_no_method_argument\"\u001b[0m\n",
      "\n",
      "\u001b[34m\u001b[1mC0111\u001b[0m \u001b[1m(missing-docstring)  \u001b[0mNumber of occurrences: 3.\n",
      "  \u001b[1m[Line 1] Missing module docstring\u001b[0m\n",
      "     \u001b[30m\u001b[0m  \u001b[1m\u001b[30m\u001b[46m\"\"\"YOUR DOCSTRING HERE\"\"\"\u001b[0m\n",
      "    \u001b[90m1\u001b[0m  \u001b[90mclass MyClass:\u001b[0m\n",
      "    \u001b[90m2\u001b[0m      \u001b[90mdef __init__(self):\u001b[0m\n",
      "\n",
      "  \u001b[1m[Line 1] Missing class docstring\u001b[0m\n",
      "    \u001b[90m1\u001b[0m  \u001b[90mclass MyClass:\u001b[0m\n",
      "     \u001b[30m\u001b[0m      \u001b[1m\u001b[30m\u001b[46m\"\"\"YOUR DOCSTRING HERE\"\"\"\u001b[0m\n",
      "    \u001b[90m2\u001b[0m      \u001b[90mdef __init__(self):\u001b[0m\n",
      "    \u001b[90m3\u001b[0m          \u001b[90mpass\u001b[0m\n",
      "\n",
      "  \u001b[1m[Line 5] Missing method docstring\u001b[0m\n",
      "    \u001b[90m5\u001b[0m      \u001b[90mdef method():\u001b[0m\n",
      "     \u001b[30m\u001b[0m          \u001b[1m\u001b[30m\u001b[46m\"\"\"YOUR DOCSTRING HERE\"\"\"\u001b[0m\n",
      "\n",
      "\u001b[34m\u001b[1mE0211\u001b[0m \u001b[1m(no-method-argument)  \u001b[0mNumber of occurrences: 1.\n",
      "  \u001b[1m[Line 5] Method has no argument\u001b[0m\n",
      "    \u001b[90m3\u001b[0m          \u001b[90mpass\u001b[0m\n",
      "    \u001b[90m4\u001b[0m  \u001b[90m\u001b[0m\n",
      "    \u001b[1m\u001b[90m5\u001b[0m      \u001b[30m\u001b[0m\u001b[1m\u001b[30m\u001b[46mdef method():\u001b[0m\u001b[30m\u001b[0m\n",
      "    \u001b[1m\u001b[90m6\u001b[0m  \u001b[30m\u001b[0m        \u001b[1m\u001b[30m\u001b[46mprint('Missing argument for method definition')\u001b[0m\u001b[30m\u001b[0m\n",
      "\n",
      "\u001b[34m\u001b[1mE9998\u001b[0m \u001b[1m(IO-function-not-allowed)  \u001b[0mNumber of occurrences: 1.\n",
      "  \u001b[1m[Line 6] Used IO function print\u001b[0m\n",
      "    \u001b[90m4\u001b[0m  \u001b[90m\u001b[0m\n",
      "    \u001b[90m5\u001b[0m      \u001b[90mdef method():\u001b[0m\n",
      "    \u001b[1m\u001b[90m6\u001b[0m          \u001b[30m\u001b[0m\u001b[1m\u001b[30m\u001b[46mprint('Missing argument for method definition')\u001b[0m\u001b[30m\u001b[0m\n",
      "\n",
      "\n",
      "None\n"
     ]
    },
    {
     "data": {
      "text/html": [
       "<h2><center>E1131_unsupported_binary_operation.py</center></h2>"
      ],
      "text/plain": [
       "<IPython.core.display.HTML object>"
      ]
     },
     "metadata": {},
     "output_type": "display_data"
    },
    {
     "name": "stdout",
     "output_type": "stream",
     "text": [
      "### Loaded configuration file: /home/kimlab1/strokach/documents/teaching/python-ta/pyta/python_ta/.pylintrc\n",
      "### Loaded configuration file: /home/kimlab1/strokach/documents/teaching/python-ta/pyta/python_ta/.pylintrc\n",
      "*************** File: /home/kimlab1/strokach/documents/teaching/python-ta/pyta/examples/pylint/E1131_unsupported_binary_operation.py\n",
      "\u001b[31m\u001b[1m=== Code errors/forbidden usage (fix: high priority) ===\n",
      "\u001b[0mNone!\n",
      "\n",
      "\u001b[34m\u001b[1m=== Style/convention errors (fix: before submission) ===\n",
      "\u001b[0m\u001b[34m\u001b[1mC0103\u001b[0m \u001b[1m(invalid-name)  \u001b[0mNumber of occurrences: 4.\n",
      "  \u001b[1m[Line 1] Invalid module name \"E1131_unsupported_binary_operation\"\u001b[0m\n",
      "\n",
      "  \u001b[1m[Line 1] Invalid constant name \"a\"\u001b[0m\n",
      "    \u001b[90m0\u001b[0m  \u001b[90mc = a + b  # Error on this line\u001b[0m\n",
      "    \u001b[1m\u001b[90m1\u001b[0m  \u001b[30m\u001b[0m\u001b[1m\u001b[30m\u001b[46ma\u001b[0m \u001b[30m= [1, 2]\u001b[0m\n",
      "    \u001b[90m2\u001b[0m  \u001b[90mb = {'p': 1}\u001b[0m\n",
      "\n",
      "  \u001b[1m[Line 2] Invalid constant name \"b\"\u001b[0m\n",
      "    \u001b[90m0\u001b[0m  \u001b[90mc = a + b  # Error on this line\u001b[0m\n",
      "    \u001b[90m1\u001b[0m  \u001b[90ma = [1, 2]\u001b[0m\n",
      "    \u001b[1m\u001b[90m2\u001b[0m  \u001b[30m\u001b[0m\u001b[1m\u001b[30m\u001b[46mb\u001b[0m \u001b[30m= {'p': 1}\u001b[0m\n",
      "\n",
      "  \u001b[1m[Line 3] Invalid constant name \"c\"\u001b[0m\n",
      "    \u001b[90m1\u001b[0m  \u001b[90ma = [1, 2]\u001b[0m\n",
      "    \u001b[90m2\u001b[0m  \u001b[90mb = {'p': 1}\u001b[0m\n",
      "    \u001b[1m\u001b[90m3\u001b[0m  \u001b[30m\u001b[0m\u001b[1m\u001b[30m\u001b[46mc\u001b[0m \u001b[30m= a + b  # Error on this line\u001b[0m\n",
      "\n",
      "\u001b[34m\u001b[1mC0111\u001b[0m \u001b[1m(missing-docstring)  \u001b[0mNumber of occurrences: 1.\n",
      "  \u001b[1m[Line 1] Missing module docstring\u001b[0m\n",
      "     \u001b[30m\u001b[0m  \u001b[1m\u001b[30m\u001b[46m\"\"\"YOUR DOCSTRING HERE\"\"\"\u001b[0m\n",
      "    \u001b[90m1\u001b[0m  \u001b[90ma = [1, 2]\u001b[0m\n",
      "    \u001b[90m2\u001b[0m  \u001b[90mb = {'p': 1}\u001b[0m\n",
      "\n",
      "\u001b[34m\u001b[1mE9997\u001b[0m \u001b[1m(forbidden-global-variables)  \u001b[0mNumber of occurrences: 7.\n",
      " First 5 shown.  \u001b[1m[Line 1] Global variables should not be used in CSC108/CSC148 - a global variable 'a' is declared on line 1\u001b[0m\n",
      "    \u001b[90m0\u001b[0m  \u001b[90mc = a + b  # Error on this line\u001b[0m\n",
      "    \u001b[1m\u001b[90m1\u001b[0m  \u001b[30m\u001b[0m\u001b[1m\u001b[30m\u001b[46ma\u001b[0m \u001b[30m= [1, 2]\u001b[0m\n",
      "    \u001b[90m2\u001b[0m  \u001b[90mb = {'p': 1}\u001b[0m\n",
      "\n",
      "  \u001b[1m[Line 2] Global variables should not be used in CSC108/CSC148 - a global variable 'b' is declared on line 2\u001b[0m\n",
      "    \u001b[90m0\u001b[0m  \u001b[90mc = a + b  # Error on this line\u001b[0m\n",
      "    \u001b[90m1\u001b[0m  \u001b[90ma = [1, 2]\u001b[0m\n",
      "    \u001b[1m\u001b[90m2\u001b[0m  \u001b[30m\u001b[0m\u001b[1m\u001b[30m\u001b[46mb\u001b[0m \u001b[30m= {'p': 1}\u001b[0m\n",
      "\n",
      "  \u001b[1m[Line 3] Global variables should not be used in CSC108/CSC148 - a global variable 'c' is declared on line 3\u001b[0m\n",
      "    \u001b[90m1\u001b[0m  \u001b[90ma = [1, 2]\u001b[0m\n",
      "    \u001b[90m2\u001b[0m  \u001b[90mb = {'p': 1}\u001b[0m\n",
      "    \u001b[1m\u001b[90m3\u001b[0m  \u001b[30m\u001b[0m\u001b[1m\u001b[30m\u001b[46mc\u001b[0m \u001b[30m= a + b  # Error on this line\u001b[0m\n",
      "\n",
      "  \u001b[1m[Line 3] Global variables should not be used in CSC108/CSC148 - a global variable 'a' is declared on line 3\u001b[0m\n",
      "    \u001b[90m1\u001b[0m  \u001b[90ma = [1, 2]\u001b[0m\n",
      "    \u001b[90m2\u001b[0m  \u001b[90mb = {'p': 1}\u001b[0m\n",
      "    \u001b[1m\u001b[90m3\u001b[0m  \u001b[30mc = \u001b[0m\u001b[1m\u001b[30m\u001b[46ma\u001b[0m \u001b[30m+ b  # Error on this line\u001b[0m\n",
      "\n",
      "  \u001b[1m[Line 3] Global variables should not be used in CSC108/CSC148 - a global variable 'b' is declared on line 3\u001b[0m\n",
      "    \u001b[90m1\u001b[0m  \u001b[90ma = [1, 2]\u001b[0m\n",
      "    \u001b[90m2\u001b[0m  \u001b[90mb = {'p': 1}\u001b[0m\n",
      "    \u001b[1m\u001b[90m3\u001b[0m  \u001b[30mc = a + \u001b[0m\u001b[1m\u001b[30m\u001b[46mb\u001b[0m  \u001b[30m# Error on this line\u001b[0m\n",
      "\n",
      "\u001b[34m\u001b[1mE9900\u001b[0m \u001b[1m(type-error)  \u001b[0mNumber of occurrences: 1.\n",
      "  \u001b[1m[Line 3] Type error \"incompatible types typing.List[int] and typing.Dict[str, int] in BinOp\" inferred\u001b[0m\n",
      "    \u001b[90m1\u001b[0m  \u001b[90ma = [1, 2]\u001b[0m\n",
      "    \u001b[90m2\u001b[0m  \u001b[90mb = {'p': 1}\u001b[0m\n",
      "    \u001b[1m\u001b[90m3\u001b[0m  \u001b[30mc = \u001b[0m\u001b[1m\u001b[30m\u001b[46ma + b\u001b[0m  \u001b[30m# Error on this line\u001b[0m\n",
      "\n",
      "\n",
      "None\n"
     ]
    },
    {
     "data": {
      "text/html": [
       "<h2><center>E1120_no_value_for_parameter.py</center></h2>"
      ],
      "text/plain": [
       "<IPython.core.display.HTML object>"
      ]
     },
     "metadata": {},
     "output_type": "display_data"
    },
    {
     "name": "stdout",
     "output_type": "stream",
     "text": [
      "### Loaded configuration file: /home/kimlab1/strokach/documents/teaching/python-ta/pyta/python_ta/.pylintrc\n",
      "### Loaded configuration file: /home/kimlab1/strokach/documents/teaching/python-ta/pyta/python_ta/.pylintrc\n",
      "*************** File: /home/kimlab1/strokach/documents/teaching/python-ta/pyta/examples/pylint/E1120_no_value_for_parameter.py\n",
      "\u001b[31m\u001b[1m=== Code errors/forbidden usage (fix: high priority) ===\n",
      "\u001b[0m\u001b[31m\u001b[1mE1120\u001b[0m \u001b[1m(no-value-for-parameter)  \u001b[0mNumber of occurrences: 1.\n",
      "  \u001b[1m[Line 12] No value for argument 'z' in function call\u001b[0m\n",
      "   \u001b[90m10\u001b[0m      \u001b[90mreturn x + y + z\u001b[0m\n",
      "   \u001b[90m11\u001b[0m  \u001b[90m\u001b[0m\n",
      "   \u001b[1m\u001b[90m12\u001b[0m  \u001b[30m\u001b[0m\u001b[1m\u001b[30m\u001b[46mget_sum(1, 2)\u001b[0m  \u001b[30m# Error on this line\u001b[0m\n",
      "\n",
      "\u001b[34m\u001b[1m=== Style/convention errors (fix: before submission) ===\n",
      "\u001b[0m\u001b[34m\u001b[1mC0103\u001b[0m \u001b[1m(invalid-name)  \u001b[0mNumber of occurrences: 1.\n",
      "  \u001b[1m[Line 1] Invalid module name \"E1120_no_value_for_parameter\"\u001b[0m\n",
      "\n",
      "\u001b[34m\u001b[1mC0111\u001b[0m \u001b[1m(missing-docstring)  \u001b[0mNumber of occurrences: 1.\n",
      "  \u001b[1m[Line 1] Missing module docstring\u001b[0m\n",
      "     \u001b[30m\u001b[0m  \u001b[1m\u001b[30m\u001b[46m\"\"\"YOUR DOCSTRING HERE\"\"\"\u001b[0m\n",
      "    \u001b[90m1\u001b[0m  \u001b[90mdef get_sum(x, y, z):\u001b[0m\n",
      "    \u001b[90m2\u001b[0m      \u001b[90m\"\"\"\u001b[0m\n",
      "\n",
      "\u001b[34m\u001b[1mE9900\u001b[0m \u001b[1m(type-error)  \u001b[0mNumber of occurrences: 2.\n",
      "  \u001b[1m[Line 10] Type error \"Method Method ~_T63151.__add__ not found.__add__ not found\" inferred\u001b[0m\n",
      "    \u001b[90m8\u001b[0m      \u001b[90m@rtype: int\u001b[0m\n",
      "    \u001b[90m9\u001b[0m      \u001b[90m\"\"\"\u001b[0m\n",
      "   \u001b[1m\u001b[90m10\u001b[0m      \u001b[30mreturn x + y \u001b[0m\u001b[1m\u001b[30m\u001b[46m+ z\u001b[0m\u001b[30m\u001b[0m\n",
      "   \u001b[90m11\u001b[0m  \u001b[90m\u001b[0m\n",
      "\n",
      "  \u001b[1m[Line 10] Type error \"Method ~_T63151.__add__ not found\" inferred\u001b[0m\n",
      "    \u001b[90m8\u001b[0m      \u001b[90m@rtype: int\u001b[0m\n",
      "    \u001b[90m9\u001b[0m      \u001b[90m\"\"\"\u001b[0m\n",
      "   \u001b[1m\u001b[90m10\u001b[0m      \u001b[30mreturn \u001b[0m\u001b[1m\u001b[30m\u001b[46mx + y\u001b[0m \u001b[30m+ z\u001b[0m\n",
      "   \u001b[90m11\u001b[0m  \u001b[90m\u001b[0m\n",
      "\n",
      "\u001b[34m\u001b[1mE9997\u001b[0m \u001b[1m(forbidden-global-variables)  \u001b[0mNumber of occurrences: 1.\n",
      "  \u001b[1m[Line 12] Global variables should not be used in CSC108/CSC148 - a global variable 'get_sum' is declared on line 12\u001b[0m\n",
      "   \u001b[90m10\u001b[0m      \u001b[90mreturn x + y + z\u001b[0m\n",
      "   \u001b[90m11\u001b[0m  \u001b[90m\u001b[0m\n",
      "   \u001b[1m\u001b[90m12\u001b[0m  \u001b[30m\u001b[0m\u001b[1m\u001b[30m\u001b[46mget_sum\u001b[0m\u001b[30m(1, 2)  # Error on this line\u001b[0m\n",
      "\n",
      "\n",
      "None\n"
     ]
    },
    {
     "data": {
      "text/html": [
       "<h2><center>W0233_non_parent_init.py</center></h2>"
      ],
      "text/plain": [
       "<IPython.core.display.HTML object>"
      ]
     },
     "metadata": {},
     "output_type": "display_data"
    },
    {
     "name": "stdout",
     "output_type": "stream",
     "text": [
      "### Loaded configuration file: /home/kimlab1/strokach/documents/teaching/python-ta/pyta/python_ta/.pylintrc\n",
      "### Loaded configuration file: /home/kimlab1/strokach/documents/teaching/python-ta/pyta/python_ta/.pylintrc\n",
      "*************** File: /home/kimlab1/strokach/documents/teaching/python-ta/pyta/examples/pylint/W0233_non_parent_init.py\n",
      "\u001b[31m\u001b[1m=== Code errors/forbidden usage (fix: high priority) ===\n",
      "\u001b[0m\u001b[31m\u001b[1mW0233\u001b[0m \u001b[1m(non-parent-init-called)  \u001b[0mNumber of occurrences: 1.\n",
      "  \u001b[1m[Line 13] __init__ method from a non direct base class 'ClassA' is called\u001b[0m\n",
      "   \u001b[90m11\u001b[0m  \u001b[90mclass Child(Parent):\u001b[0m\n",
      "   \u001b[90m12\u001b[0m      \u001b[90mdef __init__(self):\u001b[0m\n",
      "   \u001b[1m\u001b[90m13\u001b[0m          \u001b[30m\u001b[0m\u001b[1m\u001b[30m\u001b[46mClassA.__init__\u001b[0m\u001b[30m(self)  # Not a child of class A\u001b[0m\n",
      "\n",
      "\u001b[34m\u001b[1m=== Style/convention errors (fix: before submission) ===\n",
      "\u001b[0m\u001b[34m\u001b[1mC0103\u001b[0m \u001b[1m(invalid-name)  \u001b[0mNumber of occurrences: 1.\n",
      "  \u001b[1m[Line 1] Invalid module name \"W0233_non_parent_init\"\u001b[0m\n",
      "\n",
      "\u001b[34m\u001b[1mC0111\u001b[0m \u001b[1m(missing-docstring)  \u001b[0mNumber of occurrences: 4.\n",
      "  \u001b[1m[Line 1] Missing module docstring\u001b[0m\n",
      "     \u001b[30m\u001b[0m  \u001b[1m\u001b[30m\u001b[46m\"\"\"YOUR DOCSTRING HERE\"\"\"\u001b[0m\n",
      "    \u001b[90m1\u001b[0m  \u001b[90mclass ClassA:\u001b[0m\n",
      "    \u001b[90m2\u001b[0m      \u001b[90mdef __init__(self):\u001b[0m\n",
      "\n",
      "  \u001b[1m[Line 1] Missing class docstring\u001b[0m\n",
      "    \u001b[90m1\u001b[0m  \u001b[90mclass ClassA:\u001b[0m\n",
      "     \u001b[30m\u001b[0m      \u001b[1m\u001b[30m\u001b[46m\"\"\"YOUR DOCSTRING HERE\"\"\"\u001b[0m\n",
      "    \u001b[90m2\u001b[0m      \u001b[90mdef __init__(self):\u001b[0m\n",
      "    \u001b[90m3\u001b[0m          \u001b[90mpass\u001b[0m\n",
      "\n",
      "  \u001b[1m[Line 6] Missing class docstring\u001b[0m\n",
      "    \u001b[90m6\u001b[0m  \u001b[90mclass Parent:\u001b[0m\n",
      "     \u001b[30m\u001b[0m      \u001b[1m\u001b[30m\u001b[46m\"\"\"YOUR DOCSTRING HERE\"\"\"\u001b[0m\n",
      "    \u001b[90m7\u001b[0m      \u001b[90mdef __init__(self):\u001b[0m\n",
      "    \u001b[90m8\u001b[0m          \u001b[90mpass\u001b[0m\n",
      "\n",
      "  \u001b[1m[Line 11] Missing class docstring\u001b[0m\n",
      "   \u001b[90m11\u001b[0m  \u001b[90mclass Child(Parent):\u001b[0m\n",
      "     \u001b[30m\u001b[0m      \u001b[1m\u001b[30m\u001b[46m\"\"\"YOUR DOCSTRING HERE\"\"\"\u001b[0m\n",
      "   \u001b[90m12\u001b[0m      \u001b[90mdef __init__(self):\u001b[0m\n",
      "\n",
      "\n",
      "None\n"
     ]
    },
    {
     "data": {
      "text/html": [
       "<h2><center>W0107_unnecessary_pass.py</center></h2>"
      ],
      "text/plain": [
       "<IPython.core.display.HTML object>"
      ]
     },
     "metadata": {},
     "output_type": "display_data"
    },
    {
     "name": "stdout",
     "output_type": "stream",
     "text": [
      "### Loaded configuration file: /home/kimlab1/strokach/documents/teaching/python-ta/pyta/python_ta/.pylintrc\n",
      "### Loaded configuration file: /home/kimlab1/strokach/documents/teaching/python-ta/pyta/python_ta/.pylintrc\n",
      "*************** File: /home/kimlab1/strokach/documents/teaching/python-ta/pyta/examples/pylint/W0107_unnecessary_pass.py\n",
      "\u001b[31m\u001b[1m=== Code errors/forbidden usage (fix: high priority) ===\n",
      "\u001b[0mNone!\n",
      "\n",
      "\u001b[34m\u001b[1m=== Style/convention errors (fix: before submission) ===\n",
      "\u001b[0m\u001b[34m\u001b[1mC0103\u001b[0m \u001b[1m(invalid-name)  \u001b[0mNumber of occurrences: 1.\n",
      "  \u001b[1m[Line 1] Invalid module name \"W0107_unnecessary_pass\"\u001b[0m\n",
      "\n",
      "\u001b[34m\u001b[1mC0111\u001b[0m \u001b[1m(missing-docstring)  \u001b[0mNumber of occurrences: 1.\n",
      "  \u001b[1m[Line 1] Missing module docstring\u001b[0m\n",
      "     \u001b[30m\u001b[0m  \u001b[1m\u001b[30m\u001b[46m\"\"\"YOUR DOCSTRING HERE\"\"\"\u001b[0m\n",
      "    \u001b[90m1\u001b[0m  \u001b[90mdef add(lst):\u001b[0m\n",
      "    \u001b[90m2\u001b[0m      \u001b[90m\"\"\"\u001b[0m\n",
      "\n",
      "\u001b[34m\u001b[1mW0107\u001b[0m \u001b[1m(unnecessary-pass)  \u001b[0mNumber of occurrences: 1.\n",
      "  \u001b[1m[Line 9] Unnecessary pass statement\u001b[0m\n",
      "    \u001b[90m7\u001b[0m      \u001b[90mfor item in lst:\u001b[0m\n",
      "    \u001b[90m8\u001b[0m          \u001b[90mtemp += item\u001b[0m\n",
      "    \u001b[1m\u001b[90m9\u001b[0m          \u001b[30m\u001b[0m\u001b[1m\u001b[30m\u001b[46mpass\u001b[0m  \u001b[30m# Error on this line\u001b[0m\n",
      "\n",
      "\n",
      "None\n"
     ]
    },
    {
     "data": {
      "text/html": [
       "<h2><center>E1128_assignment_from_none.py</center></h2>"
      ],
      "text/plain": [
       "<IPython.core.display.HTML object>"
      ]
     },
     "metadata": {},
     "output_type": "display_data"
    },
    {
     "name": "stdout",
     "output_type": "stream",
     "text": [
      "### Loaded configuration file: /home/kimlab1/strokach/documents/teaching/python-ta/pyta/python_ta/.pylintrc\n",
      "### Loaded configuration file: /home/kimlab1/strokach/documents/teaching/python-ta/pyta/python_ta/.pylintrc\n",
      "*************** File: /home/kimlab1/strokach/documents/teaching/python-ta/pyta/examples/pylint/E1128_assignment_from_none.py\n",
      "\u001b[31m\u001b[1m=== Code errors/forbidden usage (fix: high priority) ===\n",
      "\u001b[0m\u001b[31m\u001b[1mE1128\u001b[0m \u001b[1m(assignment-from-none)  \u001b[0mNumber of occurrences: 1.\n",
      "  \u001b[1m[Line 6] Assigning to function call which only returns None\u001b[0m\n",
      "    \u001b[90m4\u001b[0m  \u001b[90m\u001b[0m\n",
      "    \u001b[90m5\u001b[0m  \u001b[90mdef g():\u001b[0m\n",
      "    \u001b[1m\u001b[90m6\u001b[0m      \u001b[30m\u001b[0m\u001b[1m\u001b[30m\u001b[46mx = f()\u001b[0m  \u001b[30m# Error on this line\u001b[0m\n",
      "\n",
      "\u001b[34m\u001b[1m=== Style/convention errors (fix: before submission) ===\n",
      "\u001b[0m\u001b[34m\u001b[1mC0103\u001b[0m \u001b[1m(invalid-name)  \u001b[0mNumber of occurrences: 1.\n",
      "  \u001b[1m[Line 1] Invalid module name \"E1128_assignment_from_none\"\u001b[0m\n",
      "\n",
      "\u001b[34m\u001b[1mC0111\u001b[0m \u001b[1m(missing-docstring)  \u001b[0mNumber of occurrences: 3.\n",
      "  \u001b[1m[Line 1] Missing module docstring\u001b[0m\n",
      "     \u001b[30m\u001b[0m  \u001b[1m\u001b[30m\u001b[46m\"\"\"YOUR DOCSTRING HERE\"\"\"\u001b[0m\n",
      "    \u001b[90m1\u001b[0m  \u001b[90mdef f():\u001b[0m\n",
      "    \u001b[90m2\u001b[0m      \u001b[90mreturn None\u001b[0m\n",
      "\n",
      "  \u001b[1m[Line 1] Missing function docstring\u001b[0m\n",
      "    \u001b[90m1\u001b[0m  \u001b[90mdef f():\u001b[0m\n",
      "     \u001b[30m\u001b[0m      \u001b[1m\u001b[30m\u001b[46m\"\"\"YOUR DOCSTRING HERE\"\"\"\u001b[0m\n",
      "    \u001b[90m2\u001b[0m      \u001b[90mreturn None\u001b[0m\n",
      "    \u001b[90m3\u001b[0m  \u001b[90m\u001b[0m\n",
      "\n",
      "  \u001b[1m[Line 5] Missing function docstring\u001b[0m\n",
      "    \u001b[90m5\u001b[0m  \u001b[90mdef g():\u001b[0m\n",
      "     \u001b[30m\u001b[0m      \u001b[1m\u001b[30m\u001b[46m\"\"\"YOUR DOCSTRING HERE\"\"\"\u001b[0m\n",
      "    \u001b[90m6\u001b[0m      \u001b[90mx = f()  # Error on this line\u001b[0m\n",
      "\n",
      "\u001b[34m\u001b[1mE9998\u001b[0m \u001b[1m(IO-function-not-allowed)  \u001b[0mNumber of occurrences: 1.\n",
      "  \u001b[1m[Line 7] Used IO function print\u001b[0m\n",
      "    \u001b[90m5\u001b[0m  \u001b[90mdef g():\u001b[0m\n",
      "    \u001b[90m6\u001b[0m      \u001b[90mx = f()  # Error on this line\u001b[0m\n",
      "    \u001b[1m\u001b[90m7\u001b[0m      \u001b[30m\u001b[0m\u001b[1m\u001b[30m\u001b[46mprint(x)\u001b[0m\u001b[30m\u001b[0m\n",
      "\n",
      "\n",
      "None\n"
     ]
    },
    {
     "data": {
      "text/html": [
       "<h2><center>C0121_singleton_comparison.py</center></h2>"
      ],
      "text/plain": [
       "<IPython.core.display.HTML object>"
      ]
     },
     "metadata": {},
     "output_type": "display_data"
    },
    {
     "name": "stdout",
     "output_type": "stream",
     "text": [
      "### Loaded configuration file: /home/kimlab1/strokach/documents/teaching/python-ta/pyta/python_ta/.pylintrc\n",
      "### Loaded configuration file: /home/kimlab1/strokach/documents/teaching/python-ta/pyta/python_ta/.pylintrc\n",
      "*************** File: /home/kimlab1/strokach/documents/teaching/python-ta/pyta/examples/pylint/C0121_singleton_comparison.py\n",
      "\u001b[31m\u001b[1m=== Code errors/forbidden usage (fix: high priority) ===\n",
      "\u001b[0mNone!\n",
      "\n",
      "\u001b[34m\u001b[1m=== Style/convention errors (fix: before submission) ===\n",
      "\u001b[0m\u001b[34m\u001b[1mC0103\u001b[0m \u001b[1m(invalid-name)  \u001b[0mNumber of occurrences: 1.\n",
      "  \u001b[1m[Line 1] Invalid module name \"C0121_singleton_comparison\"\u001b[0m\n",
      "\n",
      "\u001b[34m\u001b[1mC0111\u001b[0m \u001b[1m(missing-docstring)  \u001b[0mNumber of occurrences: 1.\n",
      "  \u001b[1m[Line 1] Missing module docstring\u001b[0m\n",
      "     \u001b[30m\u001b[0m  \u001b[1m\u001b[30m\u001b[46m\"\"\"YOUR DOCSTRING HERE\"\"\"\u001b[0m\n",
      "    \u001b[90m1\u001b[0m  \u001b[90mdef is_true():\u001b[0m\n",
      "    \u001b[90m2\u001b[0m      \u001b[90m\"\"\"\u001b[0m\n",
      "\n",
      "\u001b[34m\u001b[1mR1705\u001b[0m \u001b[1m(no-else-return)  \u001b[0mNumber of occurrences: 1.\n",
      "  \u001b[1m[Line 6] Unnecessary \"else\" after \"return\"\u001b[0m\n",
      "    \u001b[90m4\u001b[0m      \u001b[90m\"\"\"\u001b[0m\n",
      "    \u001b[90m5\u001b[0m      \u001b[90mtemp = 5\u001b[0m\n",
      "    \u001b[1m\u001b[90m6\u001b[0m      \u001b[30m\u001b[0m\u001b[1m\u001b[30m\u001b[46mif temp == None:\u001b[0m\u001b[30m\u001b[0m\n",
      "    \u001b[1m\u001b[90m9\u001b[0m  \u001b[30m\u001b[0m        \u001b[1m\u001b[30m\u001b[46mreturn True\u001b[0m\u001b[30m\u001b[0m\n",
      "\n",
      "\u001b[34m\u001b[1mC0121\u001b[0m \u001b[1m(singleton-comparison)  \u001b[0mNumber of occurrences: 1.\n",
      "  \u001b[1m[Line 6] Comparison to None should be 'expr is None'\u001b[0m\n",
      "    \u001b[90m4\u001b[0m      \u001b[90m\"\"\"\u001b[0m\n",
      "    \u001b[90m5\u001b[0m      \u001b[90mtemp = 5\u001b[0m\n",
      "    \u001b[1m\u001b[90m6\u001b[0m      \u001b[30mif \u001b[0m\u001b[1m\u001b[30m\u001b[46mtemp == None\u001b[0m\u001b[30m:\u001b[0m\n",
      "    \u001b[90m7\u001b[0m          \u001b[90mreturn False\u001b[0m\n",
      "    \u001b[90m8\u001b[0m      \u001b[90melse:\u001b[0m\n",
      "\n",
      "\n",
      "None\n"
     ]
    },
    {
     "data": {
      "text/html": [
       "<h2><center>W0631_undefined_loop_variable.py</center></h2>"
      ],
      "text/plain": [
       "<IPython.core.display.HTML object>"
      ]
     },
     "metadata": {},
     "output_type": "display_data"
    },
    {
     "name": "stdout",
     "output_type": "stream",
     "text": [
      "### Loaded configuration file: /home/kimlab1/strokach/documents/teaching/python-ta/pyta/python_ta/.pylintrc\n",
      "### Loaded configuration file: /home/kimlab1/strokach/documents/teaching/python-ta/pyta/python_ta/.pylintrc\n",
      "*************** File: /home/kimlab1/strokach/documents/teaching/python-ta/pyta/examples/pylint/W0631_undefined_loop_variable.py\n",
      "\u001b[31m\u001b[1m=== Code errors/forbidden usage (fix: high priority) ===\n",
      "\u001b[0m\u001b[31m\u001b[1mW0631\u001b[0m \u001b[1m(undefined-loop-variable)  \u001b[0mNumber of occurrences: 1.\n",
      "  \u001b[1m[Line 4] Using possibly undefined loop variable 'i'\u001b[0m\n",
      "    \u001b[90m2\u001b[0m      \u001b[90mprint(i)\u001b[0m\n",
      "    \u001b[90m3\u001b[0m  \u001b[90m\u001b[0m\n",
      "    \u001b[1m\u001b[90m4\u001b[0m  \u001b[30mprint(\u001b[0m\u001b[1m\u001b[30m\u001b[46mi\u001b[0m\u001b[30m)  # i is undefined outside the loop\u001b[0m\n",
      "\n",
      "\u001b[34m\u001b[1m=== Style/convention errors (fix: before submission) ===\n",
      "\u001b[0m\u001b[34m\u001b[1mC0103\u001b[0m \u001b[1m(invalid-name)  \u001b[0mNumber of occurrences: 1.\n",
      "  \u001b[1m[Line 1] Invalid module name \"W0631_undefined_loop_variable\"\u001b[0m\n",
      "\n",
      "\u001b[34m\u001b[1mC0111\u001b[0m \u001b[1m(missing-docstring)  \u001b[0mNumber of occurrences: 1.\n",
      "  \u001b[1m[Line 1] Missing module docstring\u001b[0m\n",
      "     \u001b[30m\u001b[0m  \u001b[1m\u001b[30m\u001b[46m\"\"\"YOUR DOCSTRING HERE\"\"\"\u001b[0m\n",
      "    \u001b[90m1\u001b[0m  \u001b[90mfor i in range(0, 2):\u001b[0m\n",
      "    \u001b[90m2\u001b[0m      \u001b[90mprint(i)\u001b[0m\n",
      "\n",
      "\u001b[34m\u001b[1mE9997\u001b[0m \u001b[1m(forbidden-global-variables)  \u001b[0mNumber of occurrences: 5.\n",
      "  \u001b[1m[Line 1] Global variables should not be used in CSC108/CSC148 - a global variable 'range' is declared on line 1\u001b[0m\n",
      "    \u001b[90m0\u001b[0m  \u001b[90mprint(i)  # i is undefined outside the loop\u001b[0m\n",
      "    \u001b[1m\u001b[90m1\u001b[0m  \u001b[30mfor i in \u001b[0m\u001b[1m\u001b[30m\u001b[46mrange\u001b[0m\u001b[30m(0, 2):\u001b[0m\n",
      "    \u001b[90m2\u001b[0m      \u001b[90mprint(i)\u001b[0m\n",
      "    \u001b[90m3\u001b[0m  \u001b[90m\u001b[0m\n",
      "\n",
      "  \u001b[1m[Line 2] Global variables should not be used in CSC108/CSC148 - a global variable 'print' is declared on line 2\u001b[0m\n",
      "    \u001b[90m0\u001b[0m  \u001b[90mprint(i)  # i is undefined outside the loop\u001b[0m\n",
      "    \u001b[90m1\u001b[0m  \u001b[90mfor i in range(0, 2):\u001b[0m\n",
      "    \u001b[1m\u001b[90m2\u001b[0m      \u001b[30m\u001b[0m\u001b[1m\u001b[30m\u001b[46mprint\u001b[0m\u001b[30m(i)\u001b[0m\n",
      "    \u001b[90m3\u001b[0m  \u001b[90m\u001b[0m\n",
      "\n",
      "  \u001b[1m[Line 2] Global variables should not be used in CSC108/CSC148 - a global variable 'i' is declared on line 2\u001b[0m\n",
      "    \u001b[90m0\u001b[0m  \u001b[90mprint(i)  # i is undefined outside the loop\u001b[0m\n",
      "    \u001b[90m1\u001b[0m  \u001b[90mfor i in range(0, 2):\u001b[0m\n",
      "    \u001b[1m\u001b[90m2\u001b[0m      \u001b[30mprint(\u001b[0m\u001b[1m\u001b[30m\u001b[46mi\u001b[0m\u001b[30m)\u001b[0m\n",
      "    \u001b[90m3\u001b[0m  \u001b[90m\u001b[0m\n",
      "\n",
      "  \u001b[1m[Line 4] Global variables should not be used in CSC108/CSC148 - a global variable 'print' is declared on line 4\u001b[0m\n",
      "    \u001b[90m2\u001b[0m      \u001b[90mprint(i)\u001b[0m\n",
      "    \u001b[90m3\u001b[0m  \u001b[90m\u001b[0m\n",
      "    \u001b[1m\u001b[90m4\u001b[0m  \u001b[30m\u001b[0m\u001b[1m\u001b[30m\u001b[46mprint\u001b[0m\u001b[30m(i)  # i is undefined outside the loop\u001b[0m\n",
      "\n",
      "  \u001b[1m[Line 4] Global variables should not be used in CSC108/CSC148 - a global variable 'i' is declared on line 4\u001b[0m\n",
      "    \u001b[90m2\u001b[0m      \u001b[90mprint(i)\u001b[0m\n",
      "    \u001b[90m3\u001b[0m  \u001b[90m\u001b[0m\n",
      "    \u001b[1m\u001b[90m4\u001b[0m  \u001b[30mprint(\u001b[0m\u001b[1m\u001b[30m\u001b[46mi\u001b[0m\u001b[30m)  # i is undefined outside the loop\u001b[0m\n",
      "\n",
      "\n",
      "None\n"
     ]
    },
    {
     "data": {
      "text/html": [
       "<h2><center>E0632_unbalanced_tuple_unpacking.py</center></h2>"
      ],
      "text/plain": [
       "<IPython.core.display.HTML object>"
      ]
     },
     "metadata": {},
     "output_type": "display_data"
    },
    {
     "name": "stdout",
     "output_type": "stream",
     "text": [
      "### Loaded configuration file: /home/kimlab1/strokach/documents/teaching/python-ta/pyta/python_ta/.pylintrc\n",
      "### Loaded configuration file: /home/kimlab1/strokach/documents/teaching/python-ta/pyta/python_ta/.pylintrc\n",
      "*************** File: /home/kimlab1/strokach/documents/teaching/python-ta/pyta/examples/pylint/E0632_unbalanced_tuple_unpacking.py\n",
      "\u001b[31m\u001b[1m=== Code errors/forbidden usage (fix: high priority) ===\n",
      "\u001b[0m\u001b[31m\u001b[1mE0632\u001b[0m \u001b[1m(unbalanced-tuple-unpacking)  \u001b[0mNumber of occurrences: 1.\n",
      "  \u001b[1m[Line 9] Possible unbalanced tuple unpacking with sequence defined at line 6: left side has 3 label(s), right side has 2 value(s)\u001b[0m\n",
      "    \u001b[90m7\u001b[0m  \u001b[90m\u001b[0m\n",
      "    \u001b[90m8\u001b[0m  \u001b[90m# Error on the following line. Cannot unpack 2 items into 3 variables.\u001b[0m\n",
      "    \u001b[1m\u001b[90m9\u001b[0m  \u001b[30m\u001b[0m\u001b[1m\u001b[30m\u001b[46mone, two, three = set_values()\u001b[0m\u001b[30m\u001b[0m\n",
      "\n",
      "\u001b[34m\u001b[1m=== Style/convention errors (fix: before submission) ===\n",
      "\u001b[0m\u001b[34m\u001b[1mC0103\u001b[0m \u001b[1m(invalid-name)  \u001b[0mNumber of occurrences: 4.\n",
      "  \u001b[1m[Line 1] Invalid module name \"E0632_unbalanced_tuple_unpacking\"\u001b[0m\n",
      "\n",
      "  \u001b[1m[Line 9] Invalid constant name \"one\"\u001b[0m\n",
      "    \u001b[90m7\u001b[0m  \u001b[90m\u001b[0m\n",
      "    \u001b[90m8\u001b[0m  \u001b[90m# Error on the following line. Cannot unpack 2 items into 3 variables.\u001b[0m\n",
      "    \u001b[1m\u001b[90m9\u001b[0m  \u001b[30m\u001b[0m\u001b[1m\u001b[30m\u001b[46mone\u001b[0m\u001b[30m, two, three = set_values()\u001b[0m\n",
      "\n",
      "  \u001b[1m[Line 9] Invalid constant name \"two\"\u001b[0m\n",
      "    \u001b[90m7\u001b[0m  \u001b[90m\u001b[0m\n",
      "    \u001b[90m8\u001b[0m  \u001b[90m# Error on the following line. Cannot unpack 2 items into 3 variables.\u001b[0m\n",
      "    \u001b[1m\u001b[90m9\u001b[0m  \u001b[30mone, \u001b[0m\u001b[1m\u001b[30m\u001b[46mtwo\u001b[0m\u001b[30m, three = set_values()\u001b[0m\n",
      "\n",
      "  \u001b[1m[Line 9] Invalid constant name \"three\"\u001b[0m\n",
      "    \u001b[90m7\u001b[0m  \u001b[90m\u001b[0m\n",
      "    \u001b[90m8\u001b[0m  \u001b[90m# Error on the following line. Cannot unpack 2 items into 3 variables.\u001b[0m\n",
      "    \u001b[1m\u001b[90m9\u001b[0m  \u001b[30mone, two, \u001b[0m\u001b[1m\u001b[30m\u001b[46mthree\u001b[0m \u001b[30m= set_values()\u001b[0m\n",
      "\n",
      "\u001b[34m\u001b[1mC0111\u001b[0m \u001b[1m(missing-docstring)  \u001b[0mNumber of occurrences: 1.\n",
      "  \u001b[1m[Line 1] Missing module docstring\u001b[0m\n",
      "     \u001b[30m\u001b[0m  \u001b[1m\u001b[30m\u001b[46m\"\"\"YOUR DOCSTRING HERE\"\"\"\u001b[0m\n",
      "    \u001b[90m1\u001b[0m  \u001b[90mdef set_values():\u001b[0m\n",
      "    \u001b[90m2\u001b[0m      \u001b[90m\"\"\"@rtype: tuple\u001b[0m\n",
      "\n",
      "\u001b[34m\u001b[1mE9997\u001b[0m \u001b[1m(forbidden-global-variables)  \u001b[0mNumber of occurrences: 5.\n",
      "  \u001b[1m[Line 9] Global variables should not be used in CSC108/CSC148 - a global variable 'one' is declared on line 9\u001b[0m\n",
      "    \u001b[90m7\u001b[0m  \u001b[90m\u001b[0m\n",
      "    \u001b[90m8\u001b[0m  \u001b[90m# Error on the following line. Cannot unpack 2 items into 3 variables.\u001b[0m\n",
      "    \u001b[1m\u001b[90m9\u001b[0m  \u001b[30m\u001b[0m\u001b[1m\u001b[30m\u001b[46mone\u001b[0m\u001b[30m, two, three = set_values()\u001b[0m\n",
      "\n",
      "  \u001b[1m[Line 9] Global variables should not be used in CSC108/CSC148 - a global variable 'two' is declared on line 9\u001b[0m\n",
      "    \u001b[90m7\u001b[0m  \u001b[90m\u001b[0m\n",
      "    \u001b[90m8\u001b[0m  \u001b[90m# Error on the following line. Cannot unpack 2 items into 3 variables.\u001b[0m\n",
      "    \u001b[1m\u001b[90m9\u001b[0m  \u001b[30mone, \u001b[0m\u001b[1m\u001b[30m\u001b[46mtwo\u001b[0m\u001b[30m, three = set_values()\u001b[0m\n",
      "\n",
      "  \u001b[1m[Line 9] Global variables should not be used in CSC108/CSC148 - a global variable 'three' is declared on line 9\u001b[0m\n",
      "    \u001b[90m7\u001b[0m  \u001b[90m\u001b[0m\n",
      "    \u001b[90m8\u001b[0m  \u001b[90m# Error on the following line. Cannot unpack 2 items into 3 variables.\u001b[0m\n",
      "    \u001b[1m\u001b[90m9\u001b[0m  \u001b[30mone, two, \u001b[0m\u001b[1m\u001b[30m\u001b[46mthree\u001b[0m \u001b[30m= set_values()\u001b[0m\n",
      "\n",
      "  \u001b[1m[Line 9] Global variables should not be used in CSC108/CSC148 - a global variable 'set_values' is declared on line 9\u001b[0m\n",
      "    \u001b[90m7\u001b[0m  \u001b[90m\u001b[0m\n",
      "    \u001b[90m8\u001b[0m  \u001b[90m# Error on the following line. Cannot unpack 2 items into 3 variables.\u001b[0m\n",
      "    \u001b[1m\u001b[90m9\u001b[0m  \u001b[30mone, two, three = \u001b[0m\u001b[1m\u001b[30m\u001b[46mset_values\u001b[0m\u001b[30m()\u001b[0m\n",
      "\n",
      "  \u001b[1m[Line 9] Global variables should not be used in CSC108/CSC148 - a global variable 'set_values' is declared on line 9\u001b[0m\n",
      "    \u001b[90m7\u001b[0m  \u001b[90m\u001b[0m\n",
      "    \u001b[90m8\u001b[0m  \u001b[90m# Error on the following line. Cannot unpack 2 items into 3 variables.\u001b[0m\n",
      "    \u001b[1m\u001b[90m9\u001b[0m  \u001b[30mone, two, three = \u001b[0m\u001b[1m\u001b[30m\u001b[46mset_values\u001b[0m\u001b[30m()\u001b[0m\n",
      "\n",
      "\n",
      "None\n"
     ]
    },
    {
     "data": {
      "text/html": [
       "<h2><center>E0203_access_member_before_definition.py</center></h2>"
      ],
      "text/plain": [
       "<IPython.core.display.HTML object>"
      ]
     },
     "metadata": {},
     "output_type": "display_data"
    },
    {
     "name": "stdout",
     "output_type": "stream",
     "text": [
      "### Loaded configuration file: /home/kimlab1/strokach/documents/teaching/python-ta/pyta/python_ta/.pylintrc\n",
      "### Loaded configuration file: /home/kimlab1/strokach/documents/teaching/python-ta/pyta/python_ta/.pylintrc\n",
      "*************** File: /home/kimlab1/strokach/documents/teaching/python-ta/pyta/examples/pylint/E0203_access_member_before_definition.py\n",
      "\u001b[31m\u001b[1m=== Code errors/forbidden usage (fix: high priority) ===\n",
      "\u001b[0m\u001b[31m\u001b[1mE0203\u001b[0m \u001b[1m(access-member-before-definition)  \u001b[0mNumber of occurrences: 1.\n",
      "  \u001b[1m[Line 3] Access to member 'a' before its definition line 4\u001b[0m\n",
      "    \u001b[90m1\u001b[0m  \u001b[90mclass MyClass:\u001b[0m\n",
      "    \u001b[90m2\u001b[0m      \u001b[90mdef __init__(self):\u001b[0m\n",
      "    \u001b[1m\u001b[90m3\u001b[0m          \u001b[30mprint(\u001b[0m\u001b[1m\u001b[30m\u001b[46mself.a\u001b[0m\u001b[30m)  # Haven't defined self.a yet, can't use\u001b[0m\n",
      "\n",
      "\u001b[34m\u001b[1m=== Style/convention errors (fix: before submission) ===\n",
      "\u001b[0m\u001b[34m\u001b[1mC0103\u001b[0m \u001b[1m(invalid-name)  \u001b[0mNumber of occurrences: 1.\n",
      "  \u001b[1m[Line 1] Invalid module name \"E0203_access_member_before_definition\"\u001b[0m\n",
      "\n",
      "\u001b[34m\u001b[1mC0111\u001b[0m \u001b[1m(missing-docstring)  \u001b[0mNumber of occurrences: 2.\n",
      "  \u001b[1m[Line 1] Missing module docstring\u001b[0m\n",
      "     \u001b[30m\u001b[0m  \u001b[1m\u001b[30m\u001b[46m\"\"\"YOUR DOCSTRING HERE\"\"\"\u001b[0m\n",
      "    \u001b[90m1\u001b[0m  \u001b[90mclass MyClass:\u001b[0m\n",
      "    \u001b[90m2\u001b[0m      \u001b[90mdef __init__(self):\u001b[0m\n",
      "\n",
      "  \u001b[1m[Line 1] Missing class docstring\u001b[0m\n",
      "    \u001b[90m1\u001b[0m  \u001b[90mclass MyClass:\u001b[0m\n",
      "     \u001b[30m\u001b[0m      \u001b[1m\u001b[30m\u001b[46m\"\"\"YOUR DOCSTRING HERE\"\"\"\u001b[0m\n",
      "    \u001b[90m2\u001b[0m      \u001b[90mdef __init__(self):\u001b[0m\n",
      "    \u001b[90m3\u001b[0m          \u001b[90mprint(self.a)  # Haven't defined self.a yet, can't use\u001b[0m\n",
      "\n",
      "\u001b[34m\u001b[1mE9998\u001b[0m \u001b[1m(IO-function-not-allowed)  \u001b[0mNumber of occurrences: 1.\n",
      "  \u001b[1m[Line 3] Used IO function print\u001b[0m\n",
      "    \u001b[90m1\u001b[0m  \u001b[90mclass MyClass:\u001b[0m\n",
      "    \u001b[90m2\u001b[0m      \u001b[90mdef __init__(self):\u001b[0m\n",
      "    \u001b[1m\u001b[90m3\u001b[0m          \u001b[30m\u001b[0m\u001b[1m\u001b[30m\u001b[46mprint(self.a)\u001b[0m  \u001b[30m# Haven't defined self.a yet, can't use\u001b[0m\n",
      "\n",
      "\n",
      "None\n"
     ]
    },
    {
     "data": {
      "text/html": [
       "<h2><center>E1130_invalid_unary_operand_type.py</center></h2>"
      ],
      "text/plain": [
       "<IPython.core.display.HTML object>"
      ]
     },
     "metadata": {},
     "output_type": "display_data"
    },
    {
     "name": "stdout",
     "output_type": "stream",
     "text": [
      "### Loaded configuration file: /home/kimlab1/strokach/documents/teaching/python-ta/pyta/python_ta/.pylintrc\n",
      "### Loaded configuration file: /home/kimlab1/strokach/documents/teaching/python-ta/pyta/python_ta/.pylintrc\n",
      "*************** File: /home/kimlab1/strokach/documents/teaching/python-ta/pyta/examples/pylint/E1130_invalid_unary_operand_type.py\n",
      "\u001b[31m\u001b[1m=== Code errors/forbidden usage (fix: high priority) ===\n",
      "\u001b[0m\u001b[31m\u001b[1mE1130\u001b[0m \u001b[1m(invalid-unary-operand-type)  \u001b[0mNumber of occurrences: 1.\n",
      "  \u001b[1m[Line 1] bad operand type for unary -: list\u001b[0m\n",
      "    \u001b[90m0\u001b[0m  \u001b[90mprint(-[1, 2, 3])\u001b[0m\n",
      "    \u001b[1m\u001b[90m1\u001b[0m  \u001b[30mprint(\u001b[0m\u001b[1m\u001b[30m\u001b[46m-[1, 2, 3]\u001b[0m\u001b[30m)\u001b[0m\n",
      "\n",
      "\u001b[34m\u001b[1m=== Style/convention errors (fix: before submission) ===\n",
      "\u001b[0m\u001b[34m\u001b[1mC0103\u001b[0m \u001b[1m(invalid-name)  \u001b[0mNumber of occurrences: 1.\n",
      "  \u001b[1m[Line 1] Invalid module name \"E1130_invalid_unary_operand_type\"\u001b[0m\n",
      "\n",
      "\u001b[34m\u001b[1mC0111\u001b[0m \u001b[1m(missing-docstring)  \u001b[0mNumber of occurrences: 1.\n",
      "  \u001b[1m[Line 1] Missing module docstring\u001b[0m\n",
      "     \u001b[30m\u001b[0m  \u001b[1m\u001b[30m\u001b[46m\"\"\"YOUR DOCSTRING HERE\"\"\"\u001b[0m\n",
      "\n",
      "\u001b[34m\u001b[1mE9997\u001b[0m \u001b[1m(forbidden-global-variables)  \u001b[0mNumber of occurrences: 1.\n",
      "  \u001b[1m[Line 1] Global variables should not be used in CSC108/CSC148 - a global variable 'print' is declared on line 1\u001b[0m\n",
      "    \u001b[90m0\u001b[0m  \u001b[90mprint(-[1, 2, 3])\u001b[0m\n",
      "    \u001b[1m\u001b[90m1\u001b[0m  \u001b[30m\u001b[0m\u001b[1m\u001b[30m\u001b[46mprint\u001b[0m\u001b[30m(-[1, 2, 3])\u001b[0m\n",
      "\n",
      "\n",
      "None\n"
     ]
    },
    {
     "data": {
      "text/html": [
       "<h2><center>E1102_not_callable.py</center></h2>"
      ],
      "text/plain": [
       "<IPython.core.display.HTML object>"
      ]
     },
     "metadata": {},
     "output_type": "display_data"
    },
    {
     "name": "stdout",
     "output_type": "stream",
     "text": [
      "### Loaded configuration file: /home/kimlab1/strokach/documents/teaching/python-ta/pyta/python_ta/.pylintrc\n",
      "### Loaded configuration file: /home/kimlab1/strokach/documents/teaching/python-ta/pyta/python_ta/.pylintrc\n",
      "*************** File: /home/kimlab1/strokach/documents/teaching/python-ta/pyta/examples/pylint/E1102_not_callable.py\n",
      "\u001b[31m\u001b[1m=== Code errors/forbidden usage (fix: high priority) ===\n",
      "\u001b[0m\u001b[31m\u001b[1mE1102\u001b[0m \u001b[1m(not-callable)  \u001b[0mNumber of occurrences: 1.\n",
      "  \u001b[1m[Line 2] x is not callable\u001b[0m\n",
      "    \u001b[90m0\u001b[0m  \u001b[90mprint(x())  # Error on this line\u001b[0m\n",
      "    \u001b[90m1\u001b[0m  \u001b[90mx = 10\u001b[0m\n",
      "    \u001b[1m\u001b[90m2\u001b[0m  \u001b[30mprint(\u001b[0m\u001b[1m\u001b[30m\u001b[46mx()\u001b[0m\u001b[30m)  # Error on this line\u001b[0m\n",
      "\n",
      "\u001b[34m\u001b[1m=== Style/convention errors (fix: before submission) ===\n",
      "\u001b[0m\u001b[34m\u001b[1mC0103\u001b[0m \u001b[1m(invalid-name)  \u001b[0mNumber of occurrences: 2.\n",
      "  \u001b[1m[Line 1] Invalid module name \"E1102_not_callable\"\u001b[0m\n",
      "\n",
      "  \u001b[1m[Line 1] Invalid constant name \"x\"\u001b[0m\n",
      "    \u001b[90m0\u001b[0m  \u001b[90mprint(x())  # Error on this line\u001b[0m\n",
      "    \u001b[1m\u001b[90m1\u001b[0m  \u001b[30m\u001b[0m\u001b[1m\u001b[30m\u001b[46mx\u001b[0m \u001b[30m= 10\u001b[0m\n",
      "\n",
      "\u001b[34m\u001b[1mC0111\u001b[0m \u001b[1m(missing-docstring)  \u001b[0mNumber of occurrences: 1.\n",
      "  \u001b[1m[Line 1] Missing module docstring\u001b[0m\n",
      "     \u001b[30m\u001b[0m  \u001b[1m\u001b[30m\u001b[46m\"\"\"YOUR DOCSTRING HERE\"\"\"\u001b[0m\n",
      "    \u001b[90m1\u001b[0m  \u001b[90mx = 10\u001b[0m\n",
      "\n",
      "\u001b[34m\u001b[1mE9997\u001b[0m \u001b[1m(forbidden-global-variables)  \u001b[0mNumber of occurrences: 3.\n",
      "  \u001b[1m[Line 1] Global variables should not be used in CSC108/CSC148 - a global variable 'x' is declared on line 1\u001b[0m\n",
      "    \u001b[90m0\u001b[0m  \u001b[90mprint(x())  # Error on this line\u001b[0m\n",
      "    \u001b[1m\u001b[90m1\u001b[0m  \u001b[30m\u001b[0m\u001b[1m\u001b[30m\u001b[46mx\u001b[0m \u001b[30m= 10\u001b[0m\n",
      "\n",
      "  \u001b[1m[Line 2] Global variables should not be used in CSC108/CSC148 - a global variable 'print' is declared on line 2\u001b[0m\n",
      "    \u001b[90m0\u001b[0m  \u001b[90mprint(x())  # Error on this line\u001b[0m\n",
      "    \u001b[90m1\u001b[0m  \u001b[90mx = 10\u001b[0m\n",
      "    \u001b[1m\u001b[90m2\u001b[0m  \u001b[30m\u001b[0m\u001b[1m\u001b[30m\u001b[46mprint\u001b[0m\u001b[30m(x())  # Error on this line\u001b[0m\n",
      "\n",
      "  \u001b[1m[Line 2] Global variables should not be used in CSC108/CSC148 - a global variable 'x' is declared on line 2\u001b[0m\n",
      "    \u001b[90m0\u001b[0m  \u001b[90mprint(x())  # Error on this line\u001b[0m\n",
      "    \u001b[90m1\u001b[0m  \u001b[90mx = 10\u001b[0m\n",
      "    \u001b[1m\u001b[90m2\u001b[0m  \u001b[30mprint(\u001b[0m\u001b[1m\u001b[30m\u001b[46mx\u001b[0m\u001b[30m())  # Error on this line\u001b[0m\n",
      "\n",
      "\n",
      "None\n"
     ]
    },
    {
     "data": {
      "text/html": [
       "<h2><center>R0915_too_many_statements.py</center></h2>"
      ],
      "text/plain": [
       "<IPython.core.display.HTML object>"
      ]
     },
     "metadata": {},
     "output_type": "display_data"
    },
    {
     "name": "stdout",
     "output_type": "stream",
     "text": [
      "### Loaded configuration file: /home/kimlab1/strokach/documents/teaching/python-ta/pyta/python_ta/.pylintrc\n",
      "### Loaded configuration file: /home/kimlab1/strokach/documents/teaching/python-ta/pyta/python_ta/.pylintrc\n",
      "*************** File: /home/kimlab1/strokach/documents/teaching/python-ta/pyta/examples/pylint/R0915_too_many_statements.py\n",
      "\u001b[31m\u001b[1m=== Code errors/forbidden usage (fix: high priority) ===\n",
      "\u001b[0mNone!\n",
      "\n",
      "\u001b[34m\u001b[1m=== Style/convention errors (fix: before submission) ===\n",
      "\u001b[0m\u001b[34m\u001b[1mC0103\u001b[0m \u001b[1m(invalid-name)  \u001b[0mNumber of occurrences: 1.\n",
      "  \u001b[1m[Line 1] Invalid module name \"R0915_too_many_statements\"\u001b[0m\n",
      "\n",
      "\u001b[34m\u001b[1mC0111\u001b[0m \u001b[1m(missing-docstring)  \u001b[0mNumber of occurrences: 1.\n",
      "  \u001b[1m[Line 1] Missing module docstring\u001b[0m\n",
      "     \u001b[30m\u001b[0m  \u001b[1m\u001b[30m\u001b[46m\"\"\"YOUR DOCSTRING HERE\"\"\"\u001b[0m\n",
      "    \u001b[90m1\u001b[0m  \u001b[90mdef statement(arg):\u001b[0m\n",
      "    \u001b[90m2\u001b[0m      \u001b[90m\"\"\"Dummy function to demonstrate an example within too_many_statements()\"\"\"\u001b[0m\n",
      "\n",
      "\u001b[34m\u001b[1mW0613\u001b[0m \u001b[1m(unused-argument)  \u001b[0mNumber of occurrences: 1.\n",
      "  \u001b[1m[Line 1] Unused argument 'arg'\u001b[0m\n",
      "    \u001b[90m0\u001b[0m          \u001b[90mstatments = 'this block (including condition) counts as 2 statements.'\u001b[0m\n",
      "    \u001b[1m\u001b[90m1\u001b[0m  \u001b[30mdef statement(\u001b[0m\u001b[1m\u001b[30m\u001b[46marg\u001b[0m\u001b[30m):\u001b[0m\n",
      "    \u001b[90m2\u001b[0m      \u001b[90m\"\"\"Dummy function to demonstrate an example within too_many_statements()\"\"\"\u001b[0m\n",
      "    \u001b[90m3\u001b[0m      \u001b[90mpass\u001b[0m\n",
      "\n",
      "\u001b[34m\u001b[1mR0914\u001b[0m \u001b[1m(too-many-locals)  \u001b[0mNumber of occurrences: 1.\n",
      "  \u001b[1m[Line 6] Too many local variables (42/15)\u001b[0m\n",
      "    \u001b[90m4\u001b[0m  \u001b[90m\u001b[0m\n",
      "    \u001b[90m5\u001b[0m  \u001b[90m\u001b[0m\n",
      "    \u001b[1m\u001b[90m6\u001b[0m  \u001b[30m\u001b[0m\u001b[1m\u001b[30m\u001b[46mdef too_many_statements(arg):\u001b[0m\u001b[30m\u001b[0m\n",
      "   \u001b[1m\u001b[90m59\u001b[0m  \u001b[30m\u001b[0m        \u001b[1m\u001b[30m\u001b[46mstatments = 'this block (including condition) counts as 2 statements.'\u001b[0m\u001b[30m\u001b[0m\n",
      "\n",
      "\u001b[34m\u001b[1mW0612\u001b[0m \u001b[1m(unused-variable)  \u001b[0mNumber of occurrences: 41.\n",
      " First 5 shown.  \u001b[1m[Line 8] Unused variable 'statement_1'\u001b[0m\n",
      "    \u001b[90m6\u001b[0m  \u001b[90mdef too_many_statements(arg):\u001b[0m\n",
      "    \u001b[90m7\u001b[0m      \u001b[90m\"\"\"There are too many statements in this function.\"\"\"\u001b[0m\n",
      "    \u001b[1m\u001b[90m8\u001b[0m      \u001b[30m\u001b[0m\u001b[1m\u001b[30m\u001b[46mstatement_1\u001b[0m \u001b[30m= 1\u001b[0m\n",
      "    \u001b[90m9\u001b[0m      \u001b[90mstatement_2 = 2\u001b[0m\n",
      "   \u001b[90m10\u001b[0m      \u001b[90mstatement_3 = 3\u001b[0m\n",
      "\n",
      "  \u001b[1m[Line 9] Unused variable 'statement_2'\u001b[0m\n",
      "    \u001b[90m7\u001b[0m      \u001b[90m\"\"\"There are too many statements in this function.\"\"\"\u001b[0m\n",
      "    \u001b[90m8\u001b[0m      \u001b[90mstatement_1 = 1\u001b[0m\n",
      "    \u001b[1m\u001b[90m9\u001b[0m      \u001b[30m\u001b[0m\u001b[1m\u001b[30m\u001b[46mstatement_2\u001b[0m \u001b[30m= 2\u001b[0m\n",
      "   \u001b[90m10\u001b[0m      \u001b[90mstatement_3 = 3\u001b[0m\n",
      "   \u001b[90m11\u001b[0m      \u001b[90mstatement_4 = 4\u001b[0m\n",
      "\n",
      "  \u001b[1m[Line 10] Unused variable 'statement_3'\u001b[0m\n",
      "    \u001b[90m8\u001b[0m      \u001b[90mstatement_1 = 1\u001b[0m\n",
      "    \u001b[90m9\u001b[0m      \u001b[90mstatement_2 = 2\u001b[0m\n",
      "   \u001b[1m\u001b[90m10\u001b[0m      \u001b[30m\u001b[0m\u001b[1m\u001b[30m\u001b[46mstatement_3\u001b[0m \u001b[30m= 3\u001b[0m\n",
      "   \u001b[90m11\u001b[0m      \u001b[90mstatement_4 = 4\u001b[0m\n",
      "   \u001b[90m12\u001b[0m      \u001b[90mstatement_5 = 5\u001b[0m\n",
      "\n",
      "  \u001b[1m[Line 11] Unused variable 'statement_4'\u001b[0m\n",
      "    \u001b[90m9\u001b[0m      \u001b[90mstatement_2 = 2\u001b[0m\n",
      "   \u001b[90m10\u001b[0m      \u001b[90mstatement_3 = 3\u001b[0m\n",
      "   \u001b[1m\u001b[90m11\u001b[0m      \u001b[30m\u001b[0m\u001b[1m\u001b[30m\u001b[46mstatement_4\u001b[0m \u001b[30m= 4\u001b[0m\n",
      "   \u001b[90m12\u001b[0m      \u001b[90mstatement_5 = 5\u001b[0m\n",
      "   \u001b[90m13\u001b[0m      \u001b[90mstatement_6 = 6\u001b[0m\n",
      "\n",
      "  \u001b[1m[Line 12] Unused variable 'statement_5'\u001b[0m\n",
      "   \u001b[90m10\u001b[0m      \u001b[90mstatement_3 = 3\u001b[0m\n",
      "   \u001b[90m11\u001b[0m      \u001b[90mstatement_4 = 4\u001b[0m\n",
      "   \u001b[1m\u001b[90m12\u001b[0m      \u001b[30m\u001b[0m\u001b[1m\u001b[30m\u001b[46mstatement_5\u001b[0m \u001b[30m= 5\u001b[0m\n",
      "   \u001b[90m13\u001b[0m      \u001b[90mstatement_6 = 6\u001b[0m\n",
      "   \u001b[90m14\u001b[0m      \u001b[90mstatement_7 = 7\u001b[0m\n",
      "\n",
      "\u001b[34m\u001b[1mR0915\u001b[0m \u001b[1m(too-many-statements)  \u001b[0mNumber of occurrences: 1.\n",
      "  \u001b[1m[Line 6] Too many statements (51/50)\u001b[0m\n",
      "    \u001b[90m4\u001b[0m  \u001b[90m\u001b[0m\n",
      "    \u001b[90m5\u001b[0m  \u001b[90m\u001b[0m\n",
      "    \u001b[1m\u001b[90m6\u001b[0m  \u001b[30m\u001b[0m\u001b[1m\u001b[30m\u001b[46mdef too_many_statements(arg):\u001b[0m\u001b[30m\u001b[0m\n",
      "   \u001b[1m\u001b[90m59\u001b[0m  \u001b[30m\u001b[0m        \u001b[1m\u001b[30m\u001b[46mstatments = 'this block (including condition) counts as 2 statements.'\u001b[0m\u001b[30m\u001b[0m\n",
      "\n",
      "\n",
      "None\n"
     ]
    },
    {
     "data": {
      "text/html": [
       "<h2><center>E0239_inherit_non_class.py</center></h2>"
      ],
      "text/plain": [
       "<IPython.core.display.HTML object>"
      ]
     },
     "metadata": {},
     "output_type": "display_data"
    },
    {
     "name": "stdout",
     "output_type": "stream",
     "text": [
      "### Loaded configuration file: /home/kimlab1/strokach/documents/teaching/python-ta/pyta/python_ta/.pylintrc\n",
      "### Loaded configuration file: /home/kimlab1/strokach/documents/teaching/python-ta/pyta/python_ta/.pylintrc\n",
      "*************** File: /home/kimlab1/strokach/documents/teaching/python-ta/pyta/examples/pylint/E0239_inherit_non_class.py\n",
      "\u001b[31m\u001b[1m=== Code errors/forbidden usage (fix: high priority) ===\n",
      "\u001b[0m\u001b[31m\u001b[1mE0239\u001b[0m \u001b[1m(inherit-non-class)  \u001b[0mNumber of occurrences: 1.\n",
      "  \u001b[1m[Line 1] Inheriting \"'str'\", which is not a class.\u001b[0m\n",
      "    \u001b[90m0\u001b[0m      \u001b[90mpass\u001b[0m\n",
      "    \u001b[1m\u001b[90m1\u001b[0m  \u001b[30m\u001b[0m\u001b[1m\u001b[30m\u001b[46mclass newclass('str'):\u001b[0m\u001b[30m\u001b[0m\n",
      "    \u001b[1m\u001b[90m2\u001b[0m  \u001b[30m\u001b[0m    \u001b[1m\u001b[30m\u001b[46mpass\u001b[0m\u001b[30m\u001b[0m\n",
      "\n",
      "\u001b[34m\u001b[1m=== Style/convention errors (fix: before submission) ===\n",
      "\u001b[0m\u001b[34m\u001b[1mC0103\u001b[0m \u001b[1m(invalid-name)  \u001b[0mNumber of occurrences: 2.\n",
      "  \u001b[1m[Line 1] Invalid module name \"E0239_inherit_non_class\"\u001b[0m\n",
      "\n",
      "  \u001b[1m[Line 1] Invalid class name \"newclass\"\u001b[0m\n",
      "    \u001b[90m0\u001b[0m      \u001b[90mpass\u001b[0m\n",
      "    \u001b[1m\u001b[90m1\u001b[0m  \u001b[30m\u001b[0m\u001b[1m\u001b[30m\u001b[46mclass newclass('str'):\u001b[0m\u001b[30m\u001b[0m\n",
      "    \u001b[1m\u001b[90m2\u001b[0m  \u001b[30m\u001b[0m    \u001b[1m\u001b[30m\u001b[46mpass\u001b[0m\u001b[30m\u001b[0m\n",
      "\n",
      "\u001b[34m\u001b[1mC0111\u001b[0m \u001b[1m(missing-docstring)  \u001b[0mNumber of occurrences: 2.\n",
      "  \u001b[1m[Line 1] Missing module docstring\u001b[0m\n",
      "     \u001b[30m\u001b[0m  \u001b[1m\u001b[30m\u001b[46m\"\"\"YOUR DOCSTRING HERE\"\"\"\u001b[0m\n",
      "    \u001b[90m1\u001b[0m  \u001b[90mclass newclass('str'):\u001b[0m\n",
      "\n",
      "  \u001b[1m[Line 1] Missing class docstring\u001b[0m\n",
      "    \u001b[90m1\u001b[0m  \u001b[90mclass newclass('str'):\u001b[0m\n",
      "     \u001b[30m\u001b[0m      \u001b[1m\u001b[30m\u001b[46m\"\"\"YOUR DOCSTRING HERE\"\"\"\u001b[0m\n",
      "\n",
      "\n",
      "None\n"
     ]
    },
    {
     "data": {
      "text/html": [
       "<h2><center>E1136_unsubscriptable_object.py</center></h2>"
      ],
      "text/plain": [
       "<IPython.core.display.HTML object>"
      ]
     },
     "metadata": {},
     "output_type": "display_data"
    },
    {
     "name": "stdout",
     "output_type": "stream",
     "text": [
      "### Loaded configuration file: /home/kimlab1/strokach/documents/teaching/python-ta/pyta/python_ta/.pylintrc\n",
      "### Loaded configuration file: /home/kimlab1/strokach/documents/teaching/python-ta/pyta/python_ta/.pylintrc\n",
      "*************** File: /home/kimlab1/strokach/documents/teaching/python-ta/pyta/examples/pylint/E1136_unsubscriptable_object.py\n",
      "\u001b[31m\u001b[1m=== Code errors/forbidden usage (fix: high priority) ===\n",
      "\u001b[0m\u001b[31m\u001b[1mE1136\u001b[0m \u001b[1m(unsubscriptable-object)  \u001b[0mNumber of occurrences: 1.\n",
      "  \u001b[1m[Line 2] Value 'a[1]' is unsubscriptable\u001b[0m\n",
      "    \u001b[90m0\u001b[0m  \u001b[90mprint(a[1][0])  # Error on this line\u001b[0m\n",
      "    \u001b[90m1\u001b[0m  \u001b[90ma = [[1, 2], 5]\u001b[0m\n",
      "    \u001b[1m\u001b[90m2\u001b[0m  \u001b[30mprint(\u001b[0m\u001b[1m\u001b[30m\u001b[46ma[1][0]\u001b[0m\u001b[30m)  # Error on this line\u001b[0m\n",
      "\n",
      "\u001b[34m\u001b[1m=== Style/convention errors (fix: before submission) ===\n",
      "\u001b[0m\u001b[34m\u001b[1mC0103\u001b[0m \u001b[1m(invalid-name)  \u001b[0mNumber of occurrences: 2.\n",
      "  \u001b[1m[Line 1] Invalid module name \"E1136_unsubscriptable_object\"\u001b[0m\n",
      "\n",
      "  \u001b[1m[Line 1] Invalid constant name \"a\"\u001b[0m\n",
      "    \u001b[90m0\u001b[0m  \u001b[90mprint(a[1][0])  # Error on this line\u001b[0m\n",
      "    \u001b[1m\u001b[90m1\u001b[0m  \u001b[30m\u001b[0m\u001b[1m\u001b[30m\u001b[46ma\u001b[0m \u001b[30m= [[1, 2], 5]\u001b[0m\n",
      "\n",
      "\u001b[34m\u001b[1mC0111\u001b[0m \u001b[1m(missing-docstring)  \u001b[0mNumber of occurrences: 1.\n",
      "  \u001b[1m[Line 1] Missing module docstring\u001b[0m\n",
      "     \u001b[30m\u001b[0m  \u001b[1m\u001b[30m\u001b[46m\"\"\"YOUR DOCSTRING HERE\"\"\"\u001b[0m\n",
      "    \u001b[90m1\u001b[0m  \u001b[90ma = [[1, 2], 5]\u001b[0m\n",
      "\n",
      "\u001b[34m\u001b[1mE9997\u001b[0m \u001b[1m(forbidden-global-variables)  \u001b[0mNumber of occurrences: 3.\n",
      "  \u001b[1m[Line 1] Global variables should not be used in CSC108/CSC148 - a global variable 'a' is declared on line 1\u001b[0m\n",
      "    \u001b[90m0\u001b[0m  \u001b[90mprint(a[1][0])  # Error on this line\u001b[0m\n",
      "    \u001b[1m\u001b[90m1\u001b[0m  \u001b[30m\u001b[0m\u001b[1m\u001b[30m\u001b[46ma\u001b[0m \u001b[30m= [[1, 2], 5]\u001b[0m\n",
      "\n",
      "  \u001b[1m[Line 2] Global variables should not be used in CSC108/CSC148 - a global variable 'print' is declared on line 2\u001b[0m\n",
      "    \u001b[90m0\u001b[0m  \u001b[90mprint(a[1][0])  # Error on this line\u001b[0m\n",
      "    \u001b[90m1\u001b[0m  \u001b[90ma = [[1, 2], 5]\u001b[0m\n",
      "    \u001b[1m\u001b[90m2\u001b[0m  \u001b[30m\u001b[0m\u001b[1m\u001b[30m\u001b[46mprint\u001b[0m\u001b[30m(a[1][0])  # Error on this line\u001b[0m\n",
      "\n",
      "  \u001b[1m[Line 2] Global variables should not be used in CSC108/CSC148 - a global variable 'a' is declared on line 2\u001b[0m\n",
      "    \u001b[90m0\u001b[0m  \u001b[90mprint(a[1][0])  # Error on this line\u001b[0m\n",
      "    \u001b[90m1\u001b[0m  \u001b[90ma = [[1, 2], 5]\u001b[0m\n",
      "    \u001b[1m\u001b[90m2\u001b[0m  \u001b[30mprint(\u001b[0m\u001b[1m\u001b[30m\u001b[46ma\u001b[0m\u001b[30m[1][0])  # Error on this line\u001b[0m\n",
      "\n",
      "\u001b[34m\u001b[1mE9900\u001b[0m \u001b[1m(type-error)  \u001b[0mNumber of occurrences: 1.\n",
      "  \u001b[1m[Line 2] Type error \"Method typing.Any.__getitem__ not found\" inferred\u001b[0m\n",
      "    \u001b[90m0\u001b[0m  \u001b[90mprint(a[1][0])  # Error on this line\u001b[0m\n",
      "    \u001b[90m1\u001b[0m  \u001b[90ma = [[1, 2], 5]\u001b[0m\n",
      "    \u001b[1m\u001b[90m2\u001b[0m  \u001b[30mprint(\u001b[0m\u001b[1m\u001b[30m\u001b[46ma[1][0]\u001b[0m\u001b[30m)  # Error on this line\u001b[0m\n",
      "\n",
      "\n",
      "None\n"
     ]
    },
    {
     "data": {
      "text/html": [
       "<h2><center>E1310_bad_str_strip_call.py</center></h2>"
      ],
      "text/plain": [
       "<IPython.core.display.HTML object>"
      ]
     },
     "metadata": {},
     "output_type": "display_data"
    },
    {
     "name": "stdout",
     "output_type": "stream",
     "text": [
      "### Loaded configuration file: /home/kimlab1/strokach/documents/teaching/python-ta/pyta/python_ta/.pylintrc\n",
      "### Loaded configuration file: /home/kimlab1/strokach/documents/teaching/python-ta/pyta/python_ta/.pylintrc\n",
      "*************** File: /home/kimlab1/strokach/documents/teaching/python-ta/pyta/examples/pylint/E1310_bad_str_strip_call.py\n",
      "\u001b[31m\u001b[1m=== Code errors/forbidden usage (fix: high priority) ===\n",
      "\u001b[0mNone!\n",
      "\n",
      "\u001b[34m\u001b[1m=== Style/convention errors (fix: before submission) ===\n",
      "\u001b[0m\u001b[34m\u001b[1mC0103\u001b[0m \u001b[1m(invalid-name)  \u001b[0mNumber of occurrences: 1.\n",
      "  \u001b[1m[Line 1] Invalid module name \"E1310_bad_str_strip_call\"\u001b[0m\n",
      "\n",
      "\u001b[34m\u001b[1mC0111\u001b[0m \u001b[1m(missing-docstring)  \u001b[0mNumber of occurrences: 1.\n",
      "  \u001b[1m[Line 1] Missing module docstring\u001b[0m\n",
      "     \u001b[30m\u001b[0m  \u001b[1m\u001b[30m\u001b[46m\"\"\"YOUR DOCSTRING HERE\"\"\"\u001b[0m\n",
      "    \u001b[90m1\u001b[0m  \u001b[90mfoo = 'tests'\u001b[0m\n",
      "\n",
      "\u001b[34m\u001b[1mE9997\u001b[0m \u001b[1m(forbidden-global-variables)  \u001b[0mNumber of occurrences: 2.\n",
      "  \u001b[1m[Line 1] Global variables should not be used in CSC108/CSC148 - a global variable 'foo' is declared on line 1\u001b[0m\n",
      "    \u001b[90m0\u001b[0m  \u001b[90mfoo.lstrip('java')  # Error on this line\u001b[0m\n",
      "    \u001b[1m\u001b[90m1\u001b[0m  \u001b[30m\u001b[0m\u001b[1m\u001b[30m\u001b[46mfoo\u001b[0m \u001b[30m= 'tests'\u001b[0m\n",
      "\n",
      "  \u001b[1m[Line 2] Global variables should not be used in CSC108/CSC148 - a global variable 'foo' is declared on line 2\u001b[0m\n",
      "    \u001b[90m0\u001b[0m  \u001b[90mfoo.lstrip('java')  # Error on this line\u001b[0m\n",
      "    \u001b[90m1\u001b[0m  \u001b[90mfoo = 'tests'\u001b[0m\n",
      "    \u001b[1m\u001b[90m2\u001b[0m  \u001b[30m\u001b[0m\u001b[1m\u001b[30m\u001b[46mfoo\u001b[0m\u001b[30m.lstrip('java')  # Error on this line\u001b[0m\n",
      "\n",
      "\u001b[34m\u001b[1mC0102\u001b[0m \u001b[1m(blacklisted-name)  \u001b[0mNumber of occurrences: 1.\n",
      "  \u001b[1m[Line 1] Black listed name \"foo\"\u001b[0m\n",
      "    \u001b[90m0\u001b[0m  \u001b[90mfoo.lstrip('java')  # Error on this line\u001b[0m\n",
      "    \u001b[1m\u001b[90m1\u001b[0m  \u001b[30m\u001b[0m\u001b[1m\u001b[30m\u001b[46mfoo\u001b[0m \u001b[30m= 'tests'\u001b[0m\n",
      "\n",
      "\u001b[34m\u001b[1mE1310\u001b[0m \u001b[1m(bad-str-strip-call)  \u001b[0mNumber of occurrences: 1.\n",
      "  \u001b[1m[Line 2] Suspicious argument in str.lstrip call\u001b[0m\n",
      "    \u001b[90m0\u001b[0m  \u001b[90mfoo.lstrip('java')  # Error on this line\u001b[0m\n",
      "    \u001b[90m1\u001b[0m  \u001b[90mfoo = 'tests'\u001b[0m\n",
      "    \u001b[1m\u001b[90m2\u001b[0m  \u001b[30m\u001b[0m\u001b[1m\u001b[30m\u001b[46mfoo.lstrip('java')\u001b[0m  \u001b[30m# Error on this line\u001b[0m\n",
      "\n",
      "\n",
      "None\n"
     ]
    },
    {
     "data": {
      "text/html": [
       "<h2><center>C0412_ungrouped_imports.py</center></h2>"
      ],
      "text/plain": [
       "<IPython.core.display.HTML object>"
      ]
     },
     "metadata": {},
     "output_type": "display_data"
    },
    {
     "name": "stdout",
     "output_type": "stream",
     "text": [
      "### Loaded configuration file: /home/kimlab1/strokach/documents/teaching/python-ta/pyta/python_ta/.pylintrc\n",
      "### Loaded configuration file: /home/kimlab1/strokach/documents/teaching/python-ta/pyta/python_ta/.pylintrc\n",
      "*************** File: /home/kimlab1/strokach/documents/teaching/python-ta/pyta/examples/pylint/C0412_ungrouped_imports.py\n",
      "\u001b[31m\u001b[1m=== Code errors/forbidden usage (fix: high priority) ===\n",
      "\u001b[0m\u001b[31m\u001b[1mE9999\u001b[0m \u001b[1m(forbidden-import)  \u001b[0mNumber of occurrences: 3.\n",
      "  \u001b[1m[Line 1] You may not import any modules - you imported sys on line 1.\u001b[0m\n",
      "    \u001b[90m0\u001b[0m  \u001b[90mfrom sys import stdin  # same packages should be grouped\u001b[0m\n",
      "    \u001b[1m\u001b[90m1\u001b[0m  \u001b[30m\u001b[0m\u001b[1m\u001b[30m\u001b[46mfrom sys import byteorder\u001b[0m  \u001b[30m# same packages should be grouped\u001b[0m\n",
      "    \u001b[90m2\u001b[0m  \u001b[90mfrom math import floor\u001b[0m\n",
      "\n",
      "  \u001b[1m[Line 2] You may not import any modules - you imported math on line 2.\u001b[0m\n",
      "    \u001b[90m0\u001b[0m  \u001b[90mfrom sys import stdin  # same packages should be grouped\u001b[0m\n",
      "    \u001b[90m1\u001b[0m  \u001b[90mfrom sys import byteorder  # same packages should be grouped\u001b[0m\n",
      "    \u001b[1m\u001b[90m2\u001b[0m  \u001b[30m\u001b[0m\u001b[1m\u001b[30m\u001b[46mfrom math import floor\u001b[0m\u001b[30m\u001b[0m\n",
      "\n",
      "  \u001b[1m[Line 3] You may not import any modules - you imported sys on line 3.\u001b[0m\n",
      "    \u001b[90m1\u001b[0m  \u001b[90mfrom sys import byteorder  # same packages should be grouped\u001b[0m\n",
      "    \u001b[90m2\u001b[0m  \u001b[90mfrom math import floor\u001b[0m\n",
      "    \u001b[1m\u001b[90m3\u001b[0m  \u001b[30m\u001b[0m\u001b[1m\u001b[30m\u001b[46mfrom sys import stdin\u001b[0m  \u001b[30m# same packages should be grouped\u001b[0m\n",
      "\n",
      "\u001b[34m\u001b[1m=== Style/convention errors (fix: before submission) ===\n",
      "\u001b[0m\u001b[34m\u001b[1mC0103\u001b[0m \u001b[1m(invalid-name)  \u001b[0mNumber of occurrences: 1.\n",
      "  \u001b[1m[Line 1] Invalid module name \"C0412_ungrouped_imports\"\u001b[0m\n",
      "\n",
      "\u001b[34m\u001b[1mC0111\u001b[0m \u001b[1m(missing-docstring)  \u001b[0mNumber of occurrences: 1.\n",
      "  \u001b[1m[Line 1] Missing module docstring\u001b[0m\n",
      "     \u001b[30m\u001b[0m  \u001b[1m\u001b[30m\u001b[46m\"\"\"YOUR DOCSTRING HERE\"\"\"\u001b[0m\n",
      "    \u001b[90m1\u001b[0m  \u001b[90mfrom sys import byteorder  # same packages should be grouped\u001b[0m\n",
      "    \u001b[90m2\u001b[0m  \u001b[90mfrom math import floor\u001b[0m\n",
      "\n",
      "\u001b[34m\u001b[1mW0611\u001b[0m \u001b[1m(unused-import)  \u001b[0mNumber of occurrences: 3.\n",
      "  \u001b[1m[Line 1] Unused byteorder imported from sys\u001b[0m\n",
      "    \u001b[90m0\u001b[0m  \u001b[90mfrom sys import stdin  # same packages should be grouped\u001b[0m\n",
      "    \u001b[1m\u001b[90m1\u001b[0m  \u001b[30m\u001b[0m\u001b[1m\u001b[30m\u001b[46mfrom sys import byteorder\u001b[0m  \u001b[30m# same packages should be grouped\u001b[0m\n",
      "    \u001b[90m2\u001b[0m  \u001b[90mfrom math import floor\u001b[0m\n",
      "\n",
      "  \u001b[1m[Line 2] Unused floor imported from math\u001b[0m\n",
      "    \u001b[90m0\u001b[0m  \u001b[90mfrom sys import stdin  # same packages should be grouped\u001b[0m\n",
      "    \u001b[90m1\u001b[0m  \u001b[90mfrom sys import byteorder  # same packages should be grouped\u001b[0m\n",
      "    \u001b[1m\u001b[90m2\u001b[0m  \u001b[30m\u001b[0m\u001b[1m\u001b[30m\u001b[46mfrom math import floor\u001b[0m\u001b[30m\u001b[0m\n",
      "\n",
      "  \u001b[1m[Line 3] Unused stdin imported from sys\u001b[0m\n",
      "    \u001b[90m1\u001b[0m  \u001b[90mfrom sys import byteorder  # same packages should be grouped\u001b[0m\n",
      "    \u001b[90m2\u001b[0m  \u001b[90mfrom math import floor\u001b[0m\n",
      "    \u001b[1m\u001b[90m3\u001b[0m  \u001b[30m\u001b[0m\u001b[1m\u001b[30m\u001b[46mfrom sys import stdin\u001b[0m  \u001b[30m# same packages should be grouped\u001b[0m\n",
      "\n",
      "\u001b[34m\u001b[1mC0412\u001b[0m \u001b[1m(ungrouped-imports)  \u001b[0mNumber of occurrences: 1.\n",
      "  \u001b[1m[Line 3] Imports from package sys are not grouped\u001b[0m\n",
      "    \u001b[90m1\u001b[0m  \u001b[90mfrom sys import byteorder  # same packages should be grouped\u001b[0m\n",
      "    \u001b[90m2\u001b[0m  \u001b[90mfrom math import floor\u001b[0m\n",
      "    \u001b[1m\u001b[90m3\u001b[0m  \u001b[30m\u001b[0m\u001b[1m\u001b[30m\u001b[46mfrom sys import stdin\u001b[0m  \u001b[30m# same packages should be grouped\u001b[0m\n",
      "\n",
      "\n",
      "None\n"
     ]
    },
    {
     "data": {
      "text/html": [
       "<h2><center>E0103_not_in_loop.py</center></h2>"
      ],
      "text/plain": [
       "<IPython.core.display.HTML object>"
      ]
     },
     "metadata": {},
     "output_type": "display_data"
    },
    {
     "name": "stdout",
     "output_type": "stream",
     "text": [
      "### Loaded configuration file: /home/kimlab1/strokach/documents/teaching/python-ta/pyta/python_ta/.pylintrc\n",
      "### Loaded configuration file: /home/kimlab1/strokach/documents/teaching/python-ta/pyta/python_ta/.pylintrc\n",
      "*************** File: /home/kimlab1/strokach/documents/teaching/python-ta/pyta/examples/pylint/E0103_not_in_loop.py\n",
      "\u001b[31m\u001b[1m=== Code errors/forbidden usage (fix: high priority) ===\n",
      "\u001b[0m\u001b[31m\u001b[1mE0103\u001b[0m \u001b[1m(not-in-loop)  \u001b[0mNumber of occurrences: 1.\n",
      "  \u001b[1m[Line 10] 'break' not properly in loop\u001b[0m\n",
      "    \u001b[90m8\u001b[0m      \u001b[90mfor item in lst:\u001b[0m\n",
      "    \u001b[90m9\u001b[0m          \u001b[90mtemp += item\u001b[0m\n",
      "   \u001b[1m\u001b[90m10\u001b[0m      \u001b[30m\u001b[0m\u001b[1m\u001b[30m\u001b[46mbreak\u001b[0m  \u001b[30m# Error on this line\u001b[0m\n",
      "\n",
      "\u001b[31m\u001b[1mW0101\u001b[0m \u001b[1m(unreachable)  \u001b[0mNumber of occurrences: 1.\n",
      "  \u001b[1m[Line 11] Unreachable code\u001b[0m\n",
      "    \u001b[90m9\u001b[0m          \u001b[90mtemp += item\u001b[0m\n",
      "   \u001b[90m10\u001b[0m      \u001b[90mbreak  # Error on this line\u001b[0m\n",
      "   \u001b[1m\u001b[90m11\u001b[0m      \u001b[30m\u001b[0m\u001b[1m\u001b[30m\u001b[46mreturn temp\u001b[0m\u001b[30m\u001b[0m\n",
      "\n",
      "\u001b[34m\u001b[1m=== Style/convention errors (fix: before submission) ===\n",
      "\u001b[0m\u001b[34m\u001b[1mC0103\u001b[0m \u001b[1m(invalid-name)  \u001b[0mNumber of occurrences: 1.\n",
      "  \u001b[1m[Line 1] Invalid module name \"E0103_not_in_loop\"\u001b[0m\n",
      "\n",
      "\u001b[34m\u001b[1mC0111\u001b[0m \u001b[1m(missing-docstring)  \u001b[0mNumber of occurrences: 1.\n",
      "  \u001b[1m[Line 1] Missing module docstring\u001b[0m\n",
      "     \u001b[30m\u001b[0m  \u001b[1m\u001b[30m\u001b[46m\"\"\"YOUR DOCSTRING HERE\"\"\"\u001b[0m\n",
      "    \u001b[90m1\u001b[0m  \u001b[90mdef add(lst):\u001b[0m\n",
      "    \u001b[90m2\u001b[0m      \u001b[90m\"\"\" Calculates the sum of the elements in the given list.\u001b[0m\n",
      "\n",
      "\n",
      "None\n"
     ]
    },
    {
     "data": {
      "text/html": [
       "<h2><center>W0199_assert_on_tuple.py</center></h2>"
      ],
      "text/plain": [
       "<IPython.core.display.HTML object>"
      ]
     },
     "metadata": {},
     "output_type": "display_data"
    },
    {
     "name": "stdout",
     "output_type": "stream",
     "text": [
      "### Loaded configuration file: /home/kimlab1/strokach/documents/teaching/python-ta/pyta/python_ta/.pylintrc\n",
      "### Loaded configuration file: /home/kimlab1/strokach/documents/teaching/python-ta/pyta/python_ta/.pylintrc\n",
      "*************** File: /home/kimlab1/strokach/documents/teaching/python-ta/pyta/examples/pylint/W0199_assert_on_tuple.py\n",
      "\u001b[31m\u001b[1m=== Code errors/forbidden usage (fix: high priority) ===\n",
      "\u001b[0mNone!\n",
      "\n",
      "\u001b[34m\u001b[1m=== Style/convention errors (fix: before submission) ===\n",
      "\u001b[0m\u001b[34m\u001b[1mC0103\u001b[0m \u001b[1m(invalid-name)  \u001b[0mNumber of occurrences: 1.\n",
      "  \u001b[1m[Line 1] Invalid module name \"W0199_assert_on_tuple\"\u001b[0m\n",
      "\n",
      "\u001b[34m\u001b[1mC0111\u001b[0m \u001b[1m(missing-docstring)  \u001b[0mNumber of occurrences: 1.\n",
      "  \u001b[1m[Line 1] Missing module docstring\u001b[0m\n",
      "     \u001b[30m\u001b[0m  \u001b[1m\u001b[30m\u001b[46m\"\"\"YOUR DOCSTRING HERE\"\"\"\u001b[0m\n",
      "    \u001b[90m1\u001b[0m  \u001b[90mdef check(ex1, ex2):\u001b[0m\n",
      "    \u001b[90m2\u001b[0m      \u001b[90m\"\"\"\u001b[0m\n",
      "\n",
      "\u001b[34m\u001b[1mW0199\u001b[0m \u001b[1m(assert-on-tuple)  \u001b[0mNumber of occurrences: 1.\n",
      "  \u001b[1m[Line 7] Assert called on a 2-uple. Did you mean 'assert x,y'?\u001b[0m\n",
      "    \u001b[90m5\u001b[0m      \u001b[90m@rtype: None\u001b[0m\n",
      "    \u001b[90m6\u001b[0m      \u001b[90m\"\"\"\u001b[0m\n",
      "    \u001b[1m\u001b[90m7\u001b[0m      \u001b[30m\u001b[0m\u001b[1m\u001b[30m\u001b[46massert (ex1, ex2)\u001b[0m  \u001b[30m# Error on this line\u001b[0m\n",
      "\n",
      "\n",
      "None\n"
     ]
    },
    {
     "data": {
      "text/html": [
       "<h2><center>E1306_too_few_format_args.py</center></h2>"
      ],
      "text/plain": [
       "<IPython.core.display.HTML object>"
      ]
     },
     "metadata": {},
     "output_type": "display_data"
    },
    {
     "name": "stdout",
     "output_type": "stream",
     "text": [
      "### Loaded configuration file: /home/kimlab1/strokach/documents/teaching/python-ta/pyta/python_ta/.pylintrc\n",
      "### Loaded configuration file: /home/kimlab1/strokach/documents/teaching/python-ta/pyta/python_ta/.pylintrc\n",
      "*************** File: /home/kimlab1/strokach/documents/teaching/python-ta/pyta/examples/pylint/E1306_too_few_format_args.py\n",
      "\u001b[31m\u001b[1m=== Code errors/forbidden usage (fix: high priority) ===\n",
      "\u001b[0mNone!\n",
      "\n",
      "\u001b[34m\u001b[1m=== Style/convention errors (fix: before submission) ===\n",
      "\u001b[0m\u001b[34m\u001b[1mC0103\u001b[0m \u001b[1m(invalid-name)  \u001b[0mNumber of occurrences: 2.\n",
      "  \u001b[1m[Line 1] Invalid module name \"E1306_too_few_format_args\"\u001b[0m\n",
      "\n",
      "  \u001b[1m[Line 1] Invalid constant name \"s\"\u001b[0m\n",
      "    \u001b[90m0\u001b[0m  \u001b[90ms = '{} and {}'.format('first')  # Error on this line\u001b[0m\n",
      "    \u001b[1m\u001b[90m1\u001b[0m  \u001b[30m\u001b[0m\u001b[1m\u001b[30m\u001b[46ms\u001b[0m \u001b[30m= '{} and {}'.format('first')  # Error on this line\u001b[0m\n",
      "\n",
      "\u001b[34m\u001b[1mC0111\u001b[0m \u001b[1m(missing-docstring)  \u001b[0mNumber of occurrences: 1.\n",
      "  \u001b[1m[Line 1] Missing module docstring\u001b[0m\n",
      "     \u001b[30m\u001b[0m  \u001b[1m\u001b[30m\u001b[46m\"\"\"YOUR DOCSTRING HERE\"\"\"\u001b[0m\n",
      "\n",
      "\u001b[34m\u001b[1mE9997\u001b[0m \u001b[1m(forbidden-global-variables)  \u001b[0mNumber of occurrences: 1.\n",
      "  \u001b[1m[Line 1] Global variables should not be used in CSC108/CSC148 - a global variable 's' is declared on line 1\u001b[0m\n",
      "    \u001b[90m0\u001b[0m  \u001b[90ms = '{} and {}'.format('first')  # Error on this line\u001b[0m\n",
      "    \u001b[1m\u001b[90m1\u001b[0m  \u001b[30m\u001b[0m\u001b[1m\u001b[30m\u001b[46ms\u001b[0m \u001b[30m= '{} and {}'.format('first')  # Error on this line\u001b[0m\n",
      "\n",
      "\u001b[34m\u001b[1mE1306\u001b[0m \u001b[1m(too-few-format-args)  \u001b[0mNumber of occurrences: 1.\n",
      "  \u001b[1m[Line 1] Not enough arguments for format string\u001b[0m\n",
      "    \u001b[90m0\u001b[0m  \u001b[90ms = '{} and {}'.format('first')  # Error on this line\u001b[0m\n",
      "    \u001b[1m\u001b[90m1\u001b[0m  \u001b[30ms = \u001b[0m\u001b[1m\u001b[30m\u001b[46m'{} and {}'.format('first')\u001b[0m  \u001b[30m# Error on this line\u001b[0m\n",
      "\n",
      "\n",
      "None\n"
     ]
    },
    {
     "data": {
      "text/html": [
       "<h2><center>W0404_reimported.py</center></h2>"
      ],
      "text/plain": [
       "<IPython.core.display.HTML object>"
      ]
     },
     "metadata": {},
     "output_type": "display_data"
    },
    {
     "name": "stdout",
     "output_type": "stream",
     "text": [
      "### Loaded configuration file: /home/kimlab1/strokach/documents/teaching/python-ta/pyta/python_ta/.pylintrc\n",
      "### Loaded configuration file: /home/kimlab1/strokach/documents/teaching/python-ta/pyta/python_ta/.pylintrc\n",
      "*************** File: /home/kimlab1/strokach/documents/teaching/python-ta/pyta/examples/pylint/W0404_reimported.py\n",
      "\u001b[31m\u001b[1m=== Code errors/forbidden usage (fix: high priority) ===\n",
      "\u001b[0m\u001b[31m\u001b[1mE9999\u001b[0m \u001b[1m(forbidden-import)  \u001b[0mNumber of occurrences: 2.\n",
      "  \u001b[1m[Line 1] You may not import any modules - you imported math on line 1.\u001b[0m\n",
      "    \u001b[90m0\u001b[0m  \u001b[90mimport math  # importing a module twice\u001b[0m\n",
      "    \u001b[1m\u001b[90m1\u001b[0m  \u001b[30m\u001b[0m\u001b[1m\u001b[30m\u001b[46mimport math\u001b[0m\u001b[30m\u001b[0m\n",
      "\n",
      "  \u001b[1m[Line 2] You may not import any modules - you imported math on line 2.\u001b[0m\n",
      "    \u001b[90m0\u001b[0m  \u001b[90mimport math  # importing a module twice\u001b[0m\n",
      "    \u001b[90m1\u001b[0m  \u001b[90mimport math\u001b[0m\n",
      "    \u001b[1m\u001b[90m2\u001b[0m  \u001b[30m\u001b[0m\u001b[1m\u001b[30m\u001b[46mimport math\u001b[0m  \u001b[30m# importing a module twice\u001b[0m\n",
      "\n",
      "\u001b[34m\u001b[1m=== Style/convention errors (fix: before submission) ===\n",
      "\u001b[0m\u001b[34m\u001b[1mC0103\u001b[0m \u001b[1m(invalid-name)  \u001b[0mNumber of occurrences: 1.\n",
      "  \u001b[1m[Line 1] Invalid module name \"W0404_reimported\"\u001b[0m\n",
      "\n",
      "\u001b[34m\u001b[1mC0111\u001b[0m \u001b[1m(missing-docstring)  \u001b[0mNumber of occurrences: 1.\n",
      "  \u001b[1m[Line 1] Missing module docstring\u001b[0m\n",
      "     \u001b[30m\u001b[0m  \u001b[1m\u001b[30m\u001b[46m\"\"\"YOUR DOCSTRING HERE\"\"\"\u001b[0m\n",
      "    \u001b[90m1\u001b[0m  \u001b[90mimport math\u001b[0m\n",
      "\n",
      "\u001b[34m\u001b[1mW0404\u001b[0m \u001b[1m(reimported)  \u001b[0mNumber of occurrences: 1.\n",
      "  \u001b[1m[Line 2] Reimport 'math' (imported line 1)\u001b[0m\n",
      "    \u001b[90m0\u001b[0m  \u001b[90mimport math  # importing a module twice\u001b[0m\n",
      "    \u001b[90m1\u001b[0m  \u001b[90mimport math\u001b[0m\n",
      "    \u001b[1m\u001b[90m2\u001b[0m  \u001b[30m\u001b[0m\u001b[1m\u001b[30m\u001b[46mimport math\u001b[0m  \u001b[30m# importing a module twice\u001b[0m\n",
      "\n",
      "\u001b[34m\u001b[1mW0611\u001b[0m \u001b[1m(unused-import)  \u001b[0mNumber of occurrences: 1.\n",
      "  \u001b[1m[Line 1] Unused import math\u001b[0m\n",
      "    \u001b[90m0\u001b[0m  \u001b[90mimport math  # importing a module twice\u001b[0m\n",
      "    \u001b[1m\u001b[90m1\u001b[0m  \u001b[30m\u001b[0m\u001b[1m\u001b[30m\u001b[46mimport math\u001b[0m\u001b[30m\u001b[0m\n",
      "\n",
      "\n",
      "None\n"
     ]
    },
    {
     "data": {
      "text/html": [
       "<h2><center>R0101_too_many_nested_blocks.py</center></h2>"
      ],
      "text/plain": [
       "<IPython.core.display.HTML object>"
      ]
     },
     "metadata": {},
     "output_type": "display_data"
    },
    {
     "name": "stdout",
     "output_type": "stream",
     "text": [
      "### Loaded configuration file: /home/kimlab1/strokach/documents/teaching/python-ta/pyta/python_ta/.pylintrc\n",
      "### Loaded configuration file: /home/kimlab1/strokach/documents/teaching/python-ta/pyta/python_ta/.pylintrc\n",
      "*************** File: /home/kimlab1/strokach/documents/teaching/python-ta/pyta/examples/pylint/R0101_too_many_nested_blocks.py\n",
      "\u001b[31m\u001b[1m=== Code errors/forbidden usage (fix: high priority) ===\n",
      "\u001b[0mNone!\n",
      "\n",
      "\u001b[34m\u001b[1m=== Style/convention errors (fix: before submission) ===\n",
      "\u001b[0m\u001b[34m\u001b[1mC0103\u001b[0m \u001b[1m(invalid-name)  \u001b[0mNumber of occurrences: 1.\n",
      "  \u001b[1m[Line 1] Invalid module name \"R0101_too_many_nested_blocks\"\u001b[0m\n",
      "\n",
      "\u001b[34m\u001b[1mC0111\u001b[0m \u001b[1m(missing-docstring)  \u001b[0mNumber of occurrences: 2.\n",
      "  \u001b[1m[Line 1] Missing module docstring\u001b[0m\n",
      "     \u001b[30m\u001b[0m  \u001b[1m\u001b[30m\u001b[46m\"\"\"YOUR DOCSTRING HERE\"\"\"\u001b[0m\n",
      "    \u001b[90m1\u001b[0m  \u001b[90mdef my_f(num):\u001b[0m\n",
      "    \u001b[90m2\u001b[0m      \u001b[90mif num > 0:\u001b[0m\n",
      "\n",
      "  \u001b[1m[Line 1] Missing function docstring\u001b[0m\n",
      "    \u001b[90m1\u001b[0m  \u001b[90mdef my_f(num):\u001b[0m\n",
      "     \u001b[30m\u001b[0m      \u001b[1m\u001b[30m\u001b[46m\"\"\"YOUR DOCSTRING HERE\"\"\"\u001b[0m\n",
      "    \u001b[90m2\u001b[0m      \u001b[90mif num > 0:\u001b[0m\n",
      "    \u001b[90m3\u001b[0m          \u001b[90mif num > 3:\u001b[0m\n",
      "\n",
      "\u001b[34m\u001b[1mE9998\u001b[0m \u001b[1m(IO-function-not-allowed)  \u001b[0mNumber of occurrences: 2.\n",
      "  \u001b[1m[Line 7] Used IO function print\u001b[0m\n",
      "    \u001b[90m5\u001b[0m                  \u001b[90mif num < 50:\u001b[0m\n",
      "    \u001b[90m6\u001b[0m                      \u001b[90mif num == 35:\u001b[0m\n",
      "    \u001b[1m\u001b[90m7\u001b[0m                          \u001b[30m\u001b[0m\u001b[1m\u001b[30m\u001b[46mprint(num)\u001b[0m\u001b[30m\u001b[0m\n",
      "    \u001b[90m8\u001b[0m      \u001b[90melse:\u001b[0m\n",
      "\n",
      "  \u001b[1m[Line 9] Used IO function print\u001b[0m\n",
      "    \u001b[90m7\u001b[0m                          \u001b[90mprint(num)\u001b[0m\n",
      "    \u001b[90m8\u001b[0m      \u001b[90melse:\u001b[0m\n",
      "    \u001b[1m\u001b[90m9\u001b[0m          \u001b[30m\u001b[0m\u001b[1m\u001b[30m\u001b[46mprint('done')\u001b[0m\u001b[30m\u001b[0m\n",
      "\n",
      "\u001b[34m\u001b[1mR1702\u001b[0m \u001b[1m(too-many-nested-blocks)  \u001b[0mNumber of occurrences: 1.\n",
      "  \u001b[1m[Line 2] Too many nested blocks (5/3)\u001b[0m\n",
      "\n",
      "\n",
      "None\n"
     ]
    },
    {
     "data": {
      "text/html": [
       "<h2><center>C0301_line_too_long.py</center></h2>"
      ],
      "text/plain": [
       "<IPython.core.display.HTML object>"
      ]
     },
     "metadata": {},
     "output_type": "display_data"
    },
    {
     "name": "stdout",
     "output_type": "stream",
     "text": [
      "### Loaded configuration file: /home/kimlab1/strokach/documents/teaching/python-ta/pyta/python_ta/.pylintrc\n",
      "### Loaded configuration file: /home/kimlab1/strokach/documents/teaching/python-ta/pyta/python_ta/.pylintrc\n",
      "*************** File: /home/kimlab1/strokach/documents/teaching/python-ta/pyta/examples/pylint/C0301_line_too_long.py\n",
      "\u001b[31m\u001b[1m=== Code errors/forbidden usage (fix: high priority) ===\n",
      "\u001b[0mNone!\n",
      "\n",
      "\u001b[34m\u001b[1m=== Style/convention errors (fix: before submission) ===\n",
      "\u001b[0m\u001b[34m\u001b[1mC0301\u001b[0m \u001b[1m(line-too-long)  \u001b[0mNumber of occurrences: 1.\n",
      "  \u001b[1m[Line 1] Line too long (114/80)\u001b[0m\n",
      "\n",
      "\u001b[34m\u001b[1mC0103\u001b[0m \u001b[1m(invalid-name)  \u001b[0mNumber of occurrences: 1.\n",
      "  \u001b[1m[Line 1] Invalid module name \"C0301_line_too_long\"\u001b[0m\n",
      "\n",
      "\u001b[34m\u001b[1mC0111\u001b[0m \u001b[1m(missing-docstring)  \u001b[0mNumber of occurrences: 1.\n",
      "  \u001b[1m[Line 1] Missing module docstring\u001b[0m\n",
      "     \u001b[30m\u001b[0m  \u001b[1m\u001b[30m\u001b[46m\"\"\"YOUR DOCSTRING HERE\"\"\"\u001b[0m\n",
      "\n",
      "\n",
      "None\n"
     ]
    },
    {
     "data": {
      "text/html": [
       "<h2><center>E1135_unsupported_membership_test.py</center></h2>"
      ],
      "text/plain": [
       "<IPython.core.display.HTML object>"
      ]
     },
     "metadata": {},
     "output_type": "display_data"
    },
    {
     "name": "stdout",
     "output_type": "stream",
     "text": [
      "### Loaded configuration file: /home/kimlab1/strokach/documents/teaching/python-ta/pyta/python_ta/.pylintrc\n",
      "### Loaded configuration file: /home/kimlab1/strokach/documents/teaching/python-ta/pyta/python_ta/.pylintrc\n",
      "*************** File: /home/kimlab1/strokach/documents/teaching/python-ta/pyta/examples/pylint/E1135_unsupported_membership_test.py\n",
      "\u001b[31m\u001b[1m=== Code errors/forbidden usage (fix: high priority) ===\n",
      "\u001b[0m\u001b[31m\u001b[1mE1135\u001b[0m \u001b[1m(unsupported-membership-test)  \u001b[0mNumber of occurrences: 1.\n",
      "  \u001b[1m[Line 2] Value 'lst' doesn't support membership test\u001b[0m\n",
      "    \u001b[90m0\u001b[0m      \u001b[90mprint('unsupported membership test')\u001b[0m\n",
      "    \u001b[90m1\u001b[0m  \u001b[90mlst = 1132424\u001b[0m\n",
      "    \u001b[1m\u001b[90m2\u001b[0m  \u001b[30mif 'a' in \u001b[0m\u001b[1m\u001b[30m\u001b[46mlst\u001b[0m\u001b[30m:  # Error on this line\u001b[0m\n",
      "\n",
      "\u001b[34m\u001b[1m=== Style/convention errors (fix: before submission) ===\n",
      "\u001b[0m\u001b[34m\u001b[1mC0103\u001b[0m \u001b[1m(invalid-name)  \u001b[0mNumber of occurrences: 2.\n",
      "  \u001b[1m[Line 1] Invalid module name \"E1135_unsupported_membership_test\"\u001b[0m\n",
      "\n",
      "  \u001b[1m[Line 1] Invalid constant name \"lst\"\u001b[0m\n",
      "    \u001b[90m0\u001b[0m      \u001b[90mprint('unsupported membership test')\u001b[0m\n",
      "    \u001b[1m\u001b[90m1\u001b[0m  \u001b[30m\u001b[0m\u001b[1m\u001b[30m\u001b[46mlst\u001b[0m \u001b[30m= 1132424\u001b[0m\n",
      "    \u001b[90m2\u001b[0m  \u001b[90mif 'a' in lst:  # Error on this line\u001b[0m\n",
      "\n",
      "\u001b[34m\u001b[1mC0111\u001b[0m \u001b[1m(missing-docstring)  \u001b[0mNumber of occurrences: 1.\n",
      "  \u001b[1m[Line 1] Missing module docstring\u001b[0m\n",
      "     \u001b[30m\u001b[0m  \u001b[1m\u001b[30m\u001b[46m\"\"\"YOUR DOCSTRING HERE\"\"\"\u001b[0m\n",
      "    \u001b[90m1\u001b[0m  \u001b[90mlst = 1132424\u001b[0m\n",
      "    \u001b[90m2\u001b[0m  \u001b[90mif 'a' in lst:  # Error on this line\u001b[0m\n",
      "\n",
      "\u001b[34m\u001b[1mE9997\u001b[0m \u001b[1m(forbidden-global-variables)  \u001b[0mNumber of occurrences: 3.\n",
      "  \u001b[1m[Line 1] Global variables should not be used in CSC108/CSC148 - a global variable 'lst' is declared on line 1\u001b[0m\n",
      "    \u001b[90m0\u001b[0m      \u001b[90mprint('unsupported membership test')\u001b[0m\n",
      "    \u001b[1m\u001b[90m1\u001b[0m  \u001b[30m\u001b[0m\u001b[1m\u001b[30m\u001b[46mlst\u001b[0m \u001b[30m= 1132424\u001b[0m\n",
      "    \u001b[90m2\u001b[0m  \u001b[90mif 'a' in lst:  # Error on this line\u001b[0m\n",
      "\n",
      "  \u001b[1m[Line 2] Global variables should not be used in CSC108/CSC148 - a global variable 'lst' is declared on line 2\u001b[0m\n",
      "    \u001b[90m0\u001b[0m      \u001b[90mprint('unsupported membership test')\u001b[0m\n",
      "    \u001b[90m1\u001b[0m  \u001b[90mlst = 1132424\u001b[0m\n",
      "    \u001b[1m\u001b[90m2\u001b[0m  \u001b[30mif 'a' in \u001b[0m\u001b[1m\u001b[30m\u001b[46mlst\u001b[0m\u001b[30m:  # Error on this line\u001b[0m\n",
      "\n",
      "  \u001b[1m[Line 3] Global variables should not be used in CSC108/CSC148 - a global variable 'print' is declared on line 3\u001b[0m\n",
      "    \u001b[90m1\u001b[0m  \u001b[90mlst = 1132424\u001b[0m\n",
      "    \u001b[90m2\u001b[0m  \u001b[90mif 'a' in lst:  # Error on this line\u001b[0m\n",
      "    \u001b[1m\u001b[90m3\u001b[0m      \u001b[30m\u001b[0m\u001b[1m\u001b[30m\u001b[46mprint\u001b[0m\u001b[30m('unsupported membership test')\u001b[0m\n",
      "\n",
      "\n",
      "None\n"
     ]
    },
    {
     "data": {
      "text/html": [
       "<h2><center>R0201_no_self_use.py</center></h2>"
      ],
      "text/plain": [
       "<IPython.core.display.HTML object>"
      ]
     },
     "metadata": {},
     "output_type": "display_data"
    },
    {
     "name": "stdout",
     "output_type": "stream",
     "text": [
      "### Loaded configuration file: /home/kimlab1/strokach/documents/teaching/python-ta/pyta/python_ta/.pylintrc\n",
      "### Loaded configuration file: /home/kimlab1/strokach/documents/teaching/python-ta/pyta/python_ta/.pylintrc\n",
      "*************** File: /home/kimlab1/strokach/documents/teaching/python-ta/pyta/examples/pylint/R0201_no_self_use.py\n",
      "\u001b[31m\u001b[1m=== Code errors/forbidden usage (fix: high priority) ===\n",
      "\u001b[0mNone!\n",
      "\n",
      "\u001b[34m\u001b[1m=== Style/convention errors (fix: before submission) ===\n",
      "\u001b[0m\u001b[34m\u001b[1mC0103\u001b[0m \u001b[1m(invalid-name)  \u001b[0mNumber of occurrences: 1.\n",
      "  \u001b[1m[Line 1] Invalid module name \"R0201_no_self_use\"\u001b[0m\n",
      "\n",
      "\u001b[34m\u001b[1mC0111\u001b[0m \u001b[1m(missing-docstring)  \u001b[0mNumber of occurrences: 4.\n",
      "  \u001b[1m[Line 1] Missing module docstring\u001b[0m\n",
      "     \u001b[30m\u001b[0m  \u001b[1m\u001b[30m\u001b[46m\"\"\"YOUR DOCSTRING HERE\"\"\"\u001b[0m\n",
      "    \u001b[90m1\u001b[0m  \u001b[90mclass NoSelfUsage:\u001b[0m\n",
      "    \u001b[90m2\u001b[0m      \u001b[90mdef __init__(self):\u001b[0m\n",
      "\n",
      "  \u001b[1m[Line 1] Missing class docstring\u001b[0m\n",
      "    \u001b[90m1\u001b[0m  \u001b[90mclass NoSelfUsage:\u001b[0m\n",
      "     \u001b[30m\u001b[0m      \u001b[1m\u001b[30m\u001b[46m\"\"\"YOUR DOCSTRING HERE\"\"\"\u001b[0m\n",
      "    \u001b[90m2\u001b[0m      \u001b[90mdef __init__(self):\u001b[0m\n",
      "    \u001b[90m3\u001b[0m          \u001b[90mself.a = 42\u001b[0m\n",
      "\n",
      "  \u001b[1m[Line 5] Missing method docstring\u001b[0m\n",
      "    \u001b[90m5\u001b[0m      \u001b[90mdef no_self(self, num):\u001b[0m\n",
      "     \u001b[30m\u001b[0m          \u001b[1m\u001b[30m\u001b[46m\"\"\"YOUR DOCSTRING HERE\"\"\"\u001b[0m\n",
      "    \u001b[90m6\u001b[0m          \u001b[90mnum = num + 2\u001b[0m\n",
      "    \u001b[90m7\u001b[0m          \u001b[90mprint(num)\u001b[0m\n",
      "\n",
      "  \u001b[1m[Line 11] Missing function docstring\u001b[0m\n",
      "   \u001b[90m11\u001b[0m  \u001b[90mdef no_self(num):\u001b[0m\n",
      "     \u001b[30m\u001b[0m      \u001b[1m\u001b[30m\u001b[46m\"\"\"YOUR DOCSTRING HERE\"\"\"\u001b[0m\n",
      "   \u001b[90m12\u001b[0m      \u001b[90mnum = num + 2\u001b[0m\n",
      "\n",
      "\u001b[34m\u001b[1mE9998\u001b[0m \u001b[1m(IO-function-not-allowed)  \u001b[0mNumber of occurrences: 2.\n",
      "  \u001b[1m[Line 7] Used IO function print\u001b[0m\n",
      "    \u001b[90m5\u001b[0m      \u001b[90mdef no_self(self, num):\u001b[0m\n",
      "    \u001b[90m6\u001b[0m          \u001b[90mnum = num + 2\u001b[0m\n",
      "    \u001b[1m\u001b[90m7\u001b[0m          \u001b[30m\u001b[0m\u001b[1m\u001b[30m\u001b[46mprint(num)\u001b[0m\u001b[30m\u001b[0m\n",
      "    \u001b[90m8\u001b[0m  \u001b[90m\u001b[0m\n",
      "    \u001b[90m9\u001b[0m  \u001b[90m\u001b[0m\n",
      "\n",
      "  \u001b[1m[Line 13] Used IO function print\u001b[0m\n",
      "   \u001b[90m11\u001b[0m  \u001b[90mdef no_self(num):\u001b[0m\n",
      "   \u001b[90m12\u001b[0m      \u001b[90mnum = num + 2\u001b[0m\n",
      "   \u001b[1m\u001b[90m13\u001b[0m      \u001b[30m\u001b[0m\u001b[1m\u001b[30m\u001b[46mprint(num)\u001b[0m\u001b[30m\u001b[0m\n",
      "\n",
      "\u001b[34m\u001b[1mR0201\u001b[0m \u001b[1m(no-self-use)  \u001b[0mNumber of occurrences: 1.\n",
      "  \u001b[1m[Line 5] Method could be a function\u001b[0m\n",
      "    \u001b[90m3\u001b[0m          \u001b[90mself.a = 42\u001b[0m\n",
      "    \u001b[90m4\u001b[0m  \u001b[90m\u001b[0m\n",
      "    \u001b[1m\u001b[90m5\u001b[0m      \u001b[30m\u001b[0m\u001b[1m\u001b[30m\u001b[46mdef no_self(self, num):\u001b[0m\u001b[30m\u001b[0m\n",
      "    \u001b[1m\u001b[90m7\u001b[0m  \u001b[30m\u001b[0m        \u001b[1m\u001b[30m\u001b[46mprint(num)\u001b[0m\u001b[30m\u001b[0m\n",
      "    \u001b[90m8\u001b[0m  \u001b[90m\u001b[0m\n",
      "    \u001b[90m9\u001b[0m  \u001b[90m\u001b[0m\n",
      "\n",
      "\n",
      "None\n"
     ]
    },
    {
     "data": {
      "text/html": [
       "<h2><center>E1126_invalid_sequence_index.py</center></h2>"
      ],
      "text/plain": [
       "<IPython.core.display.HTML object>"
      ]
     },
     "metadata": {},
     "output_type": "display_data"
    },
    {
     "name": "stdout",
     "output_type": "stream",
     "text": [
      "### Loaded configuration file: /home/kimlab1/strokach/documents/teaching/python-ta/pyta/python_ta/.pylintrc\n",
      "### Loaded configuration file: /home/kimlab1/strokach/documents/teaching/python-ta/pyta/python_ta/.pylintrc\n",
      "*************** File: /home/kimlab1/strokach/documents/teaching/python-ta/pyta/examples/pylint/E1126_invalid_sequence_index.py\n",
      "\u001b[31m\u001b[1m=== Code errors/forbidden usage (fix: high priority) ===\n",
      "\u001b[0m\u001b[31m\u001b[1mE1126\u001b[0m \u001b[1m(invalid-sequence-index)  \u001b[0mNumber of occurrences: 1.\n",
      "  \u001b[1m[Line 2] Sequence index is not an int, slice, or instance with __index__\u001b[0m\n",
      "    \u001b[90m0\u001b[0m  \u001b[90mprint(a['p'])\u001b[0m\n",
      "    \u001b[90m1\u001b[0m  \u001b[90ma = ['p', 'y', 'T', 'A']\u001b[0m\n",
      "    \u001b[1m\u001b[90m2\u001b[0m  \u001b[30mprint(a\u001b[0m\u001b[1m\u001b[30m\u001b[46m['p']\u001b[0m\u001b[30m)\u001b[0m\n",
      "\n",
      "\u001b[34m\u001b[1m=== Style/convention errors (fix: before submission) ===\n",
      "\u001b[0m\u001b[34m\u001b[1mC0103\u001b[0m \u001b[1m(invalid-name)  \u001b[0mNumber of occurrences: 2.\n",
      "  \u001b[1m[Line 1] Invalid module name \"E1126_invalid_sequence_index\"\u001b[0m\n",
      "\n",
      "  \u001b[1m[Line 1] Invalid constant name \"a\"\u001b[0m\n",
      "    \u001b[90m0\u001b[0m  \u001b[90mprint(a['p'])\u001b[0m\n",
      "    \u001b[1m\u001b[90m1\u001b[0m  \u001b[30m\u001b[0m\u001b[1m\u001b[30m\u001b[46ma\u001b[0m \u001b[30m= ['p', 'y', 'T', 'A']\u001b[0m\n",
      "\n",
      "\u001b[34m\u001b[1mC0111\u001b[0m \u001b[1m(missing-docstring)  \u001b[0mNumber of occurrences: 1.\n",
      "  \u001b[1m[Line 1] Missing module docstring\u001b[0m\n",
      "     \u001b[30m\u001b[0m  \u001b[1m\u001b[30m\u001b[46m\"\"\"YOUR DOCSTRING HERE\"\"\"\u001b[0m\n",
      "    \u001b[90m1\u001b[0m  \u001b[90ma = ['p', 'y', 'T', 'A']\u001b[0m\n",
      "\n",
      "\u001b[34m\u001b[1mE9997\u001b[0m \u001b[1m(forbidden-global-variables)  \u001b[0mNumber of occurrences: 3.\n",
      "  \u001b[1m[Line 1] Global variables should not be used in CSC108/CSC148 - a global variable 'a' is declared on line 1\u001b[0m\n",
      "    \u001b[90m0\u001b[0m  \u001b[90mprint(a['p'])\u001b[0m\n",
      "    \u001b[1m\u001b[90m1\u001b[0m  \u001b[30m\u001b[0m\u001b[1m\u001b[30m\u001b[46ma\u001b[0m \u001b[30m= ['p', 'y', 'T', 'A']\u001b[0m\n",
      "\n",
      "  \u001b[1m[Line 2] Global variables should not be used in CSC108/CSC148 - a global variable 'print' is declared on line 2\u001b[0m\n",
      "    \u001b[90m0\u001b[0m  \u001b[90mprint(a['p'])\u001b[0m\n",
      "    \u001b[90m1\u001b[0m  \u001b[90ma = ['p', 'y', 'T', 'A']\u001b[0m\n",
      "    \u001b[1m\u001b[90m2\u001b[0m  \u001b[30m\u001b[0m\u001b[1m\u001b[30m\u001b[46mprint\u001b[0m\u001b[30m(a['p'])\u001b[0m\n",
      "\n",
      "  \u001b[1m[Line 2] Global variables should not be used in CSC108/CSC148 - a global variable 'a' is declared on line 2\u001b[0m\n",
      "    \u001b[90m0\u001b[0m  \u001b[90mprint(a['p'])\u001b[0m\n",
      "    \u001b[90m1\u001b[0m  \u001b[90ma = ['p', 'y', 'T', 'A']\u001b[0m\n",
      "    \u001b[1m\u001b[90m2\u001b[0m  \u001b[30mprint(\u001b[0m\u001b[1m\u001b[30m\u001b[46ma\u001b[0m\u001b[30m['p'])\u001b[0m\n",
      "\n",
      "\n",
      "None\n"
     ]
    },
    {
     "data": {
      "text/html": [
       "<h2><center>W0612_unused_variable.py</center></h2>"
      ],
      "text/plain": [
       "<IPython.core.display.HTML object>"
      ]
     },
     "metadata": {},
     "output_type": "display_data"
    },
    {
     "name": "stdout",
     "output_type": "stream",
     "text": [
      "### Loaded configuration file: /home/kimlab1/strokach/documents/teaching/python-ta/pyta/python_ta/.pylintrc\n",
      "### Loaded configuration file: /home/kimlab1/strokach/documents/teaching/python-ta/pyta/python_ta/.pylintrc\n",
      "*************** File: /home/kimlab1/strokach/documents/teaching/python-ta/pyta/examples/pylint/W0612_unused_variable.py\n",
      "\u001b[31m\u001b[1m=== Code errors/forbidden usage (fix: high priority) ===\n",
      "\u001b[0mNone!\n",
      "\n",
      "\u001b[34m\u001b[1m=== Style/convention errors (fix: before submission) ===\n",
      "\u001b[0m\u001b[34m\u001b[1mC0103\u001b[0m \u001b[1m(invalid-name)  \u001b[0mNumber of occurrences: 1.\n",
      "  \u001b[1m[Line 1] Invalid module name \"W0612_unused_variable\"\u001b[0m\n",
      "\n",
      "\u001b[34m\u001b[1mC0111\u001b[0m \u001b[1m(missing-docstring)  \u001b[0mNumber of occurrences: 2.\n",
      "  \u001b[1m[Line 1] Missing module docstring\u001b[0m\n",
      "     \u001b[30m\u001b[0m  \u001b[1m\u001b[30m\u001b[46m\"\"\"YOUR DOCSTRING HERE\"\"\"\u001b[0m\n",
      "    \u001b[90m1\u001b[0m  \u001b[90mdef f(x):\u001b[0m\n",
      "    \u001b[90m2\u001b[0m      \u001b[90my = 5  # This variable isn't used\u001b[0m\n",
      "\n",
      "  \u001b[1m[Line 1] Missing function docstring\u001b[0m\n",
      "    \u001b[90m1\u001b[0m  \u001b[90mdef f(x):\u001b[0m\n",
      "     \u001b[30m\u001b[0m      \u001b[1m\u001b[30m\u001b[46m\"\"\"YOUR DOCSTRING HERE\"\"\"\u001b[0m\n",
      "    \u001b[90m2\u001b[0m      \u001b[90my = 5  # This variable isn't used\u001b[0m\n",
      "\n",
      "\u001b[34m\u001b[1mW0612\u001b[0m \u001b[1m(unused-variable)  \u001b[0mNumber of occurrences: 1.\n",
      "  \u001b[1m[Line 2] Unused variable 'y'\u001b[0m\n",
      "    \u001b[90m0\u001b[0m      \u001b[90mreturn x\u001b[0m\n",
      "    \u001b[90m1\u001b[0m  \u001b[90mdef f(x):\u001b[0m\n",
      "    \u001b[1m\u001b[90m2\u001b[0m      \u001b[30m\u001b[0m\u001b[1m\u001b[30m\u001b[46my\u001b[0m \u001b[30m= 5  # This variable isn't used\u001b[0m\n",
      "\n",
      "\n",
      "None\n"
     ]
    },
    {
     "data": {
      "text/html": [
       "<h2><center>E0601_used_before_assignment.py</center></h2>"
      ],
      "text/plain": [
       "<IPython.core.display.HTML object>"
      ]
     },
     "metadata": {},
     "output_type": "display_data"
    },
    {
     "name": "stdout",
     "output_type": "stream",
     "text": [
      "### Loaded configuration file: /home/kimlab1/strokach/documents/teaching/python-ta/pyta/python_ta/.pylintrc\n",
      "### Loaded configuration file: /home/kimlab1/strokach/documents/teaching/python-ta/pyta/python_ta/.pylintrc\n",
      "*************** File: /home/kimlab1/strokach/documents/teaching/python-ta/pyta/examples/pylint/E0601_used_before_assignment.py\n",
      "\u001b[31m\u001b[1m=== Code errors/forbidden usage (fix: high priority) ===\n",
      "\u001b[0m\u001b[31m\u001b[1mE0601\u001b[0m \u001b[1m(used-before-assignment)  \u001b[0mNumber of occurrences: 1.\n",
      "  \u001b[1m[Line 1] Using variable 'a' before assignment\u001b[0m\n",
      "    \u001b[90m0\u001b[0m  \u001b[90ma = 1\u001b[0m\n",
      "    \u001b[1m\u001b[90m1\u001b[0m  \u001b[30mprint(\u001b[0m\u001b[1m\u001b[30m\u001b[46ma\u001b[0m\u001b[30m)  # Error on this line\u001b[0m\n",
      "\n",
      "\u001b[34m\u001b[1m=== Style/convention errors (fix: before submission) ===\n",
      "\u001b[0m\u001b[34m\u001b[1mC0103\u001b[0m \u001b[1m(invalid-name)  \u001b[0mNumber of occurrences: 2.\n",
      "  \u001b[1m[Line 1] Invalid module name \"E0601_used_before_assignment\"\u001b[0m\n",
      "\n",
      "  \u001b[1m[Line 2] Invalid constant name \"a\"\u001b[0m\n",
      "    \u001b[90m0\u001b[0m  \u001b[90ma = 1\u001b[0m\n",
      "    \u001b[90m1\u001b[0m  \u001b[90mprint(a)  # Error on this line\u001b[0m\n",
      "    \u001b[1m\u001b[90m2\u001b[0m  \u001b[30m\u001b[0m\u001b[1m\u001b[30m\u001b[46ma\u001b[0m \u001b[30m= 1\u001b[0m\n",
      "\n",
      "\u001b[34m\u001b[1mC0111\u001b[0m \u001b[1m(missing-docstring)  \u001b[0mNumber of occurrences: 1.\n",
      "  \u001b[1m[Line 1] Missing module docstring\u001b[0m\n",
      "     \u001b[30m\u001b[0m  \u001b[1m\u001b[30m\u001b[46m\"\"\"YOUR DOCSTRING HERE\"\"\"\u001b[0m\n",
      "    \u001b[90m1\u001b[0m  \u001b[90mprint(a)  # Error on this line\u001b[0m\n",
      "\n",
      "\u001b[34m\u001b[1mE9997\u001b[0m \u001b[1m(forbidden-global-variables)  \u001b[0mNumber of occurrences: 3.\n",
      "  \u001b[1m[Line 1] Global variables should not be used in CSC108/CSC148 - a global variable 'print' is declared on line 1\u001b[0m\n",
      "    \u001b[90m0\u001b[0m  \u001b[90ma = 1\u001b[0m\n",
      "    \u001b[1m\u001b[90m1\u001b[0m  \u001b[30m\u001b[0m\u001b[1m\u001b[30m\u001b[46mprint\u001b[0m\u001b[30m(a)  # Error on this line\u001b[0m\n",
      "\n",
      "  \u001b[1m[Line 1] Global variables should not be used in CSC108/CSC148 - a global variable 'a' is declared on line 1\u001b[0m\n",
      "    \u001b[90m0\u001b[0m  \u001b[90ma = 1\u001b[0m\n",
      "    \u001b[1m\u001b[90m1\u001b[0m  \u001b[30mprint(\u001b[0m\u001b[1m\u001b[30m\u001b[46ma\u001b[0m\u001b[30m)  # Error on this line\u001b[0m\n",
      "\n",
      "  \u001b[1m[Line 2] Global variables should not be used in CSC108/CSC148 - a global variable 'a' is declared on line 2\u001b[0m\n",
      "    \u001b[90m0\u001b[0m  \u001b[90ma = 1\u001b[0m\n",
      "    \u001b[90m1\u001b[0m  \u001b[90mprint(a)  # Error on this line\u001b[0m\n",
      "    \u001b[1m\u001b[90m2\u001b[0m  \u001b[30m\u001b[0m\u001b[1m\u001b[30m\u001b[46ma\u001b[0m \u001b[30m= 1\u001b[0m\n",
      "\n",
      "\n",
      "None\n"
     ]
    },
    {
     "data": {
      "text/html": [
       "<h2><center>E0712_catching_non_exception.py</center></h2>"
      ],
      "text/plain": [
       "<IPython.core.display.HTML object>"
      ]
     },
     "metadata": {},
     "output_type": "display_data"
    },
    {
     "name": "stdout",
     "output_type": "stream",
     "text": [
      "### Loaded configuration file: /home/kimlab1/strokach/documents/teaching/python-ta/pyta/python_ta/.pylintrc\n",
      "### Loaded configuration file: /home/kimlab1/strokach/documents/teaching/python-ta/pyta/python_ta/.pylintrc\n",
      "*************** File: /home/kimlab1/strokach/documents/teaching/python-ta/pyta/examples/pylint/E0712_catching_non_exception.py\n",
      "\u001b[31m\u001b[1m=== Code errors/forbidden usage (fix: high priority) ===\n",
      "\u001b[0m\u001b[31m\u001b[1mE0712\u001b[0m \u001b[1m(catching-non-exception)  \u001b[0mNumber of occurrences: 1.\n",
      "  \u001b[1m[Line 8] Catching an exception which doesn't inherit from Exception: RandomClass\u001b[0m\n",
      "    \u001b[90m6\u001b[0m  \u001b[90mtry:\u001b[0m\n",
      "    \u001b[90m7\u001b[0m      \u001b[90mn = 5 / 0  # Will throw a ZeroDivisionError\u001b[0m\n",
      "    \u001b[1m\u001b[90m8\u001b[0m  \u001b[30mexcept \u001b[0m\u001b[1m\u001b[30m\u001b[46mRandomClass\u001b[0m\u001b[30m:\u001b[0m\n",
      "    \u001b[90m9\u001b[0m      \u001b[90mprint('The above does not inherit from BaseException')\u001b[0m\n",
      "   \u001b[90m10\u001b[0m  \u001b[90mexcept ZeroDivisionError:\u001b[0m\n",
      "\n",
      "\u001b[34m\u001b[1m=== Style/convention errors (fix: before submission) ===\n",
      "\u001b[0m\u001b[34m\u001b[1mC0103\u001b[0m \u001b[1m(invalid-name)  \u001b[0mNumber of occurrences: 2.\n",
      "  \u001b[1m[Line 1] Invalid module name \"E0712_catching_non_exception\"\u001b[0m\n",
      "\n",
      "  \u001b[1m[Line 7] Invalid constant name \"n\"\u001b[0m\n",
      "    \u001b[90m5\u001b[0m  \u001b[90m\u001b[0m\n",
      "    \u001b[90m6\u001b[0m  \u001b[90mtry:\u001b[0m\n",
      "    \u001b[1m\u001b[90m7\u001b[0m      \u001b[30m\u001b[0m\u001b[1m\u001b[30m\u001b[46mn\u001b[0m \u001b[30m= 5 / 0  # Will throw a ZeroDivisionError\u001b[0m\n",
      "    \u001b[90m8\u001b[0m  \u001b[90mexcept RandomClass:\u001b[0m\n",
      "    \u001b[90m9\u001b[0m      \u001b[90mprint('The above does not inherit from BaseException')\u001b[0m\n",
      "\n",
      "\u001b[34m\u001b[1mC0111\u001b[0m \u001b[1m(missing-docstring)  \u001b[0mNumber of occurrences: 1.\n",
      "  \u001b[1m[Line 1] Missing module docstring\u001b[0m\n",
      "     \u001b[30m\u001b[0m  \u001b[1m\u001b[30m\u001b[46m\"\"\"YOUR DOCSTRING HERE\"\"\"\u001b[0m\n",
      "    \u001b[90m1\u001b[0m  \u001b[90mclass RandomClass():\u001b[0m\n",
      "    \u001b[90m2\u001b[0m      \u001b[90m\"\"\"This class doesn't inherit from BaseException.\"\"\"\u001b[0m\n",
      "\n",
      "\u001b[34m\u001b[1mE9997\u001b[0m \u001b[1m(forbidden-global-variables)  \u001b[0mNumber of occurrences: 5.\n",
      "  \u001b[1m[Line 7] Global variables should not be used in CSC108/CSC148 - a global variable 'n' is declared on line 7\u001b[0m\n",
      "    \u001b[90m5\u001b[0m  \u001b[90m\u001b[0m\n",
      "    \u001b[90m6\u001b[0m  \u001b[90mtry:\u001b[0m\n",
      "    \u001b[1m\u001b[90m7\u001b[0m      \u001b[30m\u001b[0m\u001b[1m\u001b[30m\u001b[46mn\u001b[0m \u001b[30m= 5 / 0  # Will throw a ZeroDivisionError\u001b[0m\n",
      "    \u001b[90m8\u001b[0m  \u001b[90mexcept RandomClass:\u001b[0m\n",
      "    \u001b[90m9\u001b[0m      \u001b[90mprint('The above does not inherit from BaseException')\u001b[0m\n",
      "\n",
      "  \u001b[1m[Line 8] Global variables should not be used in CSC108/CSC148 - a global variable 'RandomClass' is declared on line 8\u001b[0m\n",
      "    \u001b[90m6\u001b[0m  \u001b[90mtry:\u001b[0m\n",
      "    \u001b[90m7\u001b[0m      \u001b[90mn = 5 / 0  # Will throw a ZeroDivisionError\u001b[0m\n",
      "    \u001b[1m\u001b[90m8\u001b[0m  \u001b[30mexcept \u001b[0m\u001b[1m\u001b[30m\u001b[46mRandomClass\u001b[0m\u001b[30m:\u001b[0m\n",
      "    \u001b[90m9\u001b[0m      \u001b[90mprint('The above does not inherit from BaseException')\u001b[0m\n",
      "   \u001b[90m10\u001b[0m  \u001b[90mexcept ZeroDivisionError:\u001b[0m\n",
      "\n",
      "  \u001b[1m[Line 9] Global variables should not be used in CSC108/CSC148 - a global variable 'print' is declared on line 9\u001b[0m\n",
      "    \u001b[90m7\u001b[0m      \u001b[90mn = 5 / 0  # Will throw a ZeroDivisionError\u001b[0m\n",
      "    \u001b[90m8\u001b[0m  \u001b[90mexcept RandomClass:\u001b[0m\n",
      "    \u001b[1m\u001b[90m9\u001b[0m      \u001b[30m\u001b[0m\u001b[1m\u001b[30m\u001b[46mprint\u001b[0m\u001b[30m('The above does not inherit from BaseException')\u001b[0m\n",
      "   \u001b[90m10\u001b[0m  \u001b[90mexcept ZeroDivisionError:\u001b[0m\n",
      "\n",
      "  \u001b[1m[Line 10] Global variables should not be used in CSC108/CSC148 - a global variable 'ZeroDivisionError' is declared on line 10\u001b[0m\n",
      "    \u001b[90m8\u001b[0m  \u001b[90mexcept RandomClass:\u001b[0m\n",
      "    \u001b[90m9\u001b[0m      \u001b[90mprint('The above does not inherit from BaseException')\u001b[0m\n",
      "   \u001b[1m\u001b[90m10\u001b[0m  \u001b[30mexcept \u001b[0m\u001b[1m\u001b[30m\u001b[46mZeroDivisionError\u001b[0m\u001b[30m:\u001b[0m\n",
      "\n",
      "  \u001b[1m[Line 11] Global variables should not be used in CSC108/CSC148 - a global variable 'print' is declared on line 11\u001b[0m\n",
      "    \u001b[90m9\u001b[0m      \u001b[90mprint('The above does not inherit from BaseException')\u001b[0m\n",
      "   \u001b[90m10\u001b[0m  \u001b[90mexcept ZeroDivisionError:\u001b[0m\n",
      "   \u001b[1m\u001b[90m11\u001b[0m      \u001b[30m\u001b[0m\u001b[1m\u001b[30m\u001b[46mprint\u001b[0m\u001b[30m('Will not be reached due to erroring out earlier')\u001b[0m\n",
      "\n",
      "\n",
      "None\n"
     ]
    },
    {
     "data": {
      "text/html": [
       "<h2><center>E0101_return_in_init.py</center></h2>"
      ],
      "text/plain": [
       "<IPython.core.display.HTML object>"
      ]
     },
     "metadata": {},
     "output_type": "display_data"
    },
    {
     "name": "stdout",
     "output_type": "stream",
     "text": [
      "### Loaded configuration file: /home/kimlab1/strokach/documents/teaching/python-ta/pyta/python_ta/.pylintrc\n",
      "### Loaded configuration file: /home/kimlab1/strokach/documents/teaching/python-ta/pyta/python_ta/.pylintrc\n",
      "*************** File: /home/kimlab1/strokach/documents/teaching/python-ta/pyta/examples/pylint/E0101_return_in_init.py\n",
      "\u001b[31m\u001b[1m=== Code errors/forbidden usage (fix: high priority) ===\n",
      "\u001b[0mNone!\n",
      "\n",
      "\u001b[34m\u001b[1m=== Style/convention errors (fix: before submission) ===\n",
      "\u001b[0m\u001b[34m\u001b[1mC0103\u001b[0m \u001b[1m(invalid-name)  \u001b[0mNumber of occurrences: 1.\n",
      "  \u001b[1m[Line 1] Invalid module name \"E0101_return_in_init\"\u001b[0m\n",
      "\n",
      "\u001b[34m\u001b[1mC0111\u001b[0m \u001b[1m(missing-docstring)  \u001b[0mNumber of occurrences: 1.\n",
      "  \u001b[1m[Line 1] Missing module docstring\u001b[0m\n",
      "     \u001b[30m\u001b[0m  \u001b[1m\u001b[30m\u001b[46m\"\"\"YOUR DOCSTRING HERE\"\"\"\u001b[0m\n",
      "    \u001b[90m1\u001b[0m  \u001b[90mclass Animal:\u001b[0m\n",
      "    \u001b[90m2\u001b[0m      \u001b[90m\"\"\"An animal in the zoo.\u001b[0m\n",
      "\n",
      "\u001b[34m\u001b[1mE0101\u001b[0m \u001b[1m(return-in-init)  \u001b[0mNumber of occurrences: 1.\n",
      "  \u001b[1m[Line 7] Explicit return in __init__\u001b[0m\n",
      "    \u001b[90m5\u001b[0m      \u001b[90m@type name: str\u001b[0m\n",
      "    \u001b[90m6\u001b[0m      \u001b[90m\"\"\"\u001b[0m\n",
      "    \u001b[1m\u001b[90m7\u001b[0m      \u001b[30m\u001b[0m\u001b[1m\u001b[30m\u001b[46mdef __init__(self, name):\u001b[0m\u001b[30m\u001b[0m\n",
      "   \u001b[1m\u001b[90m14\u001b[0m  \u001b[30m\u001b[0m        \u001b[1m\u001b[30m\u001b[46mreturn True\u001b[0m  \u001b[30m# Error on this line\u001b[0m\n",
      "\n",
      "\n",
      "None\n"
     ]
    },
    {
     "data": {
      "text/html": [
       "<h2><center>W0201_attribute_defined_outside_init.py</center></h2>"
      ],
      "text/plain": [
       "<IPython.core.display.HTML object>"
      ]
     },
     "metadata": {},
     "output_type": "display_data"
    },
    {
     "name": "stdout",
     "output_type": "stream",
     "text": [
      "### Loaded configuration file: /home/kimlab1/strokach/documents/teaching/python-ta/pyta/python_ta/.pylintrc\n",
      "### Loaded configuration file: /home/kimlab1/strokach/documents/teaching/python-ta/pyta/python_ta/.pylintrc\n",
      "*************** File: /home/kimlab1/strokach/documents/teaching/python-ta/pyta/examples/pylint/W0201_attribute_defined_outside_init.py\n",
      "\u001b[31m\u001b[1m=== Code errors/forbidden usage (fix: high priority) ===\n",
      "\u001b[0mNone!\n",
      "\n",
      "\u001b[34m\u001b[1m=== Style/convention errors (fix: before submission) ===\n",
      "\u001b[0m\u001b[34m\u001b[1mC0103\u001b[0m \u001b[1m(invalid-name)  \u001b[0mNumber of occurrences: 2.\n",
      "  \u001b[1m[Line 1] Invalid module name \"W0201_attribute_defined_outside_init\"\u001b[0m\n",
      "\n",
      "  \u001b[1m[Line 5] Invalid constant name \"c\"\u001b[0m\n",
      "    \u001b[90m3\u001b[0m          \u001b[90mself.num = 1\u001b[0m\n",
      "    \u001b[90m4\u001b[0m  \u001b[90m\u001b[0m\n",
      "    \u001b[1m\u001b[90m5\u001b[0m  \u001b[30m\u001b[0m\u001b[1m\u001b[30m\u001b[46mc\u001b[0m \u001b[30m= MyClass()\u001b[0m\n",
      "\n",
      "\u001b[34m\u001b[1mC0111\u001b[0m \u001b[1m(missing-docstring)  \u001b[0mNumber of occurrences: 2.\n",
      "  \u001b[1m[Line 1] Missing module docstring\u001b[0m\n",
      "     \u001b[30m\u001b[0m  \u001b[1m\u001b[30m\u001b[46m\"\"\"YOUR DOCSTRING HERE\"\"\"\u001b[0m\n",
      "    \u001b[90m1\u001b[0m  \u001b[90mclass MyClass:\u001b[0m\n",
      "    \u001b[90m2\u001b[0m      \u001b[90mdef __init__(self):\u001b[0m\n",
      "\n",
      "  \u001b[1m[Line 1] Missing class docstring\u001b[0m\n",
      "    \u001b[90m1\u001b[0m  \u001b[90mclass MyClass:\u001b[0m\n",
      "     \u001b[30m\u001b[0m      \u001b[1m\u001b[30m\u001b[46m\"\"\"YOUR DOCSTRING HERE\"\"\"\u001b[0m\n",
      "    \u001b[90m2\u001b[0m      \u001b[90mdef __init__(self):\u001b[0m\n",
      "    \u001b[90m3\u001b[0m          \u001b[90mself.num = 1\u001b[0m\n",
      "\n",
      "\u001b[34m\u001b[1mW0201\u001b[0m \u001b[1m(attribute-defined-outside-init)  \u001b[0mNumber of occurrences: 1.\n",
      "  \u001b[1m[Line 6] Attribute 'other_num' defined outside __init__\u001b[0m\n",
      "    \u001b[90m4\u001b[0m  \u001b[90m\u001b[0m\n",
      "    \u001b[90m5\u001b[0m  \u001b[90mc = MyClass()\u001b[0m\n",
      "    \u001b[1m\u001b[90m6\u001b[0m  \u001b[30m\u001b[0m\u001b[1m\u001b[30m\u001b[46mc.other_num\u001b[0m \u001b[30m= 2  # This should be defined in __init__ first\u001b[0m\n",
      "\n",
      "\u001b[34m\u001b[1mE9997\u001b[0m \u001b[1m(forbidden-global-variables)  \u001b[0mNumber of occurrences: 5.\n",
      "  \u001b[1m[Line 5] Global variables should not be used in CSC108/CSC148 - a global variable 'c' is declared on line 5\u001b[0m\n",
      "    \u001b[90m3\u001b[0m          \u001b[90mself.num = 1\u001b[0m\n",
      "    \u001b[90m4\u001b[0m  \u001b[90m\u001b[0m\n",
      "    \u001b[1m\u001b[90m5\u001b[0m  \u001b[30m\u001b[0m\u001b[1m\u001b[30m\u001b[46mc\u001b[0m \u001b[30m= MyClass()\u001b[0m\n",
      "\n",
      "  \u001b[1m[Line 5] Global variables should not be used in CSC108/CSC148 - a global variable 'MyClass' is declared on line 5\u001b[0m\n",
      "    \u001b[90m3\u001b[0m          \u001b[90mself.num = 1\u001b[0m\n",
      "    \u001b[90m4\u001b[0m  \u001b[90m\u001b[0m\n",
      "    \u001b[1m\u001b[90m5\u001b[0m  \u001b[30mc = \u001b[0m\u001b[1m\u001b[30m\u001b[46mMyClass\u001b[0m\u001b[30m()\u001b[0m\n",
      "\n",
      "  \u001b[1m[Line 5] Global variables should not be used in CSC108/CSC148 - a global variable 'MyClass' is declared on line 5\u001b[0m\n",
      "    \u001b[90m3\u001b[0m          \u001b[90mself.num = 1\u001b[0m\n",
      "    \u001b[90m4\u001b[0m  \u001b[90m\u001b[0m\n",
      "    \u001b[1m\u001b[90m5\u001b[0m  \u001b[30mc = \u001b[0m\u001b[1m\u001b[30m\u001b[46mMyClass\u001b[0m\u001b[30m()\u001b[0m\n",
      "\n",
      "  \u001b[1m[Line 6] Global variables should not be used in CSC108/CSC148 - a global variable 'c' is declared on line 6\u001b[0m\n",
      "    \u001b[90m4\u001b[0m  \u001b[90m\u001b[0m\n",
      "    \u001b[90m5\u001b[0m  \u001b[90mc = MyClass()\u001b[0m\n",
      "    \u001b[1m\u001b[90m6\u001b[0m  \u001b[30m\u001b[0m\u001b[1m\u001b[30m\u001b[46mc\u001b[0m\u001b[30m.other_num = 2  # This should be defined in __init__ first\u001b[0m\n",
      "\n",
      "  \u001b[1m[Line 6] Global variables should not be used in CSC108/CSC148 - a global variable 'c' is declared on line 6\u001b[0m\n",
      "    \u001b[90m4\u001b[0m  \u001b[90m\u001b[0m\n",
      "    \u001b[90m5\u001b[0m  \u001b[90mc = MyClass()\u001b[0m\n",
      "    \u001b[1m\u001b[90m6\u001b[0m  \u001b[30m\u001b[0m\u001b[1m\u001b[30m\u001b[46mc\u001b[0m\u001b[30m.other_num = 2  # This should be defined in __init__ first\u001b[0m\n",
      "\n",
      "\n",
      "None\n"
     ]
    },
    {
     "data": {
      "text/html": [
       "<h2><center>W0101_unreachable.py</center></h2>"
      ],
      "text/plain": [
       "<IPython.core.display.HTML object>"
      ]
     },
     "metadata": {},
     "output_type": "display_data"
    },
    {
     "name": "stdout",
     "output_type": "stream",
     "text": [
      "### Loaded configuration file: /home/kimlab1/strokach/documents/teaching/python-ta/pyta/python_ta/.pylintrc\n",
      "### Loaded configuration file: /home/kimlab1/strokach/documents/teaching/python-ta/pyta/python_ta/.pylintrc\n",
      "*************** File: /home/kimlab1/strokach/documents/teaching/python-ta/pyta/examples/pylint/W0101_unreachable.py\n",
      "\u001b[31m\u001b[1m=== Code errors/forbidden usage (fix: high priority) ===\n",
      "\u001b[0m\u001b[31m\u001b[1mW0101\u001b[0m \u001b[1m(unreachable)  \u001b[0mNumber of occurrences: 1.\n",
      "  \u001b[1m[Line 10] Unreachable code\u001b[0m\n",
      "    \u001b[90m8\u001b[0m          \u001b[90mtemp += item\u001b[0m\n",
      "    \u001b[90m9\u001b[0m      \u001b[90mreturn temp\u001b[0m\n",
      "   \u001b[1m\u001b[90m10\u001b[0m      \u001b[30m\u001b[0m\u001b[1m\u001b[30m\u001b[46mtemp += 1\u001b[0m  \u001b[30m# Error on this line\u001b[0m\n",
      "\n",
      "\u001b[34m\u001b[1m=== Style/convention errors (fix: before submission) ===\n",
      "\u001b[0m\u001b[34m\u001b[1mC0103\u001b[0m \u001b[1m(invalid-name)  \u001b[0mNumber of occurrences: 1.\n",
      "  \u001b[1m[Line 1] Invalid module name \"W0101_unreachable\"\u001b[0m\n",
      "\n",
      "\u001b[34m\u001b[1mC0111\u001b[0m \u001b[1m(missing-docstring)  \u001b[0mNumber of occurrences: 1.\n",
      "  \u001b[1m[Line 1] Missing module docstring\u001b[0m\n",
      "     \u001b[30m\u001b[0m  \u001b[1m\u001b[30m\u001b[46m\"\"\"YOUR DOCSTRING HERE\"\"\"\u001b[0m\n",
      "    \u001b[90m1\u001b[0m  \u001b[90mdef add(lst):\u001b[0m\n",
      "    \u001b[90m2\u001b[0m      \u001b[90m\"\"\"\u001b[0m\n",
      "\n",
      "\n",
      "None\n"
     ]
    },
    {
     "data": {
      "text/html": [
       "<h2><center>E1101_no_member.py</center></h2>"
      ],
      "text/plain": [
       "<IPython.core.display.HTML object>"
      ]
     },
     "metadata": {},
     "output_type": "display_data"
    },
    {
     "name": "stdout",
     "output_type": "stream",
     "text": [
      "### Loaded configuration file: /home/kimlab1/strokach/documents/teaching/python-ta/pyta/python_ta/.pylintrc\n",
      "### Loaded configuration file: /home/kimlab1/strokach/documents/teaching/python-ta/pyta/python_ta/.pylintrc\n",
      "*************** File: /home/kimlab1/strokach/documents/teaching/python-ta/pyta/examples/pylint/E1101_no_member.py\n",
      "\u001b[31m\u001b[1m=== Code errors/forbidden usage (fix: high priority) ===\n",
      "\u001b[0m\u001b[31m\u001b[1mE1101\u001b[0m \u001b[1m(no-member)  \u001b[0mNumber of occurrences: 2.\n",
      "  \u001b[1m[Line 2] Instance of 'str' has no 'prop' member\u001b[0m\n",
      "    \u001b[90m0\u001b[0m  \u001b[90mprint(x.meth())  # Error: strings don't have a 'meth' method\u001b[0m\n",
      "    \u001b[90m1\u001b[0m  \u001b[90mx = 'hello world'\u001b[0m\n",
      "    \u001b[1m\u001b[90m2\u001b[0m  \u001b[30mprint(\u001b[0m\u001b[1m\u001b[30m\u001b[46mx.prop\u001b[0m\u001b[30m)    # Error: strings don't have a 'prop' attribute\u001b[0m\n",
      "\n",
      "  \u001b[1m[Line 3] Instance of 'str' has no 'meth' member\u001b[0m\n",
      "    \u001b[90m1\u001b[0m  \u001b[90mx = 'hello world'\u001b[0m\n",
      "    \u001b[90m2\u001b[0m  \u001b[90mprint(x.prop)    # Error: strings don't have a 'prop' attribute\u001b[0m\n",
      "    \u001b[1m\u001b[90m3\u001b[0m  \u001b[30mprint(\u001b[0m\u001b[1m\u001b[30m\u001b[46mx.meth\u001b[0m\u001b[30m())  # Error: strings don't have a 'meth' method\u001b[0m\n",
      "\n",
      "\u001b[34m\u001b[1m=== Style/convention errors (fix: before submission) ===\n",
      "\u001b[0m\u001b[34m\u001b[1mC0103\u001b[0m \u001b[1m(invalid-name)  \u001b[0mNumber of occurrences: 2.\n",
      "  \u001b[1m[Line 1] Invalid module name \"E1101_no_member\"\u001b[0m\n",
      "\n",
      "  \u001b[1m[Line 1] Invalid constant name \"x\"\u001b[0m\n",
      "    \u001b[90m0\u001b[0m  \u001b[90mprint(x.meth())  # Error: strings don't have a 'meth' method\u001b[0m\n",
      "    \u001b[1m\u001b[90m1\u001b[0m  \u001b[30m\u001b[0m\u001b[1m\u001b[30m\u001b[46mx\u001b[0m \u001b[30m= 'hello world'\u001b[0m\n",
      "    \u001b[90m2\u001b[0m  \u001b[90mprint(x.prop)    # Error: strings don't have a 'prop' attribute\u001b[0m\n",
      "\n",
      "\u001b[34m\u001b[1mC0111\u001b[0m \u001b[1m(missing-docstring)  \u001b[0mNumber of occurrences: 1.\n",
      "  \u001b[1m[Line 1] Missing module docstring\u001b[0m\n",
      "     \u001b[30m\u001b[0m  \u001b[1m\u001b[30m\u001b[46m\"\"\"YOUR DOCSTRING HERE\"\"\"\u001b[0m\n",
      "    \u001b[90m1\u001b[0m  \u001b[90mx = 'hello world'\u001b[0m\n",
      "    \u001b[90m2\u001b[0m  \u001b[90mprint(x.prop)    # Error: strings don't have a 'prop' attribute\u001b[0m\n",
      "\n",
      "\u001b[34m\u001b[1mE9997\u001b[0m \u001b[1m(forbidden-global-variables)  \u001b[0mNumber of occurrences: 5.\n",
      "  \u001b[1m[Line 1] Global variables should not be used in CSC108/CSC148 - a global variable 'x' is declared on line 1\u001b[0m\n",
      "    \u001b[90m0\u001b[0m  \u001b[90mprint(x.meth())  # Error: strings don't have a 'meth' method\u001b[0m\n",
      "    \u001b[1m\u001b[90m1\u001b[0m  \u001b[30m\u001b[0m\u001b[1m\u001b[30m\u001b[46mx\u001b[0m \u001b[30m= 'hello world'\u001b[0m\n",
      "    \u001b[90m2\u001b[0m  \u001b[90mprint(x.prop)    # Error: strings don't have a 'prop' attribute\u001b[0m\n",
      "\n",
      "  \u001b[1m[Line 2] Global variables should not be used in CSC108/CSC148 - a global variable 'print' is declared on line 2\u001b[0m\n",
      "    \u001b[90m0\u001b[0m  \u001b[90mprint(x.meth())  # Error: strings don't have a 'meth' method\u001b[0m\n",
      "    \u001b[90m1\u001b[0m  \u001b[90mx = 'hello world'\u001b[0m\n",
      "    \u001b[1m\u001b[90m2\u001b[0m  \u001b[30m\u001b[0m\u001b[1m\u001b[30m\u001b[46mprint\u001b[0m\u001b[30m(x.prop)    # Error: strings don't have a 'prop' attribute\u001b[0m\n",
      "\n",
      "  \u001b[1m[Line 2] Global variables should not be used in CSC108/CSC148 - a global variable 'x' is declared on line 2\u001b[0m\n",
      "    \u001b[90m0\u001b[0m  \u001b[90mprint(x.meth())  # Error: strings don't have a 'meth' method\u001b[0m\n",
      "    \u001b[90m1\u001b[0m  \u001b[90mx = 'hello world'\u001b[0m\n",
      "    \u001b[1m\u001b[90m2\u001b[0m  \u001b[30mprint(\u001b[0m\u001b[1m\u001b[30m\u001b[46mx\u001b[0m\u001b[30m.prop)    # Error: strings don't have a 'prop' attribute\u001b[0m\n",
      "\n",
      "  \u001b[1m[Line 3] Global variables should not be used in CSC108/CSC148 - a global variable 'print' is declared on line 3\u001b[0m\n",
      "    \u001b[90m1\u001b[0m  \u001b[90mx = 'hello world'\u001b[0m\n",
      "    \u001b[90m2\u001b[0m  \u001b[90mprint(x.prop)    # Error: strings don't have a 'prop' attribute\u001b[0m\n",
      "    \u001b[1m\u001b[90m3\u001b[0m  \u001b[30m\u001b[0m\u001b[1m\u001b[30m\u001b[46mprint\u001b[0m\u001b[30m(x.meth())  # Error: strings don't have a 'meth' method\u001b[0m\n",
      "\n",
      "  \u001b[1m[Line 3] Global variables should not be used in CSC108/CSC148 - a global variable 'x' is declared on line 3\u001b[0m\n",
      "    \u001b[90m1\u001b[0m  \u001b[90mx = 'hello world'\u001b[0m\n",
      "    \u001b[90m2\u001b[0m  \u001b[90mprint(x.prop)    # Error: strings don't have a 'prop' attribute\u001b[0m\n",
      "    \u001b[1m\u001b[90m3\u001b[0m  \u001b[30mprint(\u001b[0m\u001b[1m\u001b[30m\u001b[46mx\u001b[0m\u001b[30m.meth())  # Error: strings don't have a 'meth' method\u001b[0m\n",
      "\n",
      "\n",
      "None\n"
     ]
    },
    {
     "data": {
      "text/html": [
       "<h2><center>C0112_empty_docstring.py</center></h2>"
      ],
      "text/plain": [
       "<IPython.core.display.HTML object>"
      ]
     },
     "metadata": {},
     "output_type": "display_data"
    },
    {
     "name": "stdout",
     "output_type": "stream",
     "text": [
      "### Loaded configuration file: /home/kimlab1/strokach/documents/teaching/python-ta/pyta/python_ta/.pylintrc\n",
      "### Loaded configuration file: /home/kimlab1/strokach/documents/teaching/python-ta/pyta/python_ta/.pylintrc\n",
      "*************** File: /home/kimlab1/strokach/documents/teaching/python-ta/pyta/examples/pylint/C0112_empty_docstring.py\n",
      "\u001b[31m\u001b[1m=== Code errors/forbidden usage (fix: high priority) ===\n",
      "\u001b[0mNone!\n",
      "\n",
      "\u001b[34m\u001b[1m=== Style/convention errors (fix: before submission) ===\n",
      "\u001b[0m\u001b[34m\u001b[1mC0103\u001b[0m \u001b[1m(invalid-name)  \u001b[0mNumber of occurrences: 1.\n",
      "  \u001b[1m[Line 1] Invalid module name \"C0112_empty_docstring\"\u001b[0m\n",
      "\n",
      "\u001b[34m\u001b[1mC0111\u001b[0m \u001b[1m(missing-docstring)  \u001b[0mNumber of occurrences: 1.\n",
      "  \u001b[1m[Line 1] Missing module docstring\u001b[0m\n",
      "     \u001b[30m\u001b[0m  \u001b[1m\u001b[30m\u001b[46m\"\"\"YOUR DOCSTRING HERE\"\"\"\u001b[0m\n",
      "    \u001b[90m1\u001b[0m  \u001b[90mdef is_false(obj):\u001b[0m\n",
      "    \u001b[90m2\u001b[0m      \u001b[90m\"\"\"\u001b[0m\n",
      "\n",
      "\u001b[34m\u001b[1mC0112\u001b[0m \u001b[1m(empty-docstring)  \u001b[0mNumber of occurrences: 1.\n",
      "  \u001b[1m[Line 1] Empty function docstring\u001b[0m\n",
      "    \u001b[90m0\u001b[0m      \u001b[90mreturn obj is False\u001b[0m\n",
      "    \u001b[1m\u001b[90m1\u001b[0m  \u001b[30m\u001b[0m\u001b[1m\u001b[30m\u001b[46mdef is_false(obj):\u001b[0m\u001b[30m\u001b[0m\n",
      "    \u001b[1m\u001b[90m4\u001b[0m  \u001b[30m\u001b[0m    \u001b[1m\u001b[30m\u001b[46mreturn obj is False\u001b[0m\u001b[30m\u001b[0m\n",
      "\n",
      "\n",
      "None\n"
     ]
    },
    {
     "data": {
      "text/html": [
       "<h2><center>E0711_notimplemented_raised.py</center></h2>"
      ],
      "text/plain": [
       "<IPython.core.display.HTML object>"
      ]
     },
     "metadata": {},
     "output_type": "display_data"
    },
    {
     "name": "stdout",
     "output_type": "stream",
     "text": [
      "### Loaded configuration file: /home/kimlab1/strokach/documents/teaching/python-ta/pyta/python_ta/.pylintrc\n",
      "### Loaded configuration file: /home/kimlab1/strokach/documents/teaching/python-ta/pyta/python_ta/.pylintrc\n",
      "*************** File: /home/kimlab1/strokach/documents/teaching/python-ta/pyta/examples/pylint/E0711_notimplemented_raised.py\n",
      "\u001b[31m\u001b[1m=== Code errors/forbidden usage (fix: high priority) ===\n",
      "\u001b[0m\u001b[31m\u001b[1mE0702\u001b[0m \u001b[1m(raising-bad-type)  \u001b[0mNumber of occurrences: 1.\n",
      "  \u001b[1m[Line 2] Raising NotImplementedType while only classes or instances are allowed\u001b[0m\n",
      "    \u001b[90m0\u001b[0m      \u001b[90mraise NotImplemented\u001b[0m\n",
      "    \u001b[90m1\u001b[0m  \u001b[90mdef call_exception():\u001b[0m\n",
      "    \u001b[1m\u001b[90m2\u001b[0m      \u001b[30m\u001b[0m\u001b[1m\u001b[30m\u001b[46mraise NotImplemented\u001b[0m\u001b[30m\u001b[0m\n",
      "\n",
      "\u001b[34m\u001b[1m=== Style/convention errors (fix: before submission) ===\n",
      "\u001b[0m\u001b[34m\u001b[1mC0103\u001b[0m \u001b[1m(invalid-name)  \u001b[0mNumber of occurrences: 1.\n",
      "  \u001b[1m[Line 1] Invalid module name \"E0711_notimplemented_raised\"\u001b[0m\n",
      "\n",
      "\u001b[34m\u001b[1mC0111\u001b[0m \u001b[1m(missing-docstring)  \u001b[0mNumber of occurrences: 2.\n",
      "  \u001b[1m[Line 1] Missing module docstring\u001b[0m\n",
      "     \u001b[30m\u001b[0m  \u001b[1m\u001b[30m\u001b[46m\"\"\"YOUR DOCSTRING HERE\"\"\"\u001b[0m\n",
      "    \u001b[90m1\u001b[0m  \u001b[90mdef call_exception():\u001b[0m\n",
      "\n",
      "  \u001b[1m[Line 1] Missing function docstring\u001b[0m\n",
      "    \u001b[90m1\u001b[0m  \u001b[90mdef call_exception():\u001b[0m\n",
      "     \u001b[30m\u001b[0m      \u001b[1m\u001b[30m\u001b[46m\"\"\"YOUR DOCSTRING HERE\"\"\"\u001b[0m\n",
      "\n",
      "\u001b[34m\u001b[1mE0711\u001b[0m \u001b[1m(notimplemented-raised)  \u001b[0mNumber of occurrences: 1.\n",
      "  \u001b[1m[Line 2] NotImplemented raised - should raise NotImplementedError\u001b[0m\n",
      "    \u001b[90m0\u001b[0m      \u001b[90mraise NotImplemented\u001b[0m\n",
      "    \u001b[90m1\u001b[0m  \u001b[90mdef call_exception():\u001b[0m\n",
      "    \u001b[1m\u001b[90m2\u001b[0m      \u001b[30m\u001b[0m\u001b[1m\u001b[30m\u001b[46mraise NotImplemented\u001b[0m\u001b[30m\u001b[0m\n",
      "\n",
      "\n",
      "None\n"
     ]
    },
    {
     "data": {
      "text/html": [
       "<h2><center>W0102_dangerous_default_value.py</center></h2>"
      ],
      "text/plain": [
       "<IPython.core.display.HTML object>"
      ]
     },
     "metadata": {},
     "output_type": "display_data"
    },
    {
     "name": "stdout",
     "output_type": "stream",
     "text": [
      "### Loaded configuration file: /home/kimlab1/strokach/documents/teaching/python-ta/pyta/python_ta/.pylintrc\n",
      "### Loaded configuration file: /home/kimlab1/strokach/documents/teaching/python-ta/pyta/python_ta/.pylintrc\n",
      "*************** File: /home/kimlab1/strokach/documents/teaching/python-ta/pyta/examples/pylint/W0102_dangerous_default_value.py\n",
      "\u001b[31m\u001b[1m=== Code errors/forbidden usage (fix: high priority) ===\n",
      "\u001b[0mNone!\n",
      "\n",
      "\u001b[34m\u001b[1m=== Style/convention errors (fix: before submission) ===\n",
      "\u001b[0m\u001b[34m\u001b[1mC0103\u001b[0m \u001b[1m(invalid-name)  \u001b[0mNumber of occurrences: 1.\n",
      "  \u001b[1m[Line 1] Invalid module name \"W0102_dangerous_default_value\"\u001b[0m\n",
      "\n",
      "\u001b[34m\u001b[1mC0111\u001b[0m \u001b[1m(missing-docstring)  \u001b[0mNumber of occurrences: 2.\n",
      "  \u001b[1m[Line 1] Missing module docstring\u001b[0m\n",
      "     \u001b[30m\u001b[0m  \u001b[1m\u001b[30m\u001b[46m\"\"\"YOUR DOCSTRING HERE\"\"\"\u001b[0m\n",
      "    \u001b[90m1\u001b[0m  \u001b[90mdef make_list(n, lst=[]):\u001b[0m\n",
      "    \u001b[90m2\u001b[0m      \u001b[90mfor i in range(n):\u001b[0m\n",
      "\n",
      "  \u001b[1m[Line 1] Missing function docstring\u001b[0m\n",
      "    \u001b[90m1\u001b[0m  \u001b[90mdef make_list(n, lst=[]):\u001b[0m\n",
      "     \u001b[30m\u001b[0m      \u001b[1m\u001b[30m\u001b[46m\"\"\"YOUR DOCSTRING HERE\"\"\"\u001b[0m\n",
      "    \u001b[90m2\u001b[0m      \u001b[90mfor i in range(n):\u001b[0m\n",
      "    \u001b[90m3\u001b[0m          \u001b[90mlst.append(i)\u001b[0m\n",
      "\n",
      "\u001b[34m\u001b[1mW0102\u001b[0m \u001b[1m(dangerous-default-value)  \u001b[0mNumber of occurrences: 1.\n",
      "  \u001b[1m[Line 1] Dangerous default value [] as argument\u001b[0m\n",
      "    \u001b[90m0\u001b[0m  \u001b[90mprint(make_list(5))\u001b[0m\n",
      "    \u001b[1m\u001b[90m1\u001b[0m  \u001b[30m\u001b[0m\u001b[1m\u001b[30m\u001b[46mdef make_list(n, lst=[]):\u001b[0m\u001b[30m\u001b[0m\n",
      "    \u001b[1m\u001b[90m4\u001b[0m  \u001b[30m\u001b[0m    \u001b[1m\u001b[30m\u001b[46mprint(lst)\u001b[0m\u001b[30m\u001b[0m\n",
      "    \u001b[90m5\u001b[0m  \u001b[90m\u001b[0m\n",
      "    \u001b[90m6\u001b[0m  \u001b[90m\u001b[0m\n",
      "\n",
      "\u001b[34m\u001b[1mE9998\u001b[0m \u001b[1m(IO-function-not-allowed)  \u001b[0mNumber of occurrences: 1.\n",
      "  \u001b[1m[Line 4] Used IO function print\u001b[0m\n",
      "    \u001b[90m2\u001b[0m      \u001b[90mfor i in range(n):\u001b[0m\n",
      "    \u001b[90m3\u001b[0m          \u001b[90mlst.append(i)\u001b[0m\n",
      "    \u001b[1m\u001b[90m4\u001b[0m      \u001b[30m\u001b[0m\u001b[1m\u001b[30m\u001b[46mprint(lst)\u001b[0m\u001b[30m\u001b[0m\n",
      "    \u001b[90m5\u001b[0m  \u001b[90m\u001b[0m\n",
      "    \u001b[90m6\u001b[0m  \u001b[90m\u001b[0m\n",
      "\n",
      "\u001b[34m\u001b[1mE9997\u001b[0m \u001b[1m(forbidden-global-variables)  \u001b[0mNumber of occurrences: 4.\n",
      "  \u001b[1m[Line 7] Global variables should not be used in CSC108/CSC148 - a global variable 'print' is declared on line 7\u001b[0m\n",
      "    \u001b[90m5\u001b[0m  \u001b[90m\u001b[0m\n",
      "    \u001b[90m6\u001b[0m  \u001b[90m\u001b[0m\n",
      "    \u001b[1m\u001b[90m7\u001b[0m  \u001b[30m\u001b[0m\u001b[1m\u001b[30m\u001b[46mprint\u001b[0m\u001b[30m(make_list(5))\u001b[0m\n",
      "\n",
      "  \u001b[1m[Line 7] Global variables should not be used in CSC108/CSC148 - a global variable 'make_list' is declared on line 7\u001b[0m\n",
      "    \u001b[90m5\u001b[0m  \u001b[90m\u001b[0m\n",
      "    \u001b[90m6\u001b[0m  \u001b[90m\u001b[0m\n",
      "    \u001b[1m\u001b[90m7\u001b[0m  \u001b[30mprint(\u001b[0m\u001b[1m\u001b[30m\u001b[46mmake_list\u001b[0m\u001b[30m(5))\u001b[0m\n",
      "\n",
      "  \u001b[1m[Line 8] Global variables should not be used in CSC108/CSC148 - a global variable 'print' is declared on line 8\u001b[0m\n",
      "    \u001b[90m6\u001b[0m  \u001b[90m\u001b[0m\n",
      "    \u001b[90m7\u001b[0m  \u001b[90mprint(make_list(5))\u001b[0m\n",
      "    \u001b[1m\u001b[90m8\u001b[0m  \u001b[30m\u001b[0m\u001b[1m\u001b[30m\u001b[46mprint\u001b[0m\u001b[30m(make_list(5))\u001b[0m\n",
      "\n",
      "  \u001b[1m[Line 8] Global variables should not be used in CSC108/CSC148 - a global variable 'make_list' is declared on line 8\u001b[0m\n",
      "    \u001b[90m6\u001b[0m  \u001b[90m\u001b[0m\n",
      "    \u001b[90m7\u001b[0m  \u001b[90mprint(make_list(5))\u001b[0m\n",
      "    \u001b[1m\u001b[90m8\u001b[0m  \u001b[30mprint(\u001b[0m\u001b[1m\u001b[30m\u001b[46mmake_list\u001b[0m\u001b[30m(5))\u001b[0m\n",
      "\n",
      "\n",
      "None\n"
     ]
    },
    {
     "data": {
      "text/html": [
       "<h2><center>R0902_too_many_instance_attributes.py</center></h2>"
      ],
      "text/plain": [
       "<IPython.core.display.HTML object>"
      ]
     },
     "metadata": {},
     "output_type": "display_data"
    },
    {
     "name": "stdout",
     "output_type": "stream",
     "text": [
      "### Loaded configuration file: /home/kimlab1/strokach/documents/teaching/python-ta/pyta/python_ta/.pylintrc\n",
      "### Loaded configuration file: /home/kimlab1/strokach/documents/teaching/python-ta/pyta/python_ta/.pylintrc\n",
      "*************** File: /home/kimlab1/strokach/documents/teaching/python-ta/pyta/examples/pylint/R0902_too_many_instance_attributes.py\n",
      "\u001b[31m\u001b[1m=== Code errors/forbidden usage (fix: high priority) ===\n",
      "\u001b[0mNone!\n",
      "\n",
      "\u001b[34m\u001b[1m=== Style/convention errors (fix: before submission) ===\n",
      "\u001b[0m\u001b[34m\u001b[1mC0103\u001b[0m \u001b[1m(invalid-name)  \u001b[0mNumber of occurrences: 1.\n",
      "  \u001b[1m[Line 1] Invalid module name \"R0902_too_many_instance_attributes\"\u001b[0m\n",
      "\n",
      "\u001b[34m\u001b[1mC0111\u001b[0m \u001b[1m(missing-docstring)  \u001b[0mNumber of occurrences: 1.\n",
      "  \u001b[1m[Line 1] Missing module docstring\u001b[0m\n",
      "     \u001b[30m\u001b[0m  \u001b[1m\u001b[30m\u001b[46m\"\"\"YOUR DOCSTRING HERE\"\"\"\u001b[0m\n",
      "    \u001b[90m1\u001b[0m  \u001b[90mclass MyClass(object):\u001b[0m\n",
      "    \u001b[90m2\u001b[0m      \u001b[90m\"\"\"Example with too many instance attributes.\"\"\"\u001b[0m\n",
      "\n",
      "\u001b[34m\u001b[1mR0902\u001b[0m \u001b[1m(too-many-instance-attributes)  \u001b[0mNumber of occurrences: 1.\n",
      "  \u001b[1m[Line 1] Too many instance attributes (8/7)\u001b[0m\n",
      "    \u001b[90m0\u001b[0m          \u001b[90mself.number = 3\u001b[0m\n",
      "    \u001b[1m\u001b[90m1\u001b[0m  \u001b[30m\u001b[0m\u001b[1m\u001b[30m\u001b[46mclass MyClass(object):\u001b[0m\u001b[30m\u001b[0m\n",
      "   \u001b[1m\u001b[90m13\u001b[0m  \u001b[30m\u001b[0m        \u001b[1m\u001b[30m\u001b[46mself.number = 3\u001b[0m\u001b[30m\u001b[0m\n",
      "\n",
      "\n",
      "None\n"
     ]
    },
    {
     "data": {
      "text/html": [
       "<h2><center>R0914_too_many_locals.py</center></h2>"
      ],
      "text/plain": [
       "<IPython.core.display.HTML object>"
      ]
     },
     "metadata": {},
     "output_type": "display_data"
    },
    {
     "name": "stdout",
     "output_type": "stream",
     "text": [
      "### Loaded configuration file: /home/kimlab1/strokach/documents/teaching/python-ta/pyta/python_ta/.pylintrc\n",
      "### Loaded configuration file: /home/kimlab1/strokach/documents/teaching/python-ta/pyta/python_ta/.pylintrc\n",
      "*************** File: /home/kimlab1/strokach/documents/teaching/python-ta/pyta/examples/pylint/R0914_too_many_locals.py\n",
      "\u001b[31m\u001b[1m=== Code errors/forbidden usage (fix: high priority) ===\n",
      "\u001b[0mNone!\n",
      "\n",
      "\u001b[34m\u001b[1m=== Style/convention errors (fix: before submission) ===\n",
      "\u001b[0m\u001b[34m\u001b[1mC0103\u001b[0m \u001b[1m(invalid-name)  \u001b[0mNumber of occurrences: 1.\n",
      "  \u001b[1m[Line 1] Invalid module name \"R0914_too_many_locals\"\u001b[0m\n",
      "\n",
      "\u001b[34m\u001b[1mC0111\u001b[0m \u001b[1m(missing-docstring)  \u001b[0mNumber of occurrences: 1.\n",
      "  \u001b[1m[Line 1] Missing module docstring\u001b[0m\n",
      "     \u001b[30m\u001b[0m  \u001b[1m\u001b[30m\u001b[46m\"\"\"YOUR DOCSTRING HERE\"\"\"\u001b[0m\n",
      "    \u001b[90m1\u001b[0m  \u001b[90mdef too_many_locals():\u001b[0m\n",
      "    \u001b[90m2\u001b[0m      \u001b[90m\"\"\"Example function that has to many local variables.\"\"\"\u001b[0m\n",
      "\n",
      "\u001b[34m\u001b[1mR0914\u001b[0m \u001b[1m(too-many-locals)  \u001b[0mNumber of occurrences: 1.\n",
      "  \u001b[1m[Line 1] Too many local variables (16/15)\u001b[0m\n",
      "    \u001b[90m0\u001b[0m      \u001b[90mlocal_variable_16 = 16\u001b[0m\n",
      "    \u001b[1m\u001b[90m1\u001b[0m  \u001b[30m\u001b[0m\u001b[1m\u001b[30m\u001b[46mdef too_many_locals():\u001b[0m\u001b[30m\u001b[0m\n",
      "   \u001b[1m\u001b[90m18\u001b[0m  \u001b[30m\u001b[0m    \u001b[1m\u001b[30m\u001b[46mlocal_variable_16 = 16\u001b[0m\u001b[30m\u001b[0m\n",
      "\n",
      "\u001b[34m\u001b[1mW0612\u001b[0m \u001b[1m(unused-variable)  \u001b[0mNumber of occurrences: 16.\n",
      " First 5 shown.  \u001b[1m[Line 3] Unused variable 'local_variable_1'\u001b[0m\n",
      "    \u001b[90m1\u001b[0m  \u001b[90mdef too_many_locals():\u001b[0m\n",
      "    \u001b[90m2\u001b[0m      \u001b[90m\"\"\"Example function that has to many local variables.\"\"\"\u001b[0m\n",
      "    \u001b[1m\u001b[90m3\u001b[0m      \u001b[30m\u001b[0m\u001b[1m\u001b[30m\u001b[46mlocal_variable_1\u001b[0m \u001b[30m= 1\u001b[0m\n",
      "    \u001b[90m4\u001b[0m      \u001b[90mlocal_variable_2 = 2\u001b[0m\n",
      "    \u001b[90m5\u001b[0m      \u001b[90mlocal_variable_3 = 3\u001b[0m\n",
      "\n",
      "  \u001b[1m[Line 4] Unused variable 'local_variable_2'\u001b[0m\n",
      "    \u001b[90m2\u001b[0m      \u001b[90m\"\"\"Example function that has to many local variables.\"\"\"\u001b[0m\n",
      "    \u001b[90m3\u001b[0m      \u001b[90mlocal_variable_1 = 1\u001b[0m\n",
      "    \u001b[1m\u001b[90m4\u001b[0m      \u001b[30m\u001b[0m\u001b[1m\u001b[30m\u001b[46mlocal_variable_2\u001b[0m \u001b[30m= 2\u001b[0m\n",
      "    \u001b[90m5\u001b[0m      \u001b[90mlocal_variable_3 = 3\u001b[0m\n",
      "    \u001b[90m6\u001b[0m      \u001b[90mlocal_variable_4 = 4\u001b[0m\n",
      "\n",
      "  \u001b[1m[Line 5] Unused variable 'local_variable_3'\u001b[0m\n",
      "    \u001b[90m3\u001b[0m      \u001b[90mlocal_variable_1 = 1\u001b[0m\n",
      "    \u001b[90m4\u001b[0m      \u001b[90mlocal_variable_2 = 2\u001b[0m\n",
      "    \u001b[1m\u001b[90m5\u001b[0m      \u001b[30m\u001b[0m\u001b[1m\u001b[30m\u001b[46mlocal_variable_3\u001b[0m \u001b[30m= 3\u001b[0m\n",
      "    \u001b[90m6\u001b[0m      \u001b[90mlocal_variable_4 = 4\u001b[0m\n",
      "    \u001b[90m7\u001b[0m      \u001b[90mlocal_variable_5 = 5\u001b[0m\n",
      "\n",
      "  \u001b[1m[Line 6] Unused variable 'local_variable_4'\u001b[0m\n",
      "    \u001b[90m4\u001b[0m      \u001b[90mlocal_variable_2 = 2\u001b[0m\n",
      "    \u001b[90m5\u001b[0m      \u001b[90mlocal_variable_3 = 3\u001b[0m\n",
      "    \u001b[1m\u001b[90m6\u001b[0m      \u001b[30m\u001b[0m\u001b[1m\u001b[30m\u001b[46mlocal_variable_4\u001b[0m \u001b[30m= 4\u001b[0m\n",
      "    \u001b[90m7\u001b[0m      \u001b[90mlocal_variable_5 = 5\u001b[0m\n",
      "    \u001b[90m8\u001b[0m      \u001b[90mlocal_variable_6 = 6\u001b[0m\n",
      "\n",
      "  \u001b[1m[Line 7] Unused variable 'local_variable_5'\u001b[0m\n",
      "    \u001b[90m5\u001b[0m      \u001b[90mlocal_variable_3 = 3\u001b[0m\n",
      "    \u001b[90m6\u001b[0m      \u001b[90mlocal_variable_4 = 4\u001b[0m\n",
      "    \u001b[1m\u001b[90m7\u001b[0m      \u001b[30m\u001b[0m\u001b[1m\u001b[30m\u001b[46mlocal_variable_5\u001b[0m \u001b[30m= 5\u001b[0m\n",
      "    \u001b[90m8\u001b[0m      \u001b[90mlocal_variable_6 = 6\u001b[0m\n",
      "    \u001b[90m9\u001b[0m      \u001b[90mlocal_variable_7 = 7\u001b[0m\n",
      "\n",
      "\n",
      "None\n"
     ]
    },
    {
     "data": {
      "text/html": [
       "<h2><center>W0104_pointless_statement.py</center></h2>"
      ],
      "text/plain": [
       "<IPython.core.display.HTML object>"
      ]
     },
     "metadata": {},
     "output_type": "display_data"
    },
    {
     "name": "stdout",
     "output_type": "stream",
     "text": [
      "### Loaded configuration file: /home/kimlab1/strokach/documents/teaching/python-ta/pyta/python_ta/.pylintrc\n",
      "### Loaded configuration file: /home/kimlab1/strokach/documents/teaching/python-ta/pyta/python_ta/.pylintrc\n",
      "*************** File: /home/kimlab1/strokach/documents/teaching/python-ta/pyta/examples/pylint/W0104_pointless_statement.py\n",
      "\u001b[31m\u001b[1m=== Code errors/forbidden usage (fix: high priority) ===\n",
      "\u001b[0m\u001b[31m\u001b[1mW0104\u001b[0m \u001b[1m(pointless-statement)  \u001b[0mNumber of occurrences: 1.\n",
      "  \u001b[1m[Line 9] Statement seems to have no effect\u001b[0m\n",
      "    \u001b[90m7\u001b[0m      \u001b[90mfor item in lst:\u001b[0m\n",
      "    \u001b[90m8\u001b[0m          \u001b[90mtemp += item\u001b[0m\n",
      "    \u001b[1m\u001b[90m9\u001b[0m      \u001b[30m\u001b[0m\u001b[1m\u001b[30m\u001b[46mtemp\u001b[0m  \u001b[30m# Error on this line\u001b[0m\n",
      "\n",
      "\u001b[34m\u001b[1m=== Style/convention errors (fix: before submission) ===\n",
      "\u001b[0m\u001b[34m\u001b[1mC0103\u001b[0m \u001b[1m(invalid-name)  \u001b[0mNumber of occurrences: 1.\n",
      "  \u001b[1m[Line 1] Invalid module name \"W0104_pointless_statement\"\u001b[0m\n",
      "\n",
      "\u001b[34m\u001b[1mC0111\u001b[0m \u001b[1m(missing-docstring)  \u001b[0mNumber of occurrences: 1.\n",
      "  \u001b[1m[Line 1] Missing module docstring\u001b[0m\n",
      "     \u001b[30m\u001b[0m  \u001b[1m\u001b[30m\u001b[46m\"\"\"YOUR DOCSTRING HERE\"\"\"\u001b[0m\n",
      "    \u001b[90m1\u001b[0m  \u001b[90mdef add(lst):\u001b[0m\n",
      "    \u001b[90m2\u001b[0m      \u001b[90m\"\"\"\u001b[0m\n",
      "\n",
      "\n",
      "None\n"
     ]
    },
    {
     "data": {
      "text/html": [
       "<h2><center>W0705_duplicate_except.py</center></h2>"
      ],
      "text/plain": [
       "<IPython.core.display.HTML object>"
      ]
     },
     "metadata": {},
     "output_type": "display_data"
    },
    {
     "name": "stdout",
     "output_type": "stream",
     "text": [
      "### Loaded configuration file: /home/kimlab1/strokach/documents/teaching/python-ta/pyta/python_ta/.pylintrc\n",
      "### Loaded configuration file: /home/kimlab1/strokach/documents/teaching/python-ta/pyta/python_ta/.pylintrc\n",
      "*************** File: /home/kimlab1/strokach/documents/teaching/python-ta/pyta/examples/pylint/W0705_duplicate_except.py\n",
      "\u001b[31m\u001b[1m=== Code errors/forbidden usage (fix: high priority) ===\n",
      "\u001b[0m\u001b[31m\u001b[1mW0705\u001b[0m \u001b[1m(duplicate-except)  \u001b[0mNumber of occurrences: 1.\n",
      "  \u001b[1m[Line 6] Catching previously caught exception type Exception\u001b[0m\n",
      "    \u001b[90m4\u001b[0m      \u001b[90mexcept Exception:\u001b[0m\n",
      "    \u001b[90m5\u001b[0m          \u001b[90mprint('This is triggered')\u001b[0m\n",
      "    \u001b[1m\u001b[90m6\u001b[0m      \u001b[30mexcept \u001b[0m\u001b[1m\u001b[30m\u001b[46mException\u001b[0m\u001b[30m:\u001b[0m\n",
      "\n",
      "\u001b[34m\u001b[1m=== Style/convention errors (fix: before submission) ===\n",
      "\u001b[0m\u001b[34m\u001b[1mC0103\u001b[0m \u001b[1m(invalid-name)  \u001b[0mNumber of occurrences: 1.\n",
      "  \u001b[1m[Line 1] Invalid module name \"W0705_duplicate_except\"\u001b[0m\n",
      "\n",
      "\u001b[34m\u001b[1mC0111\u001b[0m \u001b[1m(missing-docstring)  \u001b[0mNumber of occurrences: 2.\n",
      "  \u001b[1m[Line 1] Missing module docstring\u001b[0m\n",
      "     \u001b[30m\u001b[0m  \u001b[1m\u001b[30m\u001b[46m\"\"\"YOUR DOCSTRING HERE\"\"\"\u001b[0m\n",
      "    \u001b[90m1\u001b[0m  \u001b[90mdef repeat_except_blocks():\u001b[0m\n",
      "    \u001b[90m2\u001b[0m      \u001b[90mtry:\u001b[0m\n",
      "\n",
      "  \u001b[1m[Line 1] Missing function docstring\u001b[0m\n",
      "    \u001b[90m1\u001b[0m  \u001b[90mdef repeat_except_blocks():\u001b[0m\n",
      "     \u001b[30m\u001b[0m      \u001b[1m\u001b[30m\u001b[46m\"\"\"YOUR DOCSTRING HERE\"\"\"\u001b[0m\n",
      "    \u001b[90m2\u001b[0m      \u001b[90mtry:\u001b[0m\n",
      "    \u001b[90m3\u001b[0m          \u001b[90mraise Exception()\u001b[0m\n",
      "\n",
      "\u001b[34m\u001b[1mW0703\u001b[0m \u001b[1m(broad-except)  \u001b[0mNumber of occurrences: 2.\n",
      "  \u001b[1m[Line 4] Catching too general exception Exception\u001b[0m\n",
      "    \u001b[90m2\u001b[0m      \u001b[90mtry:\u001b[0m\n",
      "    \u001b[90m3\u001b[0m          \u001b[90mraise Exception()\u001b[0m\n",
      "    \u001b[1m\u001b[90m4\u001b[0m      \u001b[30mexcept \u001b[0m\u001b[1m\u001b[30m\u001b[46mException\u001b[0m\u001b[30m:\u001b[0m\n",
      "    \u001b[90m5\u001b[0m          \u001b[90mprint('This is triggered')\u001b[0m\n",
      "    \u001b[90m6\u001b[0m      \u001b[90mexcept Exception:\u001b[0m\n",
      "\n",
      "  \u001b[1m[Line 6] Catching too general exception Exception\u001b[0m\n",
      "    \u001b[90m4\u001b[0m      \u001b[90mexcept Exception:\u001b[0m\n",
      "    \u001b[90m5\u001b[0m          \u001b[90mprint('This is triggered')\u001b[0m\n",
      "    \u001b[1m\u001b[90m6\u001b[0m      \u001b[30mexcept \u001b[0m\u001b[1m\u001b[30m\u001b[46mException\u001b[0m\u001b[30m:\u001b[0m\n",
      "\n",
      "\u001b[34m\u001b[1mE9998\u001b[0m \u001b[1m(IO-function-not-allowed)  \u001b[0mNumber of occurrences: 2.\n",
      "  \u001b[1m[Line 5] Used IO function print\u001b[0m\n",
      "    \u001b[90m3\u001b[0m          \u001b[90mraise Exception()\u001b[0m\n",
      "    \u001b[90m4\u001b[0m      \u001b[90mexcept Exception:\u001b[0m\n",
      "    \u001b[1m\u001b[90m5\u001b[0m          \u001b[30m\u001b[0m\u001b[1m\u001b[30m\u001b[46mprint('This is triggered')\u001b[0m\u001b[30m\u001b[0m\n",
      "    \u001b[90m6\u001b[0m      \u001b[90mexcept Exception:\u001b[0m\n",
      "\n",
      "  \u001b[1m[Line 7] Used IO function print\u001b[0m\n",
      "    \u001b[90m5\u001b[0m          \u001b[90mprint('This is triggered')\u001b[0m\n",
      "    \u001b[90m6\u001b[0m      \u001b[90mexcept Exception:\u001b[0m\n",
      "    \u001b[1m\u001b[90m7\u001b[0m          \u001b[30m\u001b[0m\u001b[1m\u001b[30m\u001b[46mprint('Duplicate exception block')\u001b[0m\u001b[30m\u001b[0m\n",
      "\n",
      "\n",
      "None\n"
     ]
    },
    {
     "data": {
      "text/html": [
       "<h2><center>W0125_using_constant_test.py</center></h2>"
      ],
      "text/plain": [
       "<IPython.core.display.HTML object>"
      ]
     },
     "metadata": {},
     "output_type": "display_data"
    },
    {
     "name": "stdout",
     "output_type": "stream",
     "text": [
      "### Loaded configuration file: /home/kimlab1/strokach/documents/teaching/python-ta/pyta/python_ta/.pylintrc\n",
      "### Loaded configuration file: /home/kimlab1/strokach/documents/teaching/python-ta/pyta/python_ta/.pylintrc\n",
      "*************** File: /home/kimlab1/strokach/documents/teaching/python-ta/pyta/examples/pylint/W0125_using_constant_test.py\n",
      "\u001b[31m\u001b[1m=== Code errors/forbidden usage (fix: high priority) ===\n",
      "\u001b[0mNone!\n",
      "\n",
      "\u001b[34m\u001b[1m=== Style/convention errors (fix: before submission) ===\n",
      "\u001b[0m\u001b[34m\u001b[1mC0103\u001b[0m \u001b[1m(invalid-name)  \u001b[0mNumber of occurrences: 1.\n",
      "  \u001b[1m[Line 1] Invalid module name \"W0125_using_constant_test\"\u001b[0m\n",
      "\n",
      "\u001b[34m\u001b[1mC0111\u001b[0m \u001b[1m(missing-docstring)  \u001b[0mNumber of occurrences: 1.\n",
      "  \u001b[1m[Line 1] Missing module docstring\u001b[0m\n",
      "     \u001b[30m\u001b[0m  \u001b[1m\u001b[30m\u001b[46m\"\"\"YOUR DOCSTRING HERE\"\"\"\u001b[0m\n",
      "    \u001b[90m1\u001b[0m  \u001b[90mdef is_false():\u001b[0m\n",
      "    \u001b[90m2\u001b[0m      \u001b[90m\"\"\"\u001b[0m\n",
      "\n",
      "\u001b[34m\u001b[1mR1705\u001b[0m \u001b[1m(no-else-return)  \u001b[0mNumber of occurrences: 1.\n",
      "  \u001b[1m[Line 5] Unnecessary \"else\" after \"return\"\u001b[0m\n",
      "    \u001b[90m3\u001b[0m      \u001b[90m@rtype: bool\u001b[0m\n",
      "    \u001b[90m4\u001b[0m      \u001b[90m\"\"\"\u001b[0m\n",
      "    \u001b[1m\u001b[90m5\u001b[0m      \u001b[30m\u001b[0m\u001b[1m\u001b[30m\u001b[46mif True:\u001b[0m\u001b[30m\u001b[0m\n",
      "    \u001b[1m\u001b[90m8\u001b[0m  \u001b[30m\u001b[0m        \u001b[1m\u001b[30m\u001b[46mreturn True\u001b[0m\u001b[30m\u001b[0m\n",
      "\n",
      "\u001b[34m\u001b[1mW0125\u001b[0m \u001b[1m(using-constant-test)  \u001b[0mNumber of occurrences: 1.\n",
      "  \u001b[1m[Line 5] Using a conditional statement with a constant value\u001b[0m\n",
      "    \u001b[90m3\u001b[0m      \u001b[90m@rtype: bool\u001b[0m\n",
      "    \u001b[90m4\u001b[0m      \u001b[90m\"\"\"\u001b[0m\n",
      "    \u001b[1m\u001b[90m5\u001b[0m      \u001b[30m\u001b[0m\u001b[1m\u001b[30m\u001b[46mif True:\u001b[0m\u001b[30m\u001b[0m\n",
      "    \u001b[1m\u001b[90m8\u001b[0m  \u001b[30m\u001b[0m        \u001b[1m\u001b[30m\u001b[46mreturn True\u001b[0m\u001b[30m\u001b[0m\n",
      "\n",
      "\n",
      "None\n"
     ]
    },
    {
     "data": {
      "text/html": [
       "<h2><center>W0613_unused_argument.py</center></h2>"
      ],
      "text/plain": [
       "<IPython.core.display.HTML object>"
      ]
     },
     "metadata": {},
     "output_type": "display_data"
    },
    {
     "name": "stdout",
     "output_type": "stream",
     "text": [
      "### Loaded configuration file: /home/kimlab1/strokach/documents/teaching/python-ta/pyta/python_ta/.pylintrc\n",
      "### Loaded configuration file: /home/kimlab1/strokach/documents/teaching/python-ta/pyta/python_ta/.pylintrc\n",
      "*************** File: /home/kimlab1/strokach/documents/teaching/python-ta/pyta/examples/pylint/W0613_unused_argument.py\n",
      "\u001b[31m\u001b[1m=== Code errors/forbidden usage (fix: high priority) ===\n",
      "\u001b[0mNone!\n",
      "\n",
      "\u001b[34m\u001b[1m=== Style/convention errors (fix: before submission) ===\n",
      "\u001b[0m\u001b[34m\u001b[1mC0325\u001b[0m \u001b[1m(superfluous-parens)  \u001b[0mNumber of occurrences: 1.\n",
      "  \u001b[1m[Line 2] Unnecessary parens after 'return' keyword\u001b[0m\n",
      "\n",
      "\u001b[34m\u001b[1mC0103\u001b[0m \u001b[1m(invalid-name)  \u001b[0mNumber of occurrences: 2.\n",
      "  \u001b[1m[Line 1] Invalid module name \"W0613_unused_argument\"\u001b[0m\n",
      "\n",
      "  \u001b[1m[Line 4] Invalid constant name \"number\"\u001b[0m\n",
      "    \u001b[90m2\u001b[0m      \u001b[90mreturn(x + y)\u001b[0m\n",
      "    \u001b[90m3\u001b[0m  \u001b[90m\u001b[0m\n",
      "    \u001b[1m\u001b[90m4\u001b[0m  \u001b[30m\u001b[0m\u001b[1m\u001b[30m\u001b[46mnumber\u001b[0m \u001b[30m= fun(1, 2, 3)  # Error on this line, 3 is unused.\u001b[0m\n",
      "\n",
      "\u001b[34m\u001b[1mC0111\u001b[0m \u001b[1m(missing-docstring)  \u001b[0mNumber of occurrences: 2.\n",
      "  \u001b[1m[Line 1] Missing module docstring\u001b[0m\n",
      "     \u001b[30m\u001b[0m  \u001b[1m\u001b[30m\u001b[46m\"\"\"YOUR DOCSTRING HERE\"\"\"\u001b[0m\n",
      "    \u001b[90m1\u001b[0m  \u001b[90mdef fun(x, y, z):\u001b[0m\n",
      "    \u001b[90m2\u001b[0m      \u001b[90mreturn(x + y)\u001b[0m\n",
      "\n",
      "  \u001b[1m[Line 1] Missing function docstring\u001b[0m\n",
      "    \u001b[90m1\u001b[0m  \u001b[90mdef fun(x, y, z):\u001b[0m\n",
      "     \u001b[30m\u001b[0m      \u001b[1m\u001b[30m\u001b[46m\"\"\"YOUR DOCSTRING HERE\"\"\"\u001b[0m\n",
      "    \u001b[90m2\u001b[0m      \u001b[90mreturn(x + y)\u001b[0m\n",
      "    \u001b[90m3\u001b[0m  \u001b[90m\u001b[0m\n",
      "\n",
      "\u001b[34m\u001b[1mE9900\u001b[0m \u001b[1m(type-error)  \u001b[0mNumber of occurrences: 1.\n",
      "  \u001b[1m[Line 2] Type error \"Method ~_T119128.__add__ not found\" inferred\u001b[0m\n",
      "    \u001b[90m0\u001b[0m  \u001b[90mnumber = fun(1, 2, 3)  # Error on this line, 3 is unused.\u001b[0m\n",
      "    \u001b[90m1\u001b[0m  \u001b[90mdef fun(x, y, z):\u001b[0m\n",
      "    \u001b[1m\u001b[90m2\u001b[0m      \u001b[30mreturn(\u001b[0m\u001b[1m\u001b[30m\u001b[46mx + y\u001b[0m\u001b[30m)\u001b[0m\n",
      "    \u001b[90m3\u001b[0m  \u001b[90m\u001b[0m\n",
      "\n",
      "\u001b[34m\u001b[1mW0613\u001b[0m \u001b[1m(unused-argument)  \u001b[0mNumber of occurrences: 1.\n",
      "  \u001b[1m[Line 1] Unused argument 'z'\u001b[0m\n",
      "    \u001b[90m0\u001b[0m  \u001b[90mnumber = fun(1, 2, 3)  # Error on this line, 3 is unused.\u001b[0m\n",
      "    \u001b[1m\u001b[90m1\u001b[0m  \u001b[30mdef fun(x, y, \u001b[0m\u001b[1m\u001b[30m\u001b[46mz\u001b[0m\u001b[30m):\u001b[0m\n",
      "    \u001b[90m2\u001b[0m      \u001b[90mreturn(x + y)\u001b[0m\n",
      "    \u001b[90m3\u001b[0m  \u001b[90m\u001b[0m\n",
      "\n",
      "\u001b[34m\u001b[1mE9997\u001b[0m \u001b[1m(forbidden-global-variables)  \u001b[0mNumber of occurrences: 3.\n",
      "  \u001b[1m[Line 4] Global variables should not be used in CSC108/CSC148 - a global variable 'number' is declared on line 4\u001b[0m\n",
      "    \u001b[90m2\u001b[0m      \u001b[90mreturn(x + y)\u001b[0m\n",
      "    \u001b[90m3\u001b[0m  \u001b[90m\u001b[0m\n",
      "    \u001b[1m\u001b[90m4\u001b[0m  \u001b[30m\u001b[0m\u001b[1m\u001b[30m\u001b[46mnumber\u001b[0m \u001b[30m= fun(1, 2, 3)  # Error on this line, 3 is unused.\u001b[0m\n",
      "\n",
      "  \u001b[1m[Line 4] Global variables should not be used in CSC108/CSC148 - a global variable 'fun' is declared on line 4\u001b[0m\n",
      "    \u001b[90m2\u001b[0m      \u001b[90mreturn(x + y)\u001b[0m\n",
      "    \u001b[90m3\u001b[0m  \u001b[90m\u001b[0m\n",
      "    \u001b[1m\u001b[90m4\u001b[0m  \u001b[30mnumber = \u001b[0m\u001b[1m\u001b[30m\u001b[46mfun\u001b[0m\u001b[30m(1, 2, 3)  # Error on this line, 3 is unused.\u001b[0m\n",
      "\n",
      "  \u001b[1m[Line 4] Global variables should not be used in CSC108/CSC148 - a global variable 'fun' is declared on line 4\u001b[0m\n",
      "    \u001b[90m2\u001b[0m      \u001b[90mreturn(x + y)\u001b[0m\n",
      "    \u001b[90m3\u001b[0m  \u001b[90m\u001b[0m\n",
      "    \u001b[1m\u001b[90m4\u001b[0m  \u001b[30mnumber = \u001b[0m\u001b[1m\u001b[30m\u001b[46mfun\u001b[0m\u001b[30m(1, 2, 3)  # Error on this line, 3 is unused.\u001b[0m\n",
      "\n",
      "\n",
      "None\n"
     ]
    },
    {
     "data": {
      "text/html": [
       "<h2><center>W0611_unused_import.py</center></h2>"
      ],
      "text/plain": [
       "<IPython.core.display.HTML object>"
      ]
     },
     "metadata": {},
     "output_type": "display_data"
    },
    {
     "name": "stdout",
     "output_type": "stream",
     "text": [
      "### Loaded configuration file: /home/kimlab1/strokach/documents/teaching/python-ta/pyta/python_ta/.pylintrc\n",
      "### Loaded configuration file: /home/kimlab1/strokach/documents/teaching/python-ta/pyta/python_ta/.pylintrc\n",
      "*************** File: /home/kimlab1/strokach/documents/teaching/python-ta/pyta/examples/pylint/W0611_unused_import.py\n",
      "\u001b[31m\u001b[1m=== Code errors/forbidden usage (fix: high priority) ===\n",
      "\u001b[0m\u001b[31m\u001b[1mE9999\u001b[0m \u001b[1m(forbidden-import)  \u001b[0mNumber of occurrences: 1.\n",
      "  \u001b[1m[Line 1] You may not import any modules - you imported re on line 1.\u001b[0m\n",
      "    \u001b[90m0\u001b[0m  \u001b[90mimport re  # Module imported, and not used.\u001b[0m\n",
      "    \u001b[1m\u001b[90m1\u001b[0m  \u001b[30m\u001b[0m\u001b[1m\u001b[30m\u001b[46mimport re\u001b[0m  \u001b[30m# Module imported, and not used.\u001b[0m\n",
      "\n",
      "\u001b[34m\u001b[1m=== Style/convention errors (fix: before submission) ===\n",
      "\u001b[0m\u001b[34m\u001b[1mC0103\u001b[0m \u001b[1m(invalid-name)  \u001b[0mNumber of occurrences: 1.\n",
      "  \u001b[1m[Line 1] Invalid module name \"W0611_unused_import\"\u001b[0m\n",
      "\n",
      "\u001b[34m\u001b[1mC0111\u001b[0m \u001b[1m(missing-docstring)  \u001b[0mNumber of occurrences: 1.\n",
      "  \u001b[1m[Line 1] Missing module docstring\u001b[0m\n",
      "     \u001b[30m\u001b[0m  \u001b[1m\u001b[30m\u001b[46m\"\"\"YOUR DOCSTRING HERE\"\"\"\u001b[0m\n",
      "\n",
      "\u001b[34m\u001b[1mW0611\u001b[0m \u001b[1m(unused-import)  \u001b[0mNumber of occurrences: 1.\n",
      "  \u001b[1m[Line 1] Unused import re\u001b[0m\n",
      "    \u001b[90m0\u001b[0m  \u001b[90mimport re  # Module imported, and not used.\u001b[0m\n",
      "    \u001b[1m\u001b[90m1\u001b[0m  \u001b[30m\u001b[0m\u001b[1m\u001b[30m\u001b[46mimport re\u001b[0m  \u001b[30m# Module imported, and not used.\u001b[0m\n",
      "\n",
      "\n",
      "None\n"
     ]
    },
    {
     "data": {
      "text/html": [
       "<h2><center>W1401_anomalous_backslash_in_string.py</center></h2>"
      ],
      "text/plain": [
       "<IPython.core.display.HTML object>"
      ]
     },
     "metadata": {},
     "output_type": "display_data"
    },
    {
     "name": "stdout",
     "output_type": "stream",
     "text": [
      "### Loaded configuration file: /home/kimlab1/strokach/documents/teaching/python-ta/pyta/python_ta/.pylintrc\n",
      "### Loaded configuration file: /home/kimlab1/strokach/documents/teaching/python-ta/pyta/python_ta/.pylintrc\n",
      "*************** File: /home/kimlab1/strokach/documents/teaching/python-ta/pyta/examples/pylint/W1401_anomalous_backslash_in_string.py\n",
      "\u001b[31m\u001b[1m=== Code errors/forbidden usage (fix: high priority) ===\n",
      "\u001b[0mNone!\n",
      "\n",
      "\u001b[34m\u001b[1m=== Style/convention errors (fix: before submission) ===\n",
      "\u001b[0m\u001b[34m\u001b[1mW1401\u001b[0m \u001b[1m(anomalous-backslash-in-string)  \u001b[0mNumber of occurrences: 1.\n",
      "  \u001b[1m[Line 1] Anomalous backslash in string: '\\d'. String constant might be missing an r prefix.\u001b[0m\n",
      "\n",
      "\u001b[34m\u001b[1mC0103\u001b[0m \u001b[1m(invalid-name)  \u001b[0mNumber of occurrences: 1.\n",
      "  \u001b[1m[Line 1] Invalid module name \"W1401_anomalous_backslash_in_string\"\u001b[0m\n",
      "\n",
      "\u001b[34m\u001b[1mC0111\u001b[0m \u001b[1m(missing-docstring)  \u001b[0mNumber of occurrences: 1.\n",
      "  \u001b[1m[Line 1] Missing module docstring\u001b[0m\n",
      "     \u001b[30m\u001b[0m  \u001b[1m\u001b[30m\u001b[46m\"\"\"YOUR DOCSTRING HERE\"\"\"\u001b[0m\n",
      "\n",
      "\u001b[34m\u001b[1mE9997\u001b[0m \u001b[1m(forbidden-global-variables)  \u001b[0mNumber of occurrences: 1.\n",
      "  \u001b[1m[Line 1] Global variables should not be used in CSC108/CSC148 - a global variable 'print' is declared on line 1\u001b[0m\n",
      "    \u001b[90m0\u001b[0m  \u001b[90mprint('\\d{3}')  # Error on this line\u001b[0m\n",
      "    \u001b[1m\u001b[90m1\u001b[0m  \u001b[30m\u001b[0m\u001b[1m\u001b[30m\u001b[46mprint\u001b[0m\u001b[30m('\\d{3}')  # Error on this line\u001b[0m\n",
      "\n",
      "\n",
      "None\n"
     ]
    },
    {
     "data": {
      "text/html": [
       "<h2><center>C0102_blacklisted_name.py</center></h2>"
      ],
      "text/plain": [
       "<IPython.core.display.HTML object>"
      ]
     },
     "metadata": {},
     "output_type": "display_data"
    },
    {
     "name": "stdout",
     "output_type": "stream",
     "text": [
      "### Loaded configuration file: /home/kimlab1/strokach/documents/teaching/python-ta/pyta/python_ta/.pylintrc\n",
      "### Loaded configuration file: /home/kimlab1/strokach/documents/teaching/python-ta/pyta/python_ta/.pylintrc\n",
      "*************** File: /home/kimlab1/strokach/documents/teaching/python-ta/pyta/examples/pylint/C0102_blacklisted_name.py\n",
      "\u001b[31m\u001b[1m=== Code errors/forbidden usage (fix: high priority) ===\n",
      "\u001b[0mNone!\n",
      "\n",
      "\u001b[34m\u001b[1m=== Style/convention errors (fix: before submission) ===\n",
      "\u001b[0m\u001b[34m\u001b[1mC0103\u001b[0m \u001b[1m(invalid-name)  \u001b[0mNumber of occurrences: 1.\n",
      "  \u001b[1m[Line 1] Invalid module name \"C0102_blacklisted_name\"\u001b[0m\n",
      "\n",
      "\u001b[34m\u001b[1mC0111\u001b[0m \u001b[1m(missing-docstring)  \u001b[0mNumber of occurrences: 1.\n",
      "  \u001b[1m[Line 1] Missing module docstring\u001b[0m\n",
      "     \u001b[30m\u001b[0m  \u001b[1m\u001b[30m\u001b[46m\"\"\"YOUR DOCSTRING HERE\"\"\"\u001b[0m\n",
      "    \u001b[90m1\u001b[0m  \u001b[90mdef pos(obj):\u001b[0m\n",
      "    \u001b[90m2\u001b[0m      \u001b[90m\"\"\"\u001b[0m\n",
      "\n",
      "\u001b[34m\u001b[1mC0102\u001b[0m \u001b[1m(blacklisted-name)  \u001b[0mNumber of occurrences: 1.\n",
      "  \u001b[1m[Line 6] Black listed name \"foo\"\u001b[0m\n",
      "    \u001b[90m4\u001b[0m      \u001b[90m@rtype: bool\u001b[0m\n",
      "    \u001b[90m5\u001b[0m      \u001b[90m\"\"\"\u001b[0m\n",
      "    \u001b[1m\u001b[90m6\u001b[0m      \u001b[30m\u001b[0m\u001b[1m\u001b[30m\u001b[46mfoo\u001b[0m \u001b[30m= obj\u001b[0m\n",
      "\n",
      "\n",
      "None\n"
     ]
    },
    {
     "data": {
      "text/html": [
       "<h2><center>E0102_function_redefined.py</center></h2>"
      ],
      "text/plain": [
       "<IPython.core.display.HTML object>"
      ]
     },
     "metadata": {},
     "output_type": "display_data"
    },
    {
     "name": "stdout",
     "output_type": "stream",
     "text": [
      "### Loaded configuration file: /home/kimlab1/strokach/documents/teaching/python-ta/pyta/python_ta/.pylintrc\n",
      "### Loaded configuration file: /home/kimlab1/strokach/documents/teaching/python-ta/pyta/python_ta/.pylintrc\n",
      "*************** File: /home/kimlab1/strokach/documents/teaching/python-ta/pyta/examples/pylint/E0102_function_redefined.py\n",
      "\u001b[31m\u001b[1m=== Code errors/forbidden usage (fix: high priority) ===\n",
      "\u001b[0m\u001b[31m\u001b[1mE0102\u001b[0m \u001b[1m(function-redefined)  \u001b[0mNumber of occurrences: 1.\n",
      "  \u001b[1m[Line 9] function already defined line 1\u001b[0m\n",
      "    \u001b[90m7\u001b[0m  \u001b[90m\u001b[0m\n",
      "    \u001b[90m8\u001b[0m  \u001b[90m\u001b[0m\n",
      "    \u001b[1m\u001b[90m9\u001b[0m  \u001b[30m\u001b[0m\u001b[1m\u001b[30m\u001b[46mdef positive(obj):\u001b[0m\u001b[30m\u001b[0m\n",
      "   \u001b[1m\u001b[90m14\u001b[0m  \u001b[30m\u001b[0m    \u001b[1m\u001b[30m\u001b[46mreturn obj >= 0\u001b[0m\u001b[30m\u001b[0m\n",
      "\n",
      "\u001b[34m\u001b[1m=== Style/convention errors (fix: before submission) ===\n",
      "\u001b[0m\u001b[34m\u001b[1mC0103\u001b[0m \u001b[1m(invalid-name)  \u001b[0mNumber of occurrences: 1.\n",
      "  \u001b[1m[Line 1] Invalid module name \"E0102_function_redefined\"\u001b[0m\n",
      "\n",
      "\u001b[34m\u001b[1mC0111\u001b[0m \u001b[1m(missing-docstring)  \u001b[0mNumber of occurrences: 1.\n",
      "  \u001b[1m[Line 1] Missing module docstring\u001b[0m\n",
      "     \u001b[30m\u001b[0m  \u001b[1m\u001b[30m\u001b[46m\"\"\"YOUR DOCSTRING HERE\"\"\"\u001b[0m\n",
      "    \u001b[90m1\u001b[0m  \u001b[90mdef positive(obj):\u001b[0m\n",
      "    \u001b[90m2\u001b[0m      \u001b[90m\"\"\"\u001b[0m\n",
      "\n",
      "\n",
      "None\n"
     ]
    },
    {
     "data": {
      "text/html": [
       "<h2><center>E0602_undefined_variable.py</center></h2>"
      ],
      "text/plain": [
       "<IPython.core.display.HTML object>"
      ]
     },
     "metadata": {},
     "output_type": "display_data"
    },
    {
     "name": "stdout",
     "output_type": "stream",
     "text": [
      "### Loaded configuration file: /home/kimlab1/strokach/documents/teaching/python-ta/pyta/python_ta/.pylintrc\n",
      "### Loaded configuration file: /home/kimlab1/strokach/documents/teaching/python-ta/pyta/python_ta/.pylintrc\n",
      "*************** File: /home/kimlab1/strokach/documents/teaching/python-ta/pyta/examples/pylint/E0602_undefined_variable.py\n",
      "\u001b[31m\u001b[1m=== Code errors/forbidden usage (fix: high priority) ===\n",
      "\u001b[0m\u001b[31m\u001b[1mE0602\u001b[0m \u001b[1m(undefined-variable)  \u001b[0mNumber of occurrences: 1.\n",
      "  \u001b[1m[Line 4] Undefined variable 'var2'\u001b[0m\n",
      "    \u001b[90m2\u001b[0m  \u001b[90m\u001b[0m\n",
      "    \u001b[90m3\u001b[0m  \u001b[90mprint(var1)\u001b[0m\n",
      "    \u001b[1m\u001b[90m4\u001b[0m  \u001b[30mprint(\u001b[0m\u001b[1m\u001b[30m\u001b[46mvar2\u001b[0m\u001b[30m)  # Error on this line\u001b[0m\n",
      "\n",
      "\u001b[34m\u001b[1m=== Style/convention errors (fix: before submission) ===\n",
      "\u001b[0m\u001b[34m\u001b[1mC0103\u001b[0m \u001b[1m(invalid-name)  \u001b[0mNumber of occurrences: 2.\n",
      "  \u001b[1m[Line 1] Invalid module name \"E0602_undefined_variable\"\u001b[0m\n",
      "\n",
      "  \u001b[1m[Line 1] Invalid constant name \"var1\"\u001b[0m\n",
      "    \u001b[90m0\u001b[0m  \u001b[90mprint(var2)  # Error on this line\u001b[0m\n",
      "    \u001b[1m\u001b[90m1\u001b[0m  \u001b[30m\u001b[0m\u001b[1m\u001b[30m\u001b[46mvar1\u001b[0m \u001b[30m= 1\u001b[0m\n",
      "    \u001b[90m2\u001b[0m  \u001b[90m\u001b[0m\n",
      "    \u001b[90m3\u001b[0m  \u001b[90mprint(var1)\u001b[0m\n",
      "\n",
      "\u001b[34m\u001b[1mC0111\u001b[0m \u001b[1m(missing-docstring)  \u001b[0mNumber of occurrences: 1.\n",
      "  \u001b[1m[Line 1] Missing module docstring\u001b[0m\n",
      "     \u001b[30m\u001b[0m  \u001b[1m\u001b[30m\u001b[46m\"\"\"YOUR DOCSTRING HERE\"\"\"\u001b[0m\n",
      "    \u001b[90m1\u001b[0m  \u001b[90mvar1 = 1\u001b[0m\n",
      "    \u001b[90m2\u001b[0m  \u001b[90m\u001b[0m\n",
      "\n",
      "\u001b[34m\u001b[1mE9997\u001b[0m \u001b[1m(forbidden-global-variables)  \u001b[0mNumber of occurrences: 5.\n",
      "  \u001b[1m[Line 1] Global variables should not be used in CSC108/CSC148 - a global variable 'var1' is declared on line 1\u001b[0m\n",
      "    \u001b[90m0\u001b[0m  \u001b[90mprint(var2)  # Error on this line\u001b[0m\n",
      "    \u001b[1m\u001b[90m1\u001b[0m  \u001b[30m\u001b[0m\u001b[1m\u001b[30m\u001b[46mvar1\u001b[0m \u001b[30m= 1\u001b[0m\n",
      "    \u001b[90m2\u001b[0m  \u001b[90m\u001b[0m\n",
      "    \u001b[90m3\u001b[0m  \u001b[90mprint(var1)\u001b[0m\n",
      "\n",
      "  \u001b[1m[Line 3] Global variables should not be used in CSC108/CSC148 - a global variable 'print' is declared on line 3\u001b[0m\n",
      "    \u001b[90m1\u001b[0m  \u001b[90mvar1 = 1\u001b[0m\n",
      "    \u001b[90m2\u001b[0m  \u001b[90m\u001b[0m\n",
      "    \u001b[1m\u001b[90m3\u001b[0m  \u001b[30m\u001b[0m\u001b[1m\u001b[30m\u001b[46mprint\u001b[0m\u001b[30m(var1)\u001b[0m\n",
      "\n",
      "  \u001b[1m[Line 3] Global variables should not be used in CSC108/CSC148 - a global variable 'var1' is declared on line 3\u001b[0m\n",
      "    \u001b[90m1\u001b[0m  \u001b[90mvar1 = 1\u001b[0m\n",
      "    \u001b[90m2\u001b[0m  \u001b[90m\u001b[0m\n",
      "    \u001b[1m\u001b[90m3\u001b[0m  \u001b[30mprint(\u001b[0m\u001b[1m\u001b[30m\u001b[46mvar1\u001b[0m\u001b[30m)\u001b[0m\n",
      "\n",
      "  \u001b[1m[Line 4] Global variables should not be used in CSC108/CSC148 - a global variable 'print' is declared on line 4\u001b[0m\n",
      "    \u001b[90m2\u001b[0m  \u001b[90m\u001b[0m\n",
      "    \u001b[90m3\u001b[0m  \u001b[90mprint(var1)\u001b[0m\n",
      "    \u001b[1m\u001b[90m4\u001b[0m  \u001b[30m\u001b[0m\u001b[1m\u001b[30m\u001b[46mprint\u001b[0m\u001b[30m(var2)  # Error on this line\u001b[0m\n",
      "\n",
      "  \u001b[1m[Line 4] Global variables should not be used in CSC108/CSC148 - a global variable 'var2' is declared on line 4\u001b[0m\n",
      "    \u001b[90m2\u001b[0m  \u001b[90m\u001b[0m\n",
      "    \u001b[90m3\u001b[0m  \u001b[90mprint(var1)\u001b[0m\n",
      "    \u001b[1m\u001b[90m4\u001b[0m  \u001b[30mprint(\u001b[0m\u001b[1m\u001b[30m\u001b[46mvar2\u001b[0m\u001b[30m)  # Error on this line\u001b[0m\n",
      "\n",
      "\n",
      "None\n"
     ]
    },
    {
     "data": {
      "text/html": [
       "<h2><center>W0212_protected_access.py</center></h2>"
      ],
      "text/plain": [
       "<IPython.core.display.HTML object>"
      ]
     },
     "metadata": {},
     "output_type": "display_data"
    },
    {
     "name": "stdout",
     "output_type": "stream",
     "text": [
      "### Loaded configuration file: /home/kimlab1/strokach/documents/teaching/python-ta/pyta/python_ta/.pylintrc\n",
      "### Loaded configuration file: /home/kimlab1/strokach/documents/teaching/python-ta/pyta/python_ta/.pylintrc\n",
      "*************** File: /home/kimlab1/strokach/documents/teaching/python-ta/pyta/examples/pylint/W0212_protected_access.py\n",
      "\u001b[31m\u001b[1m=== Code errors/forbidden usage (fix: high priority) ===\n",
      "\u001b[0mNone!\n",
      "\n",
      "\u001b[34m\u001b[1m=== Style/convention errors (fix: before submission) ===\n",
      "\u001b[0m\u001b[34m\u001b[1mC0103\u001b[0m \u001b[1m(invalid-name)  \u001b[0mNumber of occurrences: 2.\n",
      "  \u001b[1m[Line 1] Invalid module name \"W0212_protected_access\"\u001b[0m\n",
      "\n",
      "  \u001b[1m[Line 5] Invalid constant name \"c\"\u001b[0m\n",
      "    \u001b[90m3\u001b[0m          \u001b[90mself._num = 42\u001b[0m\n",
      "    \u001b[90m4\u001b[0m  \u001b[90m\u001b[0m\n",
      "    \u001b[1m\u001b[90m5\u001b[0m  \u001b[30m\u001b[0m\u001b[1m\u001b[30m\u001b[46mc\u001b[0m \u001b[30m= MyClass()\u001b[0m\n",
      "    \u001b[90m6\u001b[0m  \u001b[90m# Should not be accssing the protected attribute:\u001b[0m\n",
      "\n",
      "\u001b[34m\u001b[1mC0111\u001b[0m \u001b[1m(missing-docstring)  \u001b[0mNumber of occurrences: 2.\n",
      "  \u001b[1m[Line 1] Missing module docstring\u001b[0m\n",
      "     \u001b[30m\u001b[0m  \u001b[1m\u001b[30m\u001b[46m\"\"\"YOUR DOCSTRING HERE\"\"\"\u001b[0m\n",
      "    \u001b[90m1\u001b[0m  \u001b[90mclass MyClass:\u001b[0m\n",
      "    \u001b[90m2\u001b[0m      \u001b[90mdef __init__(self):\u001b[0m\n",
      "\n",
      "  \u001b[1m[Line 1] Missing class docstring\u001b[0m\n",
      "    \u001b[90m1\u001b[0m  \u001b[90mclass MyClass:\u001b[0m\n",
      "     \u001b[30m\u001b[0m      \u001b[1m\u001b[30m\u001b[46m\"\"\"YOUR DOCSTRING HERE\"\"\"\u001b[0m\n",
      "    \u001b[90m2\u001b[0m      \u001b[90mdef __init__(self):\u001b[0m\n",
      "    \u001b[90m3\u001b[0m          \u001b[90mself._num = 42\u001b[0m\n",
      "\n",
      "\u001b[34m\u001b[1mE9997\u001b[0m \u001b[1m(forbidden-global-variables)  \u001b[0mNumber of occurrences: 5.\n",
      "  \u001b[1m[Line 5] Global variables should not be used in CSC108/CSC148 - a global variable 'c' is declared on line 5\u001b[0m\n",
      "    \u001b[90m3\u001b[0m          \u001b[90mself._num = 42\u001b[0m\n",
      "    \u001b[90m4\u001b[0m  \u001b[90m\u001b[0m\n",
      "    \u001b[1m\u001b[90m5\u001b[0m  \u001b[30m\u001b[0m\u001b[1m\u001b[30m\u001b[46mc\u001b[0m \u001b[30m= MyClass()\u001b[0m\n",
      "    \u001b[90m6\u001b[0m  \u001b[90m# Should not be accssing the protected attribute:\u001b[0m\n",
      "\n",
      "  \u001b[1m[Line 5] Global variables should not be used in CSC108/CSC148 - a global variable 'MyClass' is declared on line 5\u001b[0m\n",
      "    \u001b[90m3\u001b[0m          \u001b[90mself._num = 42\u001b[0m\n",
      "    \u001b[90m4\u001b[0m  \u001b[90m\u001b[0m\n",
      "    \u001b[1m\u001b[90m5\u001b[0m  \u001b[30mc = \u001b[0m\u001b[1m\u001b[30m\u001b[46mMyClass\u001b[0m\u001b[30m()\u001b[0m\n",
      "    \u001b[90m6\u001b[0m  \u001b[90m# Should not be accssing the protected attribute:\u001b[0m\n",
      "\n",
      "  \u001b[1m[Line 5] Global variables should not be used in CSC108/CSC148 - a global variable 'MyClass' is declared on line 5\u001b[0m\n",
      "    \u001b[90m3\u001b[0m          \u001b[90mself._num = 42\u001b[0m\n",
      "    \u001b[90m4\u001b[0m  \u001b[90m\u001b[0m\n",
      "    \u001b[1m\u001b[90m5\u001b[0m  \u001b[30mc = \u001b[0m\u001b[1m\u001b[30m\u001b[46mMyClass\u001b[0m\u001b[30m()\u001b[0m\n",
      "    \u001b[90m6\u001b[0m  \u001b[90m# Should not be accssing the protected attribute:\u001b[0m\n",
      "\n",
      "  \u001b[1m[Line 7] Global variables should not be used in CSC108/CSC148 - a global variable 'print' is declared on line 7\u001b[0m\n",
      "    \u001b[90m5\u001b[0m  \u001b[90mc = MyClass()\u001b[0m\n",
      "    \u001b[90m6\u001b[0m  \u001b[90m# Should not be accssing the protected attribute:\u001b[0m\n",
      "    \u001b[1m\u001b[90m7\u001b[0m  \u001b[30m\u001b[0m\u001b[1m\u001b[30m\u001b[46mprint\u001b[0m\u001b[30m(c._num)\u001b[0m\n",
      "\n",
      "  \u001b[1m[Line 7] Global variables should not be used in CSC108/CSC148 - a global variable 'c' is declared on line 7\u001b[0m\n",
      "    \u001b[90m5\u001b[0m  \u001b[90mc = MyClass()\u001b[0m\n",
      "    \u001b[90m6\u001b[0m  \u001b[90m# Should not be accssing the protected attribute:\u001b[0m\n",
      "    \u001b[1m\u001b[90m7\u001b[0m  \u001b[30mprint(\u001b[0m\u001b[1m\u001b[30m\u001b[46mc\u001b[0m\u001b[30m._num)\u001b[0m\n",
      "\n",
      "\u001b[34m\u001b[1mW0212\u001b[0m \u001b[1m(protected-access)  \u001b[0mNumber of occurrences: 1.\n",
      "  \u001b[1m[Line 7] Access to a protected member _num of a client class\u001b[0m\n",
      "    \u001b[90m5\u001b[0m  \u001b[90mc = MyClass()\u001b[0m\n",
      "    \u001b[90m6\u001b[0m  \u001b[90m# Should not be accssing the protected attribute:\u001b[0m\n",
      "    \u001b[1m\u001b[90m7\u001b[0m  \u001b[30mprint(\u001b[0m\u001b[1m\u001b[30m\u001b[46mc._num\u001b[0m\u001b[30m)\u001b[0m\n",
      "\n",
      "\n",
      "None\n"
     ]
    },
    {
     "data": {
      "text/html": [
       "<h2><center>C0111_missing_docstring.py</center></h2>"
      ],
      "text/plain": [
       "<IPython.core.display.HTML object>"
      ]
     },
     "metadata": {},
     "output_type": "display_data"
    },
    {
     "name": "stdout",
     "output_type": "stream",
     "text": [
      "### Loaded configuration file: /home/kimlab1/strokach/documents/teaching/python-ta/pyta/python_ta/.pylintrc\n",
      "### Loaded configuration file: /home/kimlab1/strokach/documents/teaching/python-ta/pyta/python_ta/.pylintrc\n",
      "*************** File: /home/kimlab1/strokach/documents/teaching/python-ta/pyta/examples/pylint/C0111_missing_docstring.py\n",
      "\u001b[31m\u001b[1m=== Code errors/forbidden usage (fix: high priority) ===\n",
      "\u001b[0mNone!\n",
      "\n",
      "\u001b[34m\u001b[1m=== Style/convention errors (fix: before submission) ===\n",
      "\u001b[0m\u001b[34m\u001b[1mC0103\u001b[0m \u001b[1m(invalid-name)  \u001b[0mNumber of occurrences: 1.\n",
      "  \u001b[1m[Line 1] Invalid module name \"C0111_missing_docstring\"\u001b[0m\n",
      "\n",
      "\u001b[34m\u001b[1mC0111\u001b[0m \u001b[1m(missing-docstring)  \u001b[0mNumber of occurrences: 2.\n",
      "  \u001b[1m[Line 1] Missing module docstring\u001b[0m\n",
      "     \u001b[30m\u001b[0m  \u001b[1m\u001b[30m\u001b[46m\"\"\"YOUR DOCSTRING HERE\"\"\"\u001b[0m\n",
      "    \u001b[90m1\u001b[0m  \u001b[90mdef is_false(obj):\u001b[0m\n",
      "    \u001b[90m2\u001b[0m      \u001b[90m# this function should have a docstring.\u001b[0m\n",
      "\n",
      "  \u001b[1m[Line 1] Missing function docstring\u001b[0m\n",
      "    \u001b[90m1\u001b[0m  \u001b[90mdef is_false(obj):\u001b[0m\n",
      "     \u001b[30m\u001b[0m      \u001b[1m\u001b[30m\u001b[46m\"\"\"YOUR DOCSTRING HERE\"\"\"\u001b[0m\n",
      "    \u001b[90m2\u001b[0m      \u001b[90m# this function should have a docstring.\u001b[0m\n",
      "\n",
      "\n",
      "None\n"
     ]
    },
    {
     "data": {
      "text/html": [
       "<h2><center>W0621_redefined_outer_name.py</center></h2>"
      ],
      "text/plain": [
       "<IPython.core.display.HTML object>"
      ]
     },
     "metadata": {},
     "output_type": "display_data"
    },
    {
     "name": "stdout",
     "output_type": "stream",
     "text": [
      "### Loaded configuration file: /home/kimlab1/strokach/documents/teaching/python-ta/pyta/python_ta/.pylintrc\n",
      "### Loaded configuration file: /home/kimlab1/strokach/documents/teaching/python-ta/pyta/python_ta/.pylintrc\n",
      "*************** File: /home/kimlab1/strokach/documents/teaching/python-ta/pyta/examples/pylint/W0621_redefined_outer_name.py\n",
      "\u001b[31m\u001b[1m=== Code errors/forbidden usage (fix: high priority) ===\n",
      "\u001b[0mNone!\n",
      "\n",
      "\u001b[34m\u001b[1m=== Style/convention errors (fix: before submission) ===\n",
      "\u001b[0m\u001b[34m\u001b[1mC0103\u001b[0m \u001b[1m(invalid-name)  \u001b[0mNumber of occurrences: 2.\n",
      "  \u001b[1m[Line 1] Invalid module name \"W0621_redefined_outer_name\"\u001b[0m\n",
      "\n",
      "  \u001b[1m[Line 1] Invalid constant name \"var\"\u001b[0m\n",
      "    \u001b[90m0\u001b[0m                                \u001b[90m# in the outer scope.\u001b[0m\n",
      "    \u001b[1m\u001b[90m1\u001b[0m  \u001b[30m\u001b[0m\u001b[1m\u001b[30m\u001b[46mvar\u001b[0m \u001b[30m= None  # var defined here in the outer scope\u001b[0m\n",
      "    \u001b[90m2\u001b[0m  \u001b[90m\u001b[0m\n",
      "    \u001b[90m3\u001b[0m  \u001b[90m\u001b[0m\n",
      "\n",
      "\u001b[34m\u001b[1mC0111\u001b[0m \u001b[1m(missing-docstring)  \u001b[0mNumber of occurrences: 2.\n",
      "  \u001b[1m[Line 1] Missing module docstring\u001b[0m\n",
      "     \u001b[30m\u001b[0m  \u001b[1m\u001b[30m\u001b[46m\"\"\"YOUR DOCSTRING HERE\"\"\"\u001b[0m\n",
      "    \u001b[90m1\u001b[0m  \u001b[90mvar = None  # var defined here in the outer scope\u001b[0m\n",
      "    \u001b[90m2\u001b[0m  \u001b[90m\u001b[0m\n",
      "\n",
      "  \u001b[1m[Line 4] Missing function docstring\u001b[0m\n",
      "    \u001b[90m4\u001b[0m  \u001b[90mdef fun():\u001b[0m\n",
      "     \u001b[30m\u001b[0m      \u001b[1m\u001b[30m\u001b[46m\"\"\"YOUR DOCSTRING HERE\"\"\"\u001b[0m\n",
      "    \u001b[90m5\u001b[0m      \u001b[90mvar = open('/file', 'w')  # redefining var that has already been defined\u001b[0m\n",
      "\n",
      "\u001b[34m\u001b[1mE9997\u001b[0m \u001b[1m(forbidden-global-variables)  \u001b[0mNumber of occurrences: 1.\n",
      "  \u001b[1m[Line 1] Global variables should not be used in CSC108/CSC148 - a global variable 'var' is declared on line 1\u001b[0m\n",
      "    \u001b[90m0\u001b[0m                                \u001b[90m# in the outer scope.\u001b[0m\n",
      "    \u001b[1m\u001b[90m1\u001b[0m  \u001b[30m\u001b[0m\u001b[1m\u001b[30m\u001b[46mvar\u001b[0m \u001b[30m= None  # var defined here in the outer scope\u001b[0m\n",
      "    \u001b[90m2\u001b[0m  \u001b[90m\u001b[0m\n",
      "    \u001b[90m3\u001b[0m  \u001b[90m\u001b[0m\n",
      "\n",
      "\u001b[34m\u001b[1mW0621\u001b[0m \u001b[1m(redefined-outer-name)  \u001b[0mNumber of occurrences: 1.\n",
      "  \u001b[1m[Line 5] Redefining name 'var' from outer scope (line 1)\u001b[0m\n",
      "    \u001b[90m3\u001b[0m  \u001b[90m\u001b[0m\n",
      "    \u001b[90m4\u001b[0m  \u001b[90mdef fun():\u001b[0m\n",
      "    \u001b[1m\u001b[90m5\u001b[0m      \u001b[30m\u001b[0m\u001b[1m\u001b[30m\u001b[46mvar\u001b[0m \u001b[30m= open('/file', 'w')  # redefining var that has already been defined\u001b[0m\n",
      "\n",
      "\u001b[34m\u001b[1mE9998\u001b[0m \u001b[1m(IO-function-not-allowed)  \u001b[0mNumber of occurrences: 1.\n",
      "  \u001b[1m[Line 5] Used IO function open\u001b[0m\n",
      "    \u001b[90m3\u001b[0m  \u001b[90m\u001b[0m\n",
      "    \u001b[90m4\u001b[0m  \u001b[90mdef fun():\u001b[0m\n",
      "    \u001b[1m\u001b[90m5\u001b[0m      \u001b[30mvar = \u001b[0m\u001b[1m\u001b[30m\u001b[46mopen('/file', 'w')\u001b[0m  \u001b[30m# redefining var that has already been defined\u001b[0m\n",
      "\n",
      "\u001b[34m\u001b[1mW0612\u001b[0m \u001b[1m(unused-variable)  \u001b[0mNumber of occurrences: 1.\n",
      "  \u001b[1m[Line 5] Unused variable 'var'\u001b[0m\n",
      "    \u001b[90m3\u001b[0m  \u001b[90m\u001b[0m\n",
      "    \u001b[90m4\u001b[0m  \u001b[90mdef fun():\u001b[0m\n",
      "    \u001b[1m\u001b[90m5\u001b[0m      \u001b[30m\u001b[0m\u001b[1m\u001b[30m\u001b[46mvar\u001b[0m \u001b[30m= open('/file', 'w')  # redefining var that has already been defined\u001b[0m\n",
      "\n",
      "\n",
      "None\n"
     ]
    },
    {
     "data": {
      "text/html": [
       "<h2><center>C0411_wrong_import_order.py</center></h2>"
      ],
      "text/plain": [
       "<IPython.core.display.HTML object>"
      ]
     },
     "metadata": {},
     "output_type": "display_data"
    },
    {
     "name": "stdout",
     "output_type": "stream",
     "text": [
      "### Loaded configuration file: /home/kimlab1/strokach/documents/teaching/python-ta/pyta/python_ta/.pylintrc\n",
      "### Loaded configuration file: /home/kimlab1/strokach/documents/teaching/python-ta/pyta/python_ta/.pylintrc\n",
      "*************** File: /home/kimlab1/strokach/documents/teaching/python-ta/pyta/examples/pylint/C0411_wrong_import_order.py\n",
      "\u001b[31m\u001b[1m=== Code errors/forbidden usage (fix: high priority) ===\n",
      "\u001b[0m\u001b[31m\u001b[1mE9999\u001b[0m \u001b[1m(forbidden-import)  \u001b[0mNumber of occurrences: 2.\n",
      "  \u001b[1m[Line 1] You may not import any modules - you imported  on line 1.\u001b[0m\n",
      "    \u001b[90m0\u001b[0m  \u001b[90mimport sys  # \"standard modules\" should be imported first\u001b[0m\n",
      "    \u001b[1m\u001b[90m1\u001b[0m  \u001b[30m\u001b[0m\u001b[1m\u001b[30m\u001b[46mfrom .. import pyta\u001b[0m  \u001b[30m# your own modules should be imported last.\u001b[0m\n",
      "\n",
      "  \u001b[1m[Line 2] You may not import any modules - you imported sys on line 2.\u001b[0m\n",
      "    \u001b[90m0\u001b[0m  \u001b[90mimport sys  # \"standard modules\" should be imported first\u001b[0m\n",
      "    \u001b[90m1\u001b[0m  \u001b[90mfrom .. import pyta  # your own modules should be imported last.\u001b[0m\n",
      "    \u001b[1m\u001b[90m2\u001b[0m  \u001b[30m\u001b[0m\u001b[1m\u001b[30m\u001b[46mimport sys\u001b[0m  \u001b[30m# \"standard modules\" should be imported first\u001b[0m\n",
      "\n",
      "\u001b[34m\u001b[1m=== Style/convention errors (fix: before submission) ===\n",
      "\u001b[0m\u001b[34m\u001b[1mC0103\u001b[0m \u001b[1m(invalid-name)  \u001b[0mNumber of occurrences: 1.\n",
      "  \u001b[1m[Line 1] Invalid module name \"C0411_wrong_import_order\"\u001b[0m\n",
      "\n",
      "\u001b[34m\u001b[1mC0111\u001b[0m \u001b[1m(missing-docstring)  \u001b[0mNumber of occurrences: 1.\n",
      "  \u001b[1m[Line 1] Missing module docstring\u001b[0m\n",
      "     \u001b[30m\u001b[0m  \u001b[1m\u001b[30m\u001b[46m\"\"\"YOUR DOCSTRING HERE\"\"\"\u001b[0m\n",
      "    \u001b[90m1\u001b[0m  \u001b[90mfrom .. import pyta  # your own modules should be imported last.\u001b[0m\n",
      "\n",
      "\u001b[34m\u001b[1mE0402\u001b[0m \u001b[1m(relative-beyond-top-level)  \u001b[0mNumber of occurrences: 1.\n",
      "  \u001b[1m[Line 1] Attempted relative import beyond top-level package\u001b[0m\n",
      "    \u001b[90m0\u001b[0m  \u001b[90mimport sys  # \"standard modules\" should be imported first\u001b[0m\n",
      "    \u001b[1m\u001b[90m1\u001b[0m  \u001b[30m\u001b[0m\u001b[1m\u001b[30m\u001b[46mfrom .. import pyta\u001b[0m  \u001b[30m# your own modules should be imported last.\u001b[0m\n",
      "\n",
      "\u001b[34m\u001b[1mW0611\u001b[0m \u001b[1m(unused-import)  \u001b[0mNumber of occurrences: 2.\n",
      "  \u001b[1m[Line 1] Unused import pyta\u001b[0m\n",
      "    \u001b[90m0\u001b[0m  \u001b[90mimport sys  # \"standard modules\" should be imported first\u001b[0m\n",
      "    \u001b[1m\u001b[90m1\u001b[0m  \u001b[30m\u001b[0m\u001b[1m\u001b[30m\u001b[46mfrom .. import pyta\u001b[0m  \u001b[30m# your own modules should be imported last.\u001b[0m\n",
      "\n",
      "  \u001b[1m[Line 2] Unused import sys\u001b[0m\n",
      "    \u001b[90m0\u001b[0m  \u001b[90mimport sys  # \"standard modules\" should be imported first\u001b[0m\n",
      "    \u001b[90m1\u001b[0m  \u001b[90mfrom .. import pyta  # your own modules should be imported last.\u001b[0m\n",
      "    \u001b[1m\u001b[90m2\u001b[0m  \u001b[30m\u001b[0m\u001b[1m\u001b[30m\u001b[46mimport sys\u001b[0m  \u001b[30m# \"standard modules\" should be imported first\u001b[0m\n",
      "\n",
      "\u001b[34m\u001b[1mC0411\u001b[0m \u001b[1m(wrong-import-order)  \u001b[0mNumber of occurrences: 1.\n",
      "  \u001b[1m[Line 2] standard import \"import sys\" should be placed before \"from .. import pyta\"\u001b[0m\n",
      "    \u001b[90m0\u001b[0m  \u001b[90mimport sys  # \"standard modules\" should be imported first\u001b[0m\n",
      "    \u001b[90m1\u001b[0m  \u001b[90mfrom .. import pyta  # your own modules should be imported last.\u001b[0m\n",
      "    \u001b[1m\u001b[90m2\u001b[0m  \u001b[30m\u001b[0m\u001b[1m\u001b[30m\u001b[46mimport sys\u001b[0m  \u001b[30m# \"standard modules\" should be imported first\u001b[0m\n",
      "\n",
      "\n",
      "None\n"
     ]
    },
    {
     "data": {
      "text/html": [
       "<h2><center>R0102_simplifiable_if_statement.py</center></h2>"
      ],
      "text/plain": [
       "<IPython.core.display.HTML object>"
      ]
     },
     "metadata": {},
     "output_type": "display_data"
    },
    {
     "name": "stdout",
     "output_type": "stream",
     "text": [
      "### Loaded configuration file: /home/kimlab1/strokach/documents/teaching/python-ta/pyta/python_ta/.pylintrc\n",
      "### Loaded configuration file: /home/kimlab1/strokach/documents/teaching/python-ta/pyta/python_ta/.pylintrc\n",
      "*************** File: /home/kimlab1/strokach/documents/teaching/python-ta/pyta/examples/pylint/R0102_simplifiable_if_statement.py\n",
      "\u001b[31m\u001b[1m=== Code errors/forbidden usage (fix: high priority) ===\n",
      "\u001b[0mNone!\n",
      "\n",
      "\u001b[34m\u001b[1m=== Style/convention errors (fix: before submission) ===\n",
      "\u001b[0m\u001b[34m\u001b[1mC0103\u001b[0m \u001b[1m(invalid-name)  \u001b[0mNumber of occurrences: 1.\n",
      "  \u001b[1m[Line 1] Invalid module name \"R0102_simplifiable_if_statement\"\u001b[0m\n",
      "\n",
      "\u001b[34m\u001b[1mC0111\u001b[0m \u001b[1m(missing-docstring)  \u001b[0mNumber of occurrences: 1.\n",
      "  \u001b[1m[Line 1] Missing module docstring\u001b[0m\n",
      "     \u001b[30m\u001b[0m  \u001b[1m\u001b[30m\u001b[46m\"\"\"YOUR DOCSTRING HERE\"\"\"\u001b[0m\n",
      "    \u001b[90m1\u001b[0m  \u001b[90mdef is_even(num):\u001b[0m\n",
      "    \u001b[90m2\u001b[0m      \u001b[90m\"\"\"Return whether <num> is even or odd.\"\"\"\u001b[0m\n",
      "\n",
      "\u001b[34m\u001b[1mR1703\u001b[0m \u001b[1m(simplifiable-if-statement)  \u001b[0mNumber of occurrences: 1.\n",
      "  \u001b[1m[Line 3] The if statement can be replaced with 'return bool(test)'\u001b[0m\n",
      "    \u001b[90m1\u001b[0m  \u001b[90mdef is_even(num):\u001b[0m\n",
      "    \u001b[90m2\u001b[0m      \u001b[90m\"\"\"Return whether <num> is even or odd.\"\"\"\u001b[0m\n",
      "    \u001b[1m\u001b[90m3\u001b[0m      \u001b[30m\u001b[0m\u001b[1m\u001b[30m\u001b[46mif num % 2 == 0:\u001b[0m\u001b[30m\u001b[0m\n",
      "    \u001b[1m\u001b[90m3\u001b[0m  \u001b[30m\u001b[0m    \u001b[1m\u001b[30m\u001b[46mif num % 2 == 0:\u001b[0m\u001b[30m\u001b[0m\n",
      "    \u001b[1m\u001b[90m6\u001b[0m  \u001b[30m\u001b[0m        \u001b[1m\u001b[30m\u001b[46mreturn False\u001b[0m\u001b[30m\u001b[0m\n",
      "\n",
      "\u001b[34m\u001b[1mR1705\u001b[0m \u001b[1m(no-else-return)  \u001b[0mNumber of occurrences: 1.\n",
      "  \u001b[1m[Line 3] Unnecessary \"else\" after \"return\"\u001b[0m\n",
      "    \u001b[90m1\u001b[0m  \u001b[90mdef is_even(num):\u001b[0m\n",
      "    \u001b[90m2\u001b[0m      \u001b[90m\"\"\"Return whether <num> is even or odd.\"\"\"\u001b[0m\n",
      "    \u001b[1m\u001b[90m3\u001b[0m      \u001b[30m\u001b[0m\u001b[1m\u001b[30m\u001b[46mif num % 2 == 0:\u001b[0m\u001b[30m\u001b[0m\n",
      "    \u001b[1m\u001b[90m3\u001b[0m  \u001b[30m\u001b[0m    \u001b[1m\u001b[30m\u001b[46mif num % 2 == 0:\u001b[0m\u001b[30m\u001b[0m\n",
      "    \u001b[1m\u001b[90m6\u001b[0m  \u001b[30m\u001b[0m        \u001b[1m\u001b[30m\u001b[46mreturn False\u001b[0m\u001b[30m\u001b[0m\n",
      "\n",
      "\u001b[34m\u001b[1mE9900\u001b[0m \u001b[1m(type-error)  \u001b[0mNumber of occurrences: 1.\n",
      "  \u001b[1m[Line 3] Type error \"Method ~_T129147.__mod__ not found\" inferred\u001b[0m\n",
      "    \u001b[90m1\u001b[0m  \u001b[90mdef is_even(num):\u001b[0m\n",
      "    \u001b[90m2\u001b[0m      \u001b[90m\"\"\"Return whether <num> is even or odd.\"\"\"\u001b[0m\n",
      "    \u001b[1m\u001b[90m3\u001b[0m      \u001b[30mif \u001b[0m\u001b[1m\u001b[30m\u001b[46mnum % 2\u001b[0m \u001b[30m== 0:\u001b[0m\n",
      "    \u001b[90m4\u001b[0m          \u001b[90mreturn True\u001b[0m\n",
      "    \u001b[90m5\u001b[0m      \u001b[90melse:\u001b[0m\n",
      "\n",
      "\n",
      "None\n"
     ]
    },
    {
     "data": {
      "text/html": [
       "<h2><center>E0710_raising_non_exception.py</center></h2>"
      ],
      "text/plain": [
       "<IPython.core.display.HTML object>"
      ]
     },
     "metadata": {},
     "output_type": "display_data"
    },
    {
     "name": "stdout",
     "output_type": "stream",
     "text": [
      "### Loaded configuration file: /home/kimlab1/strokach/documents/teaching/python-ta/pyta/python_ta/.pylintrc\n",
      "### Loaded configuration file: /home/kimlab1/strokach/documents/teaching/python-ta/pyta/python_ta/.pylintrc\n",
      "*************** File: /home/kimlab1/strokach/documents/teaching/python-ta/pyta/examples/pylint/E0710_raising_non_exception.py\n",
      "\u001b[31m\u001b[1m=== Code errors/forbidden usage (fix: high priority) ===\n",
      "\u001b[0m\u001b[31m\u001b[1mE0710\u001b[0m \u001b[1m(raising-non-exception)  \u001b[0mNumber of occurrences: 1.\n",
      "  \u001b[1m[Line 6] Raising a new style class which doesn't inherit from BaseException\u001b[0m\n",
      "    \u001b[90m4\u001b[0m  \u001b[90m\u001b[0m\n",
      "    \u001b[90m5\u001b[0m  \u001b[90m\u001b[0m\n",
      "    \u001b[1m\u001b[90m6\u001b[0m  \u001b[30m\u001b[0m\u001b[1m\u001b[30m\u001b[46mraise ClassWithNoExceptionParent()\u001b[0m\u001b[30m\u001b[0m\n",
      "\n",
      "\u001b[34m\u001b[1m=== Style/convention errors (fix: before submission) ===\n",
      "\u001b[0m\u001b[34m\u001b[1mC0103\u001b[0m \u001b[1m(invalid-name)  \u001b[0mNumber of occurrences: 1.\n",
      "  \u001b[1m[Line 1] Invalid module name \"E0710_raising_non_exception\"\u001b[0m\n",
      "\n",
      "\u001b[34m\u001b[1mC0111\u001b[0m \u001b[1m(missing-docstring)  \u001b[0mNumber of occurrences: 1.\n",
      "  \u001b[1m[Line 1] Missing module docstring\u001b[0m\n",
      "     \u001b[30m\u001b[0m  \u001b[1m\u001b[30m\u001b[46m\"\"\"YOUR DOCSTRING HERE\"\"\"\u001b[0m\n",
      "    \u001b[90m1\u001b[0m  \u001b[90mclass ClassWithNoExceptionParent():\u001b[0m\n",
      "    \u001b[90m2\u001b[0m      \u001b[90m\"\"\"This class doesn't inherit from BaseException.\"\"\"\u001b[0m\n",
      "\n",
      "\u001b[34m\u001b[1mE9997\u001b[0m \u001b[1m(forbidden-global-variables)  \u001b[0mNumber of occurrences: 1.\n",
      "  \u001b[1m[Line 6] Global variables should not be used in CSC108/CSC148 - a global variable 'ClassWithNoExceptionParent' is declared on line 6\u001b[0m\n",
      "    \u001b[90m4\u001b[0m  \u001b[90m\u001b[0m\n",
      "    \u001b[90m5\u001b[0m  \u001b[90m\u001b[0m\n",
      "    \u001b[1m\u001b[90m6\u001b[0m  \u001b[30mraise \u001b[0m\u001b[1m\u001b[30m\u001b[46mClassWithNoExceptionParent\u001b[0m\u001b[30m()\u001b[0m\n",
      "\n",
      "\n",
      "None\n"
     ]
    },
    {
     "data": {
      "text/html": [
       "<h2><center>C0113_unneeded_not.py</center></h2>"
      ],
      "text/plain": [
       "<IPython.core.display.HTML object>"
      ]
     },
     "metadata": {},
     "output_type": "display_data"
    },
    {
     "name": "stdout",
     "output_type": "stream",
     "text": [
      "### Loaded configuration file: /home/kimlab1/strokach/documents/teaching/python-ta/pyta/python_ta/.pylintrc\n",
      "### Loaded configuration file: /home/kimlab1/strokach/documents/teaching/python-ta/pyta/python_ta/.pylintrc\n",
      "*************** File: /home/kimlab1/strokach/documents/teaching/python-ta/pyta/examples/pylint/C0113_unneeded_not.py\n",
      "\u001b[31m\u001b[1m=== Code errors/forbidden usage (fix: high priority) ===\n",
      "\u001b[0mNone!\n",
      "\n",
      "\u001b[34m\u001b[1m=== Style/convention errors (fix: before submission) ===\n",
      "\u001b[0m\u001b[34m\u001b[1mC0103\u001b[0m \u001b[1m(invalid-name)  \u001b[0mNumber of occurrences: 1.\n",
      "  \u001b[1m[Line 1] Invalid module name \"C0113_unneeded_not\"\u001b[0m\n",
      "\n",
      "\u001b[34m\u001b[1mC0111\u001b[0m \u001b[1m(missing-docstring)  \u001b[0mNumber of occurrences: 1.\n",
      "  \u001b[1m[Line 1] Missing module docstring\u001b[0m\n",
      "     \u001b[30m\u001b[0m  \u001b[1m\u001b[30m\u001b[46m\"\"\"YOUR DOCSTRING HERE\"\"\"\u001b[0m\n",
      "    \u001b[90m1\u001b[0m  \u001b[90mdef is_true():\u001b[0m\n",
      "    \u001b[90m2\u001b[0m      \u001b[90m\"\"\"\u001b[0m\n",
      "\n",
      "\u001b[34m\u001b[1mR1705\u001b[0m \u001b[1m(no-else-return)  \u001b[0mNumber of occurrences: 1.\n",
      "  \u001b[1m[Line 6] Unnecessary \"else\" after \"return\"\u001b[0m\n",
      "    \u001b[90m4\u001b[0m      \u001b[90m\"\"\"\u001b[0m\n",
      "    \u001b[90m5\u001b[0m      \u001b[90mtemp = 5\u001b[0m\n",
      "    \u001b[1m\u001b[90m6\u001b[0m      \u001b[30m\u001b[0m\u001b[1m\u001b[30m\u001b[46mif not temp > 3:\u001b[0m\u001b[30m\u001b[0m\n",
      "    \u001b[1m\u001b[90m9\u001b[0m  \u001b[30m\u001b[0m        \u001b[1m\u001b[30m\u001b[46mreturn True\u001b[0m\u001b[30m\u001b[0m\n",
      "\n",
      "\u001b[34m\u001b[1mC0113\u001b[0m \u001b[1m(unneeded-not)  \u001b[0mNumber of occurrences: 1.\n",
      "  \u001b[1m[Line 6] Consider changing \"not temp > 3\" to \"temp <= 3\"\u001b[0m\n",
      "    \u001b[90m4\u001b[0m      \u001b[90m\"\"\"\u001b[0m\n",
      "    \u001b[90m5\u001b[0m      \u001b[90mtemp = 5\u001b[0m\n",
      "    \u001b[1m\u001b[90m6\u001b[0m      \u001b[30mif \u001b[0m\u001b[1m\u001b[30m\u001b[46mnot temp > 3\u001b[0m\u001b[30m:\u001b[0m\n",
      "    \u001b[90m7\u001b[0m          \u001b[90mreturn False\u001b[0m\n",
      "    \u001b[90m8\u001b[0m      \u001b[90melse:\u001b[0m\n",
      "\n",
      "\n",
      "None\n"
     ]
    },
    {
     "data": {
      "text/html": [
       "<h2><center>R0913_too_many_arguments.py</center></h2>"
      ],
      "text/plain": [
       "<IPython.core.display.HTML object>"
      ]
     },
     "metadata": {},
     "output_type": "display_data"
    },
    {
     "name": "stdout",
     "output_type": "stream",
     "text": [
      "### Loaded configuration file: /home/kimlab1/strokach/documents/teaching/python-ta/pyta/python_ta/.pylintrc\n",
      "### Loaded configuration file: /home/kimlab1/strokach/documents/teaching/python-ta/pyta/python_ta/.pylintrc\n",
      "*************** File: /home/kimlab1/strokach/documents/teaching/python-ta/pyta/examples/pylint/R0913_too_many_arguments.py\n",
      "\u001b[31m\u001b[1m=== Code errors/forbidden usage (fix: high priority) ===\n",
      "\u001b[0mNone!\n",
      "\n",
      "\u001b[34m\u001b[1m=== Style/convention errors (fix: before submission) ===\n",
      "\u001b[0m\u001b[34m\u001b[1mC0103\u001b[0m \u001b[1m(invalid-name)  \u001b[0mNumber of occurrences: 1.\n",
      "  \u001b[1m[Line 1] Invalid module name \"R0913_too_many_arguments\"\u001b[0m\n",
      "\n",
      "\u001b[34m\u001b[1mC0111\u001b[0m \u001b[1m(missing-docstring)  \u001b[0mNumber of occurrences: 1.\n",
      "  \u001b[1m[Line 1] Missing module docstring\u001b[0m\n",
      "     \u001b[30m\u001b[0m  \u001b[1m\u001b[30m\u001b[46m\"\"\"YOUR DOCSTRING HERE\"\"\"\u001b[0m\n",
      "    \u001b[90m1\u001b[0m  \u001b[90mdef foo_bar(arg1, arg2, arg3, arg4, arg5, arg6):\u001b[0m\n",
      "    \u001b[90m2\u001b[0m      \u001b[90m\"\"\"I have too many arguments\"\"\"\u001b[0m\n",
      "\n",
      "\u001b[34m\u001b[1mR0913\u001b[0m \u001b[1m(too-many-arguments)  \u001b[0mNumber of occurrences: 1.\n",
      "  \u001b[1m[Line 1] Too many arguments (6/5)\u001b[0m\n",
      "    \u001b[90m0\u001b[0m      \u001b[90mpass\u001b[0m\n",
      "    \u001b[1m\u001b[90m1\u001b[0m  \u001b[30m\u001b[0m\u001b[1m\u001b[30m\u001b[46mdef foo_bar(arg1, arg2, arg3, arg4, arg5, arg6):\u001b[0m\u001b[30m\u001b[0m\n",
      "    \u001b[1m\u001b[90m3\u001b[0m  \u001b[30m\u001b[0m    \u001b[1m\u001b[30m\u001b[46mpass\u001b[0m\u001b[30m\u001b[0m\n",
      "\n",
      "\u001b[34m\u001b[1mW0613\u001b[0m \u001b[1m(unused-argument)  \u001b[0mNumber of occurrences: 6.\n",
      " First 5 shown.  \u001b[1m[Line 1] Unused argument 'arg1'\u001b[0m\n",
      "    \u001b[90m0\u001b[0m      \u001b[90mpass\u001b[0m\n",
      "    \u001b[1m\u001b[90m1\u001b[0m  \u001b[30mdef foo_bar(\u001b[0m\u001b[1m\u001b[30m\u001b[46marg1\u001b[0m\u001b[30m, arg2, arg3, arg4, arg5, arg6):\u001b[0m\n",
      "    \u001b[90m2\u001b[0m      \u001b[90m\"\"\"I have too many arguments\"\"\"\u001b[0m\n",
      "\n",
      "  \u001b[1m[Line 1] Unused argument 'arg2'\u001b[0m\n",
      "    \u001b[90m0\u001b[0m      \u001b[90mpass\u001b[0m\n",
      "    \u001b[1m\u001b[90m1\u001b[0m  \u001b[30mdef foo_bar(arg1, \u001b[0m\u001b[1m\u001b[30m\u001b[46marg2\u001b[0m\u001b[30m, arg3, arg4, arg5, arg6):\u001b[0m\n",
      "    \u001b[90m2\u001b[0m      \u001b[90m\"\"\"I have too many arguments\"\"\"\u001b[0m\n",
      "\n",
      "  \u001b[1m[Line 1] Unused argument 'arg3'\u001b[0m\n",
      "    \u001b[90m0\u001b[0m      \u001b[90mpass\u001b[0m\n",
      "    \u001b[1m\u001b[90m1\u001b[0m  \u001b[30mdef foo_bar(arg1, arg2, \u001b[0m\u001b[1m\u001b[30m\u001b[46marg3\u001b[0m\u001b[30m, arg4, arg5, arg6):\u001b[0m\n",
      "    \u001b[90m2\u001b[0m      \u001b[90m\"\"\"I have too many arguments\"\"\"\u001b[0m\n",
      "\n",
      "  \u001b[1m[Line 1] Unused argument 'arg4'\u001b[0m\n",
      "    \u001b[90m0\u001b[0m      \u001b[90mpass\u001b[0m\n",
      "    \u001b[1m\u001b[90m1\u001b[0m  \u001b[30mdef foo_bar(arg1, arg2, arg3, \u001b[0m\u001b[1m\u001b[30m\u001b[46marg4\u001b[0m\u001b[30m, arg5, arg6):\u001b[0m\n",
      "    \u001b[90m2\u001b[0m      \u001b[90m\"\"\"I have too many arguments\"\"\"\u001b[0m\n",
      "\n",
      "  \u001b[1m[Line 1] Unused argument 'arg5'\u001b[0m\n",
      "    \u001b[90m0\u001b[0m      \u001b[90mpass\u001b[0m\n",
      "    \u001b[1m\u001b[90m1\u001b[0m  \u001b[30mdef foo_bar(arg1, arg2, arg3, arg4, \u001b[0m\u001b[1m\u001b[30m\u001b[46marg5\u001b[0m\u001b[30m, arg6):\u001b[0m\n",
      "    \u001b[90m2\u001b[0m      \u001b[90m\"\"\"I have too many arguments\"\"\"\u001b[0m\n",
      "\n",
      "\n",
      "None\n"
     ]
    },
    {
     "data": {
      "text/html": [
       "<h2><center>E0611_no_name_in_module.py</center></h2>"
      ],
      "text/plain": [
       "<IPython.core.display.HTML object>"
      ]
     },
     "metadata": {},
     "output_type": "display_data"
    },
    {
     "name": "stdout",
     "output_type": "stream",
     "text": [
      "### Loaded configuration file: /home/kimlab1/strokach/documents/teaching/python-ta/pyta/python_ta/.pylintrc\n",
      "### Loaded configuration file: /home/kimlab1/strokach/documents/teaching/python-ta/pyta/python_ta/.pylintrc\n",
      "*************** File: /home/kimlab1/strokach/documents/teaching/python-ta/pyta/examples/pylint/E0611_no_name_in_module.py\n",
      "\u001b[31m\u001b[1m=== Code errors/forbidden usage (fix: high priority) ===\n",
      "\u001b[0m\u001b[31m\u001b[1mE0611\u001b[0m \u001b[1m(no-name-in-module)  \u001b[0mNumber of occurrences: 1.\n",
      "  \u001b[1m[Line 1] No name 'does_not_exist' in module 'math'\u001b[0m\n",
      "    \u001b[90m0\u001b[0m  \u001b[90mfrom math import does_not_exist\u001b[0m\n",
      "    \u001b[1m\u001b[90m1\u001b[0m  \u001b[30m\u001b[0m\u001b[1m\u001b[30m\u001b[46mfrom math import does_not_exist\u001b[0m\u001b[30m\u001b[0m\n",
      "\n",
      "\u001b[31m\u001b[1mE9999\u001b[0m \u001b[1m(forbidden-import)  \u001b[0mNumber of occurrences: 1.\n",
      "  \u001b[1m[Line 1] You may not import any modules - you imported math on line 1.\u001b[0m\n",
      "    \u001b[90m0\u001b[0m  \u001b[90mfrom math import does_not_exist\u001b[0m\n",
      "    \u001b[1m\u001b[90m1\u001b[0m  \u001b[30m\u001b[0m\u001b[1m\u001b[30m\u001b[46mfrom math import does_not_exist\u001b[0m\u001b[30m\u001b[0m\n",
      "\n",
      "\u001b[34m\u001b[1m=== Style/convention errors (fix: before submission) ===\n",
      "\u001b[0m\u001b[34m\u001b[1mC0103\u001b[0m \u001b[1m(invalid-name)  \u001b[0mNumber of occurrences: 1.\n",
      "  \u001b[1m[Line 1] Invalid module name \"E0611_no_name_in_module\"\u001b[0m\n",
      "\n",
      "\u001b[34m\u001b[1mC0111\u001b[0m \u001b[1m(missing-docstring)  \u001b[0mNumber of occurrences: 1.\n",
      "  \u001b[1m[Line 1] Missing module docstring\u001b[0m\n",
      "     \u001b[30m\u001b[0m  \u001b[1m\u001b[30m\u001b[46m\"\"\"YOUR DOCSTRING HERE\"\"\"\u001b[0m\n",
      "\n",
      "\u001b[34m\u001b[1mW0611\u001b[0m \u001b[1m(unused-import)  \u001b[0mNumber of occurrences: 1.\n",
      "  \u001b[1m[Line 1] Unused does_not_exist imported from math\u001b[0m\n",
      "    \u001b[90m0\u001b[0m  \u001b[90mfrom math import does_not_exist\u001b[0m\n",
      "    \u001b[1m\u001b[90m1\u001b[0m  \u001b[30m\u001b[0m\u001b[1m\u001b[30m\u001b[46mfrom math import does_not_exist\u001b[0m\u001b[30m\u001b[0m\n",
      "\n",
      "\n",
      "None\n"
     ]
    },
    {
     "data": {
      "text/html": [
       "<h2><center>W1305_format_combined_specification.py</center></h2>"
      ],
      "text/plain": [
       "<IPython.core.display.HTML object>"
      ]
     },
     "metadata": {},
     "output_type": "display_data"
    },
    {
     "name": "stdout",
     "output_type": "stream",
     "text": [
      "### Loaded configuration file: /home/kimlab1/strokach/documents/teaching/python-ta/pyta/python_ta/.pylintrc\n",
      "### Loaded configuration file: /home/kimlab1/strokach/documents/teaching/python-ta/pyta/python_ta/.pylintrc\n",
      "*************** File: /home/kimlab1/strokach/documents/teaching/python-ta/pyta/examples/pylint/W1305_format_combined_specification.py\n",
      "\u001b[31m\u001b[1m=== Code errors/forbidden usage (fix: high priority) ===\n",
      "\u001b[0mNone!\n",
      "\n",
      "\u001b[34m\u001b[1m=== Style/convention errors (fix: before submission) ===\n",
      "\u001b[0m\u001b[34m\u001b[1mC0103\u001b[0m \u001b[1m(invalid-name)  \u001b[0mNumber of occurrences: 2.\n",
      "  \u001b[1m[Line 1] Invalid module name \"W1305_format_combined_specification\"\u001b[0m\n",
      "\n",
      "  \u001b[1m[Line 1] Invalid constant name \"s\"\u001b[0m\n",
      "    \u001b[90m0\u001b[0m  \u001b[90ms = '{} and {0}'.format('a', 'b')  # Error on this line\u001b[0m\n",
      "    \u001b[1m\u001b[90m1\u001b[0m  \u001b[30m\u001b[0m\u001b[1m\u001b[30m\u001b[46ms\u001b[0m \u001b[30m= '{} and {0}'.format('a', 'b')  # Error on this line\u001b[0m\n",
      "\n",
      "\u001b[34m\u001b[1mC0111\u001b[0m \u001b[1m(missing-docstring)  \u001b[0mNumber of occurrences: 1.\n",
      "  \u001b[1m[Line 1] Missing module docstring\u001b[0m\n",
      "     \u001b[30m\u001b[0m  \u001b[1m\u001b[30m\u001b[46m\"\"\"YOUR DOCSTRING HERE\"\"\"\u001b[0m\n",
      "\n",
      "\u001b[34m\u001b[1mE9997\u001b[0m \u001b[1m(forbidden-global-variables)  \u001b[0mNumber of occurrences: 1.\n",
      "  \u001b[1m[Line 1] Global variables should not be used in CSC108/CSC148 - a global variable 's' is declared on line 1\u001b[0m\n",
      "    \u001b[90m0\u001b[0m  \u001b[90ms = '{} and {0}'.format('a', 'b')  # Error on this line\u001b[0m\n",
      "    \u001b[1m\u001b[90m1\u001b[0m  \u001b[30m\u001b[0m\u001b[1m\u001b[30m\u001b[46ms\u001b[0m \u001b[30m= '{} and {0}'.format('a', 'b')  # Error on this line\u001b[0m\n",
      "\n",
      "\u001b[34m\u001b[1mW1305\u001b[0m \u001b[1m(format-combined-specification)  \u001b[0mNumber of occurrences: 1.\n",
      "  \u001b[1m[Line 1] Format string contains both automatic field numbering and manual field specification\u001b[0m\n",
      "    \u001b[90m0\u001b[0m  \u001b[90ms = '{} and {0}'.format('a', 'b')  # Error on this line\u001b[0m\n",
      "    \u001b[1m\u001b[90m1\u001b[0m  \u001b[30ms = \u001b[0m\u001b[1m\u001b[30m\u001b[46m'{} and {0}'.format('a', 'b')\u001b[0m  \u001b[30m# Error on this line\u001b[0m\n",
      "\n",
      "\n",
      "None\n"
     ]
    },
    {
     "data": {
      "text/html": [
       "<h2><center>C0326_bad_whitespace.py</center></h2>"
      ],
      "text/plain": [
       "<IPython.core.display.HTML object>"
      ]
     },
     "metadata": {},
     "output_type": "display_data"
    },
    {
     "name": "stdout",
     "output_type": "stream",
     "text": [
      "### Loaded configuration file: /home/kimlab1/strokach/documents/teaching/python-ta/pyta/python_ta/.pylintrc\n",
      "### Loaded configuration file: /home/kimlab1/strokach/documents/teaching/python-ta/pyta/python_ta/.pylintrc\n",
      "*************** File: /home/kimlab1/strokach/documents/teaching/python-ta/pyta/examples/pylint/C0326_bad_whitespace.py\n",
      "\u001b[31m\u001b[1m=== Code errors/forbidden usage (fix: high priority) ===\n",
      "\u001b[0mNone!\n",
      "\n",
      "\u001b[34m\u001b[1m=== Style/convention errors (fix: before submission) ===\n",
      "\u001b[0m\u001b[34m\u001b[1mC0326\u001b[0m \u001b[1m(bad-whitespace)  \u001b[0mNumber of occurrences: 1.\n",
      "  \u001b[1m[Line 1] No space allowed after bracket\u001b[0m\n",
      "\n",
      "\u001b[34m\u001b[1mC0103\u001b[0m \u001b[1m(invalid-name)  \u001b[0mNumber of occurrences: 1.\n",
      "  \u001b[1m[Line 1] Invalid module name \"C0326_bad_whitespace\"\u001b[0m\n",
      "\n",
      "\u001b[34m\u001b[1mC0111\u001b[0m \u001b[1m(missing-docstring)  \u001b[0mNumber of occurrences: 1.\n",
      "  \u001b[1m[Line 1] Missing module docstring\u001b[0m\n",
      "     \u001b[30m\u001b[0m  \u001b[1m\u001b[30m\u001b[46m\"\"\"YOUR DOCSTRING HERE\"\"\"\u001b[0m\n",
      "    \u001b[90m1\u001b[0m  \u001b[90mdef func( temp):  # bad whitespace here\u001b[0m\n",
      "    \u001b[90m2\u001b[0m      \u001b[90m\"\"\"Return whether <temp> is greater than 0\u001b[0m\n",
      "\n",
      "\n",
      "None\n"
     ]
    },
    {
     "data": {
      "text/html": [
       "<h2><center>C0103_invalid_name.py</center></h2>"
      ],
      "text/plain": [
       "<IPython.core.display.HTML object>"
      ]
     },
     "metadata": {},
     "output_type": "display_data"
    },
    {
     "name": "stdout",
     "output_type": "stream",
     "text": [
      "### Loaded configuration file: /home/kimlab1/strokach/documents/teaching/python-ta/pyta/python_ta/.pylintrc\n",
      "### Loaded configuration file: /home/kimlab1/strokach/documents/teaching/python-ta/pyta/python_ta/.pylintrc\n",
      "*************** File: /home/kimlab1/strokach/documents/teaching/python-ta/pyta/examples/pylint/C0103_invalid_name.py\n",
      "\u001b[31m\u001b[1m=== Code errors/forbidden usage (fix: high priority) ===\n",
      "\u001b[0mNone!\n",
      "\n",
      "\u001b[34m\u001b[1m=== Style/convention errors (fix: before submission) ===\n",
      "\u001b[0m\u001b[34m\u001b[1mC0103\u001b[0m \u001b[1m(invalid-name)  \u001b[0mNumber of occurrences: 2.\n",
      "  \u001b[1m[Line 1] Invalid module name \"C0103_invalid_name\"\u001b[0m\n",
      "\n",
      "  \u001b[1m[Line 6] Invalid variable name \"Ex\"\u001b[0m\n",
      "    \u001b[90m4\u001b[0m      \u001b[90m@rtype: bool\u001b[0m\n",
      "    \u001b[90m5\u001b[0m      \u001b[90m\"\"\"\u001b[0m\n",
      "    \u001b[1m\u001b[90m6\u001b[0m      \u001b[30m\u001b[0m\u001b[1m\u001b[30m\u001b[46mEx\u001b[0m \u001b[30m= 5\u001b[0m\n",
      "\n",
      "\u001b[34m\u001b[1mC0111\u001b[0m \u001b[1m(missing-docstring)  \u001b[0mNumber of occurrences: 1.\n",
      "  \u001b[1m[Line 1] Missing module docstring\u001b[0m\n",
      "     \u001b[30m\u001b[0m  \u001b[1m\u001b[30m\u001b[46m\"\"\"YOUR DOCSTRING HERE\"\"\"\u001b[0m\n",
      "    \u001b[90m1\u001b[0m  \u001b[90mdef is_equal(obj):\u001b[0m\n",
      "    \u001b[90m2\u001b[0m      \u001b[90m\"\"\"\u001b[0m\n",
      "\n",
      "\n",
      "None\n"
     ]
    },
    {
     "data": {
      "text/html": [
       "<h2><center>E0104_return_outside_function.py</center></h2>"
      ],
      "text/plain": [
       "<IPython.core.display.HTML object>"
      ]
     },
     "metadata": {},
     "output_type": "display_data"
    },
    {
     "name": "stdout",
     "output_type": "stream",
     "text": [
      "### Loaded configuration file: /home/kimlab1/strokach/documents/teaching/python-ta/pyta/python_ta/.pylintrc\n",
      "### Loaded configuration file: /home/kimlab1/strokach/documents/teaching/python-ta/pyta/python_ta/.pylintrc\n",
      "*************** File: /home/kimlab1/strokach/documents/teaching/python-ta/pyta/examples/pylint/E0104_return_outside_function.py\n",
      "\u001b[31m\u001b[1m=== Code errors/forbidden usage (fix: high priority) ===\n",
      "\u001b[0m\u001b[31m\u001b[1mE0104\u001b[0m \u001b[1m(return-outside-function)  \u001b[0mNumber of occurrences: 1.\n",
      "  \u001b[1m[Line 10] Return outside function\u001b[0m\n",
      "    \u001b[90m8\u001b[0m          \u001b[90mtemp += item\u001b[0m\n",
      "    \u001b[90m9\u001b[0m  \u001b[90m\u001b[0m\n",
      "   \u001b[1m\u001b[90m10\u001b[0m  \u001b[30m\u001b[0m\u001b[1m\u001b[30m\u001b[46mreturn False\u001b[0m  \u001b[30m# Error on this line\u001b[0m\n",
      "\n",
      "\u001b[34m\u001b[1m=== Style/convention errors (fix: before submission) ===\n",
      "\u001b[0m\u001b[34m\u001b[1mC0103\u001b[0m \u001b[1m(invalid-name)  \u001b[0mNumber of occurrences: 1.\n",
      "  \u001b[1m[Line 1] Invalid module name \"E0104_return_outside_function\"\u001b[0m\n",
      "\n",
      "\u001b[34m\u001b[1mC0111\u001b[0m \u001b[1m(missing-docstring)  \u001b[0mNumber of occurrences: 1.\n",
      "  \u001b[1m[Line 1] Missing module docstring\u001b[0m\n",
      "     \u001b[30m\u001b[0m  \u001b[1m\u001b[30m\u001b[46m\"\"\"YOUR DOCSTRING HERE\"\"\"\u001b[0m\n",
      "    \u001b[90m1\u001b[0m  \u001b[90mdef add(lst):\u001b[0m\n",
      "    \u001b[90m2\u001b[0m      \u001b[90m\"\"\" Calculates the sum of the elements in the given list.\u001b[0m\n",
      "\n",
      "\n",
      "None\n"
     ]
    },
    {
     "data": {
      "text/html": [
       "<h2><center>E0701_bad_except_order.py</center></h2>"
      ],
      "text/plain": [
       "<IPython.core.display.HTML object>"
      ]
     },
     "metadata": {},
     "output_type": "display_data"
    },
    {
     "name": "stdout",
     "output_type": "stream",
     "text": [
      "### Loaded configuration file: /home/kimlab1/strokach/documents/teaching/python-ta/pyta/python_ta/.pylintrc\n",
      "### Loaded configuration file: /home/kimlab1/strokach/documents/teaching/python-ta/pyta/python_ta/.pylintrc\n",
      "*************** File: /home/kimlab1/strokach/documents/teaching/python-ta/pyta/examples/pylint/E0701_bad_except_order.py\n",
      "\u001b[31m\u001b[1m=== Code errors/forbidden usage (fix: high priority) ===\n",
      "\u001b[0m\u001b[31m\u001b[1mE0701\u001b[0m \u001b[1m(bad-except-order)  \u001b[0mNumber of occurrences: 1.\n",
      "  \u001b[1m[Line 6] Bad except clauses order (Exception is an ancestor class of ZeroDivisionError)\u001b[0m\n",
      "    \u001b[90m4\u001b[0m      \u001b[90mexcept Exception:\u001b[0m\n",
      "    \u001b[90m5\u001b[0m          \u001b[90mprint('This is always triggered')\u001b[0m\n",
      "    \u001b[1m\u001b[90m6\u001b[0m      \u001b[30mexcept \u001b[0m\u001b[1m\u001b[30m\u001b[46mZeroDivisionError\u001b[0m\u001b[30m:\u001b[0m\n",
      "\n",
      "\u001b[34m\u001b[1m=== Style/convention errors (fix: before submission) ===\n",
      "\u001b[0m\u001b[34m\u001b[1mC0103\u001b[0m \u001b[1m(invalid-name)  \u001b[0mNumber of occurrences: 1.\n",
      "  \u001b[1m[Line 1] Invalid module name \"E0701_bad_except_order\"\u001b[0m\n",
      "\n",
      "\u001b[34m\u001b[1mC0111\u001b[0m \u001b[1m(missing-docstring)  \u001b[0mNumber of occurrences: 2.\n",
      "  \u001b[1m[Line 1] Missing module docstring\u001b[0m\n",
      "     \u001b[30m\u001b[0m  \u001b[1m\u001b[30m\u001b[46m\"\"\"YOUR DOCSTRING HERE\"\"\"\u001b[0m\n",
      "    \u001b[90m1\u001b[0m  \u001b[90mdef func(num):\u001b[0m\n",
      "    \u001b[90m2\u001b[0m      \u001b[90mtry:\u001b[0m\n",
      "\n",
      "  \u001b[1m[Line 1] Missing function docstring\u001b[0m\n",
      "    \u001b[90m1\u001b[0m  \u001b[90mdef func(num):\u001b[0m\n",
      "     \u001b[30m\u001b[0m      \u001b[1m\u001b[30m\u001b[46m\"\"\"YOUR DOCSTRING HERE\"\"\"\u001b[0m\n",
      "    \u001b[90m2\u001b[0m      \u001b[90mtry:\u001b[0m\n",
      "    \u001b[90m3\u001b[0m          \u001b[90mraise ZeroDivisionError()\u001b[0m\n",
      "\n",
      "\u001b[34m\u001b[1mW0703\u001b[0m \u001b[1m(broad-except)  \u001b[0mNumber of occurrences: 1.\n",
      "  \u001b[1m[Line 4] Catching too general exception Exception\u001b[0m\n",
      "    \u001b[90m2\u001b[0m      \u001b[90mtry:\u001b[0m\n",
      "    \u001b[90m3\u001b[0m          \u001b[90mraise ZeroDivisionError()\u001b[0m\n",
      "    \u001b[1m\u001b[90m4\u001b[0m      \u001b[30mexcept \u001b[0m\u001b[1m\u001b[30m\u001b[46mException\u001b[0m\u001b[30m:\u001b[0m\n",
      "    \u001b[90m5\u001b[0m          \u001b[90mprint('This is always triggered')\u001b[0m\n",
      "    \u001b[90m6\u001b[0m      \u001b[90mexcept ZeroDivisionError:\u001b[0m\n",
      "\n",
      "\u001b[34m\u001b[1mE9998\u001b[0m \u001b[1m(IO-function-not-allowed)  \u001b[0mNumber of occurrences: 2.\n",
      "  \u001b[1m[Line 5] Used IO function print\u001b[0m\n",
      "    \u001b[90m3\u001b[0m          \u001b[90mraise ZeroDivisionError()\u001b[0m\n",
      "    \u001b[90m4\u001b[0m      \u001b[90mexcept Exception:\u001b[0m\n",
      "    \u001b[1m\u001b[90m5\u001b[0m          \u001b[30m\u001b[0m\u001b[1m\u001b[30m\u001b[46mprint('This is always triggered')\u001b[0m\u001b[30m\u001b[0m\n",
      "    \u001b[90m6\u001b[0m      \u001b[90mexcept ZeroDivisionError:\u001b[0m\n",
      "\n",
      "  \u001b[1m[Line 7] Used IO function print\u001b[0m\n",
      "    \u001b[90m5\u001b[0m          \u001b[90mprint('This is always triggered')\u001b[0m\n",
      "    \u001b[90m6\u001b[0m      \u001b[90mexcept ZeroDivisionError:\u001b[0m\n",
      "    \u001b[1m\u001b[90m7\u001b[0m          \u001b[30m\u001b[0m\u001b[1m\u001b[30m\u001b[46mprint('Cannot ever be reached')\u001b[0m\u001b[30m\u001b[0m\n",
      "\n",
      "\u001b[34m\u001b[1mW0613\u001b[0m \u001b[1m(unused-argument)  \u001b[0mNumber of occurrences: 1.\n",
      "  \u001b[1m[Line 1] Unused argument 'num'\u001b[0m\n",
      "    \u001b[90m0\u001b[0m          \u001b[90mprint('Cannot ever be reached')\u001b[0m\n",
      "    \u001b[1m\u001b[90m1\u001b[0m  \u001b[30mdef func(\u001b[0m\u001b[1m\u001b[30m\u001b[46mnum\u001b[0m\u001b[30m):\u001b[0m\n",
      "    \u001b[90m2\u001b[0m      \u001b[90mtry:\u001b[0m\n",
      "    \u001b[90m3\u001b[0m          \u001b[90mraise ZeroDivisionError()\u001b[0m\n",
      "\n",
      "\n",
      "None\n"
     ]
    },
    {
     "data": {
      "text/html": [
       "<h2><center>W0711_binary_op_exception.py</center></h2>"
      ],
      "text/plain": [
       "<IPython.core.display.HTML object>"
      ]
     },
     "metadata": {},
     "output_type": "display_data"
    },
    {
     "name": "stdout",
     "output_type": "stream",
     "text": [
      "### Loaded configuration file: /home/kimlab1/strokach/documents/teaching/python-ta/pyta/python_ta/.pylintrc\n",
      "### Loaded configuration file: /home/kimlab1/strokach/documents/teaching/python-ta/pyta/python_ta/.pylintrc\n",
      "*************** File: /home/kimlab1/strokach/documents/teaching/python-ta/pyta/examples/pylint/W0711_binary_op_exception.py\n",
      "\u001b[31m\u001b[1m=== Code errors/forbidden usage (fix: high priority) ===\n",
      "\u001b[0m\u001b[31m\u001b[1mW0311\u001b[0m \u001b[1m(bad-indentation)  \u001b[0mNumber of occurrences: 1.\n",
      "  \u001b[1m[Line 15] Bad indentation. Found 12 spaces, expected 8\u001b[0m\n",
      "\n",
      "\u001b[34m\u001b[1m=== Style/convention errors (fix: before submission) ===\n",
      "\u001b[0m\u001b[34m\u001b[1mC0103\u001b[0m \u001b[1m(invalid-name)  \u001b[0mNumber of occurrences: 1.\n",
      "  \u001b[1m[Line 1] Invalid module name \"W0711_binary_op_exception\"\u001b[0m\n",
      "\n",
      "\u001b[34m\u001b[1mC0111\u001b[0m \u001b[1m(missing-docstring)  \u001b[0mNumber of occurrences: 4.\n",
      "  \u001b[1m[Line 1] Missing module docstring\u001b[0m\n",
      "     \u001b[30m\u001b[0m  \u001b[1m\u001b[30m\u001b[46m\"\"\"YOUR DOCSTRING HERE\"\"\"\u001b[0m\n",
      "    \u001b[90m1\u001b[0m  \u001b[90mclass MyException(Exception):\u001b[0m\n",
      "    \u001b[90m2\u001b[0m      \u001b[90mpass\u001b[0m\n",
      "\n",
      "  \u001b[1m[Line 1] Missing class docstring\u001b[0m\n",
      "    \u001b[90m1\u001b[0m  \u001b[90mclass MyException(Exception):\u001b[0m\n",
      "     \u001b[30m\u001b[0m      \u001b[1m\u001b[30m\u001b[46m\"\"\"YOUR DOCSTRING HERE\"\"\"\u001b[0m\n",
      "    \u001b[90m2\u001b[0m      \u001b[90mpass\u001b[0m\n",
      "    \u001b[90m3\u001b[0m  \u001b[90m\u001b[0m\n",
      "\n",
      "  \u001b[1m[Line 5] Missing class docstring\u001b[0m\n",
      "    \u001b[90m5\u001b[0m  \u001b[90mclass MyDoubleException(Exception):\u001b[0m\n",
      "     \u001b[30m\u001b[0m      \u001b[1m\u001b[30m\u001b[46m\"\"\"YOUR DOCSTRING HERE\"\"\"\u001b[0m\n",
      "    \u001b[90m6\u001b[0m      \u001b[90mpass\u001b[0m\n",
      "    \u001b[90m7\u001b[0m  \u001b[90m\u001b[0m\n",
      "\n",
      "  \u001b[1m[Line 9] Missing function docstring\u001b[0m\n",
      "    \u001b[90m9\u001b[0m  \u001b[90mdef binary_capture():\u001b[0m\n",
      "     \u001b[30m\u001b[0m      \u001b[1m\u001b[30m\u001b[46m\"\"\"YOUR DOCSTRING HERE\"\"\"\u001b[0m\n",
      "   \u001b[90m10\u001b[0m      \u001b[90mtry:\u001b[0m\n",
      "   \u001b[90m11\u001b[0m          \u001b[90m# Not caught. 'or' doesn't do what you think.\u001b[0m\n",
      "\n",
      "\u001b[34m\u001b[1mW0711\u001b[0m \u001b[1m(binary-op-exception)  \u001b[0mNumber of occurrences: 1.\n",
      "  \u001b[1m[Line 14] Exception to catch is the result of a binary \"or\" operation\u001b[0m\n",
      "   \u001b[90m12\u001b[0m          \u001b[90m# Need to do: except (MyException, MyDoubleException):\u001b[0m\n",
      "   \u001b[90m13\u001b[0m          \u001b[90mraise MyDoubleException()\u001b[0m\n",
      "   \u001b[1m\u001b[90m14\u001b[0m      \u001b[30m\u001b[0m\u001b[1m\u001b[30m\u001b[46mexcept MyException or MyDoubleException:\u001b[0m\u001b[30m\u001b[0m\n",
      "   \u001b[1m\u001b[90m15\u001b[0m  \u001b[30m\u001b[0m            \u001b[1m\u001b[30m\u001b[46mprint('Will not detect MyDoubleException due to how \"or\" works')\u001b[0m\u001b[30m\u001b[0m\n",
      "\n",
      "\u001b[34m\u001b[1mE9998\u001b[0m \u001b[1m(IO-function-not-allowed)  \u001b[0mNumber of occurrences: 1.\n",
      "  \u001b[1m[Line 15] Used IO function print\u001b[0m\n",
      "   \u001b[90m13\u001b[0m          \u001b[90mraise MyDoubleException()\u001b[0m\n",
      "   \u001b[90m14\u001b[0m      \u001b[90mexcept MyException or MyDoubleException:\u001b[0m\n",
      "   \u001b[1m\u001b[90m15\u001b[0m              \u001b[30m\u001b[0m\u001b[1m\u001b[30m\u001b[46mprint('Will not detect MyDoubleException due to how \"or\" works')\u001b[0m\u001b[30m\u001b[0m\n",
      "\n",
      "\n",
      "None\n"
     ]
    },
    {
     "data": {
      "text/html": [
       "<h2><center>E1305_too_many_format_args.py</center></h2>"
      ],
      "text/plain": [
       "<IPython.core.display.HTML object>"
      ]
     },
     "metadata": {},
     "output_type": "display_data"
    },
    {
     "name": "stdout",
     "output_type": "stream",
     "text": [
      "### Loaded configuration file: /home/kimlab1/strokach/documents/teaching/python-ta/pyta/python_ta/.pylintrc\n",
      "### Loaded configuration file: /home/kimlab1/strokach/documents/teaching/python-ta/pyta/python_ta/.pylintrc\n",
      "*************** File: /home/kimlab1/strokach/documents/teaching/python-ta/pyta/examples/pylint/E1305_too_many_format_args.py\n",
      "\u001b[31m\u001b[1m=== Code errors/forbidden usage (fix: high priority) ===\n",
      "\u001b[0mNone!\n",
      "\n",
      "\u001b[34m\u001b[1m=== Style/convention errors (fix: before submission) ===\n",
      "\u001b[0m\u001b[34m\u001b[1mC0103\u001b[0m \u001b[1m(invalid-name)  \u001b[0mNumber of occurrences: 6.\n",
      " First 5 shown.  \u001b[1m[Line 1] Invalid module name \"E1305_too_many_format_args\"\u001b[0m\n",
      "\n",
      "  \u001b[1m[Line 1] Invalid constant name \"name\"\u001b[0m\n",
      "    \u001b[90m0\u001b[0m  \u001b[90ms = '{} who is {} lives in {}'.format(name, age, country, city)\u001b[0m\n",
      "    \u001b[1m\u001b[90m1\u001b[0m  \u001b[30m\u001b[0m\u001b[1m\u001b[30m\u001b[46mname\u001b[0m \u001b[30m= 'Amy'\u001b[0m\n",
      "    \u001b[90m2\u001b[0m  \u001b[90mage = '17'\u001b[0m\n",
      "    \u001b[90m3\u001b[0m  \u001b[90mcountry = 'England'\u001b[0m\n",
      "\n",
      "  \u001b[1m[Line 2] Invalid constant name \"age\"\u001b[0m\n",
      "    \u001b[90m0\u001b[0m  \u001b[90ms = '{} who is {} lives in {}'.format(name, age, country, city)\u001b[0m\n",
      "    \u001b[90m1\u001b[0m  \u001b[90mname = 'Amy'\u001b[0m\n",
      "    \u001b[1m\u001b[90m2\u001b[0m  \u001b[30m\u001b[0m\u001b[1m\u001b[30m\u001b[46mage\u001b[0m \u001b[30m= '17'\u001b[0m\n",
      "    \u001b[90m3\u001b[0m  \u001b[90mcountry = 'England'\u001b[0m\n",
      "    \u001b[90m4\u001b[0m  \u001b[90mcity = 'London'\u001b[0m\n",
      "\n",
      "  \u001b[1m[Line 3] Invalid constant name \"country\"\u001b[0m\n",
      "    \u001b[90m1\u001b[0m  \u001b[90mname = 'Amy'\u001b[0m\n",
      "    \u001b[90m2\u001b[0m  \u001b[90mage = '17'\u001b[0m\n",
      "    \u001b[1m\u001b[90m3\u001b[0m  \u001b[30m\u001b[0m\u001b[1m\u001b[30m\u001b[46mcountry\u001b[0m \u001b[30m= 'England'\u001b[0m\n",
      "    \u001b[90m4\u001b[0m  \u001b[90mcity = 'London'\u001b[0m\n",
      "    \u001b[90m5\u001b[0m  \u001b[90m\u001b[0m\n",
      "\n",
      "  \u001b[1m[Line 4] Invalid constant name \"city\"\u001b[0m\n",
      "    \u001b[90m2\u001b[0m  \u001b[90mage = '17'\u001b[0m\n",
      "    \u001b[90m3\u001b[0m  \u001b[90mcountry = 'England'\u001b[0m\n",
      "    \u001b[1m\u001b[90m4\u001b[0m  \u001b[30m\u001b[0m\u001b[1m\u001b[30m\u001b[46mcity\u001b[0m \u001b[30m= 'London'\u001b[0m\n",
      "    \u001b[90m5\u001b[0m  \u001b[90m\u001b[0m\n",
      "    \u001b[90m6\u001b[0m  \u001b[90m# too many arguments for the format string:\u001b[0m\n",
      "\n",
      "\u001b[34m\u001b[1mC0111\u001b[0m \u001b[1m(missing-docstring)  \u001b[0mNumber of occurrences: 1.\n",
      "  \u001b[1m[Line 1] Missing module docstring\u001b[0m\n",
      "     \u001b[30m\u001b[0m  \u001b[1m\u001b[30m\u001b[46m\"\"\"YOUR DOCSTRING HERE\"\"\"\u001b[0m\n",
      "    \u001b[90m1\u001b[0m  \u001b[90mname = 'Amy'\u001b[0m\n",
      "    \u001b[90m2\u001b[0m  \u001b[90mage = '17'\u001b[0m\n",
      "\n",
      "\u001b[34m\u001b[1mE9997\u001b[0m \u001b[1m(forbidden-global-variables)  \u001b[0mNumber of occurrences: 13.\n",
      " First 5 shown.  \u001b[1m[Line 1] Global variables should not be used in CSC108/CSC148 - a global variable 'name' is declared on line 1\u001b[0m\n",
      "    \u001b[90m0\u001b[0m  \u001b[90ms = '{} who is {} lives in {}'.format(name, age, country, city)\u001b[0m\n",
      "    \u001b[1m\u001b[90m1\u001b[0m  \u001b[30m\u001b[0m\u001b[1m\u001b[30m\u001b[46mname\u001b[0m \u001b[30m= 'Amy'\u001b[0m\n",
      "    \u001b[90m2\u001b[0m  \u001b[90mage = '17'\u001b[0m\n",
      "    \u001b[90m3\u001b[0m  \u001b[90mcountry = 'England'\u001b[0m\n",
      "\n",
      "  \u001b[1m[Line 2] Global variables should not be used in CSC108/CSC148 - a global variable 'age' is declared on line 2\u001b[0m\n",
      "    \u001b[90m0\u001b[0m  \u001b[90ms = '{} who is {} lives in {}'.format(name, age, country, city)\u001b[0m\n",
      "    \u001b[90m1\u001b[0m  \u001b[90mname = 'Amy'\u001b[0m\n",
      "    \u001b[1m\u001b[90m2\u001b[0m  \u001b[30m\u001b[0m\u001b[1m\u001b[30m\u001b[46mage\u001b[0m \u001b[30m= '17'\u001b[0m\n",
      "    \u001b[90m3\u001b[0m  \u001b[90mcountry = 'England'\u001b[0m\n",
      "    \u001b[90m4\u001b[0m  \u001b[90mcity = 'London'\u001b[0m\n",
      "\n",
      "  \u001b[1m[Line 3] Global variables should not be used in CSC108/CSC148 - a global variable 'country' is declared on line 3\u001b[0m\n",
      "    \u001b[90m1\u001b[0m  \u001b[90mname = 'Amy'\u001b[0m\n",
      "    \u001b[90m2\u001b[0m  \u001b[90mage = '17'\u001b[0m\n",
      "    \u001b[1m\u001b[90m3\u001b[0m  \u001b[30m\u001b[0m\u001b[1m\u001b[30m\u001b[46mcountry\u001b[0m \u001b[30m= 'England'\u001b[0m\n",
      "    \u001b[90m4\u001b[0m  \u001b[90mcity = 'London'\u001b[0m\n",
      "    \u001b[90m5\u001b[0m  \u001b[90m\u001b[0m\n",
      "\n",
      "  \u001b[1m[Line 4] Global variables should not be used in CSC108/CSC148 - a global variable 'city' is declared on line 4\u001b[0m\n",
      "    \u001b[90m2\u001b[0m  \u001b[90mage = '17'\u001b[0m\n",
      "    \u001b[90m3\u001b[0m  \u001b[90mcountry = 'England'\u001b[0m\n",
      "    \u001b[1m\u001b[90m4\u001b[0m  \u001b[30m\u001b[0m\u001b[1m\u001b[30m\u001b[46mcity\u001b[0m \u001b[30m= 'London'\u001b[0m\n",
      "    \u001b[90m5\u001b[0m  \u001b[90m\u001b[0m\n",
      "    \u001b[90m6\u001b[0m  \u001b[90m# too many arguments for the format string:\u001b[0m\n",
      "\n",
      "  \u001b[1m[Line 7] Global variables should not be used in CSC108/CSC148 - a global variable 's' is declared on line 7\u001b[0m\n",
      "    \u001b[90m5\u001b[0m  \u001b[90m\u001b[0m\n",
      "    \u001b[90m6\u001b[0m  \u001b[90m# too many arguments for the format string:\u001b[0m\n",
      "    \u001b[1m\u001b[90m7\u001b[0m  \u001b[30m\u001b[0m\u001b[1m\u001b[30m\u001b[46ms\u001b[0m \u001b[30m= '{} who is {} lives in {}'.format(name, age, country, city)\u001b[0m\n",
      "\n",
      "\u001b[34m\u001b[1mE1305\u001b[0m \u001b[1m(too-many-format-args)  \u001b[0mNumber of occurrences: 1.\n",
      "  \u001b[1m[Line 7] Too many arguments for format string\u001b[0m\n",
      "    \u001b[90m5\u001b[0m  \u001b[90m\u001b[0m\n",
      "    \u001b[90m6\u001b[0m  \u001b[90m# too many arguments for the format string:\u001b[0m\n",
      "    \u001b[1m\u001b[90m7\u001b[0m  \u001b[30ms = \u001b[0m\u001b[1m\u001b[30m\u001b[46m'{} who is {} lives in {}'.format(name, age, country, city)\u001b[0m\u001b[30m\u001b[0m\n",
      "\n",
      "\n",
      "None\n"
     ]
    },
    {
     "data": {
      "text/html": [
       "<h2><center>E0108_duplicate_argument_name.py</center></h2>"
      ],
      "text/plain": [
       "<IPython.core.display.HTML object>"
      ]
     },
     "metadata": {},
     "output_type": "display_data"
    },
    {
     "name": "stdout",
     "output_type": "stream",
     "text": [
      "### Loaded configuration file: /home/kimlab1/strokach/documents/teaching/python-ta/pyta/python_ta/.pylintrc\n",
      "### Loaded configuration file: /home/kimlab1/strokach/documents/teaching/python-ta/pyta/python_ta/.pylintrc\n",
      "*************** File: /home/kimlab1/strokach/documents/teaching/python-ta/pyta/examples/pylint/E0108_duplicate_argument_name.py\n",
      "\u001b[31m\u001b[1m=== Code errors/forbidden usage (fix: high priority) ===\n",
      "\u001b[0m\u001b[31m\u001b[1mE0108\u001b[0m \u001b[1m(duplicate-argument-name)  \u001b[0mNumber of occurrences: 1.\n",
      "  \u001b[1m[Line 1] Duplicate argument name lst in function definition\u001b[0m\n",
      "    \u001b[90m0\u001b[0m      \u001b[90mreturn temp\u001b[0m\n",
      "    \u001b[1m\u001b[90m1\u001b[0m  \u001b[30m\u001b[0m\u001b[1m\u001b[30m\u001b[46mdef add(lst, lst):\u001b[0m\u001b[30m\u001b[0m\n",
      "   \u001b[1m\u001b[90m10\u001b[0m  \u001b[30m\u001b[0m    \u001b[1m\u001b[30m\u001b[46mreturn temp\u001b[0m\u001b[30m\u001b[0m\n",
      "\n",
      "\u001b[34m\u001b[1m=== Style/convention errors (fix: before submission) ===\n",
      "\u001b[0m\u001b[34m\u001b[1mC0103\u001b[0m \u001b[1m(invalid-name)  \u001b[0mNumber of occurrences: 1.\n",
      "  \u001b[1m[Line 1] Invalid module name \"E0108_duplicate_argument_name\"\u001b[0m\n",
      "\n",
      "\u001b[34m\u001b[1mC0111\u001b[0m \u001b[1m(missing-docstring)  \u001b[0mNumber of occurrences: 1.\n",
      "  \u001b[1m[Line 1] Missing module docstring\u001b[0m\n",
      "     \u001b[30m\u001b[0m  \u001b[1m\u001b[30m\u001b[46m\"\"\"YOUR DOCSTRING HERE\"\"\"\u001b[0m\n",
      "    \u001b[90m1\u001b[0m  \u001b[90mdef add(lst, lst):\u001b[0m\n",
      "    \u001b[90m2\u001b[0m      \u001b[90m\"\"\"\u001b[0m\n",
      "\n",
      "\n",
      "None\n"
     ]
    },
    {
     "data": {
      "text/html": [
       "<h2><center>W0109_duplicate_key.py</center></h2>"
      ],
      "text/plain": [
       "<IPython.core.display.HTML object>"
      ]
     },
     "metadata": {},
     "output_type": "display_data"
    },
    {
     "name": "stdout",
     "output_type": "stream",
     "text": [
      "### Loaded configuration file: /home/kimlab1/strokach/documents/teaching/python-ta/pyta/python_ta/.pylintrc\n",
      "### Loaded configuration file: /home/kimlab1/strokach/documents/teaching/python-ta/pyta/python_ta/.pylintrc\n",
      "*************** File: /home/kimlab1/strokach/documents/teaching/python-ta/pyta/examples/pylint/W0109_duplicate_key.py\n",
      "\u001b[31m\u001b[1m=== Code errors/forbidden usage (fix: high priority) ===\n",
      "\u001b[0m\u001b[31m\u001b[1mW0109\u001b[0m \u001b[1m(duplicate-key)  \u001b[0mNumber of occurrences: 1.\n",
      "  \u001b[1m[Line 1] Duplicate key 'runner1' in dictionary\u001b[0m\n",
      "    \u001b[90m0\u001b[0m  \u001b[90m}\u001b[0m\n",
      "    \u001b[1m\u001b[90m1\u001b[0m  \u001b[30mex = \u001b[0m\u001b[1m\u001b[30m\u001b[46m{\u001b[0m\u001b[30m\u001b[0m\n",
      "    \u001b[1m\u001b[90m1\u001b[0m  \u001b[30m\u001b[0m\u001b[1m\u001b[30m\u001b[46mex = {\u001b[0m\u001b[30m\u001b[0m\n",
      "    \u001b[1m\u001b[90m2\u001b[0m  \u001b[30m\u001b[0m    \u001b[1m\u001b[30m\u001b[46m'runner1': '5km',\u001b[0m\u001b[30m\u001b[0m\n",
      "    \u001b[1m\u001b[90m3\u001b[0m  \u001b[30m\u001b[0m    \u001b[1m\u001b[30m\u001b[46m'runner1': '7km'\u001b[0m\u001b[30m\u001b[0m\n",
      "    \u001b[1m\u001b[90m4\u001b[0m  \u001b[30m\u001b[0m\u001b[1m\u001b[30m\u001b[46m}\u001b[0m\u001b[30m\u001b[0m\n",
      "    \u001b[1m\u001b[90m4\u001b[0m  \u001b[30m\u001b[0m\u001b[1m\u001b[30m\u001b[46m}\u001b[0m\u001b[30m\u001b[0m\n",
      "\n",
      "\u001b[34m\u001b[1m=== Style/convention errors (fix: before submission) ===\n",
      "\u001b[0m\u001b[34m\u001b[1mC0103\u001b[0m \u001b[1m(invalid-name)  \u001b[0mNumber of occurrences: 1.\n",
      "  \u001b[1m[Line 1] Invalid module name \"W0109_duplicate_key\"\u001b[0m\n",
      "\n",
      "\u001b[34m\u001b[1mC0111\u001b[0m \u001b[1m(missing-docstring)  \u001b[0mNumber of occurrences: 1.\n",
      "  \u001b[1m[Line 1] Missing module docstring\u001b[0m\n",
      "     \u001b[30m\u001b[0m  \u001b[1m\u001b[30m\u001b[46m\"\"\"YOUR DOCSTRING HERE\"\"\"\u001b[0m\n",
      "    \u001b[90m1\u001b[0m  \u001b[90mex = {\u001b[0m\n",
      "    \u001b[90m2\u001b[0m      \u001b[90m'runner1': '5km',\u001b[0m\n",
      "\n",
      "\u001b[34m\u001b[1mE9997\u001b[0m \u001b[1m(forbidden-global-variables)  \u001b[0mNumber of occurrences: 1.\n",
      "  \u001b[1m[Line 1] Global variables should not be used in CSC108/CSC148 - a global variable 'ex' is declared on line 1\u001b[0m\n",
      "    \u001b[90m0\u001b[0m  \u001b[90m}\u001b[0m\n",
      "    \u001b[1m\u001b[90m1\u001b[0m  \u001b[30m\u001b[0m\u001b[1m\u001b[30m\u001b[46mex\u001b[0m \u001b[30m= {\u001b[0m\n",
      "    \u001b[90m2\u001b[0m      \u001b[90m'runner1': '5km',\u001b[0m\n",
      "    \u001b[90m3\u001b[0m      \u001b[90m'runner1': '7km'\u001b[0m\n",
      "\n",
      "\n",
      "None\n"
     ]
    },
    {
     "data": {
      "text/html": [
       "<h2><center>R0912_too_many_branches.py</center></h2>"
      ],
      "text/plain": [
       "<IPython.core.display.HTML object>"
      ]
     },
     "metadata": {},
     "output_type": "display_data"
    },
    {
     "name": "stdout",
     "output_type": "stream",
     "text": [
      "### Loaded configuration file: /home/kimlab1/strokach/documents/teaching/python-ta/pyta/python_ta/.pylintrc\n",
      "### Loaded configuration file: /home/kimlab1/strokach/documents/teaching/python-ta/pyta/python_ta/.pylintrc\n",
      "*************** File: /home/kimlab1/strokach/documents/teaching/python-ta/pyta/examples/pylint/R0912_too_many_branches.py\n",
      "\u001b[31m\u001b[1m=== Code errors/forbidden usage (fix: high priority) ===\n",
      "\u001b[0mNone!\n",
      "\n",
      "\u001b[34m\u001b[1m=== Style/convention errors (fix: before submission) ===\n",
      "\u001b[0m\u001b[34m\u001b[1mC0103\u001b[0m \u001b[1m(invalid-name)  \u001b[0mNumber of occurrences: 1.\n",
      "  \u001b[1m[Line 1] Invalid module name \"R0912_too_many_branches\"\u001b[0m\n",
      "\n",
      "\u001b[34m\u001b[1mC0111\u001b[0m \u001b[1m(missing-docstring)  \u001b[0mNumber of occurrences: 1.\n",
      "  \u001b[1m[Line 1] Missing module docstring\u001b[0m\n",
      "     \u001b[30m\u001b[0m  \u001b[1m\u001b[30m\u001b[46m\"\"\"YOUR DOCSTRING HERE\"\"\"\u001b[0m\n",
      "    \u001b[90m1\u001b[0m  \u001b[90mdef lots_of_branches(arg):\u001b[0m\n",
      "    \u001b[90m2\u001b[0m      \u001b[90m\"\"\"Example to demonstrate max branching.\"\"\"\u001b[0m\n",
      "\n",
      "\n",
      "None\n"
     ]
    },
    {
     "data": {
      "text/html": [
       "<h2><center>W0406_import_self.py</center></h2>"
      ],
      "text/plain": [
       "<IPython.core.display.HTML object>"
      ]
     },
     "metadata": {},
     "output_type": "display_data"
    },
    {
     "name": "stdout",
     "output_type": "stream",
     "text": [
      "### Loaded configuration file: /home/kimlab1/strokach/documents/teaching/python-ta/pyta/python_ta/.pylintrc\n",
      "### Loaded configuration file: /home/kimlab1/strokach/documents/teaching/python-ta/pyta/python_ta/.pylintrc\n",
      "*************** File: /home/kimlab1/strokach/documents/teaching/python-ta/pyta/examples/pylint/W0406_import_self.py\n",
      "\u001b[31m\u001b[1m=== Code errors/forbidden usage (fix: high priority) ===\n",
      "\u001b[0m\u001b[31m\u001b[1mE9999\u001b[0m \u001b[1m(forbidden-import)  \u001b[0mNumber of occurrences: 1.\n",
      "  \u001b[1m[Line 1] You may not import any modules - you imported W0406_import_self on line 1.\u001b[0m\n",
      "    \u001b[90m0\u001b[0m  \u001b[90mimport W0406_import_self  # importing the same name as the module\u001b[0m\n",
      "    \u001b[1m\u001b[90m1\u001b[0m  \u001b[30m\u001b[0m\u001b[1m\u001b[30m\u001b[46mimport W0406_import_self\u001b[0m  \u001b[30m# importing the same name as the module\u001b[0m\n",
      "\n",
      "\u001b[34m\u001b[1m=== Style/convention errors (fix: before submission) ===\n",
      "\u001b[0m\u001b[34m\u001b[1mC0103\u001b[0m \u001b[1m(invalid-name)  \u001b[0mNumber of occurrences: 1.\n",
      "  \u001b[1m[Line 1] Invalid module name \"W0406_import_self\"\u001b[0m\n",
      "\n",
      "\u001b[34m\u001b[1mC0111\u001b[0m \u001b[1m(missing-docstring)  \u001b[0mNumber of occurrences: 1.\n",
      "  \u001b[1m[Line 1] Missing module docstring\u001b[0m\n",
      "     \u001b[30m\u001b[0m  \u001b[1m\u001b[30m\u001b[46m\"\"\"YOUR DOCSTRING HERE\"\"\"\u001b[0m\n",
      "\n",
      "\u001b[34m\u001b[1mW0406\u001b[0m \u001b[1m(import-self)  \u001b[0mNumber of occurrences: 1.\n",
      "  \u001b[1m[Line 1] Module import itself\u001b[0m\n",
      "    \u001b[90m0\u001b[0m  \u001b[90mimport W0406_import_self  # importing the same name as the module\u001b[0m\n",
      "    \u001b[1m\u001b[90m1\u001b[0m  \u001b[30m\u001b[0m\u001b[1m\u001b[30m\u001b[46mimport W0406_import_self\u001b[0m  \u001b[30m# importing the same name as the module\u001b[0m\n",
      "\n",
      "\u001b[34m\u001b[1mW0611\u001b[0m \u001b[1m(unused-import)  \u001b[0mNumber of occurrences: 1.\n",
      "  \u001b[1m[Line 1] Unused import W0406_import_self\u001b[0m\n",
      "    \u001b[90m0\u001b[0m  \u001b[90mimport W0406_import_self  # importing the same name as the module\u001b[0m\n",
      "    \u001b[1m\u001b[90m1\u001b[0m  \u001b[30m\u001b[0m\u001b[1m\u001b[30m\u001b[46mimport W0406_import_self\u001b[0m  \u001b[30m# importing the same name as the module\u001b[0m\n",
      "\n",
      "\n",
      "None\n"
     ]
    },
    {
     "data": {
      "text/html": [
       "<h2><center>W1503_redundant_unittest_assert.py</center></h2>"
      ],
      "text/plain": [
       "<IPython.core.display.HTML object>"
      ]
     },
     "metadata": {},
     "output_type": "display_data"
    },
    {
     "name": "stdout",
     "output_type": "stream",
     "text": [
      "### Loaded configuration file: /home/kimlab1/strokach/documents/teaching/python-ta/pyta/python_ta/.pylintrc\n",
      "### Loaded configuration file: /home/kimlab1/strokach/documents/teaching/python-ta/pyta/python_ta/.pylintrc\n",
      "*************** File: /home/kimlab1/strokach/documents/teaching/python-ta/pyta/examples/pylint/W1503_redundant_unittest_assert.py\n",
      "\u001b[31m\u001b[1m=== Code errors/forbidden usage (fix: high priority) ===\n",
      "\u001b[0mNone!\n",
      "\n",
      "\u001b[34m\u001b[1m=== Style/convention errors (fix: before submission) ===\n",
      "\u001b[0m\u001b[34m\u001b[1mC0103\u001b[0m \u001b[1m(invalid-name)  \u001b[0mNumber of occurrences: 1.\n",
      "  \u001b[1m[Line 1] Invalid module name \"W1503_redundant_unittest_assert\"\u001b[0m\n",
      "\n",
      "\u001b[34m\u001b[1mC0111\u001b[0m \u001b[1m(missing-docstring)  \u001b[0mNumber of occurrences: 1.\n",
      "  \u001b[1m[Line 1] Missing module docstring\u001b[0m\n",
      "     \u001b[30m\u001b[0m  \u001b[1m\u001b[30m\u001b[46m\"\"\"YOUR DOCSTRING HERE\"\"\"\u001b[0m\n",
      "    \u001b[90m1\u001b[0m  \u001b[90mimport unittest\u001b[0m\n",
      "    \u001b[90m2\u001b[0m  \u001b[90m\u001b[0m\n",
      "\n",
      "\u001b[34m\u001b[1mW1503\u001b[0m \u001b[1m(redundant-unittest-assert)  \u001b[0mNumber of occurrences: 4.\n",
      "  \u001b[1m[Line 15] Redundant use of assertTrue with constant value 'YES'\u001b[0m\n",
      "   \u001b[90m13\u001b[0m  \u001b[90m\u001b[0m\n",
      "   \u001b[90m14\u001b[0m          \u001b[90m# If a constant is passed as parameter, that condition is always true:\u001b[0m\n",
      "   \u001b[1m\u001b[90m15\u001b[0m          \u001b[30m\u001b[0m\u001b[1m\u001b[30m\u001b[46mself.assertTrue('YES')\u001b[0m\u001b[30m\u001b[0m\n",
      "   \u001b[90m16\u001b[0m          \u001b[90mself.assertTrue(1)\u001b[0m\n",
      "   \u001b[90m17\u001b[0m          \u001b[90mself.assertTrue(True)\u001b[0m\n",
      "\n",
      "  \u001b[1m[Line 16] Redundant use of assertTrue with constant value 1\u001b[0m\n",
      "   \u001b[90m14\u001b[0m          \u001b[90m# If a constant is passed as parameter, that condition is always true:\u001b[0m\n",
      "   \u001b[90m15\u001b[0m          \u001b[90mself.assertTrue('YES')\u001b[0m\n",
      "   \u001b[1m\u001b[90m16\u001b[0m          \u001b[30m\u001b[0m\u001b[1m\u001b[30m\u001b[46mself.assertTrue(1)\u001b[0m\u001b[30m\u001b[0m\n",
      "   \u001b[90m17\u001b[0m          \u001b[90mself.assertTrue(True)\u001b[0m\n",
      "\n",
      "  \u001b[1m[Line 17] Redundant use of assertTrue with constant value True\u001b[0m\n",
      "   \u001b[90m15\u001b[0m          \u001b[90mself.assertTrue('YES')\u001b[0m\n",
      "   \u001b[90m16\u001b[0m          \u001b[90mself.assertTrue(1)\u001b[0m\n",
      "   \u001b[1m\u001b[90m17\u001b[0m          \u001b[30m\u001b[0m\u001b[1m\u001b[30m\u001b[46mself.assertTrue(True)\u001b[0m\u001b[30m\u001b[0m\n",
      "\n",
      "  \u001b[1m[Line 18] Redundant use of assertTrue with constant value False\u001b[0m\n",
      "   \u001b[90m16\u001b[0m          \u001b[90mself.assertTrue(1)\u001b[0m\n",
      "   \u001b[90m17\u001b[0m          \u001b[90mself.assertTrue(True)\u001b[0m\n",
      "   \u001b[1m\u001b[90m18\u001b[0m          \u001b[30m\u001b[0m\u001b[1m\u001b[30m\u001b[46mself.assertTrue(False)\u001b[0m\u001b[30m\u001b[0m\n",
      "\n",
      "\n",
      "None\n"
     ]
    },
    {
     "data": {
      "text/html": [
       "<h2><center>C0413_wrong_import_position.py</center></h2>"
      ],
      "text/plain": [
       "<IPython.core.display.HTML object>"
      ]
     },
     "metadata": {},
     "output_type": "display_data"
    },
    {
     "name": "stdout",
     "output_type": "stream",
     "text": [
      "### Loaded configuration file: /home/kimlab1/strokach/documents/teaching/python-ta/pyta/python_ta/.pylintrc\n",
      "### Loaded configuration file: /home/kimlab1/strokach/documents/teaching/python-ta/pyta/python_ta/.pylintrc\n",
      "*************** File: /home/kimlab1/strokach/documents/teaching/python-ta/pyta/examples/pylint/C0413_wrong_import_position.py\n",
      "\u001b[31m\u001b[1m=== Code errors/forbidden usage (fix: high priority) ===\n",
      "\u001b[0m\u001b[31m\u001b[1mE9999\u001b[0m \u001b[1m(forbidden-import)  \u001b[0mNumber of occurrences: 1.\n",
      "  \u001b[1m[Line 2] You may not import any modules - you imported math on line 2.\u001b[0m\n",
      "    \u001b[90m0\u001b[0m  \u001b[90mimport math  # imports should be at the top (below the docstring)\u001b[0m\n",
      "    \u001b[90m1\u001b[0m  \u001b[90mmy_list = ['a', 'b']\u001b[0m\n",
      "    \u001b[1m\u001b[90m2\u001b[0m  \u001b[30m\u001b[0m\u001b[1m\u001b[30m\u001b[46mimport math\u001b[0m  \u001b[30m# imports should be at the top (below the docstring)\u001b[0m\n",
      "\n",
      "\u001b[34m\u001b[1m=== Style/convention errors (fix: before submission) ===\n",
      "\u001b[0m\u001b[34m\u001b[1mC0103\u001b[0m \u001b[1m(invalid-name)  \u001b[0mNumber of occurrences: 2.\n",
      "  \u001b[1m[Line 1] Invalid module name \"C0413_wrong_import_position\"\u001b[0m\n",
      "\n",
      "  \u001b[1m[Line 1] Invalid constant name \"my_list\"\u001b[0m\n",
      "    \u001b[90m0\u001b[0m  \u001b[90mimport math  # imports should be at the top (below the docstring)\u001b[0m\n",
      "    \u001b[1m\u001b[90m1\u001b[0m  \u001b[30m\u001b[0m\u001b[1m\u001b[30m\u001b[46mmy_list\u001b[0m \u001b[30m= ['a', 'b']\u001b[0m\n",
      "\n",
      "\u001b[34m\u001b[1mC0111\u001b[0m \u001b[1m(missing-docstring)  \u001b[0mNumber of occurrences: 1.\n",
      "  \u001b[1m[Line 1] Missing module docstring\u001b[0m\n",
      "     \u001b[30m\u001b[0m  \u001b[1m\u001b[30m\u001b[46m\"\"\"YOUR DOCSTRING HERE\"\"\"\u001b[0m\n",
      "    \u001b[90m1\u001b[0m  \u001b[90mmy_list = ['a', 'b']\u001b[0m\n",
      "\n",
      "\u001b[34m\u001b[1mE9997\u001b[0m \u001b[1m(forbidden-global-variables)  \u001b[0mNumber of occurrences: 1.\n",
      "  \u001b[1m[Line 1] Global variables should not be used in CSC108/CSC148 - a global variable 'my_list' is declared on line 1\u001b[0m\n",
      "    \u001b[90m0\u001b[0m  \u001b[90mimport math  # imports should be at the top (below the docstring)\u001b[0m\n",
      "    \u001b[1m\u001b[90m1\u001b[0m  \u001b[30m\u001b[0m\u001b[1m\u001b[30m\u001b[46mmy_list\u001b[0m \u001b[30m= ['a', 'b']\u001b[0m\n",
      "\n",
      "\u001b[34m\u001b[1mC0413\u001b[0m \u001b[1m(wrong-import-position)  \u001b[0mNumber of occurrences: 1.\n",
      "  \u001b[1m[Line 2] Import \"import math\" should be placed at the top of the module\u001b[0m\n",
      "    \u001b[90m0\u001b[0m  \u001b[90mimport math  # imports should be at the top (below the docstring)\u001b[0m\n",
      "    \u001b[90m1\u001b[0m  \u001b[90mmy_list = ['a', 'b']\u001b[0m\n",
      "    \u001b[1m\u001b[90m2\u001b[0m  \u001b[30m\u001b[0m\u001b[1m\u001b[30m\u001b[46mimport math\u001b[0m  \u001b[30m# imports should be at the top (below the docstring)\u001b[0m\n",
      "\n",
      "\u001b[34m\u001b[1mW0611\u001b[0m \u001b[1m(unused-import)  \u001b[0mNumber of occurrences: 1.\n",
      "  \u001b[1m[Line 2] Unused import math\u001b[0m\n",
      "    \u001b[90m0\u001b[0m  \u001b[90mimport math  # imports should be at the top (below the docstring)\u001b[0m\n",
      "    \u001b[90m1\u001b[0m  \u001b[90mmy_list = ['a', 'b']\u001b[0m\n",
      "    \u001b[1m\u001b[90m2\u001b[0m  \u001b[30m\u001b[0m\u001b[1m\u001b[30m\u001b[46mimport math\u001b[0m  \u001b[30m# imports should be at the top (below the docstring)\u001b[0m\n",
      "\n",
      "\n",
      "None\n"
     ]
    },
    {
     "data": {
      "text/html": [
       "<h2><center>E1111_assignment_from_no_return.py</center></h2>"
      ],
      "text/plain": [
       "<IPython.core.display.HTML object>"
      ]
     },
     "metadata": {},
     "output_type": "display_data"
    },
    {
     "name": "stdout",
     "output_type": "stream",
     "text": [
      "### Loaded configuration file: /home/kimlab1/strokach/documents/teaching/python-ta/pyta/python_ta/.pylintrc\n",
      "### Loaded configuration file: /home/kimlab1/strokach/documents/teaching/python-ta/pyta/python_ta/.pylintrc\n",
      "*************** File: /home/kimlab1/strokach/documents/teaching/python-ta/pyta/examples/pylint/E1111_assignment_from_no_return.py\n",
      "\u001b[31m\u001b[1m=== Code errors/forbidden usage (fix: high priority) ===\n",
      "\u001b[0m\u001b[31m\u001b[1mE1111\u001b[0m \u001b[1m(assignment-from-no-return)  \u001b[0mNumber of occurrences: 1.\n",
      "  \u001b[1m[Line 6] Assigning to function call which doesn't return\u001b[0m\n",
      "    \u001b[90m4\u001b[0m  \u001b[90m\u001b[0m\n",
      "    \u001b[90m5\u001b[0m  \u001b[90mdef g():\u001b[0m\n",
      "    \u001b[1m\u001b[90m6\u001b[0m      \u001b[30m\u001b[0m\u001b[1m\u001b[30m\u001b[46mx = f()\u001b[0m  \u001b[30m# Error on this line\u001b[0m\n",
      "\n",
      "\u001b[34m\u001b[1m=== Style/convention errors (fix: before submission) ===\n",
      "\u001b[0m\u001b[34m\u001b[1mC0103\u001b[0m \u001b[1m(invalid-name)  \u001b[0mNumber of occurrences: 1.\n",
      "  \u001b[1m[Line 1] Invalid module name \"E1111_assignment_from_no_return\"\u001b[0m\n",
      "\n",
      "\u001b[34m\u001b[1mC0111\u001b[0m \u001b[1m(missing-docstring)  \u001b[0mNumber of occurrences: 3.\n",
      "  \u001b[1m[Line 1] Missing module docstring\u001b[0m\n",
      "     \u001b[30m\u001b[0m  \u001b[1m\u001b[30m\u001b[46m\"\"\"YOUR DOCSTRING HERE\"\"\"\u001b[0m\n",
      "    \u001b[90m1\u001b[0m  \u001b[90mdef f():\u001b[0m\n",
      "    \u001b[90m2\u001b[0m      \u001b[90mprint('s')\u001b[0m\n",
      "\n",
      "  \u001b[1m[Line 1] Missing function docstring\u001b[0m\n",
      "    \u001b[90m1\u001b[0m  \u001b[90mdef f():\u001b[0m\n",
      "     \u001b[30m\u001b[0m      \u001b[1m\u001b[30m\u001b[46m\"\"\"YOUR DOCSTRING HERE\"\"\"\u001b[0m\n",
      "    \u001b[90m2\u001b[0m      \u001b[90mprint('s')\u001b[0m\n",
      "    \u001b[90m3\u001b[0m  \u001b[90m\u001b[0m\n",
      "\n",
      "  \u001b[1m[Line 5] Missing function docstring\u001b[0m\n",
      "    \u001b[90m5\u001b[0m  \u001b[90mdef g():\u001b[0m\n",
      "     \u001b[30m\u001b[0m      \u001b[1m\u001b[30m\u001b[46m\"\"\"YOUR DOCSTRING HERE\"\"\"\u001b[0m\n",
      "    \u001b[90m6\u001b[0m      \u001b[90mx = f()  # Error on this line\u001b[0m\n",
      "\n",
      "\u001b[34m\u001b[1mE9998\u001b[0m \u001b[1m(IO-function-not-allowed)  \u001b[0mNumber of occurrences: 2.\n",
      "  \u001b[1m[Line 2] Used IO function print\u001b[0m\n",
      "    \u001b[90m0\u001b[0m      \u001b[90mprint(x)\u001b[0m\n",
      "    \u001b[90m1\u001b[0m  \u001b[90mdef f():\u001b[0m\n",
      "    \u001b[1m\u001b[90m2\u001b[0m      \u001b[30m\u001b[0m\u001b[1m\u001b[30m\u001b[46mprint('s')\u001b[0m\u001b[30m\u001b[0m\n",
      "    \u001b[90m3\u001b[0m  \u001b[90m\u001b[0m\n",
      "    \u001b[90m4\u001b[0m  \u001b[90m\u001b[0m\n",
      "\n",
      "  \u001b[1m[Line 7] Used IO function print\u001b[0m\n",
      "    \u001b[90m5\u001b[0m  \u001b[90mdef g():\u001b[0m\n",
      "    \u001b[90m6\u001b[0m      \u001b[90mx = f()  # Error on this line\u001b[0m\n",
      "    \u001b[1m\u001b[90m7\u001b[0m      \u001b[30m\u001b[0m\u001b[1m\u001b[30m\u001b[46mprint(x)\u001b[0m\u001b[30m\u001b[0m\n",
      "\n",
      "\n",
      "None\n"
     ]
    },
    {
     "data": {
      "text/html": [
       "<h2><center>E0401_import_error.py</center></h2>"
      ],
      "text/plain": [
       "<IPython.core.display.HTML object>"
      ]
     },
     "metadata": {},
     "output_type": "display_data"
    },
    {
     "name": "stdout",
     "output_type": "stream",
     "text": [
      "### Loaded configuration file: /home/kimlab1/strokach/documents/teaching/python-ta/pyta/python_ta/.pylintrc\n",
      "### Loaded configuration file: /home/kimlab1/strokach/documents/teaching/python-ta/pyta/python_ta/.pylintrc\n",
      "*************** File: /home/kimlab1/strokach/documents/teaching/python-ta/pyta/examples/pylint/E0401_import_error.py\n",
      "\u001b[31m\u001b[1m=== Code errors/forbidden usage (fix: high priority) ===\n",
      "\u001b[0m\u001b[31m\u001b[1mE9999\u001b[0m \u001b[1m(forbidden-import)  \u001b[0mNumber of occurrences: 1.\n",
      "  \u001b[1m[Line 1] You may not import any modules - you imported missing_module on line 1.\u001b[0m\n",
      "    \u001b[90m0\u001b[0m  \u001b[90mimport missing_module  # this module does not exist.\u001b[0m\n",
      "    \u001b[1m\u001b[90m1\u001b[0m  \u001b[30m\u001b[0m\u001b[1m\u001b[30m\u001b[46mimport missing_module\u001b[0m  \u001b[30m# this module does not exist.\u001b[0m\n",
      "\n",
      "\u001b[31m\u001b[1mE0401\u001b[0m \u001b[1m(import-error)  \u001b[0mNumber of occurrences: 1.\n",
      "  \u001b[1m[Line 1] Unable to import 'missing_module'\u001b[0m\n",
      "    \u001b[90m0\u001b[0m  \u001b[90mimport missing_module  # this module does not exist.\u001b[0m\n",
      "    \u001b[1m\u001b[90m1\u001b[0m  \u001b[30m\u001b[0m\u001b[1m\u001b[30m\u001b[46mimport missing_module\u001b[0m  \u001b[30m# this module does not exist.\u001b[0m\n",
      "\n",
      "\u001b[34m\u001b[1m=== Style/convention errors (fix: before submission) ===\n",
      "\u001b[0m\u001b[34m\u001b[1mC0103\u001b[0m \u001b[1m(invalid-name)  \u001b[0mNumber of occurrences: 1.\n",
      "  \u001b[1m[Line 1] Invalid module name \"E0401_import_error\"\u001b[0m\n",
      "\n",
      "\u001b[34m\u001b[1mC0111\u001b[0m \u001b[1m(missing-docstring)  \u001b[0mNumber of occurrences: 1.\n",
      "  \u001b[1m[Line 1] Missing module docstring\u001b[0m\n",
      "     \u001b[30m\u001b[0m  \u001b[1m\u001b[30m\u001b[46m\"\"\"YOUR DOCSTRING HERE\"\"\"\u001b[0m\n",
      "\n",
      "\u001b[34m\u001b[1mW0611\u001b[0m \u001b[1m(unused-import)  \u001b[0mNumber of occurrences: 1.\n",
      "  \u001b[1m[Line 1] Unused import missing_module\u001b[0m\n",
      "    \u001b[90m0\u001b[0m  \u001b[90mimport missing_module  # this module does not exist.\u001b[0m\n",
      "    \u001b[1m\u001b[90m1\u001b[0m  \u001b[30m\u001b[0m\u001b[1m\u001b[30m\u001b[46mimport missing_module\u001b[0m  \u001b[30m# this module does not exist.\u001b[0m\n",
      "\n",
      "\n",
      "None\n"
     ]
    },
    {
     "data": {
      "text/html": [
       "<h2><center>E0302_unexpected_special_method_signature.py</center></h2>"
      ],
      "text/plain": [
       "<IPython.core.display.HTML object>"
      ]
     },
     "metadata": {},
     "output_type": "display_data"
    },
    {
     "name": "stdout",
     "output_type": "stream",
     "text": [
      "### Loaded configuration file: /home/kimlab1/strokach/documents/teaching/python-ta/pyta/python_ta/.pylintrc\n",
      "### Loaded configuration file: /home/kimlab1/strokach/documents/teaching/python-ta/pyta/python_ta/.pylintrc\n",
      "*************** File: /home/kimlab1/strokach/documents/teaching/python-ta/pyta/examples/pylint/E0302_unexpected_special_method_signature.py\n",
      "\u001b[31m\u001b[1m=== Code errors/forbidden usage (fix: high priority) ===\n",
      "\u001b[0m\u001b[31m\u001b[1mE0302\u001b[0m \u001b[1m(unexpected-special-method-signature)  \u001b[0mNumber of occurrences: 1.\n",
      "  \u001b[1m[Line 13] The special method '__str__' expects 0 param(s), 1 was given\u001b[0m\n",
      "   \u001b[90m11\u001b[0m          \u001b[90mpass\u001b[0m\n",
      "   \u001b[90m12\u001b[0m  \u001b[90m\u001b[0m\n",
      "   \u001b[1m\u001b[90m13\u001b[0m      \u001b[30m\u001b[0m\u001b[1m\u001b[30m\u001b[46mdef __str__(self, a):  # Bad, Python won't know what to put in 'a'\u001b[0m\u001b[30m\u001b[0m\n",
      "   \u001b[1m\u001b[90m14\u001b[0m  \u001b[30m\u001b[0m        \u001b[1m\u001b[30m\u001b[46mreturn 'string'\u001b[0m\u001b[30m\u001b[0m\n",
      "\n",
      "\u001b[34m\u001b[1m=== Style/convention errors (fix: before submission) ===\n",
      "\u001b[0m\u001b[34m\u001b[1mC0103\u001b[0m \u001b[1m(invalid-name)  \u001b[0mNumber of occurrences: 3.\n",
      "  \u001b[1m[Line 1] Invalid module name \"E0302_unexpected_special_method_signature\"\u001b[0m\n",
      "\n",
      "  \u001b[1m[Line 1] Invalid class name \"A\"\u001b[0m\n",
      "    \u001b[90m0\u001b[0m          \u001b[90mreturn 'string'\u001b[0m\n",
      "    \u001b[1m\u001b[90m1\u001b[0m  \u001b[30m\u001b[0m\u001b[1m\u001b[30m\u001b[46mclass A:\u001b[0m\u001b[30m\u001b[0m\n",
      "    \u001b[1m\u001b[90m6\u001b[0m  \u001b[30m\u001b[0m        \u001b[1m\u001b[30m\u001b[46mreturn 'string'\u001b[0m\u001b[30m\u001b[0m\n",
      "    \u001b[90m7\u001b[0m  \u001b[90m\u001b[0m\n",
      "    \u001b[90m8\u001b[0m  \u001b[90m\u001b[0m\n",
      "\n",
      "  \u001b[1m[Line 9] Invalid class name \"B\"\u001b[0m\n",
      "    \u001b[90m7\u001b[0m  \u001b[90m\u001b[0m\n",
      "    \u001b[90m8\u001b[0m  \u001b[90m\u001b[0m\n",
      "    \u001b[1m\u001b[90m9\u001b[0m  \u001b[30m\u001b[0m\u001b[1m\u001b[30m\u001b[46mclass B:\u001b[0m\u001b[30m\u001b[0m\n",
      "   \u001b[1m\u001b[90m14\u001b[0m  \u001b[30m\u001b[0m        \u001b[1m\u001b[30m\u001b[46mreturn 'string'\u001b[0m\u001b[30m\u001b[0m\n",
      "\n",
      "\u001b[34m\u001b[1mC0111\u001b[0m \u001b[1m(missing-docstring)  \u001b[0mNumber of occurrences: 3.\n",
      "  \u001b[1m[Line 1] Missing module docstring\u001b[0m\n",
      "     \u001b[30m\u001b[0m  \u001b[1m\u001b[30m\u001b[46m\"\"\"YOUR DOCSTRING HERE\"\"\"\u001b[0m\n",
      "    \u001b[90m1\u001b[0m  \u001b[90mclass A:\u001b[0m\n",
      "    \u001b[90m2\u001b[0m      \u001b[90mdef __init__(self):\u001b[0m\n",
      "\n",
      "  \u001b[1m[Line 1] Missing class docstring\u001b[0m\n",
      "    \u001b[90m1\u001b[0m  \u001b[90mclass A:\u001b[0m\n",
      "     \u001b[30m\u001b[0m      \u001b[1m\u001b[30m\u001b[46m\"\"\"YOUR DOCSTRING HERE\"\"\"\u001b[0m\n",
      "    \u001b[90m2\u001b[0m      \u001b[90mdef __init__(self):\u001b[0m\n",
      "    \u001b[90m3\u001b[0m          \u001b[90mpass\u001b[0m\n",
      "\n",
      "  \u001b[1m[Line 9] Missing class docstring\u001b[0m\n",
      "    \u001b[90m9\u001b[0m  \u001b[90mclass B:\u001b[0m\n",
      "     \u001b[30m\u001b[0m      \u001b[1m\u001b[30m\u001b[46m\"\"\"YOUR DOCSTRING HERE\"\"\"\u001b[0m\n",
      "   \u001b[90m10\u001b[0m      \u001b[90mdef __init__(self):\u001b[0m\n",
      "   \u001b[90m11\u001b[0m          \u001b[90mpass\u001b[0m\n",
      "\n",
      "\n",
      "None\n"
     ]
    },
    {
     "data": {
      "text/html": [
       "<h2><center>C0410_multiple_imports.py</center></h2>"
      ],
      "text/plain": [
       "<IPython.core.display.HTML object>"
      ]
     },
     "metadata": {},
     "output_type": "display_data"
    },
    {
     "name": "stdout",
     "output_type": "stream",
     "text": [
      "### Loaded configuration file: /home/kimlab1/strokach/documents/teaching/python-ta/pyta/python_ta/.pylintrc\n",
      "### Loaded configuration file: /home/kimlab1/strokach/documents/teaching/python-ta/pyta/python_ta/.pylintrc\n",
      "*************** File: /home/kimlab1/strokach/documents/teaching/python-ta/pyta/examples/pylint/C0410_multiple_imports.py\n",
      "\u001b[31m\u001b[1m=== Code errors/forbidden usage (fix: high priority) ===\n",
      "\u001b[0m\u001b[31m\u001b[1mE9999\u001b[0m \u001b[1m(forbidden-import)  \u001b[0mNumber of occurrences: 1.\n",
      "  \u001b[1m[Line 1] You may not import any modules - you imported sys, math on line 1.\u001b[0m\n",
      "    \u001b[90m0\u001b[0m  \u001b[90mimport sys, math\u001b[0m\n",
      "    \u001b[1m\u001b[90m1\u001b[0m  \u001b[30m\u001b[0m\u001b[1m\u001b[30m\u001b[46mimport sys, math\u001b[0m\u001b[30m\u001b[0m\n",
      "\n",
      "\u001b[34m\u001b[1m=== Style/convention errors (fix: before submission) ===\n",
      "\u001b[0m\u001b[34m\u001b[1mC0103\u001b[0m \u001b[1m(invalid-name)  \u001b[0mNumber of occurrences: 1.\n",
      "  \u001b[1m[Line 1] Invalid module name \"C0410_multiple_imports\"\u001b[0m\n",
      "\n",
      "\u001b[34m\u001b[1mC0111\u001b[0m \u001b[1m(missing-docstring)  \u001b[0mNumber of occurrences: 1.\n",
      "  \u001b[1m[Line 1] Missing module docstring\u001b[0m\n",
      "     \u001b[30m\u001b[0m  \u001b[1m\u001b[30m\u001b[46m\"\"\"YOUR DOCSTRING HERE\"\"\"\u001b[0m\n",
      "\n",
      "\u001b[34m\u001b[1mC0410\u001b[0m \u001b[1m(multiple-imports)  \u001b[0mNumber of occurrences: 1.\n",
      "  \u001b[1m[Line 1] Multiple imports on one line (sys, math)\u001b[0m\n",
      "    \u001b[90m0\u001b[0m  \u001b[90mimport sys, math\u001b[0m\n",
      "    \u001b[1m\u001b[90m1\u001b[0m  \u001b[30m\u001b[0m\u001b[1m\u001b[30m\u001b[46mimport sys, math\u001b[0m\u001b[30m\u001b[0m\n",
      "\n",
      "\u001b[34m\u001b[1mW0611\u001b[0m \u001b[1m(unused-import)  \u001b[0mNumber of occurrences: 2.\n",
      "  \u001b[1m[Line 1] Unused import sys\u001b[0m\n",
      "    \u001b[90m0\u001b[0m  \u001b[90mimport sys, math\u001b[0m\n",
      "    \u001b[1m\u001b[90m1\u001b[0m  \u001b[30m\u001b[0m\u001b[1m\u001b[30m\u001b[46mimport sys, math\u001b[0m\u001b[30m\u001b[0m\n",
      "\n",
      "  \u001b[1m[Line 1] Unused import math\u001b[0m\n",
      "    \u001b[90m0\u001b[0m  \u001b[90mimport sys, math\u001b[0m\n",
      "    \u001b[1m\u001b[90m1\u001b[0m  \u001b[30m\u001b[0m\u001b[1m\u001b[30m\u001b[46mimport sys, math\u001b[0m\u001b[30m\u001b[0m\n",
      "\n",
      "\n",
      "None\n"
     ]
    },
    {
     "data": {
      "text/html": [
       "<h2><center>C0123_unidiomatic_typecheck.py</center></h2>"
      ],
      "text/plain": [
       "<IPython.core.display.HTML object>"
      ]
     },
     "metadata": {},
     "output_type": "display_data"
    },
    {
     "name": "stdout",
     "output_type": "stream",
     "text": [
      "### Loaded configuration file: /home/kimlab1/strokach/documents/teaching/python-ta/pyta/python_ta/.pylintrc\n",
      "### Loaded configuration file: /home/kimlab1/strokach/documents/teaching/python-ta/pyta/python_ta/.pylintrc\n",
      "*************** File: /home/kimlab1/strokach/documents/teaching/python-ta/pyta/examples/pylint/C0123_unidiomatic_typecheck.py\n",
      "\u001b[31m\u001b[1m=== Code errors/forbidden usage (fix: high priority) ===\n",
      "\u001b[0mNone!\n",
      "\n",
      "\u001b[34m\u001b[1m=== Style/convention errors (fix: before submission) ===\n",
      "\u001b[0m\u001b[34m\u001b[1mC0103\u001b[0m \u001b[1m(invalid-name)  \u001b[0mNumber of occurrences: 1.\n",
      "  \u001b[1m[Line 1] Invalid module name \"C0123_unidiomatic_typecheck\"\u001b[0m\n",
      "\n",
      "\u001b[34m\u001b[1mC0111\u001b[0m \u001b[1m(missing-docstring)  \u001b[0mNumber of occurrences: 1.\n",
      "  \u001b[1m[Line 1] Missing module docstring\u001b[0m\n",
      "     \u001b[30m\u001b[0m  \u001b[1m\u001b[30m\u001b[46m\"\"\"YOUR DOCSTRING HERE\"\"\"\u001b[0m\n",
      "    \u001b[90m1\u001b[0m  \u001b[90mdef is_int(obj):\u001b[0m\n",
      "    \u001b[90m2\u001b[0m      \u001b[90m\"\"\"Check is the given object is of type 'int'\u001b[0m\n",
      "\n",
      "\u001b[34m\u001b[1mC0123\u001b[0m \u001b[1m(unidiomatic-typecheck)  \u001b[0mNumber of occurrences: 1.\n",
      "  \u001b[1m[Line 6] Using type() instead of isinstance() for a typecheck.\u001b[0m\n",
      "    \u001b[90m4\u001b[0m      \u001b[90m@rtype: bool\u001b[0m\n",
      "    \u001b[90m5\u001b[0m      \u001b[90m\"\"\"\u001b[0m\n",
      "    \u001b[1m\u001b[90m6\u001b[0m      \u001b[30mreturn \u001b[0m\u001b[1m\u001b[30m\u001b[46mtype(obj) == \"<type 'int'>\"\u001b[0m  \u001b[30m# Error on this line\u001b[0m\n",
      "\n",
      "\n",
      "None\n"
     ]
    },
    {
     "data": {
      "text/html": [
       "<h2><center>E1127_invalid_slice_index.py</center></h2>"
      ],
      "text/plain": [
       "<IPython.core.display.HTML object>"
      ]
     },
     "metadata": {},
     "output_type": "display_data"
    },
    {
     "name": "stdout",
     "output_type": "stream",
     "text": [
      "### Loaded configuration file: /home/kimlab1/strokach/documents/teaching/python-ta/pyta/python_ta/.pylintrc\n",
      "### Loaded configuration file: /home/kimlab1/strokach/documents/teaching/python-ta/pyta/python_ta/.pylintrc\n",
      "*************** File: /home/kimlab1/strokach/documents/teaching/python-ta/pyta/examples/pylint/E1127_invalid_slice_index.py\n",
      "\u001b[31m\u001b[1m=== Code errors/forbidden usage (fix: high priority) ===\n",
      "\u001b[0m\u001b[31m\u001b[1mE1127\u001b[0m \u001b[1m(invalid-slice-index)  \u001b[0mNumber of occurrences: 2.\n",
      "  \u001b[1m[Line 2] Slice index is not an int, None, or instance with __index__\u001b[0m\n",
      "    \u001b[90m0\u001b[0m  \u001b[90mprint(a['p': 'A'])   # Error on this line\u001b[0m\n",
      "    \u001b[90m1\u001b[0m  \u001b[90ma = ['p', 'y', 'T', 'A']\u001b[0m\n",
      "    \u001b[1m\u001b[90m2\u001b[0m  \u001b[30mprint(a[\u001b[0m\u001b[1m\u001b[30m\u001b[46m'p': 'A']\u001b[0m\u001b[30m)   # Error on this line\u001b[0m\n",
      "\n",
      "  \u001b[1m[Line 2] Slice index is not an int, None, or instance with __index__\u001b[0m\n",
      "    \u001b[90m0\u001b[0m  \u001b[90mprint(a['p': 'A'])   # Error on this line\u001b[0m\n",
      "    \u001b[90m1\u001b[0m  \u001b[90ma = ['p', 'y', 'T', 'A']\u001b[0m\n",
      "    \u001b[1m\u001b[90m2\u001b[0m  \u001b[30mprint(a[\u001b[0m\u001b[1m\u001b[30m\u001b[46m'p': 'A']\u001b[0m\u001b[30m)   # Error on this line\u001b[0m\n",
      "\n",
      "\u001b[34m\u001b[1m=== Style/convention errors (fix: before submission) ===\n",
      "\u001b[0m\u001b[34m\u001b[1mC0103\u001b[0m \u001b[1m(invalid-name)  \u001b[0mNumber of occurrences: 2.\n",
      "  \u001b[1m[Line 1] Invalid module name \"E1127_invalid_slice_index\"\u001b[0m\n",
      "\n",
      "  \u001b[1m[Line 1] Invalid constant name \"a\"\u001b[0m\n",
      "    \u001b[90m0\u001b[0m  \u001b[90mprint(a['p': 'A'])   # Error on this line\u001b[0m\n",
      "    \u001b[1m\u001b[90m1\u001b[0m  \u001b[30m\u001b[0m\u001b[1m\u001b[30m\u001b[46ma\u001b[0m \u001b[30m= ['p', 'y', 'T', 'A']\u001b[0m\n",
      "\n",
      "\u001b[34m\u001b[1mC0111\u001b[0m \u001b[1m(missing-docstring)  \u001b[0mNumber of occurrences: 1.\n",
      "  \u001b[1m[Line 1] Missing module docstring\u001b[0m\n",
      "     \u001b[30m\u001b[0m  \u001b[1m\u001b[30m\u001b[46m\"\"\"YOUR DOCSTRING HERE\"\"\"\u001b[0m\n",
      "    \u001b[90m1\u001b[0m  \u001b[90ma = ['p', 'y', 'T', 'A']\u001b[0m\n",
      "\n",
      "\u001b[34m\u001b[1mE9997\u001b[0m \u001b[1m(forbidden-global-variables)  \u001b[0mNumber of occurrences: 3.\n",
      "  \u001b[1m[Line 1] Global variables should not be used in CSC108/CSC148 - a global variable 'a' is declared on line 1\u001b[0m\n",
      "    \u001b[90m0\u001b[0m  \u001b[90mprint(a['p': 'A'])   # Error on this line\u001b[0m\n",
      "    \u001b[1m\u001b[90m1\u001b[0m  \u001b[30m\u001b[0m\u001b[1m\u001b[30m\u001b[46ma\u001b[0m \u001b[30m= ['p', 'y', 'T', 'A']\u001b[0m\n",
      "\n",
      "  \u001b[1m[Line 2] Global variables should not be used in CSC108/CSC148 - a global variable 'print' is declared on line 2\u001b[0m\n",
      "    \u001b[90m0\u001b[0m  \u001b[90mprint(a['p': 'A'])   # Error on this line\u001b[0m\n",
      "    \u001b[90m1\u001b[0m  \u001b[90ma = ['p', 'y', 'T', 'A']\u001b[0m\n",
      "    \u001b[1m\u001b[90m2\u001b[0m  \u001b[30m\u001b[0m\u001b[1m\u001b[30m\u001b[46mprint\u001b[0m\u001b[30m(a['p': 'A'])   # Error on this line\u001b[0m\n",
      "\n",
      "  \u001b[1m[Line 2] Global variables should not be used in CSC108/CSC148 - a global variable 'a' is declared on line 2\u001b[0m\n",
      "    \u001b[90m0\u001b[0m  \u001b[90mprint(a['p': 'A'])   # Error on this line\u001b[0m\n",
      "    \u001b[90m1\u001b[0m  \u001b[90ma = ['p', 'y', 'T', 'A']\u001b[0m\n",
      "    \u001b[1m\u001b[90m2\u001b[0m  \u001b[30mprint(\u001b[0m\u001b[1m\u001b[30m\u001b[46ma\u001b[0m\u001b[30m['p': 'A'])   # Error on this line\u001b[0m\n",
      "\n",
      "\n",
      "None\n"
     ]
    },
    {
     "data": {
      "text/html": [
       "<h2><center>W0222_signature_differs.py</center></h2>"
      ],
      "text/plain": [
       "<IPython.core.display.HTML object>"
      ]
     },
     "metadata": {},
     "output_type": "display_data"
    },
    {
     "name": "stdout",
     "output_type": "stream",
     "text": [
      "### Loaded configuration file: /home/kimlab1/strokach/documents/teaching/python-ta/pyta/python_ta/.pylintrc\n",
      "### Loaded configuration file: /home/kimlab1/strokach/documents/teaching/python-ta/pyta/python_ta/.pylintrc\n",
      "*************** File: /home/kimlab1/strokach/documents/teaching/python-ta/pyta/examples/pylint/W0222_signature_differs.py\n",
      "\u001b[31m\u001b[1m=== Code errors/forbidden usage (fix: high priority) ===\n",
      "\u001b[0mNone!\n",
      "\n",
      "\u001b[34m\u001b[1m=== Style/convention errors (fix: before submission) ===\n",
      "\u001b[0m\u001b[34m\u001b[1mC0103\u001b[0m \u001b[1m(invalid-name)  \u001b[0mNumber of occurrences: 1.\n",
      "  \u001b[1m[Line 1] Invalid module name \"W0222_signature_differs\"\u001b[0m\n",
      "\n",
      "\u001b[34m\u001b[1mC0111\u001b[0m \u001b[1m(missing-docstring)  \u001b[0mNumber of occurrences: 4.\n",
      "  \u001b[1m[Line 1] Missing module docstring\u001b[0m\n",
      "     \u001b[30m\u001b[0m  \u001b[1m\u001b[30m\u001b[46m\"\"\"YOUR DOCSTRING HERE\"\"\"\u001b[0m\n",
      "    \u001b[90m1\u001b[0m  \u001b[90mclass Parent:\u001b[0m\n",
      "    \u001b[90m2\u001b[0m      \u001b[90mdef __init__(self):\u001b[0m\n",
      "\n",
      "  \u001b[1m[Line 1] Missing class docstring\u001b[0m\n",
      "    \u001b[90m1\u001b[0m  \u001b[90mclass Parent:\u001b[0m\n",
      "     \u001b[30m\u001b[0m      \u001b[1m\u001b[30m\u001b[46m\"\"\"YOUR DOCSTRING HERE\"\"\"\u001b[0m\n",
      "    \u001b[90m2\u001b[0m      \u001b[90mdef __init__(self):\u001b[0m\n",
      "    \u001b[90m3\u001b[0m          \u001b[90mself.num = 2\u001b[0m\n",
      "\n",
      "  \u001b[1m[Line 5] Missing method docstring\u001b[0m\n",
      "    \u001b[90m5\u001b[0m      \u001b[90mdef return_num(self, multiple):\u001b[0m\n",
      "     \u001b[30m\u001b[0m          \u001b[1m\u001b[30m\u001b[46m\"\"\"YOUR DOCSTRING HERE\"\"\"\u001b[0m\n",
      "    \u001b[90m6\u001b[0m          \u001b[90mreturn self.num * multiple\u001b[0m\n",
      "    \u001b[90m7\u001b[0m  \u001b[90m\u001b[0m\n",
      "\n",
      "  \u001b[1m[Line 9] Missing class docstring\u001b[0m\n",
      "    \u001b[90m9\u001b[0m  \u001b[90mclass Child(Parent):\u001b[0m\n",
      "     \u001b[30m\u001b[0m      \u001b[1m\u001b[30m\u001b[46m\"\"\"YOUR DOCSTRING HERE\"\"\"\u001b[0m\n",
      "   \u001b[90m10\u001b[0m      \u001b[90mdef __init__(self):\u001b[0m\n",
      "   \u001b[90m11\u001b[0m          \u001b[90mParent.__init__(self)\u001b[0m\n",
      "\n",
      "\u001b[34m\u001b[1mW0221\u001b[0m \u001b[1m(arguments-differ)  \u001b[0mNumber of occurrences: 1.\n",
      "  \u001b[1m[Line 13] Parameters differ from overridden 'return_num' method\u001b[0m\n",
      "   \u001b[90m11\u001b[0m          \u001b[90mParent.__init__(self)\u001b[0m\n",
      "   \u001b[90m12\u001b[0m  \u001b[90m\u001b[0m\n",
      "   \u001b[1m\u001b[90m13\u001b[0m      \u001b[30m\u001b[0m\u001b[1m\u001b[30m\u001b[46mdef return_num(self):  # Missing argument (to keep signature identical)\u001b[0m\u001b[30m\u001b[0m\n",
      "   \u001b[1m\u001b[90m14\u001b[0m  \u001b[30m\u001b[0m        \u001b[1m\u001b[30m\u001b[46mreturn 42\u001b[0m\u001b[30m\u001b[0m\n",
      "\n",
      "\n",
      "None\n"
     ]
    },
    {
     "data": {
      "text/html": [
       "<h2><center>W0703_broad_except.py</center></h2>"
      ],
      "text/plain": [
       "<IPython.core.display.HTML object>"
      ]
     },
     "metadata": {},
     "output_type": "display_data"
    },
    {
     "name": "stdout",
     "output_type": "stream",
     "text": [
      "### Loaded configuration file: /home/kimlab1/strokach/documents/teaching/python-ta/pyta/python_ta/.pylintrc\n",
      "### Loaded configuration file: /home/kimlab1/strokach/documents/teaching/python-ta/pyta/python_ta/.pylintrc\n",
      "*************** File: /home/kimlab1/strokach/documents/teaching/python-ta/pyta/examples/pylint/W0703_broad_except.py\n",
      "\u001b[31m\u001b[1m=== Code errors/forbidden usage (fix: high priority) ===\n",
      "\u001b[0mNone!\n",
      "\n",
      "\u001b[34m\u001b[1m=== Style/convention errors (fix: before submission) ===\n",
      "\u001b[0m\u001b[34m\u001b[1mC0103\u001b[0m \u001b[1m(invalid-name)  \u001b[0mNumber of occurrences: 1.\n",
      "  \u001b[1m[Line 1] Invalid module name \"W0703_broad_except\"\u001b[0m\n",
      "\n",
      "\u001b[34m\u001b[1mC0111\u001b[0m \u001b[1m(missing-docstring)  \u001b[0mNumber of occurrences: 2.\n",
      "  \u001b[1m[Line 1] Missing module docstring\u001b[0m\n",
      "     \u001b[30m\u001b[0m  \u001b[1m\u001b[30m\u001b[46m\"\"\"YOUR DOCSTRING HERE\"\"\"\u001b[0m\n",
      "    \u001b[90m1\u001b[0m  \u001b[90mdef generic_catch():\u001b[0m\n",
      "    \u001b[90m2\u001b[0m      \u001b[90mtry:\u001b[0m\n",
      "\n",
      "  \u001b[1m[Line 1] Missing function docstring\u001b[0m\n",
      "    \u001b[90m1\u001b[0m  \u001b[90mdef generic_catch():\u001b[0m\n",
      "     \u001b[30m\u001b[0m      \u001b[1m\u001b[30m\u001b[46m\"\"\"YOUR DOCSTRING HERE\"\"\"\u001b[0m\n",
      "    \u001b[90m2\u001b[0m      \u001b[90mtry:\u001b[0m\n",
      "    \u001b[90m3\u001b[0m          \u001b[90ma = 5 / 0\u001b[0m\n",
      "\n",
      "\u001b[34m\u001b[1mW0703\u001b[0m \u001b[1m(broad-except)  \u001b[0mNumber of occurrences: 1.\n",
      "  \u001b[1m[Line 4] Catching too general exception Exception\u001b[0m\n",
      "    \u001b[90m2\u001b[0m      \u001b[90mtry:\u001b[0m\n",
      "    \u001b[90m3\u001b[0m          \u001b[90ma = 5 / 0\u001b[0m\n",
      "    \u001b[1m\u001b[90m4\u001b[0m      \u001b[30mexcept \u001b[0m\u001b[1m\u001b[30m\u001b[46mException\u001b[0m\u001b[30m:\u001b[0m\n",
      "\n",
      "\u001b[34m\u001b[1mE9998\u001b[0m \u001b[1m(IO-function-not-allowed)  \u001b[0mNumber of occurrences: 1.\n",
      "  \u001b[1m[Line 5] Used IO function print\u001b[0m\n",
      "    \u001b[90m3\u001b[0m          \u001b[90ma = 5 / 0\u001b[0m\n",
      "    \u001b[90m4\u001b[0m      \u001b[90mexcept Exception:\u001b[0m\n",
      "    \u001b[1m\u001b[90m5\u001b[0m          \u001b[30m\u001b[0m\u001b[1m\u001b[30m\u001b[46mprint('Got exception')\u001b[0m\u001b[30m\u001b[0m\n",
      "\n",
      "\u001b[34m\u001b[1mW0612\u001b[0m \u001b[1m(unused-variable)  \u001b[0mNumber of occurrences: 1.\n",
      "  \u001b[1m[Line 3] Unused variable 'a'\u001b[0m\n",
      "    \u001b[90m1\u001b[0m  \u001b[90mdef generic_catch():\u001b[0m\n",
      "    \u001b[90m2\u001b[0m      \u001b[90mtry:\u001b[0m\n",
      "    \u001b[1m\u001b[90m3\u001b[0m          \u001b[30m\u001b[0m\u001b[1m\u001b[30m\u001b[46ma\u001b[0m \u001b[30m= 5 / 0\u001b[0m\n",
      "    \u001b[90m4\u001b[0m      \u001b[90mexcept Exception:\u001b[0m\n",
      "\n",
      "\n",
      "None\n"
     ]
    },
    {
     "data": {
      "text/html": [
       "<h2><center>W0702_bare_except.py</center></h2>"
      ],
      "text/plain": [
       "<IPython.core.display.HTML object>"
      ]
     },
     "metadata": {},
     "output_type": "display_data"
    },
    {
     "name": "stdout",
     "output_type": "stream",
     "text": [
      "### Loaded configuration file: /home/kimlab1/strokach/documents/teaching/python-ta/pyta/python_ta/.pylintrc\n",
      "### Loaded configuration file: /home/kimlab1/strokach/documents/teaching/python-ta/pyta/python_ta/.pylintrc\n",
      "*************** File: /home/kimlab1/strokach/documents/teaching/python-ta/pyta/examples/pylint/W0702_bare_except.py\n",
      "\u001b[31m\u001b[1m=== Code errors/forbidden usage (fix: high priority) ===\n",
      "\u001b[0mNone!\n",
      "\n",
      "\u001b[34m\u001b[1m=== Style/convention errors (fix: before submission) ===\n",
      "\u001b[0m\u001b[34m\u001b[1mC0103\u001b[0m \u001b[1m(invalid-name)  \u001b[0mNumber of occurrences: 1.\n",
      "  \u001b[1m[Line 1] Invalid module name \"W0702_bare_except\"\u001b[0m\n",
      "\n",
      "\u001b[34m\u001b[1mC0111\u001b[0m \u001b[1m(missing-docstring)  \u001b[0mNumber of occurrences: 2.\n",
      "  \u001b[1m[Line 1] Missing module docstring\u001b[0m\n",
      "     \u001b[30m\u001b[0m  \u001b[1m\u001b[30m\u001b[46m\"\"\"YOUR DOCSTRING HERE\"\"\"\u001b[0m\n",
      "    \u001b[90m1\u001b[0m  \u001b[90mdef no_catching():\u001b[0m\n",
      "    \u001b[90m2\u001b[0m      \u001b[90mtry:\u001b[0m\n",
      "\n",
      "  \u001b[1m[Line 1] Missing function docstring\u001b[0m\n",
      "    \u001b[90m1\u001b[0m  \u001b[90mdef no_catching():\u001b[0m\n",
      "     \u001b[30m\u001b[0m      \u001b[1m\u001b[30m\u001b[46m\"\"\"YOUR DOCSTRING HERE\"\"\"\u001b[0m\n",
      "    \u001b[90m2\u001b[0m      \u001b[90mtry:\u001b[0m\n",
      "    \u001b[90m3\u001b[0m          \u001b[90mraise TypeError()\u001b[0m\n",
      "\n",
      "\u001b[34m\u001b[1mW0702\u001b[0m \u001b[1m(bare-except)  \u001b[0mNumber of occurrences: 1.\n",
      "  \u001b[1m[Line 4] No exception type(s) specified\u001b[0m\n",
      "    \u001b[90m2\u001b[0m      \u001b[90mtry:\u001b[0m\n",
      "    \u001b[90m3\u001b[0m          \u001b[90mraise TypeError()\u001b[0m\n",
      "    \u001b[1m\u001b[90m4\u001b[0m      \u001b[30m\u001b[0m\u001b[1m\u001b[30m\u001b[46mexcept:\u001b[0m\u001b[30m\u001b[0m\n",
      "    \u001b[1m\u001b[90m5\u001b[0m  \u001b[30m\u001b[0m        \u001b[1m\u001b[30m\u001b[46mprint('Requires an exception class')\u001b[0m\u001b[30m\u001b[0m\n",
      "\n",
      "\u001b[34m\u001b[1mE9998\u001b[0m \u001b[1m(IO-function-not-allowed)  \u001b[0mNumber of occurrences: 1.\n",
      "  \u001b[1m[Line 5] Used IO function print\u001b[0m\n",
      "    \u001b[90m3\u001b[0m          \u001b[90mraise TypeError()\u001b[0m\n",
      "    \u001b[90m4\u001b[0m      \u001b[90mexcept:\u001b[0m\n",
      "    \u001b[1m\u001b[90m5\u001b[0m          \u001b[30m\u001b[0m\u001b[1m\u001b[30m\u001b[46mprint('Requires an exception class')\u001b[0m\u001b[30m\u001b[0m\n",
      "\n",
      "\n",
      "None\n"
     ]
    },
    {
     "data": {
      "text/html": [
       "<h2><center>E0702_raising_bad_type.py</center></h2>"
      ],
      "text/plain": [
       "<IPython.core.display.HTML object>"
      ]
     },
     "metadata": {},
     "output_type": "display_data"
    },
    {
     "name": "stdout",
     "output_type": "stream",
     "text": [
      "### Loaded configuration file: /home/kimlab1/strokach/documents/teaching/python-ta/pyta/python_ta/.pylintrc\n",
      "### Loaded configuration file: /home/kimlab1/strokach/documents/teaching/python-ta/pyta/python_ta/.pylintrc\n",
      "*************** File: /home/kimlab1/strokach/documents/teaching/python-ta/pyta/examples/pylint/E0702_raising_bad_type.py\n",
      "\u001b[31m\u001b[1m=== Code errors/forbidden usage (fix: high priority) ===\n",
      "\u001b[0m\u001b[31m\u001b[1mE0702\u001b[0m \u001b[1m(raising-bad-type)  \u001b[0mNumber of occurrences: 1.\n",
      "  \u001b[1m[Line 2] Raising int while only classes or instances are allowed\u001b[0m\n",
      "    \u001b[90m0\u001b[0m      \u001b[90mraise 1\u001b[0m\n",
      "    \u001b[90m1\u001b[0m  \u001b[90mdef raise_bad():\u001b[0m\n",
      "    \u001b[1m\u001b[90m2\u001b[0m      \u001b[30m\u001b[0m\u001b[1m\u001b[30m\u001b[46mraise 1\u001b[0m\u001b[30m\u001b[0m\n",
      "\n",
      "\u001b[34m\u001b[1m=== Style/convention errors (fix: before submission) ===\n",
      "\u001b[0m\u001b[34m\u001b[1mC0103\u001b[0m \u001b[1m(invalid-name)  \u001b[0mNumber of occurrences: 1.\n",
      "  \u001b[1m[Line 1] Invalid module name \"E0702_raising_bad_type\"\u001b[0m\n",
      "\n",
      "\u001b[34m\u001b[1mC0111\u001b[0m \u001b[1m(missing-docstring)  \u001b[0mNumber of occurrences: 2.\n",
      "  \u001b[1m[Line 1] Missing module docstring\u001b[0m\n",
      "     \u001b[30m\u001b[0m  \u001b[1m\u001b[30m\u001b[46m\"\"\"YOUR DOCSTRING HERE\"\"\"\u001b[0m\n",
      "    \u001b[90m1\u001b[0m  \u001b[90mdef raise_bad():\u001b[0m\n",
      "\n",
      "  \u001b[1m[Line 1] Missing function docstring\u001b[0m\n",
      "    \u001b[90m1\u001b[0m  \u001b[90mdef raise_bad():\u001b[0m\n",
      "     \u001b[30m\u001b[0m      \u001b[1m\u001b[30m\u001b[46m\"\"\"YOUR DOCSTRING HERE\"\"\"\u001b[0m\n",
      "\n",
      "\n",
      "None\n"
     ]
    },
    {
     "data": {
      "text/html": [
       "<h2><center>C0321_multiple_statements.py</center></h2>"
      ],
      "text/plain": [
       "<IPython.core.display.HTML object>"
      ]
     },
     "metadata": {},
     "output_type": "display_data"
    },
    {
     "name": "stdout",
     "output_type": "stream",
     "text": [
      "### Loaded configuration file: /home/kimlab1/strokach/documents/teaching/python-ta/pyta/python_ta/.pylintrc\n",
      "### Loaded configuration file: /home/kimlab1/strokach/documents/teaching/python-ta/pyta/python_ta/.pylintrc\n",
      "*************** File: /home/kimlab1/strokach/documents/teaching/python-ta/pyta/examples/pylint/C0321_multiple_statements.py\n",
      "\u001b[31m\u001b[1m=== Code errors/forbidden usage (fix: high priority) ===\n",
      "\u001b[0mNone!\n",
      "\n",
      "\u001b[34m\u001b[1m=== Style/convention errors (fix: before submission) ===\n",
      "\u001b[0m\u001b[34m\u001b[1mC0103\u001b[0m \u001b[1m(invalid-name)  \u001b[0mNumber of occurrences: 1.\n",
      "  \u001b[1m[Line 1] Invalid module name \"C0321_multiple_statements\"\u001b[0m\n",
      "\n",
      "\u001b[34m\u001b[1mC0111\u001b[0m \u001b[1m(missing-docstring)  \u001b[0mNumber of occurrences: 1.\n",
      "  \u001b[1m[Line 1] Missing module docstring\u001b[0m\n",
      "     \u001b[30m\u001b[0m  \u001b[1m\u001b[30m\u001b[46m\"\"\"YOUR DOCSTRING HERE\"\"\"\u001b[0m\n",
      "    \u001b[90m1\u001b[0m  \u001b[90mdef pos(temp):\u001b[0m\n",
      "    \u001b[90m2\u001b[0m      \u001b[90m\"\"\"Return 'positive' if <temp> is greater than 0. Else return 'negative'.\u001b[0m\n",
      "\n",
      "\u001b[34m\u001b[1mR1705\u001b[0m \u001b[1m(no-else-return)  \u001b[0mNumber of occurrences: 1.\n",
      "  \u001b[1m[Line 6] Unnecessary \"else\" after \"return\"\u001b[0m\n",
      "    \u001b[90m4\u001b[0m      \u001b[90m@rtype: str\u001b[0m\n",
      "    \u001b[90m5\u001b[0m      \u001b[90m\"\"\"\u001b[0m\n",
      "    \u001b[1m\u001b[90m6\u001b[0m      \u001b[30m\u001b[0m\u001b[1m\u001b[30m\u001b[46mif temp > 0: return 'positive'\u001b[0m\u001b[30m\u001b[0m\n",
      "    \u001b[1m\u001b[90m8\u001b[0m  \u001b[30m\u001b[0m        \u001b[1m\u001b[30m\u001b[46mreturn 'negative'\u001b[0m\u001b[30m\u001b[0m\n",
      "\n",
      "\u001b[34m\u001b[1mC0321\u001b[0m \u001b[1m(multiple-statements)  \u001b[0mNumber of occurrences: 1.\n",
      "  \u001b[1m[Line 6] More than one statement on a single line\u001b[0m\n",
      "    \u001b[90m4\u001b[0m      \u001b[90m@rtype: str\u001b[0m\n",
      "    \u001b[90m5\u001b[0m      \u001b[90m\"\"\"\u001b[0m\n",
      "    \u001b[1m\u001b[90m6\u001b[0m      \u001b[30mif temp > 0: \u001b[0m\u001b[1m\u001b[30m\u001b[46mreturn 'positive'\u001b[0m\u001b[30m\u001b[0m\n",
      "    \u001b[90m7\u001b[0m      \u001b[90melse:\u001b[0m\n",
      "\n",
      "\n",
      "None\n"
     ]
    },
    {
     "data": {
      "text/html": [
       "<h2><center>E0213_no_self_argument.py</center></h2>"
      ],
      "text/plain": [
       "<IPython.core.display.HTML object>"
      ]
     },
     "metadata": {},
     "output_type": "display_data"
    },
    {
     "name": "stdout",
     "output_type": "stream",
     "text": [
      "### Loaded configuration file: /home/kimlab1/strokach/documents/teaching/python-ta/pyta/python_ta/.pylintrc\n",
      "### Loaded configuration file: /home/kimlab1/strokach/documents/teaching/python-ta/pyta/python_ta/.pylintrc\n",
      "*************** File: /home/kimlab1/strokach/documents/teaching/python-ta/pyta/examples/pylint/E0213_no_self_argument.py\n",
      "\u001b[31m\u001b[1m=== Code errors/forbidden usage (fix: high priority) ===\n",
      "\u001b[0mNone!\n",
      "\n",
      "\u001b[34m\u001b[1m=== Style/convention errors (fix: before submission) ===\n",
      "\u001b[0m\u001b[34m\u001b[1mC0103\u001b[0m \u001b[1m(invalid-name)  \u001b[0mNumber of occurrences: 3.\n",
      "  \u001b[1m[Line 1] Invalid module name \"E0213_no_self_argument\"\u001b[0m\n",
      "\n",
      "  \u001b[1m[Line 5] Invalid method name \"methodA\"\u001b[0m\n",
      "    \u001b[90m3\u001b[0m          \u001b[90mpass\u001b[0m\n",
      "    \u001b[90m4\u001b[0m  \u001b[90m\u001b[0m\n",
      "    \u001b[1m\u001b[90m5\u001b[0m      \u001b[30m\u001b[0m\u001b[1m\u001b[30m\u001b[46mdef methodA(not_self):  # Bad (should be 'self')\u001b[0m\u001b[30m\u001b[0m\n",
      "    \u001b[1m\u001b[90m6\u001b[0m  \u001b[30m\u001b[0m        \u001b[1m\u001b[30m\u001b[46mpass\u001b[0m\u001b[30m\u001b[0m\n",
      "    \u001b[90m7\u001b[0m  \u001b[90m\u001b[0m\n",
      "    \u001b[90m8\u001b[0m      \u001b[90mdef methodB(self):  # Good\u001b[0m\n",
      "\n",
      "  \u001b[1m[Line 8] Invalid method name \"methodB\"\u001b[0m\n",
      "    \u001b[90m6\u001b[0m          \u001b[90mpass\u001b[0m\n",
      "    \u001b[90m7\u001b[0m  \u001b[90m\u001b[0m\n",
      "    \u001b[1m\u001b[90m8\u001b[0m      \u001b[30m\u001b[0m\u001b[1m\u001b[30m\u001b[46mdef methodB(self):  # Good\u001b[0m\u001b[30m\u001b[0m\n",
      "    \u001b[1m\u001b[90m9\u001b[0m  \u001b[30m\u001b[0m        \u001b[1m\u001b[30m\u001b[46mpass\u001b[0m\u001b[30m\u001b[0m\n",
      "\n",
      "\u001b[34m\u001b[1mC0111\u001b[0m \u001b[1m(missing-docstring)  \u001b[0mNumber of occurrences: 4.\n",
      "  \u001b[1m[Line 1] Missing module docstring\u001b[0m\n",
      "     \u001b[30m\u001b[0m  \u001b[1m\u001b[30m\u001b[46m\"\"\"YOUR DOCSTRING HERE\"\"\"\u001b[0m\n",
      "    \u001b[90m1\u001b[0m  \u001b[90mclass MyClass:\u001b[0m\n",
      "    \u001b[90m2\u001b[0m      \u001b[90mdef __init__(self):\u001b[0m\n",
      "\n",
      "  \u001b[1m[Line 1] Missing class docstring\u001b[0m\n",
      "    \u001b[90m1\u001b[0m  \u001b[90mclass MyClass:\u001b[0m\n",
      "     \u001b[30m\u001b[0m      \u001b[1m\u001b[30m\u001b[46m\"\"\"YOUR DOCSTRING HERE\"\"\"\u001b[0m\n",
      "    \u001b[90m2\u001b[0m      \u001b[90mdef __init__(self):\u001b[0m\n",
      "    \u001b[90m3\u001b[0m          \u001b[90mpass\u001b[0m\n",
      "\n",
      "  \u001b[1m[Line 5] Missing method docstring\u001b[0m\n",
      "    \u001b[90m5\u001b[0m      \u001b[90mdef methodA(not_self):  # Bad (should be 'self')\u001b[0m\n",
      "     \u001b[30m\u001b[0m          \u001b[1m\u001b[30m\u001b[46m\"\"\"YOUR DOCSTRING HERE\"\"\"\u001b[0m\n",
      "    \u001b[90m6\u001b[0m          \u001b[90mpass\u001b[0m\n",
      "    \u001b[90m7\u001b[0m  \u001b[90m\u001b[0m\n",
      "\n",
      "  \u001b[1m[Line 8] Missing method docstring\u001b[0m\n",
      "    \u001b[90m8\u001b[0m      \u001b[90mdef methodB(self):  # Good\u001b[0m\n",
      "     \u001b[30m\u001b[0m          \u001b[1m\u001b[30m\u001b[46m\"\"\"YOUR DOCSTRING HERE\"\"\"\u001b[0m\n",
      "\n",
      "\u001b[34m\u001b[1mE0213\u001b[0m \u001b[1m(no-self-argument)  \u001b[0mNumber of occurrences: 1.\n",
      "  \u001b[1m[Line 5] Method should have \"self\" as first argument\u001b[0m\n",
      "    \u001b[90m3\u001b[0m          \u001b[90mpass\u001b[0m\n",
      "    \u001b[90m4\u001b[0m  \u001b[90m\u001b[0m\n",
      "    \u001b[1m\u001b[90m5\u001b[0m      \u001b[30m\u001b[0m\u001b[1m\u001b[30m\u001b[46mdef methodA(not_self):  # Bad (should be 'self')\u001b[0m\u001b[30m\u001b[0m\n",
      "    \u001b[1m\u001b[90m6\u001b[0m  \u001b[30m\u001b[0m        \u001b[1m\u001b[30m\u001b[46mpass\u001b[0m\u001b[30m\u001b[0m\n",
      "    \u001b[90m7\u001b[0m  \u001b[90m\u001b[0m\n",
      "    \u001b[90m8\u001b[0m      \u001b[90mdef methodB(self):  # Good\u001b[0m\n",
      "\n",
      "\n",
      "None\n"
     ]
    },
    {
     "data": {
      "text/html": [
       "<h2><center>E0633_unpacking_non_sequence.py</center></h2>"
      ],
      "text/plain": [
       "<IPython.core.display.HTML object>"
      ]
     },
     "metadata": {},
     "output_type": "display_data"
    },
    {
     "name": "stdout",
     "output_type": "stream",
     "text": [
      "### Loaded configuration file: /home/kimlab1/strokach/documents/teaching/python-ta/pyta/python_ta/.pylintrc\n",
      "### Loaded configuration file: /home/kimlab1/strokach/documents/teaching/python-ta/pyta/python_ta/.pylintrc\n",
      "*************** File: /home/kimlab1/strokach/documents/teaching/python-ta/pyta/examples/pylint/E0633_unpacking_non_sequence.py\n",
      "\u001b[31m\u001b[1m=== Code errors/forbidden usage (fix: high priority) ===\n",
      "\u001b[0m\u001b[31m\u001b[1mE0633\u001b[0m \u001b[1m(unpacking-non-sequence)  \u001b[0mNumber of occurrences: 1.\n",
      "  \u001b[1m[Line 1] Attempting to unpack a non-sequence 15\u001b[0m\n",
      "    \u001b[90m0\u001b[0m  \u001b[90mone, two = 15   # Cannot unpack one thing into two things.\u001b[0m\n",
      "    \u001b[1m\u001b[90m1\u001b[0m  \u001b[30m\u001b[0m\u001b[1m\u001b[30m\u001b[46mone, two = 15\u001b[0m   \u001b[30m# Cannot unpack one thing into two things.\u001b[0m\n",
      "\n",
      "\u001b[34m\u001b[1m=== Style/convention errors (fix: before submission) ===\n",
      "\u001b[0m\u001b[34m\u001b[1mC0103\u001b[0m \u001b[1m(invalid-name)  \u001b[0mNumber of occurrences: 3.\n",
      "  \u001b[1m[Line 1] Invalid module name \"E0633_unpacking_non_sequence\"\u001b[0m\n",
      "\n",
      "  \u001b[1m[Line 1] Invalid constant name \"one\"\u001b[0m\n",
      "    \u001b[90m0\u001b[0m  \u001b[90mone, two = 15   # Cannot unpack one thing into two things.\u001b[0m\n",
      "    \u001b[1m\u001b[90m1\u001b[0m  \u001b[30m\u001b[0m\u001b[1m\u001b[30m\u001b[46mone\u001b[0m\u001b[30m, two = 15   # Cannot unpack one thing into two things.\u001b[0m\n",
      "\n",
      "  \u001b[1m[Line 1] Invalid constant name \"two\"\u001b[0m\n",
      "    \u001b[90m0\u001b[0m  \u001b[90mone, two = 15   # Cannot unpack one thing into two things.\u001b[0m\n",
      "    \u001b[1m\u001b[90m1\u001b[0m  \u001b[30mone, \u001b[0m\u001b[1m\u001b[30m\u001b[46mtwo\u001b[0m \u001b[30m= 15   # Cannot unpack one thing into two things.\u001b[0m\n",
      "\n",
      "\u001b[34m\u001b[1mC0111\u001b[0m \u001b[1m(missing-docstring)  \u001b[0mNumber of occurrences: 1.\n",
      "  \u001b[1m[Line 1] Missing module docstring\u001b[0m\n",
      "     \u001b[30m\u001b[0m  \u001b[1m\u001b[30m\u001b[46m\"\"\"YOUR DOCSTRING HERE\"\"\"\u001b[0m\n",
      "\n",
      "\u001b[34m\u001b[1mE9997\u001b[0m \u001b[1m(forbidden-global-variables)  \u001b[0mNumber of occurrences: 2.\n",
      "  \u001b[1m[Line 1] Global variables should not be used in CSC108/CSC148 - a global variable 'one' is declared on line 1\u001b[0m\n",
      "    \u001b[90m0\u001b[0m  \u001b[90mone, two = 15   # Cannot unpack one thing into two things.\u001b[0m\n",
      "    \u001b[1m\u001b[90m1\u001b[0m  \u001b[30m\u001b[0m\u001b[1m\u001b[30m\u001b[46mone\u001b[0m\u001b[30m, two = 15   # Cannot unpack one thing into two things.\u001b[0m\n",
      "\n",
      "  \u001b[1m[Line 1] Global variables should not be used in CSC108/CSC148 - a global variable 'two' is declared on line 1\u001b[0m\n",
      "    \u001b[90m0\u001b[0m  \u001b[90mone, two = 15   # Cannot unpack one thing into two things.\u001b[0m\n",
      "    \u001b[1m\u001b[90m1\u001b[0m  \u001b[30mone, \u001b[0m\u001b[1m\u001b[30m\u001b[46mtwo\u001b[0m \u001b[30m= 15   # Cannot unpack one thing into two things.\u001b[0m\n",
      "\n",
      "\n",
      "None\n"
     ]
    }
   ],
   "source": [
    "basedir = '../pyta/examples/pylint/'\n",
    "for file in os.listdir(basedir):\n",
    "    if op.isfile(op.join(basedir, file)) and file.endswith('.py'):\n",
    "        display(HTML(\"<h2><center>\" + file + \"</center></h2>\"))\n",
    "        print(python_ta.check_all('examples.pylint.{}'.format(op.splitext(file)[0])))"
   ]
  },
  {
   "cell_type": "code",
   "execution_count": null,
   "metadata": {
    "collapsed": true
   },
   "outputs": [],
   "source": []
  }
 ],
 "metadata": {
  "kernelspec": {
   "display_name": "Python [conda env:pyta]",
   "language": "python",
   "name": "conda-env-pyta-py"
  },
  "language_info": {
   "codemirror_mode": {
    "name": "ipython",
    "version": 3
   },
   "file_extension": ".py",
   "mimetype": "text/x-python",
   "name": "python",
   "nbconvert_exporter": "python",
   "pygments_lexer": "ipython3",
   "version": "3.6.1"
  },
  "toc": {
   "colors": {
    "hover_highlight": "#DAA520",
    "navigate_num": "#000000",
    "navigate_text": "#333333",
    "running_highlight": "#FF0000",
    "selected_highlight": "#FFD700",
    "sidebar_border": "#EEEEEE",
    "wrapper_background": "#FFFFFF"
   },
   "moveMenuLeft": true,
   "nav_menu": {
    "height": "12px",
    "width": "252px"
   },
   "navigate_menu": true,
   "number_sections": false,
   "sideBar": false,
   "threshold": 4,
   "toc_cell": false,
   "toc_position": {
    "height": "47px",
    "left": "1596.38px",
    "right": "20px",
    "top": "142px",
    "width": "182px"
   },
   "toc_section_display": "block",
   "toc_window_display": true,
   "widenNotebook": false
  }
 },
 "nbformat": 4,
 "nbformat_minor": 2
}
